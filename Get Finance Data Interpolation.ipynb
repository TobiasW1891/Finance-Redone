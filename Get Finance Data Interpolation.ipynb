{
 "cells": [
  {
   "cell_type": "markdown",
   "id": "5c177e75",
   "metadata": {},
   "source": [
    "#https://towardsdatascience.com/financial-data-from-yahoo-finance-with-python-b5399743bcc6 \n",
    "import sys\n",
    "!{sys.executable} -m pip install yfinance\n"
   ]
  },
  {
   "cell_type": "code",
   "execution_count": 93,
   "id": "b8abc65c",
   "metadata": {},
   "outputs": [],
   "source": [
    "import datetime\n",
    "import yfinance as yf\n",
    "import pandas as pd\n",
    "import numpy as np\n",
    "import matplotlib.pyplot as plt\n",
    "from sklearn.decomposition import PCA\n",
    "import sklearn"
   ]
  },
  {
   "cell_type": "code",
   "execution_count": 94,
   "id": "8911f648",
   "metadata": {},
   "outputs": [],
   "source": [
    "# SP500 complete\n",
    "start=datetime.datetime(1992, 1, 2)\n",
    "end=datetime.datetime(2013, 1, 1)\n",
    "\n",
    "#end=datetime.datetime(2013, 1, 1)\n",
    "SP500 = yf.Ticker(\"^GSPC\")\n",
    "SP500 = SP500.history(start = start, end = end, period = \"1d\", prepost=False)\n"
   ]
  },
  {
   "cell_type": "code",
   "execution_count": 95,
   "id": "7058a4a4",
   "metadata": {},
   "outputs": [
    {
     "name": "stdout",
     "output_type": "stream",
     "text": [
      "DatetimeIndex(['1992-01-02', '1992-01-03', '1992-01-06', '1992-01-07',\n",
      "               '1992-01-08', '1992-01-09', '1992-01-10', '1992-01-13',\n",
      "               '1992-01-14', '1992-01-15',\n",
      "               ...\n",
      "               '2012-12-17', '2012-12-18', '2012-12-19', '2012-12-20',\n",
      "               '2012-12-21', '2012-12-24', '2012-12-26', '2012-12-27',\n",
      "               '2012-12-28', '2012-12-31'],\n",
      "              dtype='datetime64[ns]', name='Date', length=5291, freq=None)\n"
     ]
    }
   ],
   "source": [
    "print(SP500.index)"
   ]
  },
  {
   "cell_type": "code",
   "execution_count": 96,
   "id": "90ba2054",
   "metadata": {},
   "outputs": [
    {
     "name": "stdout",
     "output_type": "stream",
     "text": [
      "5264.545\n"
     ]
    }
   ],
   "source": [
    "print(len(SP500.index)*0.995)"
   ]
  },
  {
   "cell_type": "code",
   "execution_count": 97,
   "id": "e4660943",
   "metadata": {},
   "outputs": [
    {
     "name": "stdout",
     "output_type": "stream",
     "text": [
      "{'Energy', 'Materials', 'Financials', 'Consumer Staples', 'Consumer Discretionary', 'Utilities', 'Telecommunications Services', 'Information Technology', 'Industrials', 'Health Care'} 0       MMM\n",
      "1       ABT\n",
      "2       ANF\n",
      "3       ACE\n",
      "4       ACN\n",
      "       ... \n",
      "495     XYL\n",
      "496    YHOO\n",
      "497     YUM\n",
      "498     ZMH\n",
      "499    ZION\n",
      "Name: Ticker symbol, Length: 500, dtype: object\n"
     ]
    }
   ],
   "source": [
    "# Get Sector Data from Wikipedia\n",
    "payload=pd.read_html('https://en.wikipedia.org/w/index.php?title=List_of_S%26P_500_companies&oldid=530268767')\n",
    "\n",
    "#payload=pd.read_html('https://en.wikipedia.org/wiki/List_of_S%26P_500_companies')\n",
    "first_table = payload[0]\n",
    "second_table = payload[1]\n",
    "\n",
    "df = first_table\n",
    "#show unique economy sectors\n",
    "sectors = df['GICS Sector'].values.tolist()\n",
    "sectors = set(sectors)\n",
    "print(sectors, df[\"Ticker symbol\"])\n",
    "df[\"Symbol\"] = df[\"Ticker symbol\"]"
   ]
  },
  {
   "cell_type": "code",
   "execution_count": 98,
   "id": "5a6d63e2",
   "metadata": {},
   "outputs": [
    {
     "name": "stdout",
     "output_type": "stream",
     "text": [
      "{'Energy', 'Materials', 'Financials', 'Consumer Staples', 'Consumer Discretionary', 'Utilities', 'Telecommunications Services', 'Information Technology', 'Industrials', 'Health Care'}     Ticker symbol                        Company SEC filings  \\\n",
      "0             MMM                         3M Co.     reports   \n",
      "1             ABT            Abbott Laboratories     reports   \n",
      "2             ANF  Abercrombie & Fitch Company A     reports   \n",
      "3             ACE                    ACE Limited     reports   \n",
      "4             ACN                      Accenture     reports   \n",
      "..            ...                            ...         ...   \n",
      "495           XYL                     Xylem Inc.     reports   \n",
      "496          YHOO                     Yahoo Inc.     reports   \n",
      "497           YUM                Yum! Brands Inc     reports   \n",
      "498           ZMH                Zimmer Holdings     reports   \n",
      "499          ZION                  Zions Bancorp     reports   \n",
      "\n",
      "                GICS Sector  Address of Headquarters Date first added Symbol  \n",
      "0               Industrials       St Paul, Minnesota              NaN    MMM  \n",
      "1               Health Care  North Chicago, Illinois              NaN    ABT  \n",
      "2    Consumer Discretionary         New Albany, Ohio              NaN    ANF  \n",
      "3                Financials      Zurich, Switzerland              NaN    ACE  \n",
      "4    Information Technology          Dublin, Ireland              NaN    ACN  \n",
      "..                      ...                      ...              ...    ...  \n",
      "495             Industrials   White Plains, New York              NaN    XYL  \n",
      "496  Information Technology    Sunnyvale, California              NaN   YHOO  \n",
      "497  Consumer Discretionary     Louisville, Kentucky              NaN    YUM  \n",
      "498             Health Care          Warsaw, Indiana              NaN    ZMH  \n",
      "499              Financials     Salt Lake City, Utah              NaN   ZION  \n",
      "\n",
      "[500 rows x 7 columns]\n"
     ]
    }
   ],
   "source": [
    "print(sectors,df)"
   ]
  },
  {
   "cell_type": "code",
   "execution_count": 99,
   "id": "68c357f5",
   "metadata": {},
   "outputs": [],
   "source": [
    "NumberOfCompanies = 0"
   ]
  },
  {
   "cell_type": "markdown",
   "id": "3b35b5f4",
   "metadata": {},
   "source": [
    "#### Fill almost complete Time Series\n",
    "\n",
    "If a Time Series is not complete, but has more than 99.5% of the data: just interpolate the missing values by setting them equal to the previous value."
   ]
  },
  {
   "cell_type": "code",
   "execution_count": 100,
   "id": "6fababa9",
   "metadata": {},
   "outputs": [],
   "source": [
    "SPmissing =  yf.Ticker(\"^GSPC\").history(start = start, end = end, period = \"1d\", prepost=False)\n"
   ]
  },
  {
   "cell_type": "code",
   "execution_count": 101,
   "id": "1ea81f93",
   "metadata": {},
   "outputs": [
    {
     "name": "stdout",
     "output_type": "stream",
     "text": [
      "DatetimeIndex(['1992-01-02', '1992-01-03', '1992-01-06', '1992-01-07',\n",
      "               '1992-01-08', '1992-01-09', '1992-01-10', '1992-01-13',\n",
      "               '1992-01-14', '1992-01-15',\n",
      "               ...\n",
      "               '2012-12-17', '2012-12-18', '2012-12-19', '2012-12-20',\n",
      "               '2012-12-21', '2012-12-24', '2012-12-26', '2012-12-27',\n",
      "               '2012-12-28', '2012-12-31'],\n",
      "              dtype='datetime64[ns]', name='Date', length=5287, freq=None)\n"
     ]
    }
   ],
   "source": [
    "SPmissing = SPmissing.drop(SPmissing.index[99])\n",
    "SPmissing =  SPmissing.drop(SPmissing.index[99])\n",
    "SPmissing =  SPmissing.drop(SPmissing.index[1000])\n",
    "SPmissing =  SPmissing.drop(SPmissing.index[5000])\n",
    "print(SPmissing.index)"
   ]
  },
  {
   "cell_type": "code",
   "execution_count": 102,
   "id": "bb59f46c",
   "metadata": {},
   "outputs": [
    {
     "name": "stdout",
     "output_type": "stream",
     "text": [
      "[Timestamp('1992-05-22 00:00:00'), Timestamp('1992-05-26 00:00:00'), Timestamp('1995-12-18 00:00:00'), Timestamp('2011-11-07 00:00:00')]\n"
     ]
    }
   ],
   "source": [
    "Missing = list(set(SP500.index) - set(SPmissing.index))\n",
    "Missing = sorted(Missing)\n",
    "print(Missing)"
   ]
  },
  {
   "cell_type": "code",
   "execution_count": 103,
   "id": "645effc1",
   "metadata": {},
   "outputs": [
    {
     "name": "stdout",
     "output_type": "stream",
     "text": [
      "                   Open         High          Low        Close      Volume  \\\n",
      "Date                                                                         \n",
      "1992-01-02   417.029999   417.269989   411.040009   417.260010   207570000   \n",
      "1992-01-03   417.269989   419.790009   416.160004   419.339996   224270000   \n",
      "1992-01-06   419.309998   419.440002   416.920013   417.959991   251210000   \n",
      "1992-01-07   417.959991   417.959991   415.200012   417.399994   252780000   \n",
      "1992-01-08   417.359985   420.230011   415.019989   418.100006   290750000   \n",
      "...                 ...          ...          ...          ...         ...   \n",
      "2012-12-24  1430.150024  1430.150024  1424.660034  1426.660034  1248960000   \n",
      "2012-12-26  1426.660034  1429.420044  1416.430054  1419.829956  2285030000   \n",
      "2012-12-27  1419.829956  1422.800049  1401.800049  1418.099976  2830180000   \n",
      "2012-12-28  1418.099976  1418.099976  1401.579956  1402.430054  2426680000   \n",
      "2012-12-31  1402.430054  1426.739990  1398.109985  1426.189941  3204330000   \n",
      "\n",
      "            Dividends  Stock Splits  \n",
      "Date                                 \n",
      "1992-01-02          0             0  \n",
      "1992-01-03          0             0  \n",
      "1992-01-06          0             0  \n",
      "1992-01-07          0             0  \n",
      "1992-01-08          0             0  \n",
      "...               ...           ...  \n",
      "2012-12-24          0             0  \n",
      "2012-12-26          0             0  \n",
      "2012-12-27          0             0  \n",
      "2012-12-28          0             0  \n",
      "2012-12-31          0             0  \n",
      "\n",
      "[5287 rows x 7 columns]\n"
     ]
    }
   ],
   "source": [
    "print(SPmissing)"
   ]
  },
  {
   "cell_type": "code",
   "execution_count": 104,
   "id": "0cbb16b7",
   "metadata": {
    "scrolled": true
   },
   "outputs": [
    {
     "name": "stdout",
     "output_type": "stream",
     "text": [
      "1992-05-22 00:00:00\n",
      "Open            4.126100e+02\n",
      "High            4.148200e+02\n",
      "Low             4.126000e+02\n",
      "Close           4.140200e+02\n",
      "Volume          1.467100e+08\n",
      "Dividends       0.000000e+00\n",
      "Stock Splits    0.000000e+00\n",
      "Name: 1992-05-22 00:00:00, dtype: float64\n",
      "1992-05-26 00:00:00\n",
      "Open            4.140200e+02\n",
      "High            4.140200e+02\n",
      "Low             4.102300e+02\n",
      "Close           4.114100e+02\n",
      "Volume          1.977000e+08\n",
      "Dividends       0.000000e+00\n",
      "Stock Splits    0.000000e+00\n",
      "Name: 1992-05-26 00:00:00, dtype: float64\n",
      "1995-12-18 00:00:00\n",
      "Open            6.163400e+02\n",
      "High            6.163400e+02\n",
      "Low             6.061300e+02\n",
      "Close           6.068100e+02\n",
      "Volume          4.262700e+08\n",
      "Dividends       0.000000e+00\n",
      "Stock Splits    0.000000e+00\n",
      "Name: 1995-12-18 00:00:00, dtype: float64\n",
      "2011-11-07 00:00:00\n",
      "Open            1.253210e+03\n",
      "High            1.261700e+03\n",
      "Low             1.240750e+03\n",
      "Close           1.261120e+03\n",
      "Volume          3.429740e+09\n",
      "Dividends       0.000000e+00\n",
      "Stock Splits    0.000000e+00\n",
      "Name: 2011-11-07 00:00:00, dtype: float64\n",
      "                   Open         High          Low        Close        Volume  \\\n",
      "Date                                                                           \n",
      "1992-01-02   417.029999   417.269989   411.040009   417.260010  2.075700e+08   \n",
      "1992-01-03   417.269989   419.790009   416.160004   419.339996  2.242700e+08   \n",
      "1992-01-06   419.309998   419.440002   416.920013   417.959991  2.512100e+08   \n",
      "1992-01-07   417.959991   417.959991   415.200012   417.399994  2.527800e+08   \n",
      "1992-01-08   417.359985   420.230011   415.019989   418.100006  2.907500e+08   \n",
      "...                 ...          ...          ...          ...           ...   \n",
      "2012-12-24  1430.150024  1430.150024  1424.660034  1426.660034  1.248960e+09   \n",
      "2012-12-26  1426.660034  1429.420044  1416.430054  1419.829956  2.285030e+09   \n",
      "2012-12-27  1419.829956  1422.800049  1401.800049  1418.099976  2.830180e+09   \n",
      "2012-12-28  1418.099976  1418.099976  1401.579956  1402.430054  2.426680e+09   \n",
      "2012-12-31  1402.430054  1426.739990  1398.109985  1426.189941  3.204330e+09   \n",
      "\n",
      "            Dividends  Stock Splits  \n",
      "Date                                 \n",
      "1992-01-02        0.0           0.0  \n",
      "1992-01-03        0.0           0.0  \n",
      "1992-01-06        0.0           0.0  \n",
      "1992-01-07        0.0           0.0  \n",
      "1992-01-08        0.0           0.0  \n",
      "...               ...           ...  \n",
      "2012-12-24        0.0           0.0  \n",
      "2012-12-26        0.0           0.0  \n",
      "2012-12-27        0.0           0.0  \n",
      "2012-12-28        0.0           0.0  \n",
      "2012-12-31        0.0           0.0  \n",
      "\n",
      "[5291 rows x 7 columns]\n"
     ]
    }
   ],
   "source": [
    "for i in Missing:\n",
    "    print(i)\n",
    "    print(SP500.loc[i])\n",
    "    SPmissing.loc[i] = np.nan \n",
    "SPmissing = SPmissing.sort_index()\n",
    "print(SPmissing)"
   ]
  },
  {
   "cell_type": "code",
   "execution_count": 105,
   "id": "3ad4e71c",
   "metadata": {},
   "outputs": [
    {
     "name": "stdout",
     "output_type": "stream",
     "text": [
      "            Open  High  Low  Close  Volume  Dividends  Stock Splits\n",
      "Date                                                               \n",
      "1992-05-22   NaN   NaN  NaN    NaN     NaN        NaN           NaN\n",
      "1992-05-26   NaN   NaN  NaN    NaN     NaN        NaN           NaN\n",
      "1995-12-18   NaN   NaN  NaN    NaN     NaN        NaN           NaN\n",
      "2011-11-07   NaN   NaN  NaN    NaN     NaN        NaN           NaN\n"
     ]
    }
   ],
   "source": [
    "print(SPmissing.iloc[[99,100,1002,5003]])"
   ]
  },
  {
   "cell_type": "code",
   "execution_count": 106,
   "id": "29c88721",
   "metadata": {},
   "outputs": [
    {
     "data": {
      "text/plain": "Date\n1992-05-22     412.456675\n1992-05-26     412.313344\n1995-12-18     614.135010\n2011-11-07    1264.575012\nName: Close, dtype: float64"
     },
     "execution_count": 106,
     "metadata": {},
     "output_type": "execute_result"
    }
   ],
   "source": [
    "SPmissing[\"Close\"].interpolate().iloc[[99,100,1002,5003]]"
   ]
  },
  {
   "cell_type": "code",
   "execution_count": 107,
   "id": "8b1bb72e",
   "metadata": {},
   "outputs": [
    {
     "name": "stdout",
     "output_type": "stream",
     "text": [
      "Date\n",
      "1992-05-18    412.809998\n",
      "1992-05-19    416.369995\n",
      "1992-05-20    415.390015\n",
      "1992-05-21    412.600006\n",
      "1992-05-22           NaN\n",
      "1992-05-26           NaN\n",
      "1992-05-27    412.170013\n",
      "1992-05-28    416.739990\n",
      "1992-05-29    415.350006\n",
      "1992-06-01    417.299988\n",
      "Name: Close, dtype: float64\n"
     ]
    }
   ],
   "source": [
    "print(SPmissing[\"Close\"].iloc[95:105])"
   ]
  },
  {
   "cell_type": "code",
   "execution_count": 108,
   "id": "ae3bb670",
   "metadata": {},
   "outputs": [
    {
     "name": "stdout",
     "output_type": "stream",
     "text": [
      "Date\n",
      "1992-05-18    412.809998\n",
      "1992-05-19    416.369995\n",
      "1992-05-20    415.390015\n",
      "1992-05-21    412.600006\n",
      "1992-05-22    412.600006\n",
      "1992-05-26    412.170013\n",
      "1992-05-27    412.170013\n",
      "1992-05-28    416.739990\n",
      "1992-05-29    415.350006\n",
      "1992-06-01    417.299988\n",
      "Name: Close, dtype: float64\n"
     ]
    }
   ],
   "source": [
    "print(SPmissing[\"Close\"].interpolate(\"nearest\").iloc[95:105])"
   ]
  },
  {
   "cell_type": "code",
   "execution_count": 109,
   "id": "44597b98",
   "metadata": {},
   "outputs": [],
   "source": [
    "def Interpolate(DS, index):\n",
    "    # takes pandas Series DS with some missing closing data and returns an interpolation for all\n",
    "    # elements which are in index but not in DS.index\n",
    "    Output = DS.copy()\n",
    "    \n",
    "    missing = set(index)-set(DS.index)\n",
    "    \n",
    "    for i in missing:\n",
    "        Output.loc[i] = np.nan # add missing value\n",
    "    Output = Output.sort_index() # sorting\n",
    "    return(Output.interpolate(\"nearest\"))"
   ]
  },
  {
   "cell_type": "code",
   "execution_count": 110,
   "id": "e4f177fb",
   "metadata": {},
   "outputs": [
    {
     "data": {
      "text/plain": "Date\n1992-01-02     417.260010\n1992-01-03     419.339996\n1992-01-06     417.959991\n1992-01-07     417.399994\n1992-01-08     418.100006\n                 ...     \n2012-12-24    1426.660034\n2012-12-26    1419.829956\n2012-12-27    1418.099976\n2012-12-28    1402.430054\n2012-12-31    1426.189941\nName: Close, Length: 5291, dtype: float64"
     },
     "execution_count": 110,
     "metadata": {},
     "output_type": "execute_result"
    }
   ],
   "source": [
    "Interpolate(SPmissing[\"Close\"], SP500.index)"
   ]
  },
  {
   "cell_type": "code",
   "execution_count": 110,
   "id": "c42e329e",
   "metadata": {},
   "outputs": [],
   "source": []
  },
  {
   "cell_type": "code",
   "execution_count": 110,
   "id": "52275657",
   "metadata": {},
   "outputs": [],
   "source": []
  },
  {
   "cell_type": "code",
   "execution_count": 111,
   "id": "83f9138a",
   "metadata": {},
   "outputs": [
    {
     "name": "stdout",
     "output_type": "stream",
     "text": [
      "Empty DataFrame\n",
      "Columns: []\n",
      "Index: [1992-01-02 00:00:00, 1992-01-03 00:00:00, 1992-01-06 00:00:00, 1992-01-07 00:00:00, 1992-01-08 00:00:00, 1992-01-09 00:00:00, 1992-01-10 00:00:00, 1992-01-13 00:00:00, 1992-01-14 00:00:00, 1992-01-15 00:00:00, 1992-01-16 00:00:00, 1992-01-17 00:00:00, 1992-01-20 00:00:00, 1992-01-21 00:00:00, 1992-01-22 00:00:00, 1992-01-23 00:00:00, 1992-01-24 00:00:00, 1992-01-27 00:00:00, 1992-01-28 00:00:00, 1992-01-29 00:00:00, 1992-01-30 00:00:00, 1992-01-31 00:00:00, 1992-02-03 00:00:00, 1992-02-04 00:00:00, 1992-02-05 00:00:00, 1992-02-06 00:00:00, 1992-02-07 00:00:00, 1992-02-10 00:00:00, 1992-02-11 00:00:00, 1992-02-12 00:00:00, 1992-02-13 00:00:00, 1992-02-14 00:00:00, 1992-02-18 00:00:00, 1992-02-19 00:00:00, 1992-02-20 00:00:00, 1992-02-21 00:00:00, 1992-02-24 00:00:00, 1992-02-25 00:00:00, 1992-02-26 00:00:00, 1992-02-27 00:00:00, 1992-02-28 00:00:00, 1992-03-02 00:00:00, 1992-03-03 00:00:00, 1992-03-04 00:00:00, 1992-03-05 00:00:00, 1992-03-06 00:00:00, 1992-03-09 00:00:00, 1992-03-10 00:00:00, 1992-03-11 00:00:00, 1992-03-12 00:00:00, 1992-03-13 00:00:00, 1992-03-16 00:00:00, 1992-03-17 00:00:00, 1992-03-18 00:00:00, 1992-03-19 00:00:00, 1992-03-20 00:00:00, 1992-03-23 00:00:00, 1992-03-24 00:00:00, 1992-03-25 00:00:00, 1992-03-26 00:00:00, 1992-03-27 00:00:00, 1992-03-30 00:00:00, 1992-03-31 00:00:00, 1992-04-01 00:00:00, 1992-04-02 00:00:00, 1992-04-03 00:00:00, 1992-04-06 00:00:00, 1992-04-07 00:00:00, 1992-04-08 00:00:00, 1992-04-09 00:00:00, 1992-04-10 00:00:00, 1992-04-13 00:00:00, 1992-04-14 00:00:00, 1992-04-15 00:00:00, 1992-04-16 00:00:00, 1992-04-20 00:00:00, 1992-04-21 00:00:00, 1992-04-22 00:00:00, 1992-04-23 00:00:00, 1992-04-24 00:00:00, 1992-04-27 00:00:00, 1992-04-28 00:00:00, 1992-04-29 00:00:00, 1992-04-30 00:00:00, 1992-05-01 00:00:00, 1992-05-04 00:00:00, 1992-05-05 00:00:00, 1992-05-06 00:00:00, 1992-05-07 00:00:00, 1992-05-08 00:00:00, 1992-05-11 00:00:00, 1992-05-12 00:00:00, 1992-05-13 00:00:00, 1992-05-14 00:00:00, 1992-05-15 00:00:00, 1992-05-18 00:00:00, 1992-05-19 00:00:00, 1992-05-20 00:00:00, 1992-05-21 00:00:00, 1992-05-22 00:00:00, ...]\n",
      "\n",
      "[5291 rows x 0 columns]\n"
     ]
    }
   ],
   "source": [
    "CompaniesDF = pd.DataFrame({})\n",
    "CompaniesDF.index = SP500.index\n",
    "print(CompaniesDF)"
   ]
  },
  {
   "cell_type": "code",
   "execution_count": 112,
   "id": "d88771ed",
   "metadata": {},
   "outputs": [],
   "source": [
    "def SectorNormReturns(sec,df, start, end, lag):\n",
    "    global NumberOfCompanies\n",
    "    # takes the name of a sector and returns the aggregated data of all companies' normalised returns from \n",
    "    # start to endhich have full data for this time period\n",
    "    # Normalising via averages over lag\n",
    "    #  df = pandas Dataframe of company symbols \"Symbol\" and sector \"GICS Sector\"\n",
    "    \n",
    "    Counter = 0 # how many \"valid\" time series?\n",
    "    \n",
    "    SP500 = yf.Ticker(\"^GSPC\")\n",
    "    SP500 = SP500.history(start = start, end = end)\n",
    "    Output = 0*SP500[\"Close\"] # this is the output pandas series\n",
    "    \n",
    "    List = df[df['GICS Sector'] == sec]['Symbol'].values.tolist() # list of all companies in sector\n",
    "    \n",
    "    \n",
    "    \n",
    "    for sym in List:\n",
    "        StockData = yf.Ticker(sym)\n",
    "        StockData = StockData.history(start = start, end = end, period = \"1d\")\n",
    "        StockData = StockData[\"Close\"]\n",
    "        print(sym,len(StockData.index), len(StockData.index) == len(SP500.index))\n",
    "        \n",
    "        \n",
    "        # only add stocks to sector data which have full history\n",
    "        if len(StockData.index) == len(SP500.index):\n",
    "            \n",
    "            Counter +=1\n",
    "            \n",
    "            \n",
    "            # calculate returns via difference operator and an index shift\n",
    "            StockShifted = pd.Series(StockData.iloc[0:(len(StockData)-1)])\n",
    "            StockShifted.index = StockData.index[1:(len(StockData))]\n",
    "            StockData = (StockData.diff()/StockShifted) \n",
    "        \n",
    "            # Shift the new data (again...) to calculate the average of the last \"lag\" returns before current date\n",
    "            Shift = pd.Series(StockData.iloc[0:(len(StockData)-1)])\n",
    "            Shift.index = StockData.index[1:] \n",
    "            \n",
    "            #print(sym)\n",
    "            PlusOutput = (StockData-Shift.rolling(lag).mean())/Shift.rolling(lag).std()\n",
    "            #print(PlusOutput)\n",
    "            #print(sym, PlusOutput)\n",
    "\n",
    "            Output = Output.add(PlusOutput)\n",
    "            CompaniesDF[sym] = PlusOutput\n",
    "            \n",
    "        # if the data is incomplete, but almost complete    \n",
    "        elif len(StockData.index) > 0.995*len(SP500.index): \n",
    "            \n",
    "            # Interpolate the data\n",
    "            StockData = Interpolate(StockData, SP500.index)\n",
    "                        \n",
    "            Counter +=1\n",
    "            \n",
    "            \n",
    "            # calculate returns via difference operator and an index shift\n",
    "            StockShifted = pd.Series(StockData.iloc[0:(len(StockData)-1)])\n",
    "            StockShifted.index = StockData.index[1:(len(StockData))]\n",
    "            StockData = (StockData.diff()/StockShifted) \n",
    "        \n",
    "            # Shift the new data (again...) to calculate the average of the last \"lag\" returns before current date\n",
    "            Shift = pd.Series(StockData.iloc[0:(len(StockData)-1)])\n",
    "            Shift.index = StockData.index[1:] \n",
    "            \n",
    "            #print(sym)\n",
    "            PlusOutput = (StockData-Shift.rolling(lag).mean())/Shift.rolling(lag).std()\n",
    "            #print(PlusOutput)\n",
    "            #print(sym, PlusOutput)\n",
    "\n",
    "            Output = Output.add(PlusOutput)\n",
    "            CompaniesDF[sym] = PlusOutput\n",
    "            \n",
    "            \n",
    "    NumberOfCompanies += Counter    \n",
    "    print(Counter)   \n",
    "    return(Output)"
   ]
  },
  {
   "cell_type": "code",
   "execution_count": 113,
   "outputs": [],
   "source": [
    "def NormSectorReturns(sec,df, start, end, lag):\n",
    "    global NumberOfCompanies\n",
    "    # takes the name of a sector and returns the aggregated data of all companies' normalised returns from\n",
    "    # start to end which have full data for this time period\n",
    "    # Normalising via averages over lag\n",
    "    #  df = pandas Dataframe of company symbols \"Symbol\" and sector \"GICS Sector\"\n",
    "    # DIFFERENCE TO ABOVE: FRIST add all of the sector's companies Time Series, then calculate the sector returns + normalise\n",
    "\n",
    "    Counter = 0 # how many \"valid\" time series?\n",
    "\n",
    "    SP500 = yf.Ticker(\"^GSPC\")\n",
    "    SP500 = SP500.history(start = start, end = end)\n",
    "    Output = 0*SP500[\"Close\"] # this is the output pandas series\n",
    "\n",
    "    List = df[df['GICS Sector'] == sec]['Symbol'].values.tolist() # list of all companies in sector\n",
    "\n",
    "\n",
    "\n",
    "    for sym in List:\n",
    "        StockData = yf.Ticker(sym)\n",
    "        StockData = StockData.history(start = start, end = end, period = \"1d\")\n",
    "        StockData = StockData[\"Close\"]\n",
    "        print(sym,len(StockData.index), len(StockData.index) > 0.995*len(SP500.index))\n",
    "\n",
    "\n",
    "        # only add stocks to sector data which have full history\n",
    "        if len(StockData.index) == len(SP500.index):\n",
    "\n",
    "            Counter +=1\n",
    "            Output =Output.add(StockData)\n",
    "            CompaniesDF[sym] = StockData\n",
    "\n",
    "        # if the data is incomplete, but almost complete\n",
    "        elif len(StockData.index) > 0.995*len(SP500.index):\n",
    "\n",
    "            # Interpolate the data\n",
    "            StockData = Interpolate(StockData, SP500.index)\n",
    "\n",
    "            Counter +=1\n",
    "            Output =Output.add(StockData)\n",
    "            CompaniesDF[sym] = StockData\n",
    "\n",
    "    # calutlate the sector's returns\n",
    "    OutputShifted = pd.Series(Output.iloc[0:(len(Output)-1)])\n",
    "    OutputShifted.index = Output.index[1:]\n",
    "    OutputReturns = (Output.diff() / OutputShifted)\n",
    "\n",
    "\n",
    "    # Shift the new data (again...) to calculate the average of the last \"lag\" returns before current date\n",
    "    OutputShiftLag = pd.Series(Output.iloc[0:(len(Output)-1)])\n",
    "    OutputShiftLag.index = Output.index[1:]\n",
    "    RenormalisedOutput = (Output - OutputShiftLag.rolling(lag).mean()) / OutputShiftLag.rolling(lag).std()\n",
    "\n",
    "\n",
    "    NumberOfCompanies += Counter\n",
    "    return(RenormalisedOutput)"
   ],
   "metadata": {
    "collapsed": false,
    "pycharm": {
     "name": "#%%\n"
    }
   }
  },
  {
   "cell_type": "code",
   "execution_count": 114,
   "id": "bdfc2be4",
   "metadata": {
    "scrolled": true
   },
   "outputs": [
    {
     "name": "stdout",
     "output_type": "stream",
     "text": [
      "Energy\n",
      "41\n",
      "- APC: No data found, symbol may be delisted\n",
      "APC 0 False\n",
      "APA 5291 True\n",
      "- BHI: Data doesn't exist for startDate = 694306800, endDate = 1356994800\n",
      "BHI 0 False\n",
      "- COG: No data found, symbol may be delisted\n",
      "COG 0 False\n",
      "- CAM: No data found for this date range, symbol may be delisted\n",
      "CAM 0 False\n",
      "- CHK: Data doesn't exist for startDate = 694306800, endDate = 1356994800\n",
      "CHK 0 False\n",
      "CVX 5291 True\n",
      "COP 5291 True\n",
      "CNX 3440 False\n",
      "- DNR: No data found, symbol may be delisted\n",
      "DNR 0 False\n",
      "DVN 5291 True\n",
      "- DO: No data found, symbol may be delisted\n",
      "DO 0 False\n",
      "- ESV: No data found, symbol may be delisted\n",
      "ESV 0 False\n",
      "EOG 5291 True\n",
      "XOM 5291 True\n",
      "FTI 2903 False\n",
      "HAL 5291 True\n",
      "HP 5291 True\n",
      "HES 5291 True\n",
      "KMI 474 False\n",
      "MRO 5291 True\n",
      "MPC 382 False\n",
      "MUR 5291 True\n",
      "NBR 5291 True\n",
      "NOV 4070 False\n",
      "NFX 4806 False\n",
      "- NE: Data doesn't exist for startDate = 694306800, endDate = 1356994800\n",
      "NE 0 False\n",
      "- NBL: No data found, symbol may be delisted\n",
      "NBL 0 False\n",
      "OXY 5291 True\n",
      "- BTU: Data doesn't exist for startDate = 694306800, endDate = 1356994800\n",
      "BTU 0 False\n",
      "PSX 181 False\n",
      "PXD 3874 False\n",
      "RRC 5291 True\n",
      "- RDC: No data found, symbol may be delisted\n",
      "RDC 0 False\n",
      "SLB 5291 True\n",
      "SWN 5291 True\n",
      "- SE: Data doesn't exist for startDate = 694306800, endDate = 1356994800\n",
      "SE 0 False\n",
      "- TSO: No data found for this date range, symbol may be delisted\n",
      "TSO 0 False\n",
      "VLO 5291 True\n",
      "WMB 5291 True\n",
      "- WPX: No data found, symbol may be delisted\n",
      "WPX 0 False\n",
      "Materials\n",
      "29\n",
      "APD 5291 True\n",
      "- ARG: Data doesn't exist for startDate = 694306800, endDate = 1356994800\n",
      "ARG 0 False\n",
      "AA 5291 True\n",
      "ATI 3293 False\n",
      "BLL 5291 True\n",
      "BMS 5281 True\n",
      "CF 1860 False\n",
      "CLF 5291 True\n",
      "- DOW: Data doesn't exist for startDate = 694306800, endDate = 1356994800\n",
      "DOW 0 False\n",
      "DD 5291 True\n",
      "EMN 4797 False\n",
      "ECL 5291 True\n",
      "FMC 5291 True\n",
      "FCX 4402 False\n",
      "IFF 5291 True\n",
      "IP 5291 True\n",
      "LYB 675 False\n",
      "- MWV: No data found for this date range, symbol may be delisted\n",
      "MWV 0 False\n",
      "- MON: Data doesn't exist for startDate = 694306800, endDate = 1356994800\n",
      "MON 0 False\n",
      "MOS 5291 True\n",
      "NEM 5291 True\n",
      "NUE 5291 True\n",
      "OI 5291 True\n",
      "PPG 5291 True\n",
      "- PX: Data doesn't exist for startDate = 694306800, endDate = 1356994800\n",
      "PX 0 False\n",
      "SEE 5291 True\n",
      "- SIAL: No data found for this date range, symbol may be delisted\n",
      "SIAL 0 False\n",
      "X 5291 True\n",
      "VMC 5291 True\n",
      "Financials\n",
      "82\n",
      "- ACE: Data doesn't exist for startDate = 694306800, endDate = 1356994800\n",
      "ACE 0 False\n",
      "AFL 5291 True\n",
      "ALL 4932 False\n",
      "AXP 5291 True\n",
      "AIG 5291 True\n",
      "AMT 3735 False\n",
      "AMP 1836 False\n",
      "AON 5291 True\n",
      "AIV 4645 False\n",
      "AIZ 2242 False\n",
      "AVB 4736 False\n",
      "BAC 5291 True\n",
      "BK 5291 True\n",
      "- BBT: No data found, symbol may be delisted\n",
      "BBT 0 False\n",
      "- BRK.B: No data found, symbol may be delisted\n",
      "BRK.B 0 False\n",
      "BLK 3333 False\n",
      "BXP 3910 False\n",
      "COF 4563 False\n",
      "- CBG: No data found for this date range, symbol may be delisted\n",
      "CBG 0 False\n",
      "SCHW 5291 True\n",
      "CB 4980 False\n",
      "CINF 5291 True\n",
      "C 5291 True\n",
      "CME 2534 False\n",
      "CMA 5291 True\n",
      "DFS 1398 False\n",
      "- ETFC: No data found, symbol may be delisted\n",
      "ETFC 0 False\n",
      "EFX 5291 True\n",
      "EQR 4883 False\n",
      "- FII: No data found, symbol may be delisted\n",
      "FII 0 False\n",
      "FITB 5291 True\n",
      "FHN 5291 True\n",
      "BEN 5291 True\n",
      "GNW 2166 False\n",
      "GS 3438 False\n",
      "HIG 4290 False\n",
      "- HCP: Data doesn't exist for startDate = 694306800, endDate = 1356994800\n",
      "HCP 0 False\n",
      "- HCN: No data found for this date range, symbol may be delisted\n",
      "HCN 0 False\n",
      "HST 5291 True\n",
      "- HCBK: No data found for this date range, symbol may be delisted\n",
      "HCBK 0 False\n",
      "HBAN 5291 True\n",
      "ICE 1792 False\n",
      "IVZ 4368 False\n",
      "JPM 5291 True\n",
      "KEY 5291 True\n",
      "KIM 5291 True\n",
      "- LM: No data found, symbol may be delisted\n",
      "LM 0 False\n",
      "- LUK: No data found for this date range, symbol may be delisted\n",
      "LUK 0 False\n",
      "LNC 5291 True\n",
      "L 5291 True\n",
      "MTB 5291 True\n",
      "MMC 5291 True\n",
      "MET 3204 False\n",
      "MCO 4575 False\n",
      "MS 5002 False\n",
      "NDAQ 2645 False\n",
      "NTRS 5291 True\n",
      "NYX 2112 False\n",
      "PBCT 5291 True\n",
      "- PCL: No data found for this date range, symbol may be delisted\n",
      "PCL 0 False\n",
      "PNC 5291 True\n",
      "PFG 2817 False\n",
      "PGR 5291 True\n",
      "PLD 3800 False\n",
      "PRU 2781 False\n",
      "PSA 5291 True\n",
      "RF 5291 True\n",
      "SPG 4797 False\n",
      "SLM 5291 True\n",
      "STT 5291 True\n",
      "- STI: No data found, symbol may be delisted\n",
      "STI 0 False\n",
      "TROW 5291 True\n",
      "TRV 5291 True\n",
      "- TMK: No data found, symbol may be delisted\n",
      "TMK 0 False\n",
      "USB 5291 True\n",
      "UNM 5291 True\n",
      "VTR 3941 False\n",
      "VNO 5291 True\n",
      "WFC 5291 True\n",
      "WY 5291 True\n",
      "- XL: Data doesn't exist for startDate = 694306800, endDate = 1356994800\n",
      "XL 0 False\n",
      "ZION 5291 True\n",
      "Consumer Staples\n",
      "41\n",
      "MO 5291 True\n",
      "ADM 5291 True\n",
      "- AVP: No data found, symbol may be delisted\n",
      "AVP 0 False\n",
      "- BF.B: No data found for this date range, symbol may be delisted\n",
      "BF.B 0 False\n",
      "CPB 5291 True\n",
      "CLX 5291 True\n",
      "KO 5291 True\n",
      "- CCE: No data found for this date range, symbol may be delisted\n",
      "CCE 0 False\n",
      "CL 5291 True\n",
      "CAG 5291 True\n",
      "STZ 5239 False\n",
      "COST 5291 True\n",
      "CVS 5291 True\n",
      "- DF: No data found, symbol may be delisted\n",
      "DF 0 False\n",
      "- DPS: No data found for this date range, symbol may be delisted\n",
      "DPS 0 False\n",
      "EL 4309 False\n",
      "GIS 5291 True\n",
      "HNZ 5288 True\n",
      "HRL 5291 True\n",
      "K 5291 True\n",
      "KMB 5291 True\n",
      "- KRFT: No data found for this date range, symbol may be delisted\n",
      "KRFT 0 False\n",
      "KR 5291 True\n",
      "- LO: No data found for this date range, symbol may be delisted\n",
      "LO 0 False\n",
      "MKC 5291 True\n",
      "- MJN: No data found for this date range, symbol may be delisted\n",
      "MJN 0 False\n",
      "TAP 5291 True\n",
      "MDLZ 2905 False\n",
      "MNST 5291 True\n",
      "PEP 5291 True\n",
      "PM 1208 False\n",
      "PG 5291 True\n",
      "- RAI: No data found for this date range, symbol may be delisted\n",
      "RAI 0 False\n",
      "- SWY: No data found for this date range, symbol may be delisted\n",
      "SWY 0 False\n",
      "SJM 4575 False\n",
      "SYY 5291 True\n",
      "HSY 5291 True\n",
      "TSN 5291 True\n",
      "WMT 5291 True\n",
      "- WAG: No data found for this date range, symbol may be delisted\n",
      "WAG 0 False\n",
      "- WFM: No data found for this date range, symbol may be delisted\n",
      "WFM 0 False\n",
      "Consumer Discretionary\n",
      "85\n",
      "ANF 4093 False\n",
      "AMZN 3933 False\n",
      "- APOL: No data found for this date range, symbol may be delisted\n",
      "APOL 0 False\n",
      "AN 5291 True\n",
      "AZO 5291 True\n",
      "- BEAM: Data doesn't exist for startDate = 694306800, endDate = 1356994800\n",
      "BEAM 0 False\n"
     ]
    },
    {
     "name": "stderr",
     "output_type": "stream",
     "text": [
      "/tmp/ipykernel_2253557/4176462810.py:31: PerformanceWarning: DataFrame is highly fragmented.  This is usually the result of calling `frame.insert` many times, which has poor performance.  Consider joining all columns at once using pd.concat(axis=1) instead. To get a de-fragmented frame, use `newframe = frame.copy()`\n",
      "  CompaniesDF[sym] = StockData\n"
     ]
    },
    {
     "name": "stdout",
     "output_type": "stream",
     "text": [
      "BBBY 5183 False\n",
      "BBY 5291 True\n"
     ]
    },
    {
     "name": "stderr",
     "output_type": "stream",
     "text": [
      "/tmp/ipykernel_2253557/4176462810.py:31: PerformanceWarning: DataFrame is highly fragmented.  This is usually the result of calling `frame.insert` many times, which has poor performance.  Consider joining all columns at once using pd.concat(axis=1) instead. To get a de-fragmented frame, use `newframe = frame.copy()`\n",
      "  CompaniesDF[sym] = StockData\n"
     ]
    },
    {
     "name": "stdout",
     "output_type": "stream",
     "text": [
      "BIG 5291 True\n"
     ]
    },
    {
     "name": "stderr",
     "output_type": "stream",
     "text": [
      "/tmp/ipykernel_2253557/4176462810.py:31: PerformanceWarning: DataFrame is highly fragmented.  This is usually the result of calling `frame.insert` many times, which has poor performance.  Consider joining all columns at once using pd.concat(axis=1) instead. To get a de-fragmented frame, use `newframe = frame.copy()`\n",
      "  CompaniesDF[sym] = StockData\n"
     ]
    },
    {
     "name": "stdout",
     "output_type": "stream",
     "text": [
      "HRB 5291 True\n"
     ]
    },
    {
     "name": "stderr",
     "output_type": "stream",
     "text": [
      "/tmp/ipykernel_2253557/4176462810.py:31: PerformanceWarning: DataFrame is highly fragmented.  This is usually the result of calling `frame.insert` many times, which has poor performance.  Consider joining all columns at once using pd.concat(axis=1) instead. To get a de-fragmented frame, use `newframe = frame.copy()`\n",
      "  CompaniesDF[sym] = StockData\n"
     ]
    },
    {
     "name": "stdout",
     "output_type": "stream",
     "text": [
      "BWA 4882 False\n",
      "- CVC: No data found for this date range, symbol may be delisted\n",
      "CVC 0 False\n",
      "KMX 4003 False\n",
      "CCL 5291 True\n",
      "- CBS: No data found, symbol may be delisted\n",
      "CBS 0 False\n"
     ]
    },
    {
     "name": "stderr",
     "output_type": "stream",
     "text": [
      "/tmp/ipykernel_2253557/4176462810.py:31: PerformanceWarning: DataFrame is highly fragmented.  This is usually the result of calling `frame.insert` many times, which has poor performance.  Consider joining all columns at once using pd.concat(axis=1) instead. To get a de-fragmented frame, use `newframe = frame.copy()`\n",
      "  CompaniesDF[sym] = StockData\n"
     ]
    },
    {
     "name": "stdout",
     "output_type": "stream",
     "text": [
      "CMG 1745 False\n",
      "- COH: Data doesn't exist for startDate = 694306800, endDate = 1356994800\n",
      "COH 0 False\n",
      "CMCSA 5291 True\n"
     ]
    },
    {
     "name": "stderr",
     "output_type": "stream",
     "text": [
      "/tmp/ipykernel_2253557/4176462810.py:31: PerformanceWarning: DataFrame is highly fragmented.  This is usually the result of calling `frame.insert` many times, which has poor performance.  Consider joining all columns at once using pd.concat(axis=1) instead. To get a de-fragmented frame, use `newframe = frame.copy()`\n",
      "  CompaniesDF[sym] = StockData\n"
     ]
    },
    {
     "name": "stdout",
     "output_type": "stream",
     "text": [
      "DHI 5183 False\n",
      "DRI 4444 False\n",
      "- DLPH: No data found, symbol may be delisted\n",
      "DLPH 0 False\n",
      "- DTV: No data found, symbol may be delisted\n",
      "DTV 0 False\n",
      "DISCA 1884 False\n",
      "DG 787 False\n",
      "DLTR 4488 False\n",
      "EXPE 1875 False\n",
      "- FDO: No data found for this date range, symbol may be delisted\n",
      "FDO 0 False\n",
      "F 5291 True\n"
     ]
    },
    {
     "name": "stderr",
     "output_type": "stream",
     "text": [
      "/tmp/ipykernel_2253557/4176462810.py:31: PerformanceWarning: DataFrame is highly fragmented.  This is usually the result of calling `frame.insert` many times, which has poor performance.  Consider joining all columns at once using pd.concat(axis=1) instead. To get a de-fragmented frame, use `newframe = frame.copy()`\n",
      "  CompaniesDF[sym] = StockData\n"
     ]
    },
    {
     "name": "stdout",
     "output_type": "stream",
     "text": [
      "FOSL 4970 False\n",
      "GME 2740 False\n",
      "- GCI: Data doesn't exist for startDate = 694306800, endDate = 1356994800\n",
      "GCI 0 False\n",
      "GPS 5291 True\n"
     ]
    },
    {
     "name": "stderr",
     "output_type": "stream",
     "text": [
      "/tmp/ipykernel_2253557/4176462810.py:31: PerformanceWarning: DataFrame is highly fragmented.  This is usually the result of calling `frame.insert` many times, which has poor performance.  Consider joining all columns at once using pd.concat(axis=1) instead. To get a de-fragmented frame, use `newframe = frame.copy()`\n",
      "  CompaniesDF[sym] = StockData\n"
     ]
    },
    {
     "name": "stdout",
     "output_type": "stream",
     "text": [
      "GRMN 3032 False\n",
      "GPC 5291 True\n"
     ]
    },
    {
     "name": "stderr",
     "output_type": "stream",
     "text": [
      "/tmp/ipykernel_2253557/4176462810.py:31: PerformanceWarning: DataFrame is highly fragmented.  This is usually the result of calling `frame.insert` many times, which has poor performance.  Consider joining all columns at once using pd.concat(axis=1) instead. To get a de-fragmented frame, use `newframe = frame.copy()`\n",
      "  CompaniesDF[sym] = StockData\n"
     ]
    },
    {
     "name": "stdout",
     "output_type": "stream",
     "text": [
      "GT 5291 True\n"
     ]
    },
    {
     "name": "stderr",
     "output_type": "stream",
     "text": [
      "/tmp/ipykernel_2253557/4176462810.py:31: PerformanceWarning: DataFrame is highly fragmented.  This is usually the result of calling `frame.insert` many times, which has poor performance.  Consider joining all columns at once using pd.concat(axis=1) instead. To get a de-fragmented frame, use `newframe = frame.copy()`\n",
      "  CompaniesDF[sym] = StockData\n"
     ]
    },
    {
     "name": "stdout",
     "output_type": "stream",
     "text": [
      "HOG 5291 True\n",
      "- HAR: Data doesn't exist for startDate = 694306800, endDate = 1356994800\n",
      "HAR 0 False\n"
     ]
    },
    {
     "name": "stderr",
     "output_type": "stream",
     "text": [
      "/tmp/ipykernel_2253557/4176462810.py:31: PerformanceWarning: DataFrame is highly fragmented.  This is usually the result of calling `frame.insert` many times, which has poor performance.  Consider joining all columns at once using pd.concat(axis=1) instead. To get a de-fragmented frame, use `newframe = frame.copy()`\n",
      "  CompaniesDF[sym] = StockData\n"
     ]
    },
    {
     "name": "stdout",
     "output_type": "stream",
     "text": [
      "HAS 5291 True\n"
     ]
    },
    {
     "name": "stderr",
     "output_type": "stream",
     "text": [
      "/tmp/ipykernel_2253557/4176462810.py:31: PerformanceWarning: DataFrame is highly fragmented.  This is usually the result of calling `frame.insert` many times, which has poor performance.  Consider joining all columns at once using pd.concat(axis=1) instead. To get a de-fragmented frame, use `newframe = frame.copy()`\n",
      "  CompaniesDF[sym] = StockData\n"
     ]
    },
    {
     "name": "stdout",
     "output_type": "stream",
     "text": [
      "HD 5291 True\n"
     ]
    },
    {
     "name": "stderr",
     "output_type": "stream",
     "text": [
      "/tmp/ipykernel_2253557/4176462810.py:31: PerformanceWarning: DataFrame is highly fragmented.  This is usually the result of calling `frame.insert` many times, which has poor performance.  Consider joining all columns at once using pd.concat(axis=1) instead. To get a de-fragmented frame, use `newframe = frame.copy()`\n",
      "  CompaniesDF[sym] = StockData\n"
     ]
    },
    {
     "name": "stdout",
     "output_type": "stream",
     "text": [
      "IGT 5291 True\n"
     ]
    },
    {
     "name": "stderr",
     "output_type": "stream",
     "text": [
      "/tmp/ipykernel_2253557/4176462810.py:31: PerformanceWarning: DataFrame is highly fragmented.  This is usually the result of calling `frame.insert` many times, which has poor performance.  Consider joining all columns at once using pd.concat(axis=1) instead. To get a de-fragmented frame, use `newframe = frame.copy()`\n",
      "  CompaniesDF[sym] = StockData\n"
     ]
    },
    {
     "name": "stdout",
     "output_type": "stream",
     "text": [
      "IPG 5291 True\n"
     ]
    },
    {
     "name": "stderr",
     "output_type": "stream",
     "text": [
      "/tmp/ipykernel_2253557/4176462810.py:31: PerformanceWarning: DataFrame is highly fragmented.  This is usually the result of calling `frame.insert` many times, which has poor performance.  Consider joining all columns at once using pd.concat(axis=1) instead. To get a de-fragmented frame, use `newframe = frame.copy()`\n",
      "  CompaniesDF[sym] = StockData\n"
     ]
    },
    {
     "name": "stdout",
     "output_type": "stream",
     "text": [
      "JCI 5291 True\n"
     ]
    },
    {
     "name": "stderr",
     "output_type": "stream",
     "text": [
      "/tmp/ipykernel_2253557/4176462810.py:31: PerformanceWarning: DataFrame is highly fragmented.  This is usually the result of calling `frame.insert` many times, which has poor performance.  Consider joining all columns at once using pd.concat(axis=1) instead. To get a de-fragmented frame, use `newframe = frame.copy()`\n",
      "  CompaniesDF[sym] = StockData\n"
     ]
    },
    {
     "name": "stdout",
     "output_type": "stream",
     "text": [
      "KSS 5195 False\n",
      "LEG 5291 True\n"
     ]
    },
    {
     "name": "stderr",
     "output_type": "stream",
     "text": [
      "/tmp/ipykernel_2253557/4176462810.py:31: PerformanceWarning: DataFrame is highly fragmented.  This is usually the result of calling `frame.insert` many times, which has poor performance.  Consider joining all columns at once using pd.concat(axis=1) instead. To get a de-fragmented frame, use `newframe = frame.copy()`\n",
      "  CompaniesDF[sym] = StockData\n"
     ]
    },
    {
     "name": "stdout",
     "output_type": "stream",
     "text": [
      "LEN 5291 True\n",
      "- LTD: No data found for this date range, symbol may be delisted\n",
      "LTD 0 False\n"
     ]
    },
    {
     "name": "stderr",
     "output_type": "stream",
     "text": [
      "/tmp/ipykernel_2253557/4176462810.py:31: PerformanceWarning: DataFrame is highly fragmented.  This is usually the result of calling `frame.insert` many times, which has poor performance.  Consider joining all columns at once using pd.concat(axis=1) instead. To get a de-fragmented frame, use `newframe = frame.copy()`\n",
      "  CompaniesDF[sym] = StockData\n"
     ]
    },
    {
     "name": "stdout",
     "output_type": "stream",
     "text": [
      "LOW 5291 True\n"
     ]
    },
    {
     "name": "stderr",
     "output_type": "stream",
     "text": [
      "/tmp/ipykernel_2253557/4176462810.py:31: PerformanceWarning: DataFrame is highly fragmented.  This is usually the result of calling `frame.insert` many times, which has poor performance.  Consider joining all columns at once using pd.concat(axis=1) instead. To get a de-fragmented frame, use `newframe = frame.copy()`\n",
      "  CompaniesDF[sym] = StockData\n"
     ]
    },
    {
     "name": "stdout",
     "output_type": "stream",
     "text": [
      "M 5267 True\n"
     ]
    },
    {
     "name": "stderr",
     "output_type": "stream",
     "text": [
      "/tmp/ipykernel_2253557/4176462810.py:41: PerformanceWarning: DataFrame is highly fragmented.  This is usually the result of calling `frame.insert` many times, which has poor performance.  Consider joining all columns at once using pd.concat(axis=1) instead. To get a de-fragmented frame, use `newframe = frame.copy()`\n",
      "  CompaniesDF[sym] = StockData\n"
     ]
    },
    {
     "name": "stdout",
     "output_type": "stream",
     "text": [
      "MAR 3719 False\n",
      "MAT 5291 True\n"
     ]
    },
    {
     "name": "stderr",
     "output_type": "stream",
     "text": [
      "/tmp/ipykernel_2253557/4176462810.py:31: PerformanceWarning: DataFrame is highly fragmented.  This is usually the result of calling `frame.insert` many times, which has poor performance.  Consider joining all columns at once using pd.concat(axis=1) instead. To get a de-fragmented frame, use `newframe = frame.copy()`\n",
      "  CompaniesDF[sym] = StockData\n"
     ]
    },
    {
     "name": "stdout",
     "output_type": "stream",
     "text": [
      "MCD 5291 True\n",
      "MHP 274 False\n"
     ]
    },
    {
     "name": "stderr",
     "output_type": "stream",
     "text": [
      "/tmp/ipykernel_2253557/4176462810.py:31: PerformanceWarning: DataFrame is highly fragmented.  This is usually the result of calling `frame.insert` many times, which has poor performance.  Consider joining all columns at once using pd.concat(axis=1) instead. To get a de-fragmented frame, use `newframe = frame.copy()`\n",
      "  CompaniesDF[sym] = StockData\n"
     ]
    },
    {
     "name": "stdout",
     "output_type": "stream",
     "text": [
      "NWL 5291 True\n",
      "- NWSA: Data doesn't exist for startDate = 694306800, endDate = 1356994800\n",
      "NWSA 0 False\n"
     ]
    },
    {
     "name": "stderr",
     "output_type": "stream",
     "text": [
      "/tmp/ipykernel_2253557/4176462810.py:31: PerformanceWarning: DataFrame is highly fragmented.  This is usually the result of calling `frame.insert` many times, which has poor performance.  Consider joining all columns at once using pd.concat(axis=1) instead. To get a de-fragmented frame, use `newframe = frame.copy()`\n",
      "  CompaniesDF[sym] = StockData\n"
     ]
    },
    {
     "name": "stdout",
     "output_type": "stream",
     "text": [
      "NKE 5291 True\n"
     ]
    },
    {
     "name": "stderr",
     "output_type": "stream",
     "text": [
      "/tmp/ipykernel_2253557/4176462810.py:31: PerformanceWarning: DataFrame is highly fragmented.  This is usually the result of calling `frame.insert` many times, which has poor performance.  Consider joining all columns at once using pd.concat(axis=1) instead. To get a de-fragmented frame, use `newframe = frame.copy()`\n",
      "  CompaniesDF[sym] = StockData\n"
     ]
    },
    {
     "name": "stdout",
     "output_type": "stream",
     "text": [
      "JWN 5291 True\n"
     ]
    },
    {
     "name": "stderr",
     "output_type": "stream",
     "text": [
      "/tmp/ipykernel_2253557/4176462810.py:31: PerformanceWarning: DataFrame is highly fragmented.  This is usually the result of calling `frame.insert` many times, which has poor performance.  Consider joining all columns at once using pd.concat(axis=1) instead. To get a de-fragmented frame, use `newframe = frame.copy()`\n",
      "  CompaniesDF[sym] = StockData\n"
     ]
    },
    {
     "name": "stdout",
     "output_type": "stream",
     "text": [
      "ORLY 4960 False\n",
      "OMC 5291 True\n",
      "- JCP: No data found, symbol may be delisted\n",
      "JCP 0 False\n"
     ]
    },
    {
     "name": "stderr",
     "output_type": "stream",
     "text": [
      "/tmp/ipykernel_2253557/4176462810.py:31: PerformanceWarning: DataFrame is highly fragmented.  This is usually the result of calling `frame.insert` many times, which has poor performance.  Consider joining all columns at once using pd.concat(axis=1) instead. To get a de-fragmented frame, use `newframe = frame.copy()`\n",
      "  CompaniesDF[sym] = StockData\n"
     ]
    },
    {
     "name": "stdout",
     "output_type": "stream",
     "text": [
      "- PETM: Data doesn't exist for startDate = 694306800, endDate = 1356994800\n",
      "PETM 0 False\n",
      "RL 3914 False\n",
      "PHM 5291 True\n"
     ]
    },
    {
     "name": "stderr",
     "output_type": "stream",
     "text": [
      "/tmp/ipykernel_2253557/4176462810.py:31: PerformanceWarning: DataFrame is highly fragmented.  This is usually the result of calling `frame.insert` many times, which has poor performance.  Consider joining all columns at once using pd.concat(axis=1) instead. To get a de-fragmented frame, use `newframe = frame.copy()`\n",
      "  CompaniesDF[sym] = StockData\n"
     ]
    },
    {
     "name": "stdout",
     "output_type": "stream",
     "text": [
      "ROST 5291 True\n",
      "SNI 1147 False\n"
     ]
    },
    {
     "name": "stderr",
     "output_type": "stream",
     "text": [
      "/tmp/ipykernel_2253557/4176462810.py:31: PerformanceWarning: DataFrame is highly fragmented.  This is usually the result of calling `frame.insert` many times, which has poor performance.  Consider joining all columns at once using pd.concat(axis=1) instead. To get a de-fragmented frame, use `newframe = frame.copy()`\n",
      "  CompaniesDF[sym] = StockData\n"
     ]
    },
    {
     "name": "stdout",
     "output_type": "stream",
     "text": [
      "SHW 5291 True\n"
     ]
    },
    {
     "name": "stderr",
     "output_type": "stream",
     "text": [
      "/tmp/ipykernel_2253557/4176462810.py:31: PerformanceWarning: DataFrame is highly fragmented.  This is usually the result of calling `frame.insert` many times, which has poor performance.  Consider joining all columns at once using pd.concat(axis=1) instead. To get a de-fragmented frame, use `newframe = frame.copy()`\n",
      "  CompaniesDF[sym] = StockData\n"
     ]
    },
    {
     "name": "stdout",
     "output_type": "stream",
     "text": [
      "SNA 5291 True\n"
     ]
    },
    {
     "name": "stderr",
     "output_type": "stream",
     "text": [
      "/tmp/ipykernel_2253557/4176462810.py:31: PerformanceWarning: DataFrame is highly fragmented.  This is usually the result of calling `frame.insert` many times, which has poor performance.  Consider joining all columns at once using pd.concat(axis=1) instead. To get a de-fragmented frame, use `newframe = frame.copy()`\n",
      "  CompaniesDF[sym] = StockData\n"
     ]
    },
    {
     "name": "stdout",
     "output_type": "stream",
     "text": [
      "SWK 5291 True\n",
      "- SPLS: No data found for this date range, symbol may be delisted\n",
      "SPLS 0 False\n"
     ]
    },
    {
     "name": "stderr",
     "output_type": "stream",
     "text": [
      "/tmp/ipykernel_2253557/4176462810.py:31: PerformanceWarning: DataFrame is highly fragmented.  This is usually the result of calling `frame.insert` many times, which has poor performance.  Consider joining all columns at once using pd.concat(axis=1) instead. To get a de-fragmented frame, use `newframe = frame.copy()`\n",
      "  CompaniesDF[sym] = StockData\n"
     ]
    },
    {
     "name": "stdout",
     "output_type": "stream",
     "text": [
      "SBUX 5168 False\n",
      "- HOT: No data found for this date range, symbol may be delisted\n",
      "HOT 0 False\n",
      "TGT 5291 True\n",
      "- TIF: No data found, symbol may be delisted\n",
      "TIF 0 False\n"
     ]
    },
    {
     "name": "stderr",
     "output_type": "stream",
     "text": [
      "/tmp/ipykernel_2253557/4176462810.py:31: PerformanceWarning: DataFrame is highly fragmented.  This is usually the result of calling `frame.insert` many times, which has poor performance.  Consider joining all columns at once using pd.concat(axis=1) instead. To get a de-fragmented frame, use `newframe = frame.copy()`\n",
      "  CompaniesDF[sym] = StockData\n"
     ]
    },
    {
     "name": "stdout",
     "output_type": "stream",
     "text": [
      "TWX 5225 False\n",
      "- TWC: No data found for this date range, symbol may be delisted\n",
      "TWC 0 False\n",
      "TJX 5291 True\n",
      "TRIP 267 False\n"
     ]
    },
    {
     "name": "stderr",
     "output_type": "stream",
     "text": [
      "/tmp/ipykernel_2253557/4176462810.py:31: PerformanceWarning: DataFrame is highly fragmented.  This is usually the result of calling `frame.insert` many times, which has poor performance.  Consider joining all columns at once using pd.concat(axis=1) instead. To get a de-fragmented frame, use `newframe = frame.copy()`\n",
      "  CompaniesDF[sym] = StockData\n"
     ]
    },
    {
     "name": "stdout",
     "output_type": "stream",
     "text": [
      "URBN 4821 False\n",
      "VFC 5291 True\n",
      "- VIAB: No data found, symbol may be delisted\n",
      "VIAB 0 False\n"
     ]
    },
    {
     "name": "stderr",
     "output_type": "stream",
     "text": [
      "/tmp/ipykernel_2253557/4176462810.py:31: PerformanceWarning: DataFrame is highly fragmented.  This is usually the result of calling `frame.insert` many times, which has poor performance.  Consider joining all columns at once using pd.concat(axis=1) instead. To get a de-fragmented frame, use `newframe = frame.copy()`\n",
      "  CompaniesDF[sym] = StockData\n"
     ]
    },
    {
     "name": "stdout",
     "output_type": "stream",
     "text": [
      "DIS 5291 True\n",
      "- WPO: No data found for this date range, symbol may be delisted\n",
      "WPO 0 False\n"
     ]
    },
    {
     "name": "stderr",
     "output_type": "stream",
     "text": [
      "/tmp/ipykernel_2253557/4176462810.py:31: PerformanceWarning: DataFrame is highly fragmented.  This is usually the result of calling `frame.insert` many times, which has poor performance.  Consider joining all columns at once using pd.concat(axis=1) instead. To get a de-fragmented frame, use `newframe = frame.copy()`\n",
      "  CompaniesDF[sym] = StockData\n"
     ]
    },
    {
     "name": "stdout",
     "output_type": "stream",
     "text": [
      "WHR 5291 True\n",
      "- WYN: No data found for this date range, symbol may be delisted\n",
      "WYN 0 False\n"
     ]
    },
    {
     "name": "stderr",
     "output_type": "stream",
     "text": [
      "/tmp/ipykernel_2253557/4176462810.py:31: PerformanceWarning: DataFrame is highly fragmented.  This is usually the result of calling `frame.insert` many times, which has poor performance.  Consider joining all columns at once using pd.concat(axis=1) instead. To get a de-fragmented frame, use `newframe = frame.copy()`\n",
      "  CompaniesDF[sym] = StockData\n"
     ]
    },
    {
     "name": "stdout",
     "output_type": "stream",
     "text": [
      "WYNN 2563 False\n",
      "YUM 3847 False\n",
      "Utilities\n",
      "33\n",
      "AES 5291 True\n",
      "GAS 135 False\n"
     ]
    },
    {
     "name": "stderr",
     "output_type": "stream",
     "text": [
      "/tmp/ipykernel_2253557/4176462810.py:31: PerformanceWarning: DataFrame is highly fragmented.  This is usually the result of calling `frame.insert` many times, which has poor performance.  Consider joining all columns at once using pd.concat(axis=1) instead. To get a de-fragmented frame, use `newframe = frame.copy()`\n",
      "  CompaniesDF[sym] = StockData\n"
     ]
    },
    {
     "name": "stdout",
     "output_type": "stream",
     "text": [
      "AEE 3773 False\n",
      "AEP 5291 True\n"
     ]
    },
    {
     "name": "stderr",
     "output_type": "stream",
     "text": [
      "/tmp/ipykernel_2253557/4176462810.py:31: PerformanceWarning: DataFrame is highly fragmented.  This is usually the result of calling `frame.insert` many times, which has poor performance.  Consider joining all columns at once using pd.concat(axis=1) instead. To get a de-fragmented frame, use `newframe = frame.copy()`\n",
      "  CompaniesDF[sym] = StockData\n"
     ]
    },
    {
     "name": "stdout",
     "output_type": "stream",
     "text": [
      "CNP 5291 True\n"
     ]
    },
    {
     "name": "stderr",
     "output_type": "stream",
     "text": [
      "/tmp/ipykernel_2253557/4176462810.py:31: PerformanceWarning: DataFrame is highly fragmented.  This is usually the result of calling `frame.insert` many times, which has poor performance.  Consider joining all columns at once using pd.concat(axis=1) instead. To get a de-fragmented frame, use `newframe = frame.copy()`\n",
      "  CompaniesDF[sym] = StockData\n"
     ]
    },
    {
     "name": "stdout",
     "output_type": "stream",
     "text": [
      "CMS 5291 True\n"
     ]
    },
    {
     "name": "stderr",
     "output_type": "stream",
     "text": [
      "/tmp/ipykernel_2253557/4176462810.py:31: PerformanceWarning: DataFrame is highly fragmented.  This is usually the result of calling `frame.insert` many times, which has poor performance.  Consider joining all columns at once using pd.concat(axis=1) instead. To get a de-fragmented frame, use `newframe = frame.copy()`\n",
      "  CompaniesDF[sym] = StockData\n"
     ]
    },
    {
     "name": "stdout",
     "output_type": "stream",
     "text": [
      "ED 5291 True\n"
     ]
    },
    {
     "name": "stderr",
     "output_type": "stream",
     "text": [
      "/tmp/ipykernel_2253557/4176462810.py:31: PerformanceWarning: DataFrame is highly fragmented.  This is usually the result of calling `frame.insert` many times, which has poor performance.  Consider joining all columns at once using pd.concat(axis=1) instead. To get a de-fragmented frame, use `newframe = frame.copy()`\n",
      "  CompaniesDF[sym] = StockData\n"
     ]
    },
    {
     "name": "stdout",
     "output_type": "stream",
     "text": [
      "D 5291 True\n"
     ]
    },
    {
     "name": "stderr",
     "output_type": "stream",
     "text": [
      "/tmp/ipykernel_2253557/4176462810.py:31: PerformanceWarning: DataFrame is highly fragmented.  This is usually the result of calling `frame.insert` many times, which has poor performance.  Consider joining all columns at once using pd.concat(axis=1) instead. To get a de-fragmented frame, use `newframe = frame.copy()`\n",
      "  CompaniesDF[sym] = StockData\n"
     ]
    },
    {
     "name": "stdout",
     "output_type": "stream",
     "text": [
      "DTE 5291 True\n"
     ]
    },
    {
     "name": "stderr",
     "output_type": "stream",
     "text": [
      "/tmp/ipykernel_2253557/4176462810.py:31: PerformanceWarning: DataFrame is highly fragmented.  This is usually the result of calling `frame.insert` many times, which has poor performance.  Consider joining all columns at once using pd.concat(axis=1) instead. To get a de-fragmented frame, use `newframe = frame.copy()`\n",
      "  CompaniesDF[sym] = StockData\n"
     ]
    },
    {
     "name": "stdout",
     "output_type": "stream",
     "text": [
      "DUK 5291 True\n"
     ]
    },
    {
     "name": "stderr",
     "output_type": "stream",
     "text": [
      "/tmp/ipykernel_2253557/4176462810.py:31: PerformanceWarning: DataFrame is highly fragmented.  This is usually the result of calling `frame.insert` many times, which has poor performance.  Consider joining all columns at once using pd.concat(axis=1) instead. To get a de-fragmented frame, use `newframe = frame.copy()`\n",
      "  CompaniesDF[sym] = StockData\n"
     ]
    },
    {
     "name": "stdout",
     "output_type": "stream",
     "text": [
      "EIX 5291 True\n"
     ]
    },
    {
     "name": "stderr",
     "output_type": "stream",
     "text": [
      "/tmp/ipykernel_2253557/4176462810.py:31: PerformanceWarning: DataFrame is highly fragmented.  This is usually the result of calling `frame.insert` many times, which has poor performance.  Consider joining all columns at once using pd.concat(axis=1) instead. To get a de-fragmented frame, use `newframe = frame.copy()`\n",
      "  CompaniesDF[sym] = StockData\n"
     ]
    },
    {
     "name": "stdout",
     "output_type": "stream",
     "text": [
      "ETR 5291 True\n"
     ]
    },
    {
     "name": "stderr",
     "output_type": "stream",
     "text": [
      "/tmp/ipykernel_2253557/4176462810.py:31: PerformanceWarning: DataFrame is highly fragmented.  This is usually the result of calling `frame.insert` many times, which has poor performance.  Consider joining all columns at once using pd.concat(axis=1) instead. To get a de-fragmented frame, use `newframe = frame.copy()`\n",
      "  CompaniesDF[sym] = StockData\n"
     ]
    },
    {
     "name": "stdout",
     "output_type": "stream",
     "text": [
      "EQT 5291 True\n"
     ]
    },
    {
     "name": "stderr",
     "output_type": "stream",
     "text": [
      "/tmp/ipykernel_2253557/4176462810.py:31: PerformanceWarning: DataFrame is highly fragmented.  This is usually the result of calling `frame.insert` many times, which has poor performance.  Consider joining all columns at once using pd.concat(axis=1) instead. To get a de-fragmented frame, use `newframe = frame.copy()`\n",
      "  CompaniesDF[sym] = StockData\n"
     ]
    },
    {
     "name": "stdout",
     "output_type": "stream",
     "text": [
      "EXC 5291 True\n"
     ]
    },
    {
     "name": "stderr",
     "output_type": "stream",
     "text": [
      "/tmp/ipykernel_2253557/4176462810.py:31: PerformanceWarning: DataFrame is highly fragmented.  This is usually the result of calling `frame.insert` many times, which has poor performance.  Consider joining all columns at once using pd.concat(axis=1) instead. To get a de-fragmented frame, use `newframe = frame.copy()`\n",
      "  CompaniesDF[sym] = StockData\n"
     ]
    },
    {
     "name": "stdout",
     "output_type": "stream",
     "text": [
      "FE 3809 False\n",
      "- TEG: Data doesn't exist for startDate = 694306800, endDate = 1356994800\n",
      "TEG 0 False\n",
      "NEE 5291 True\n"
     ]
    },
    {
     "name": "stderr",
     "output_type": "stream",
     "text": [
      "/tmp/ipykernel_2253557/4176462810.py:31: PerformanceWarning: DataFrame is highly fragmented.  This is usually the result of calling `frame.insert` many times, which has poor performance.  Consider joining all columns at once using pd.concat(axis=1) instead. To get a de-fragmented frame, use `newframe = frame.copy()`\n",
      "  CompaniesDF[sym] = StockData\n"
     ]
    },
    {
     "name": "stdout",
     "output_type": "stream",
     "text": [
      "NI 5291 True\n",
      "- NU: Data doesn't exist for startDate = 694306800, endDate = 1356994800\n",
      "NU 0 False\n"
     ]
    },
    {
     "name": "stderr",
     "output_type": "stream",
     "text": [
      "/tmp/ipykernel_2253557/4176462810.py:31: PerformanceWarning: DataFrame is highly fragmented.  This is usually the result of calling `frame.insert` many times, which has poor performance.  Consider joining all columns at once using pd.concat(axis=1) instead. To get a de-fragmented frame, use `newframe = frame.copy()`\n",
      "  CompaniesDF[sym] = StockData\n"
     ]
    },
    {
     "name": "stdout",
     "output_type": "stream",
     "text": [
      "NRG 2286 False\n",
      "OKE 5291 True\n",
      "POM 681 False\n"
     ]
    },
    {
     "name": "stderr",
     "output_type": "stream",
     "text": [
      "/tmp/ipykernel_2253557/4176462810.py:31: PerformanceWarning: DataFrame is highly fragmented.  This is usually the result of calling `frame.insert` many times, which has poor performance.  Consider joining all columns at once using pd.concat(axis=1) instead. To get a de-fragmented frame, use `newframe = frame.copy()`\n",
      "  CompaniesDF[sym] = StockData\n"
     ]
    },
    {
     "name": "stdout",
     "output_type": "stream",
     "text": [
      "PCG 5291 True\n"
     ]
    },
    {
     "name": "stderr",
     "output_type": "stream",
     "text": [
      "/tmp/ipykernel_2253557/4176462810.py:31: PerformanceWarning: DataFrame is highly fragmented.  This is usually the result of calling `frame.insert` many times, which has poor performance.  Consider joining all columns at once using pd.concat(axis=1) instead. To get a de-fragmented frame, use `newframe = frame.copy()`\n",
      "  CompaniesDF[sym] = StockData\n"
     ]
    },
    {
     "name": "stdout",
     "output_type": "stream",
     "text": [
      "PNW 5291 True\n"
     ]
    },
    {
     "name": "stderr",
     "output_type": "stream",
     "text": [
      "/tmp/ipykernel_2253557/4176462810.py:31: PerformanceWarning: DataFrame is highly fragmented.  This is usually the result of calling `frame.insert` many times, which has poor performance.  Consider joining all columns at once using pd.concat(axis=1) instead. To get a de-fragmented frame, use `newframe = frame.copy()`\n",
      "  CompaniesDF[sym] = StockData\n"
     ]
    },
    {
     "name": "stdout",
     "output_type": "stream",
     "text": [
      "PPL 5291 True\n"
     ]
    },
    {
     "name": "stderr",
     "output_type": "stream",
     "text": [
      "/tmp/ipykernel_2253557/4176462810.py:31: PerformanceWarning: DataFrame is highly fragmented.  This is usually the result of calling `frame.insert` many times, which has poor performance.  Consider joining all columns at once using pd.concat(axis=1) instead. To get a de-fragmented frame, use `newframe = frame.copy()`\n",
      "  CompaniesDF[sym] = StockData\n"
     ]
    },
    {
     "name": "stdout",
     "output_type": "stream",
     "text": [
      "PEG 5291 True\n",
      "- QEP: No data found, symbol may be delisted\n",
      "QEP 0 False\n"
     ]
    },
    {
     "name": "stderr",
     "output_type": "stream",
     "text": [
      "/tmp/ipykernel_2253557/4176462810.py:31: PerformanceWarning: DataFrame is highly fragmented.  This is usually the result of calling `frame.insert` many times, which has poor performance.  Consider joining all columns at once using pd.concat(axis=1) instead. To get a de-fragmented frame, use `newframe = frame.copy()`\n",
      "  CompaniesDF[sym] = StockData\n"
     ]
    },
    {
     "name": "stdout",
     "output_type": "stream",
     "text": [
      "- SCG: Data doesn't exist for startDate = 694306800, endDate = 1356994800\n",
      "SCG 0 False\n",
      "SRE 3651 False\n",
      "SO 5291 True\n",
      "- TE: No data found for this date range, symbol may be delisted\n",
      "TE 0 False\n"
     ]
    },
    {
     "name": "stderr",
     "output_type": "stream",
     "text": [
      "/tmp/ipykernel_2253557/4176462810.py:31: PerformanceWarning: DataFrame is highly fragmented.  This is usually the result of calling `frame.insert` many times, which has poor performance.  Consider joining all columns at once using pd.concat(axis=1) instead. To get a de-fragmented frame, use `newframe = frame.copy()`\n",
      "  CompaniesDF[sym] = StockData\n"
     ]
    },
    {
     "name": "stdout",
     "output_type": "stream",
     "text": [
      "WEC 5291 True\n"
     ]
    },
    {
     "name": "stderr",
     "output_type": "stream",
     "text": [
      "/tmp/ipykernel_2253557/4176462810.py:31: PerformanceWarning: DataFrame is highly fragmented.  This is usually the result of calling `frame.insert` many times, which has poor performance.  Consider joining all columns at once using pd.concat(axis=1) instead. To get a de-fragmented frame, use `newframe = frame.copy()`\n",
      "  CompaniesDF[sym] = StockData\n"
     ]
    },
    {
     "name": "stdout",
     "output_type": "stream",
     "text": [
      "XEL 5291 True\n",
      "Telecommunications Services\n",
      "8\n"
     ]
    },
    {
     "name": "stderr",
     "output_type": "stream",
     "text": [
      "/tmp/ipykernel_2253557/4176462810.py:31: PerformanceWarning: DataFrame is highly fragmented.  This is usually the result of calling `frame.insert` many times, which has poor performance.  Consider joining all columns at once using pd.concat(axis=1) instead. To get a de-fragmented frame, use `newframe = frame.copy()`\n",
      "  CompaniesDF[sym] = StockData\n"
     ]
    },
    {
     "name": "stdout",
     "output_type": "stream",
     "text": [
      "T 5291 True\n",
      "- CTL: No data found, symbol may be delisted\n",
      "CTL 0 False\n"
     ]
    },
    {
     "name": "stderr",
     "output_type": "stream",
     "text": [
      "/tmp/ipykernel_2253557/4176462810.py:31: PerformanceWarning: DataFrame is highly fragmented.  This is usually the result of calling `frame.insert` many times, which has poor performance.  Consider joining all columns at once using pd.concat(axis=1) instead. To get a de-fragmented frame, use `newframe = frame.copy()`\n",
      "  CompaniesDF[sym] = StockData\n"
     ]
    },
    {
     "name": "stdout",
     "output_type": "stream",
     "text": [
      "CCI 3616 False\n",
      "- FTR: No data found, symbol may be delisted\n",
      "FTR 0 False\n",
      "- PCS: No data found for this date range, symbol may be delisted\n",
      "PCS 0 False\n",
      "- S: Data doesn't exist for startDate = 694306800, endDate = 1356994800\n",
      "S 0 False\n",
      "VZ 5291 True\n",
      "- WIN: No data found, symbol may be delisted\n",
      "WIN 0 False\n",
      "Information Technology\n",
      "68\n"
     ]
    },
    {
     "name": "stderr",
     "output_type": "stream",
     "text": [
      "/tmp/ipykernel_2253557/4176462810.py:31: PerformanceWarning: DataFrame is highly fragmented.  This is usually the result of calling `frame.insert` many times, which has poor performance.  Consider joining all columns at once using pd.concat(axis=1) instead. To get a de-fragmented frame, use `newframe = frame.copy()`\n",
      "  CompaniesDF[sym] = StockData\n"
     ]
    },
    {
     "name": "stdout",
     "output_type": "stream",
     "text": [
      "ACN 2880 False\n",
      "ADBE 5291 True\n"
     ]
    },
    {
     "name": "stderr",
     "output_type": "stream",
     "text": [
      "/tmp/ipykernel_2253557/4176462810.py:31: PerformanceWarning: DataFrame is highly fragmented.  This is usually the result of calling `frame.insert` many times, which has poor performance.  Consider joining all columns at once using pd.concat(axis=1) instead. To get a de-fragmented frame, use `newframe = frame.copy()`\n",
      "  CompaniesDF[sym] = StockData\n"
     ]
    },
    {
     "name": "stdout",
     "output_type": "stream",
     "text": [
      "AMD 5291 True\n"
     ]
    },
    {
     "name": "stderr",
     "output_type": "stream",
     "text": [
      "/tmp/ipykernel_2253557/4176462810.py:31: PerformanceWarning: DataFrame is highly fragmented.  This is usually the result of calling `frame.insert` many times, which has poor performance.  Consider joining all columns at once using pd.concat(axis=1) instead. To get a de-fragmented frame, use `newframe = frame.copy()`\n",
      "  CompaniesDF[sym] = StockData\n"
     ]
    },
    {
     "name": "stdout",
     "output_type": "stream",
     "text": [
      "AKAM 3313 False\n",
      "- ALTR: Data doesn't exist for startDate = 694306800, endDate = 1356994800\n",
      "ALTR 0 False\n",
      "ADI 5291 True\n"
     ]
    },
    {
     "name": "stderr",
     "output_type": "stream",
     "text": [
      "/tmp/ipykernel_2253557/4176462810.py:31: PerformanceWarning: DataFrame is highly fragmented.  This is usually the result of calling `frame.insert` many times, which has poor performance.  Consider joining all columns at once using pd.concat(axis=1) instead. To get a de-fragmented frame, use `newframe = frame.copy()`\n",
      "  CompaniesDF[sym] = StockData\n"
     ]
    },
    {
     "name": "stdout",
     "output_type": "stream",
     "text": [
      "AAPL 5291 True\n"
     ]
    },
    {
     "name": "stderr",
     "output_type": "stream",
     "text": [
      "/tmp/ipykernel_2253557/4176462810.py:31: PerformanceWarning: DataFrame is highly fragmented.  This is usually the result of calling `frame.insert` many times, which has poor performance.  Consider joining all columns at once using pd.concat(axis=1) instead. To get a de-fragmented frame, use `newframe = frame.copy()`\n",
      "  CompaniesDF[sym] = StockData\n"
     ]
    },
    {
     "name": "stdout",
     "output_type": "stream",
     "text": [
      "AMAT 5291 True\n"
     ]
    },
    {
     "name": "stderr",
     "output_type": "stream",
     "text": [
      "/tmp/ipykernel_2253557/4176462810.py:31: PerformanceWarning: DataFrame is highly fragmented.  This is usually the result of calling `frame.insert` many times, which has poor performance.  Consider joining all columns at once using pd.concat(axis=1) instead. To get a de-fragmented frame, use `newframe = frame.copy()`\n",
      "  CompaniesDF[sym] = StockData\n"
     ]
    },
    {
     "name": "stdout",
     "output_type": "stream",
     "text": [
      "ADSK 5291 True\n"
     ]
    },
    {
     "name": "stderr",
     "output_type": "stream",
     "text": [
      "/tmp/ipykernel_2253557/4176462810.py:31: PerformanceWarning: DataFrame is highly fragmented.  This is usually the result of calling `frame.insert` many times, which has poor performance.  Consider joining all columns at once using pd.concat(axis=1) instead. To get a de-fragmented frame, use `newframe = frame.copy()`\n",
      "  CompaniesDF[sym] = StockData\n"
     ]
    },
    {
     "name": "stdout",
     "output_type": "stream",
     "text": [
      "ADP 5291 True\n",
      "BMC 135 False\n"
     ]
    },
    {
     "name": "stderr",
     "output_type": "stream",
     "text": [
      "/tmp/ipykernel_2253557/4176462810.py:31: PerformanceWarning: DataFrame is highly fragmented.  This is usually the result of calling `frame.insert` many times, which has poor performance.  Consider joining all columns at once using pd.concat(axis=1) instead. To get a de-fragmented frame, use `newframe = frame.copy()`\n",
      "  CompaniesDF[sym] = StockData\n"
     ]
    },
    {
     "name": "stdout",
     "output_type": "stream",
     "text": [
      "- BRCM: No data found for this date range, symbol may be delisted\n",
      "BRCM 0 False\n",
      "CA 5287 True\n"
     ]
    },
    {
     "name": "stderr",
     "output_type": "stream",
     "text": [
      "/tmp/ipykernel_2253557/4176462810.py:41: PerformanceWarning: DataFrame is highly fragmented.  This is usually the result of calling `frame.insert` many times, which has poor performance.  Consider joining all columns at once using pd.concat(axis=1) instead. To get a de-fragmented frame, use `newframe = frame.copy()`\n",
      "  CompaniesDF[sym] = StockData\n"
     ]
    },
    {
     "name": "stdout",
     "output_type": "stream",
     "text": [
      "CSCO 5291 True\n"
     ]
    },
    {
     "name": "stderr",
     "output_type": "stream",
     "text": [
      "/tmp/ipykernel_2253557/4176462810.py:31: PerformanceWarning: DataFrame is highly fragmented.  This is usually the result of calling `frame.insert` many times, which has poor performance.  Consider joining all columns at once using pd.concat(axis=1) instead. To get a de-fragmented frame, use `newframe = frame.copy()`\n",
      "  CompaniesDF[sym] = StockData\n"
     ]
    },
    {
     "name": "stdout",
     "output_type": "stream",
     "text": [
      "CTXS 4295 False\n",
      "CTSH 3657 False\n",
      "CSC 135 False\n",
      "- DELL: Data doesn't exist for startDate = 694306800, endDate = 1356994800\n",
      "DELL 0 False\n",
      "EBAY 3590 False\n",
      "EA 5291 True\n",
      "EMC 22 False\n"
     ]
    },
    {
     "name": "stderr",
     "output_type": "stream",
     "text": [
      "/tmp/ipykernel_2253557/4176462810.py:31: PerformanceWarning: DataFrame is highly fragmented.  This is usually the result of calling `frame.insert` many times, which has poor performance.  Consider joining all columns at once using pd.concat(axis=1) instead. To get a de-fragmented frame, use `newframe = frame.copy()`\n",
      "  CompaniesDF[sym] = StockData\n"
     ]
    },
    {
     "name": "stdout",
     "output_type": "stream",
     "text": [
      "FFIV 3416 False\n",
      "FIS 2900 False\n",
      "FISV 5291 True\n"
     ]
    },
    {
     "name": "stderr",
     "output_type": "stream",
     "text": [
      "/tmp/ipykernel_2253557/4176462810.py:31: PerformanceWarning: DataFrame is highly fragmented.  This is usually the result of calling `frame.insert` many times, which has poor performance.  Consider joining all columns at once using pd.concat(axis=1) instead. To get a de-fragmented frame, use `newframe = frame.copy()`\n",
      "  CompaniesDF[sym] = StockData\n"
     ]
    },
    {
     "name": "stdout",
     "output_type": "stream",
     "text": [
      "- FLIR: No data found, symbol may be delisted\n",
      "FLIR 0 False\n",
      "GOOG 2107 False\n",
      "- HRS: No data found, symbol may be delisted\n",
      "HRS 0 False\n",
      "HPQ 5291 True\n"
     ]
    },
    {
     "name": "stderr",
     "output_type": "stream",
     "text": [
      "/tmp/ipykernel_2253557/4176462810.py:31: PerformanceWarning: DataFrame is highly fragmented.  This is usually the result of calling `frame.insert` many times, which has poor performance.  Consider joining all columns at once using pd.concat(axis=1) instead. To get a de-fragmented frame, use `newframe = frame.copy()`\n",
      "  CompaniesDF[sym] = StockData\n"
     ]
    },
    {
     "name": "stdout",
     "output_type": "stream",
     "text": [
      "INTC 5291 True\n"
     ]
    },
    {
     "name": "stderr",
     "output_type": "stream",
     "text": [
      "/tmp/ipykernel_2253557/4176462810.py:31: PerformanceWarning: DataFrame is highly fragmented.  This is usually the result of calling `frame.insert` many times, which has poor performance.  Consider joining all columns at once using pd.concat(axis=1) instead. To get a de-fragmented frame, use `newframe = frame.copy()`\n",
      "  CompaniesDF[sym] = StockData\n"
     ]
    },
    {
     "name": "stdout",
     "output_type": "stream",
     "text": [
      "IBM 5291 True\n"
     ]
    },
    {
     "name": "stderr",
     "output_type": "stream",
     "text": [
      "/tmp/ipykernel_2253557/4176462810.py:31: PerformanceWarning: DataFrame is highly fragmented.  This is usually the result of calling `frame.insert` many times, which has poor performance.  Consider joining all columns at once using pd.concat(axis=1) instead. To get a de-fragmented frame, use `newframe = frame.copy()`\n",
      "  CompaniesDF[sym] = StockData\n"
     ]
    },
    {
     "name": "stdout",
     "output_type": "stream",
     "text": [
      "INTU 4989 False\n",
      "JBL 4954 False\n",
      "- JDSU: No data found for this date range, symbol may be delisted\n",
      "JDSU 0 False\n",
      "JNPR 3401 False\n",
      "KLAC 5291 True\n"
     ]
    },
    {
     "name": "stderr",
     "output_type": "stream",
     "text": [
      "/tmp/ipykernel_2253557/4176462810.py:31: PerformanceWarning: DataFrame is highly fragmented.  This is usually the result of calling `frame.insert` many times, which has poor performance.  Consider joining all columns at once using pd.concat(axis=1) instead. To get a de-fragmented frame, use `newframe = frame.copy()`\n",
      "  CompaniesDF[sym] = StockData\n"
     ]
    },
    {
     "name": "stdout",
     "output_type": "stream",
     "text": [
      "LRCX 5291 True\n",
      "- LLTC: No data found for this date range, symbol may be delisted\n",
      "LLTC 0 False\n"
     ]
    },
    {
     "name": "stderr",
     "output_type": "stream",
     "text": [
      "/tmp/ipykernel_2253557/4176462810.py:31: PerformanceWarning: DataFrame is highly fragmented.  This is usually the result of calling `frame.insert` many times, which has poor performance.  Consider joining all columns at once using pd.concat(axis=1) instead. To get a de-fragmented frame, use `newframe = frame.copy()`\n",
      "  CompaniesDF[sym] = StockData\n"
     ]
    },
    {
     "name": "stdout",
     "output_type": "stream",
     "text": [
      "LSI 4414 False\n",
      "MA 1662 False\n",
      "MCHP 4984 False\n",
      "MU 5291 True\n"
     ]
    },
    {
     "name": "stderr",
     "output_type": "stream",
     "text": [
      "/tmp/ipykernel_2253557/4176462810.py:31: PerformanceWarning: DataFrame is highly fragmented.  This is usually the result of calling `frame.insert` many times, which has poor performance.  Consider joining all columns at once using pd.concat(axis=1) instead. To get a de-fragmented frame, use `newframe = frame.copy()`\n",
      "  CompaniesDF[sym] = StockData\n"
     ]
    },
    {
     "name": "stdout",
     "output_type": "stream",
     "text": [
      "MSFT 5291 True\n"
     ]
    },
    {
     "name": "stderr",
     "output_type": "stream",
     "text": [
      "/tmp/ipykernel_2253557/4176462810.py:31: PerformanceWarning: DataFrame is highly fragmented.  This is usually the result of calling `frame.insert` many times, which has poor performance.  Consider joining all columns at once using pd.concat(axis=1) instead. To get a de-fragmented frame, use `newframe = frame.copy()`\n",
      "  CompaniesDF[sym] = StockData\n"
     ]
    },
    {
     "name": "stdout",
     "output_type": "stream",
     "text": [
      "- MOLX: No data found for this date range, symbol may be delisted\n",
      "MOLX 0 False\n",
      "MSI 5292 True\n"
     ]
    },
    {
     "name": "stderr",
     "output_type": "stream",
     "text": [
      "/tmp/ipykernel_2253557/4176462810.py:41: PerformanceWarning: DataFrame is highly fragmented.  This is usually the result of calling `frame.insert` many times, which has poor performance.  Consider joining all columns at once using pd.concat(axis=1) instead. To get a de-fragmented frame, use `newframe = frame.copy()`\n",
      "  CompaniesDF[sym] = StockData\n"
     ]
    },
    {
     "name": "stdout",
     "output_type": "stream",
     "text": [
      "NTAP 4307 False\n",
      "NFLX 2671 False\n",
      "NVDA 3509 False\n",
      "ORCL 5291 True\n"
     ]
    },
    {
     "name": "stderr",
     "output_type": "stream",
     "text": [
      "/tmp/ipykernel_2253557/4176462810.py:31: PerformanceWarning: DataFrame is highly fragmented.  This is usually the result of calling `frame.insert` many times, which has poor performance.  Consider joining all columns at once using pd.concat(axis=1) instead. To get a de-fragmented frame, use `newframe = frame.copy()`\n",
      "  CompaniesDF[sym] = StockData\n"
     ]
    },
    {
     "name": "stdout",
     "output_type": "stream",
     "text": [
      "PAYX 5291 True\n"
     ]
    },
    {
     "name": "stderr",
     "output_type": "stream",
     "text": [
      "/tmp/ipykernel_2253557/4176462810.py:31: PerformanceWarning: DataFrame is highly fragmented.  This is usually the result of calling `frame.insert` many times, which has poor performance.  Consider joining all columns at once using pd.concat(axis=1) instead. To get a de-fragmented frame, use `newframe = frame.copy()`\n",
      "  CompaniesDF[sym] = StockData\n"
     ]
    },
    {
     "name": "stdout",
     "output_type": "stream",
     "text": [
      "QCOM 5291 True\n"
     ]
    },
    {
     "name": "stderr",
     "output_type": "stream",
     "text": [
      "/tmp/ipykernel_2253557/4176462810.py:31: PerformanceWarning: DataFrame is highly fragmented.  This is usually the result of calling `frame.insert` many times, which has poor performance.  Consider joining all columns at once using pd.concat(axis=1) instead. To get a de-fragmented frame, use `newframe = frame.copy()`\n",
      "  CompaniesDF[sym] = StockData\n"
     ]
    },
    {
     "name": "stdout",
     "output_type": "stream",
     "text": [
      "- RHT: No data found, symbol may be delisted\n",
      "RHT 0 False\n",
      "- SAI: No data found for this date range, symbol may be delisted\n",
      "SAI 0 False\n",
      "CRM 2147 False\n",
      "- SNDK: No data found for this date range, symbol may be delisted\n",
      "SNDK 0 False\n",
      "STX 2531 False\n",
      "- SYMC: No data found, symbol may be delisted\n",
      "SYMC 0 False\n",
      "TEL 1398 False\n",
      "TDC 1323 False\n",
      "TER 5291 True\n"
     ]
    },
    {
     "name": "stderr",
     "output_type": "stream",
     "text": [
      "/tmp/ipykernel_2253557/4176462810.py:31: PerformanceWarning: DataFrame is highly fragmented.  This is usually the result of calling `frame.insert` many times, which has poor performance.  Consider joining all columns at once using pd.concat(axis=1) instead. To get a de-fragmented frame, use `newframe = frame.copy()`\n",
      "  CompaniesDF[sym] = StockData\n"
     ]
    },
    {
     "name": "stdout",
     "output_type": "stream",
     "text": [
      "TXN 5292 True\n"
     ]
    },
    {
     "name": "stderr",
     "output_type": "stream",
     "text": [
      "/tmp/ipykernel_2253557/4176462810.py:41: PerformanceWarning: DataFrame is highly fragmented.  This is usually the result of calling `frame.insert` many times, which has poor performance.  Consider joining all columns at once using pd.concat(axis=1) instead. To get a de-fragmented frame, use `newframe = frame.copy()`\n",
      "  CompaniesDF[sym] = StockData\n"
     ]
    },
    {
     "name": "stdout",
     "output_type": "stream",
     "text": [
      "- TSS: No data found, symbol may be delisted\n",
      "TSS 0 False\n",
      "VRSN 3754 False\n",
      "V 1206 False\n",
      "WDC 5291 True\n"
     ]
    },
    {
     "name": "stderr",
     "output_type": "stream",
     "text": [
      "/tmp/ipykernel_2253557/4176462810.py:31: PerformanceWarning: DataFrame is highly fragmented.  This is usually the result of calling `frame.insert` many times, which has poor performance.  Consider joining all columns at once using pd.concat(axis=1) instead. To get a de-fragmented frame, use `newframe = frame.copy()`\n",
      "  CompaniesDF[sym] = StockData\n"
     ]
    },
    {
     "name": "stdout",
     "output_type": "stream",
     "text": [
      "WU 1573 False\n",
      "XRX 5292 True\n"
     ]
    },
    {
     "name": "stderr",
     "output_type": "stream",
     "text": [
      "/tmp/ipykernel_2253557/4176462810.py:41: PerformanceWarning: DataFrame is highly fragmented.  This is usually the result of calling `frame.insert` many times, which has poor performance.  Consider joining all columns at once using pd.concat(axis=1) instead. To get a de-fragmented frame, use `newframe = frame.copy()`\n",
      "  CompaniesDF[sym] = StockData\n"
     ]
    },
    {
     "name": "stdout",
     "output_type": "stream",
     "text": [
      "XLNX 5291 True\n"
     ]
    },
    {
     "name": "stderr",
     "output_type": "stream",
     "text": [
      "/tmp/ipykernel_2253557/4176462810.py:31: PerformanceWarning: DataFrame is highly fragmented.  This is usually the result of calling `frame.insert` many times, which has poor performance.  Consider joining all columns at once using pd.concat(axis=1) instead. To get a de-fragmented frame, use `newframe = frame.copy()`\n",
      "  CompaniesDF[sym] = StockData\n"
     ]
    },
    {
     "name": "stdout",
     "output_type": "stream",
     "text": [
      "- YHOO: No data found for this date range, symbol may be delisted\n",
      "YHOO 0 False\n",
      "Industrials\n",
      "61\n",
      "MMM 5291 True\n"
     ]
    },
    {
     "name": "stderr",
     "output_type": "stream",
     "text": [
      "/tmp/ipykernel_2253557/4176462810.py:31: PerformanceWarning: DataFrame is highly fragmented.  This is usually the result of calling `frame.insert` many times, which has poor performance.  Consider joining all columns at once using pd.concat(axis=1) instead. To get a de-fragmented frame, use `newframe = frame.copy()`\n",
      "  CompaniesDF[sym] = StockData\n"
     ]
    },
    {
     "name": "stdout",
     "output_type": "stream",
     "text": [
      "- ADT: Data doesn't exist for startDate = 694306800, endDate = 1356994800\n",
      "ADT 0 False\n",
      "APH 5291 True\n"
     ]
    },
    {
     "name": "stderr",
     "output_type": "stream",
     "text": [
      "/tmp/ipykernel_2253557/4176462810.py:31: PerformanceWarning: DataFrame is highly fragmented.  This is usually the result of calling `frame.insert` many times, which has poor performance.  Consider joining all columns at once using pd.concat(axis=1) instead. To get a de-fragmented frame, use `newframe = frame.copy()`\n",
      "  CompaniesDF[sym] = StockData\n"
     ]
    },
    {
     "name": "stdout",
     "output_type": "stream",
     "text": [
      "AVY 5291 True\n"
     ]
    },
    {
     "name": "stderr",
     "output_type": "stream",
     "text": [
      "/tmp/ipykernel_2253557/4176462810.py:31: PerformanceWarning: DataFrame is highly fragmented.  This is usually the result of calling `frame.insert` many times, which has poor performance.  Consider joining all columns at once using pd.concat(axis=1) instead. To get a de-fragmented frame, use `newframe = frame.copy()`\n",
      "  CompaniesDF[sym] = StockData\n"
     ]
    },
    {
     "name": "stdout",
     "output_type": "stream",
     "text": [
      "BA 5291 True\n"
     ]
    },
    {
     "name": "stderr",
     "output_type": "stream",
     "text": [
      "/tmp/ipykernel_2253557/4176462810.py:31: PerformanceWarning: DataFrame is highly fragmented.  This is usually the result of calling `frame.insert` many times, which has poor performance.  Consider joining all columns at once using pd.concat(axis=1) instead. To get a de-fragmented frame, use `newframe = frame.copy()`\n",
      "  CompaniesDF[sym] = StockData\n"
     ]
    },
    {
     "name": "stdout",
     "output_type": "stream",
     "text": [
      "CHRW 3826 False\n",
      "CAT 5292 True\n"
     ]
    },
    {
     "name": "stderr",
     "output_type": "stream",
     "text": [
      "/tmp/ipykernel_2253557/4176462810.py:41: PerformanceWarning: DataFrame is highly fragmented.  This is usually the result of calling `frame.insert` many times, which has poor performance.  Consider joining all columns at once using pd.concat(axis=1) instead. To get a de-fragmented frame, use `newframe = frame.copy()`\n",
      "  CompaniesDF[sym] = StockData\n"
     ]
    },
    {
     "name": "stdout",
     "output_type": "stream",
     "text": [
      "CTAS 5291 True\n"
     ]
    },
    {
     "name": "stderr",
     "output_type": "stream",
     "text": [
      "/tmp/ipykernel_2253557/4176462810.py:31: PerformanceWarning: DataFrame is highly fragmented.  This is usually the result of calling `frame.insert` many times, which has poor performance.  Consider joining all columns at once using pd.concat(axis=1) instead. To get a de-fragmented frame, use `newframe = frame.copy()`\n",
      "  CompaniesDF[sym] = StockData\n"
     ]
    },
    {
     "name": "stdout",
     "output_type": "stream",
     "text": [
      "GLW 5292 True\n"
     ]
    },
    {
     "name": "stderr",
     "output_type": "stream",
     "text": [
      "/tmp/ipykernel_2253557/4176462810.py:41: PerformanceWarning: DataFrame is highly fragmented.  This is usually the result of calling `frame.insert` many times, which has poor performance.  Consider joining all columns at once using pd.concat(axis=1) instead. To get a de-fragmented frame, use `newframe = frame.copy()`\n",
      "  CompaniesDF[sym] = StockData\n"
     ]
    },
    {
     "name": "stdout",
     "output_type": "stream",
     "text": [
      "CSX 5291 True\n"
     ]
    },
    {
     "name": "stderr",
     "output_type": "stream",
     "text": [
      "/tmp/ipykernel_2253557/4176462810.py:31: PerformanceWarning: DataFrame is highly fragmented.  This is usually the result of calling `frame.insert` many times, which has poor performance.  Consider joining all columns at once using pd.concat(axis=1) instead. To get a de-fragmented frame, use `newframe = frame.copy()`\n",
      "  CompaniesDF[sym] = StockData\n"
     ]
    },
    {
     "name": "stdout",
     "output_type": "stream",
     "text": [
      "CMI 5292 True\n"
     ]
    },
    {
     "name": "stderr",
     "output_type": "stream",
     "text": [
      "/tmp/ipykernel_2253557/4176462810.py:41: PerformanceWarning: DataFrame is highly fragmented.  This is usually the result of calling `frame.insert` many times, which has poor performance.  Consider joining all columns at once using pd.concat(axis=1) instead. To get a de-fragmented frame, use `newframe = frame.copy()`\n",
      "  CompaniesDF[sym] = StockData\n"
     ]
    },
    {
     "name": "stdout",
     "output_type": "stream",
     "text": [
      "DHR 5291 True\n"
     ]
    },
    {
     "name": "stderr",
     "output_type": "stream",
     "text": [
      "/tmp/ipykernel_2253557/4176462810.py:31: PerformanceWarning: DataFrame is highly fragmented.  This is usually the result of calling `frame.insert` many times, which has poor performance.  Consider joining all columns at once using pd.concat(axis=1) instead. To get a de-fragmented frame, use `newframe = frame.copy()`\n",
      "  CompaniesDF[sym] = StockData\n"
     ]
    },
    {
     "name": "stdout",
     "output_type": "stream",
     "text": [
      "DE 5291 True\n"
     ]
    },
    {
     "name": "stderr",
     "output_type": "stream",
     "text": [
      "/tmp/ipykernel_2253557/4176462810.py:31: PerformanceWarning: DataFrame is highly fragmented.  This is usually the result of calling `frame.insert` many times, which has poor performance.  Consider joining all columns at once using pd.concat(axis=1) instead. To get a de-fragmented frame, use `newframe = frame.copy()`\n",
      "  CompaniesDF[sym] = StockData\n"
     ]
    },
    {
     "name": "stdout",
     "output_type": "stream",
     "text": [
      "DOV 5291 True\n"
     ]
    },
    {
     "name": "stderr",
     "output_type": "stream",
     "text": [
      "/tmp/ipykernel_2253557/4176462810.py:31: PerformanceWarning: DataFrame is highly fragmented.  This is usually the result of calling `frame.insert` many times, which has poor performance.  Consider joining all columns at once using pd.concat(axis=1) instead. To get a de-fragmented frame, use `newframe = frame.copy()`\n",
      "  CompaniesDF[sym] = StockData\n"
     ]
    },
    {
     "name": "stdout",
     "output_type": "stream",
     "text": [
      "- DNB: Data doesn't exist for startDate = 694306800, endDate = 1356994800\n",
      "DNB 0 False\n",
      "ETN 5291 True\n"
     ]
    },
    {
     "name": "stderr",
     "output_type": "stream",
     "text": [
      "/tmp/ipykernel_2253557/4176462810.py:31: PerformanceWarning: DataFrame is highly fragmented.  This is usually the result of calling `frame.insert` many times, which has poor performance.  Consider joining all columns at once using pd.concat(axis=1) instead. To get a de-fragmented frame, use `newframe = frame.copy()`\n",
      "  CompaniesDF[sym] = StockData\n"
     ]
    },
    {
     "name": "stdout",
     "output_type": "stream",
     "text": [
      "EMR 5291 True\n"
     ]
    },
    {
     "name": "stderr",
     "output_type": "stream",
     "text": [
      "/tmp/ipykernel_2253557/4176462810.py:31: PerformanceWarning: DataFrame is highly fragmented.  This is usually the result of calling `frame.insert` many times, which has poor performance.  Consider joining all columns at once using pd.concat(axis=1) instead. To get a de-fragmented frame, use `newframe = frame.copy()`\n",
      "  CompaniesDF[sym] = StockData\n"
     ]
    },
    {
     "name": "stdout",
     "output_type": "stream",
     "text": [
      "EXPD 5292 True\n"
     ]
    },
    {
     "name": "stderr",
     "output_type": "stream",
     "text": [
      "/tmp/ipykernel_2253557/4176462810.py:41: PerformanceWarning: DataFrame is highly fragmented.  This is usually the result of calling `frame.insert` many times, which has poor performance.  Consider joining all columns at once using pd.concat(axis=1) instead. To get a de-fragmented frame, use `newframe = frame.copy()`\n",
      "  CompaniesDF[sym] = StockData\n"
     ]
    },
    {
     "name": "stdout",
     "output_type": "stream",
     "text": [
      "FAST 5291 True\n"
     ]
    },
    {
     "name": "stderr",
     "output_type": "stream",
     "text": [
      "/tmp/ipykernel_2253557/4176462810.py:31: PerformanceWarning: DataFrame is highly fragmented.  This is usually the result of calling `frame.insert` many times, which has poor performance.  Consider joining all columns at once using pd.concat(axis=1) instead. To get a de-fragmented frame, use `newframe = frame.copy()`\n",
      "  CompaniesDF[sym] = StockData\n"
     ]
    },
    {
     "name": "stdout",
     "output_type": "stream",
     "text": [
      "FDX 5291 True\n"
     ]
    },
    {
     "name": "stderr",
     "output_type": "stream",
     "text": [
      "/tmp/ipykernel_2253557/4176462810.py:31: PerformanceWarning: DataFrame is highly fragmented.  This is usually the result of calling `frame.insert` many times, which has poor performance.  Consider joining all columns at once using pd.concat(axis=1) instead. To get a de-fragmented frame, use `newframe = frame.copy()`\n",
      "  CompaniesDF[sym] = StockData\n"
     ]
    },
    {
     "name": "stdout",
     "output_type": "stream",
     "text": [
      "FSLR 1539 False\n",
      "FLS 5291 True\n"
     ]
    },
    {
     "name": "stderr",
     "output_type": "stream",
     "text": [
      "/tmp/ipykernel_2253557/4176462810.py:31: PerformanceWarning: DataFrame is highly fragmented.  This is usually the result of calling `frame.insert` many times, which has poor performance.  Consider joining all columns at once using pd.concat(axis=1) instead. To get a de-fragmented frame, use `newframe = frame.copy()`\n",
      "  CompaniesDF[sym] = StockData\n"
     ]
    },
    {
     "name": "stdout",
     "output_type": "stream",
     "text": [
      "FLR 3037 False\n",
      "GD 5291 True\n"
     ]
    },
    {
     "name": "stderr",
     "output_type": "stream",
     "text": [
      "/tmp/ipykernel_2253557/4176462810.py:31: PerformanceWarning: DataFrame is highly fragmented.  This is usually the result of calling `frame.insert` many times, which has poor performance.  Consider joining all columns at once using pd.concat(axis=1) instead. To get a de-fragmented frame, use `newframe = frame.copy()`\n",
      "  CompaniesDF[sym] = StockData\n"
     ]
    },
    {
     "name": "stdout",
     "output_type": "stream",
     "text": [
      "GE 5291 True\n"
     ]
    },
    {
     "name": "stderr",
     "output_type": "stream",
     "text": [
      "/tmp/ipykernel_2253557/4176462810.py:31: PerformanceWarning: DataFrame is highly fragmented.  This is usually the result of calling `frame.insert` many times, which has poor performance.  Consider joining all columns at once using pd.concat(axis=1) instead. To get a de-fragmented frame, use `newframe = frame.copy()`\n",
      "  CompaniesDF[sym] = StockData\n"
     ]
    },
    {
     "name": "stdout",
     "output_type": "stream",
     "text": [
      "GWW 5291 True\n"
     ]
    },
    {
     "name": "stderr",
     "output_type": "stream",
     "text": [
      "/tmp/ipykernel_2253557/4176462810.py:31: PerformanceWarning: DataFrame is highly fragmented.  This is usually the result of calling `frame.insert` many times, which has poor performance.  Consider joining all columns at once using pd.concat(axis=1) instead. To get a de-fragmented frame, use `newframe = frame.copy()`\n",
      "  CompaniesDF[sym] = StockData\n"
     ]
    },
    {
     "name": "stdout",
     "output_type": "stream",
     "text": [
      "HON 5291 True\n"
     ]
    },
    {
     "name": "stderr",
     "output_type": "stream",
     "text": [
      "/tmp/ipykernel_2253557/4176462810.py:31: PerformanceWarning: DataFrame is highly fragmented.  This is usually the result of calling `frame.insert` many times, which has poor performance.  Consider joining all columns at once using pd.concat(axis=1) instead. To get a de-fragmented frame, use `newframe = frame.copy()`\n",
      "  CompaniesDF[sym] = StockData\n"
     ]
    },
    {
     "name": "stdout",
     "output_type": "stream",
     "text": [
      "ITW 5291 True\n"
     ]
    },
    {
     "name": "stderr",
     "output_type": "stream",
     "text": [
      "/tmp/ipykernel_2253557/4176462810.py:31: PerformanceWarning: DataFrame is highly fragmented.  This is usually the result of calling `frame.insert` many times, which has poor performance.  Consider joining all columns at once using pd.concat(axis=1) instead. To get a de-fragmented frame, use `newframe = frame.copy()`\n",
      "  CompaniesDF[sym] = StockData\n"
     ]
    },
    {
     "name": "stdout",
     "output_type": "stream",
     "text": [
      "- IR: Data doesn't exist for startDate = 694306800, endDate = 1356994800\n",
      "IR 0 False\n",
      "IRM 4258 False\n",
      "- JEC: No data found, symbol may be delisted\n",
      "JEC 0 False\n",
      "- JOY: No data found for this date range, symbol may be delisted\n",
      "JOY 0 False\n",
      "- LLL: Data doesn't exist for startDate = 694306800, endDate = 1356994800\n",
      "LLL 0 False\n",
      "LMT 5292 True\n"
     ]
    },
    {
     "name": "stderr",
     "output_type": "stream",
     "text": [
      "/tmp/ipykernel_2253557/4176462810.py:41: PerformanceWarning: DataFrame is highly fragmented.  This is usually the result of calling `frame.insert` many times, which has poor performance.  Consider joining all columns at once using pd.concat(axis=1) instead. To get a de-fragmented frame, use `newframe = frame.copy()`\n",
      "  CompaniesDF[sym] = StockData\n"
     ]
    },
    {
     "name": "stdout",
     "output_type": "stream",
     "text": [
      "MAS 5291 True\n"
     ]
    },
    {
     "name": "stderr",
     "output_type": "stream",
     "text": [
      "/tmp/ipykernel_2253557/4176462810.py:31: PerformanceWarning: DataFrame is highly fragmented.  This is usually the result of calling `frame.insert` many times, which has poor performance.  Consider joining all columns at once using pd.concat(axis=1) instead. To get a de-fragmented frame, use `newframe = frame.copy()`\n",
      "  CompaniesDF[sym] = StockData\n"
     ]
    },
    {
     "name": "stdout",
     "output_type": "stream",
     "text": [
      "NSC 5291 True\n"
     ]
    },
    {
     "name": "stderr",
     "output_type": "stream",
     "text": [
      "/tmp/ipykernel_2253557/4176462810.py:31: PerformanceWarning: DataFrame is highly fragmented.  This is usually the result of calling `frame.insert` many times, which has poor performance.  Consider joining all columns at once using pd.concat(axis=1) instead. To get a de-fragmented frame, use `newframe = frame.copy()`\n",
      "  CompaniesDF[sym] = StockData\n"
     ]
    },
    {
     "name": "stdout",
     "output_type": "stream",
     "text": [
      "NOC 5294 True\n"
     ]
    },
    {
     "name": "stderr",
     "output_type": "stream",
     "text": [
      "/tmp/ipykernel_2253557/4176462810.py:41: PerformanceWarning: DataFrame is highly fragmented.  This is usually the result of calling `frame.insert` many times, which has poor performance.  Consider joining all columns at once using pd.concat(axis=1) instead. To get a de-fragmented frame, use `newframe = frame.copy()`\n",
      "  CompaniesDF[sym] = StockData\n"
     ]
    },
    {
     "name": "stdout",
     "output_type": "stream",
     "text": [
      "PCAR 5291 True\n"
     ]
    },
    {
     "name": "stderr",
     "output_type": "stream",
     "text": [
      "/tmp/ipykernel_2253557/4176462810.py:31: PerformanceWarning: DataFrame is highly fragmented.  This is usually the result of calling `frame.insert` many times, which has poor performance.  Consider joining all columns at once using pd.concat(axis=1) instead. To get a de-fragmented frame, use `newframe = frame.copy()`\n",
      "  CompaniesDF[sym] = StockData\n"
     ]
    },
    {
     "name": "stdout",
     "output_type": "stream",
     "text": [
      "- PLL: Data doesn't exist for startDate = 694306800, endDate = 1356994800\n",
      "PLL 0 False\n",
      "PH 5292 True\n"
     ]
    },
    {
     "name": "stderr",
     "output_type": "stream",
     "text": [
      "/tmp/ipykernel_2253557/4176462810.py:41: PerformanceWarning: DataFrame is highly fragmented.  This is usually the result of calling `frame.insert` many times, which has poor performance.  Consider joining all columns at once using pd.concat(axis=1) instead. To get a de-fragmented frame, use `newframe = frame.copy()`\n",
      "  CompaniesDF[sym] = StockData\n"
     ]
    },
    {
     "name": "stdout",
     "output_type": "stream",
     "text": [
      "PNR 5291 True\n"
     ]
    },
    {
     "name": "stderr",
     "output_type": "stream",
     "text": [
      "/tmp/ipykernel_2253557/4176462810.py:31: PerformanceWarning: DataFrame is highly fragmented.  This is usually the result of calling `frame.insert` many times, which has poor performance.  Consider joining all columns at once using pd.concat(axis=1) instead. To get a de-fragmented frame, use `newframe = frame.copy()`\n",
      "  CompaniesDF[sym] = StockData\n"
     ]
    },
    {
     "name": "stdout",
     "output_type": "stream",
     "text": [
      "PBI 5291 True\n"
     ]
    },
    {
     "name": "stderr",
     "output_type": "stream",
     "text": [
      "/tmp/ipykernel_2253557/4176462810.py:31: PerformanceWarning: DataFrame is highly fragmented.  This is usually the result of calling `frame.insert` many times, which has poor performance.  Consider joining all columns at once using pd.concat(axis=1) instead. To get a de-fragmented frame, use `newframe = frame.copy()`\n",
      "  CompaniesDF[sym] = StockData\n"
     ]
    },
    {
     "name": "stdout",
     "output_type": "stream",
     "text": [
      "- PCP: Data doesn't exist for startDate = 694306800, endDate = 1356994800\n",
      "PCP 0 False\n",
      "- PCLN: No data found for this date range, symbol may be delisted\n",
      "PCLN 0 False\n",
      "PWR 3745 False\n",
      "- RTN: No data found, symbol may be delisted\n",
      "RTN 0 False\n",
      "RSG 3649 False\n",
      "RHI 5291 True\n"
     ]
    },
    {
     "name": "stderr",
     "output_type": "stream",
     "text": [
      "/tmp/ipykernel_2253557/4176462810.py:31: PerformanceWarning: DataFrame is highly fragmented.  This is usually the result of calling `frame.insert` many times, which has poor performance.  Consider joining all columns at once using pd.concat(axis=1) instead. To get a de-fragmented frame, use `newframe = frame.copy()`\n",
      "  CompaniesDF[sym] = StockData\n"
     ]
    },
    {
     "name": "stdout",
     "output_type": "stream",
     "text": [
      "ROK 5291 True\n"
     ]
    },
    {
     "name": "stderr",
     "output_type": "stream",
     "text": [
      "/tmp/ipykernel_2253557/4176462810.py:31: PerformanceWarning: DataFrame is highly fragmented.  This is usually the result of calling `frame.insert` many times, which has poor performance.  Consider joining all columns at once using pd.concat(axis=1) instead. To get a de-fragmented frame, use `newframe = frame.copy()`\n",
      "  CompaniesDF[sym] = StockData\n"
     ]
    },
    {
     "name": "stdout",
     "output_type": "stream",
     "text": [
      "COL 121 False\n",
      "ROP 5261 False\n",
      "R 5292 True\n"
     ]
    },
    {
     "name": "stderr",
     "output_type": "stream",
     "text": [
      "/tmp/ipykernel_2253557/4176462810.py:41: PerformanceWarning: DataFrame is highly fragmented.  This is usually the result of calling `frame.insert` many times, which has poor performance.  Consider joining all columns at once using pd.concat(axis=1) instead. To get a de-fragmented frame, use `newframe = frame.copy()`\n",
      "  CompaniesDF[sym] = StockData\n"
     ]
    },
    {
     "name": "stdout",
     "output_type": "stream",
     "text": [
      "LUV 5292 True\n"
     ]
    },
    {
     "name": "stderr",
     "output_type": "stream",
     "text": [
      "/tmp/ipykernel_2253557/4176462810.py:41: PerformanceWarning: DataFrame is highly fragmented.  This is usually the result of calling `frame.insert` many times, which has poor performance.  Consider joining all columns at once using pd.concat(axis=1) instead. To get a de-fragmented frame, use `newframe = frame.copy()`\n",
      "  CompaniesDF[sym] = StockData\n"
     ]
    },
    {
     "name": "stdout",
     "output_type": "stream",
     "text": [
      "SRCL 4116 False\n",
      "TXT 5292 True\n"
     ]
    },
    {
     "name": "stderr",
     "output_type": "stream",
     "text": [
      "/tmp/ipykernel_2253557/4176462810.py:41: PerformanceWarning: DataFrame is highly fragmented.  This is usually the result of calling `frame.insert` many times, which has poor performance.  Consider joining all columns at once using pd.concat(axis=1) instead. To get a de-fragmented frame, use `newframe = frame.copy()`\n",
      "  CompaniesDF[sym] = StockData\n"
     ]
    },
    {
     "name": "stdout",
     "output_type": "stream",
     "text": [
      "- TYC: No data found for this date range, symbol may be delisted\n",
      "TYC 0 False\n",
      "UNP 5291 True\n"
     ]
    },
    {
     "name": "stderr",
     "output_type": "stream",
     "text": [
      "/tmp/ipykernel_2253557/4176462810.py:31: PerformanceWarning: DataFrame is highly fragmented.  This is usually the result of calling `frame.insert` many times, which has poor performance.  Consider joining all columns at once using pd.concat(axis=1) instead. To get a de-fragmented frame, use `newframe = frame.copy()`\n",
      "  CompaniesDF[sym] = StockData\n"
     ]
    },
    {
     "name": "stdout",
     "output_type": "stream",
     "text": [
      "UPS 3305 False\n",
      "- UTX: No data found, symbol may be delisted\n",
      "UTX 0 False\n",
      "WM 5291 True\n"
     ]
    },
    {
     "name": "stderr",
     "output_type": "stream",
     "text": [
      "/tmp/ipykernel_2253557/4176462810.py:31: PerformanceWarning: DataFrame is highly fragmented.  This is usually the result of calling `frame.insert` many times, which has poor performance.  Consider joining all columns at once using pd.concat(axis=1) instead. To get a de-fragmented frame, use `newframe = frame.copy()`\n",
      "  CompaniesDF[sym] = StockData\n"
     ]
    },
    {
     "name": "stdout",
     "output_type": "stream",
     "text": [
      "XYL 305 False\n",
      "Health Care\n",
      "52\n",
      "ABT 5291 True\n"
     ]
    },
    {
     "name": "stderr",
     "output_type": "stream",
     "text": [
      "/tmp/ipykernel_2253557/4176462810.py:31: PerformanceWarning: DataFrame is highly fragmented.  This is usually the result of calling `frame.insert` many times, which has poor performance.  Consider joining all columns at once using pd.concat(axis=1) instead. To get a de-fragmented frame, use `newframe = frame.copy()`\n",
      "  CompaniesDF[sym] = StockData\n"
     ]
    },
    {
     "name": "stdout",
     "output_type": "stream",
     "text": [
      "AET 4291 False\n",
      "A 3299 False\n",
      "- ALXN: No data found, symbol may be delisted\n",
      "ALXN 0 False\n",
      "- AGN: No data found, symbol may be delisted\n",
      "AGN 0 False\n",
      "ABC 4468 False\n",
      "AMGN 5291 True\n"
     ]
    },
    {
     "name": "stderr",
     "output_type": "stream",
     "text": [
      "/tmp/ipykernel_2253557/4176462810.py:31: PerformanceWarning: DataFrame is highly fragmented.  This is usually the result of calling `frame.insert` many times, which has poor performance.  Consider joining all columns at once using pd.concat(axis=1) instead. To get a de-fragmented frame, use `newframe = frame.copy()`\n",
      "  CompaniesDF[sym] = StockData\n"
     ]
    },
    {
     "name": "stdout",
     "output_type": "stream",
     "text": [
      "- BCR: No data found for this date range, symbol may be delisted\n",
      "BCR 0 False\n",
      "BAX 5291 True\n"
     ]
    },
    {
     "name": "stderr",
     "output_type": "stream",
     "text": [
      "/tmp/ipykernel_2253557/4176462810.py:31: PerformanceWarning: DataFrame is highly fragmented.  This is usually the result of calling `frame.insert` many times, which has poor performance.  Consider joining all columns at once using pd.concat(axis=1) instead. To get a de-fragmented frame, use `newframe = frame.copy()`\n",
      "  CompaniesDF[sym] = StockData\n"
     ]
    },
    {
     "name": "stdout",
     "output_type": "stream",
     "text": [
      "BDX 5291 True\n"
     ]
    },
    {
     "name": "stderr",
     "output_type": "stream",
     "text": [
      "/tmp/ipykernel_2253557/4176462810.py:31: PerformanceWarning: DataFrame is highly fragmented.  This is usually the result of calling `frame.insert` many times, which has poor performance.  Consider joining all columns at once using pd.concat(axis=1) instead. To get a de-fragmented frame, use `newframe = frame.copy()`\n",
      "  CompaniesDF[sym] = StockData\n"
     ]
    },
    {
     "name": "stdout",
     "output_type": "stream",
     "text": [
      "BIIB 5291 True\n"
     ]
    },
    {
     "name": "stderr",
     "output_type": "stream",
     "text": [
      "/tmp/ipykernel_2253557/4176462810.py:31: PerformanceWarning: DataFrame is highly fragmented.  This is usually the result of calling `frame.insert` many times, which has poor performance.  Consider joining all columns at once using pd.concat(axis=1) instead. To get a de-fragmented frame, use `newframe = frame.copy()`\n",
      "  CompaniesDF[sym] = StockData\n"
     ]
    },
    {
     "name": "stdout",
     "output_type": "stream",
     "text": [
      "BSX 5195 False\n",
      "BMY 5291 True\n"
     ]
    },
    {
     "name": "stderr",
     "output_type": "stream",
     "text": [
      "/tmp/ipykernel_2253557/4176462810.py:31: PerformanceWarning: DataFrame is highly fragmented.  This is usually the result of calling `frame.insert` many times, which has poor performance.  Consider joining all columns at once using pd.concat(axis=1) instead. To get a de-fragmented frame, use `newframe = frame.copy()`\n",
      "  CompaniesDF[sym] = StockData\n"
     ]
    },
    {
     "name": "stdout",
     "output_type": "stream",
     "text": [
      "CAH 5292 True\n"
     ]
    },
    {
     "name": "stderr",
     "output_type": "stream",
     "text": [
      "/tmp/ipykernel_2253557/4176462810.py:41: PerformanceWarning: DataFrame is highly fragmented.  This is usually the result of calling `frame.insert` many times, which has poor performance.  Consider joining all columns at once using pd.concat(axis=1) instead. To get a de-fragmented frame, use `newframe = frame.copy()`\n",
      "  CompaniesDF[sym] = StockData\n"
     ]
    },
    {
     "name": "stdout",
     "output_type": "stream",
     "text": [
      "- CFN: No data found for this date range, symbol may be delisted\n",
      "CFN 0 False\n",
      "- CELG: No data found, symbol may be delisted\n",
      "CELG 0 False\n",
      "CERN 5291 True\n"
     ]
    },
    {
     "name": "stderr",
     "output_type": "stream",
     "text": [
      "/tmp/ipykernel_2253557/4176462810.py:31: PerformanceWarning: DataFrame is highly fragmented.  This is usually the result of calling `frame.insert` many times, which has poor performance.  Consider joining all columns at once using pd.concat(axis=1) instead. To get a de-fragmented frame, use `newframe = frame.copy()`\n",
      "  CompaniesDF[sym] = StockData\n"
     ]
    },
    {
     "name": "stdout",
     "output_type": "stream",
     "text": [
      "CI 5291 True\n"
     ]
    },
    {
     "name": "stderr",
     "output_type": "stream",
     "text": [
      "/tmp/ipykernel_2253557/4176462810.py:31: PerformanceWarning: DataFrame is highly fragmented.  This is usually the result of calling `frame.insert` many times, which has poor performance.  Consider joining all columns at once using pd.concat(axis=1) instead. To get a de-fragmented frame, use `newframe = frame.copy()`\n",
      "  CompaniesDF[sym] = StockData\n"
     ]
    },
    {
     "name": "stdout",
     "output_type": "stream",
     "text": [
      "- CVH: Data doesn't exist for startDate = 694306800, endDate = 1356994800\n",
      "CVH 0 False\n",
      "- COV: No data found for this date range, symbol may be delisted\n",
      "COV 0 False\n",
      "DVA 4322 False\n",
      "XRAY 5292 True\n"
     ]
    },
    {
     "name": "stderr",
     "output_type": "stream",
     "text": [
      "/tmp/ipykernel_2253557/4176462810.py:41: PerformanceWarning: DataFrame is highly fragmented.  This is usually the result of calling `frame.insert` many times, which has poor performance.  Consider joining all columns at once using pd.concat(axis=1) instead. To get a de-fragmented frame, use `newframe = frame.copy()`\n",
      "  CompaniesDF[sym] = StockData\n"
     ]
    },
    {
     "name": "stdout",
     "output_type": "stream",
     "text": [
      "EW 3211 False\n",
      "ESRX 5172 False\n",
      "- FRX: No data found, symbol may be delisted\n",
      "FRX 0 False\n",
      "GILD 5277 True\n",
      "- HSP: No data found for this date range, symbol may be delisted\n",
      "HSP 0 False\n"
     ]
    },
    {
     "name": "stderr",
     "output_type": "stream",
     "text": [
      "/tmp/ipykernel_2253557/4176462810.py:41: PerformanceWarning: DataFrame is highly fragmented.  This is usually the result of calling `frame.insert` many times, which has poor performance.  Consider joining all columns at once using pd.concat(axis=1) instead. To get a de-fragmented frame, use `newframe = frame.copy()`\n",
      "  CompaniesDF[sym] = StockData\n"
     ]
    },
    {
     "name": "stdout",
     "output_type": "stream",
     "text": [
      "HUM 5291 True\n"
     ]
    },
    {
     "name": "stderr",
     "output_type": "stream",
     "text": [
      "/tmp/ipykernel_2253557/4176462810.py:31: PerformanceWarning: DataFrame is highly fragmented.  This is usually the result of calling `frame.insert` many times, which has poor performance.  Consider joining all columns at once using pd.concat(axis=1) instead. To get a de-fragmented frame, use `newframe = frame.copy()`\n",
      "  CompaniesDF[sym] = StockData\n"
     ]
    },
    {
     "name": "stdout",
     "output_type": "stream",
     "text": [
      "ISRG 3154 False\n",
      "JNJ 5291 True\n"
     ]
    },
    {
     "name": "stderr",
     "output_type": "stream",
     "text": [
      "/tmp/ipykernel_2253557/4176462810.py:31: PerformanceWarning: DataFrame is highly fragmented.  This is usually the result of calling `frame.insert` many times, which has poor performance.  Consider joining all columns at once using pd.concat(axis=1) instead. To get a de-fragmented frame, use `newframe = frame.copy()`\n",
      "  CompaniesDF[sym] = StockData\n"
     ]
    },
    {
     "name": "stdout",
     "output_type": "stream",
     "text": [
      "LH 5291 True\n",
      "- LIFE: Data doesn't exist for startDate = 694306800, endDate = 1356994800\n",
      "LIFE 0 False\n"
     ]
    },
    {
     "name": "stderr",
     "output_type": "stream",
     "text": [
      "/tmp/ipykernel_2253557/4176462810.py:31: PerformanceWarning: DataFrame is highly fragmented.  This is usually the result of calling `frame.insert` many times, which has poor performance.  Consider joining all columns at once using pd.concat(axis=1) instead. To get a de-fragmented frame, use `newframe = frame.copy()`\n",
      "  CompaniesDF[sym] = StockData\n"
     ]
    },
    {
     "name": "stdout",
     "output_type": "stream",
     "text": [
      "LLY 5291 True\n"
     ]
    },
    {
     "name": "stderr",
     "output_type": "stream",
     "text": [
      "/tmp/ipykernel_2253557/4176462810.py:31: PerformanceWarning: DataFrame is highly fragmented.  This is usually the result of calling `frame.insert` many times, which has poor performance.  Consider joining all columns at once using pd.concat(axis=1) instead. To get a de-fragmented frame, use `newframe = frame.copy()`\n",
      "  CompaniesDF[sym] = StockData\n"
     ]
    },
    {
     "name": "stdout",
     "output_type": "stream",
     "text": [
      "MCK 4567 False\n",
      "MDT 5291 True\n"
     ]
    },
    {
     "name": "stderr",
     "output_type": "stream",
     "text": [
      "/tmp/ipykernel_2253557/4176462810.py:31: PerformanceWarning: DataFrame is highly fragmented.  This is usually the result of calling `frame.insert` many times, which has poor performance.  Consider joining all columns at once using pd.concat(axis=1) instead. To get a de-fragmented frame, use `newframe = frame.copy()`\n",
      "  CompaniesDF[sym] = StockData\n"
     ]
    },
    {
     "name": "stdout",
     "output_type": "stream",
     "text": [
      "MRK 5291 True\n",
      "- MYL: No data found, symbol may be delisted\n",
      "MYL 0 False\n"
     ]
    },
    {
     "name": "stderr",
     "output_type": "stream",
     "text": [
      "/tmp/ipykernel_2253557/4176462810.py:31: PerformanceWarning: DataFrame is highly fragmented.  This is usually the result of calling `frame.insert` many times, which has poor performance.  Consider joining all columns at once using pd.concat(axis=1) instead. To get a de-fragmented frame, use `newframe = frame.copy()`\n",
      "  CompaniesDF[sym] = StockData\n"
     ]
    },
    {
     "name": "stdout",
     "output_type": "stream",
     "text": [
      "PDCO 5082 False\n",
      "PKI 5291 True\n"
     ]
    },
    {
     "name": "stderr",
     "output_type": "stream",
     "text": [
      "/tmp/ipykernel_2253557/4176462810.py:31: PerformanceWarning: DataFrame is highly fragmented.  This is usually the result of calling `frame.insert` many times, which has poor performance.  Consider joining all columns at once using pd.concat(axis=1) instead. To get a de-fragmented frame, use `newframe = frame.copy()`\n",
      "  CompaniesDF[sym] = StockData\n"
     ]
    },
    {
     "name": "stdout",
     "output_type": "stream",
     "text": [
      "PRGO 5291 True\n"
     ]
    },
    {
     "name": "stderr",
     "output_type": "stream",
     "text": [
      "/tmp/ipykernel_2253557/4176462810.py:31: PerformanceWarning: DataFrame is highly fragmented.  This is usually the result of calling `frame.insert` many times, which has poor performance.  Consider joining all columns at once using pd.concat(axis=1) instead. To get a de-fragmented frame, use `newframe = frame.copy()`\n",
      "  CompaniesDF[sym] = StockData\n"
     ]
    },
    {
     "name": "stdout",
     "output_type": "stream",
     "text": [
      "PFE 5291 True\n"
     ]
    },
    {
     "name": "stderr",
     "output_type": "stream",
     "text": [
      "/tmp/ipykernel_2253557/4176462810.py:31: PerformanceWarning: DataFrame is highly fragmented.  This is usually the result of calling `frame.insert` many times, which has poor performance.  Consider joining all columns at once using pd.concat(axis=1) instead. To get a de-fragmented frame, use `newframe = frame.copy()`\n",
      "  CompaniesDF[sym] = StockData\n"
     ]
    },
    {
     "name": "stdout",
     "output_type": "stream",
     "text": [
      "DGX 4036 False\n",
      "- STJ: No data found for this date range, symbol may be delisted\n",
      "STJ 0 False\n",
      "SYK 5291 True\n"
     ]
    },
    {
     "name": "stderr",
     "output_type": "stream",
     "text": [
      "/tmp/ipykernel_2253557/4176462810.py:31: PerformanceWarning: DataFrame is highly fragmented.  This is usually the result of calling `frame.insert` many times, which has poor performance.  Consider joining all columns at once using pd.concat(axis=1) instead. To get a de-fragmented frame, use `newframe = frame.copy()`\n",
      "  CompaniesDF[sym] = StockData\n"
     ]
    },
    {
     "name": "stdout",
     "output_type": "stream",
     "text": [
      "THC 5291 True\n"
     ]
    },
    {
     "name": "stderr",
     "output_type": "stream",
     "text": [
      "/tmp/ipykernel_2253557/4176462810.py:31: PerformanceWarning: DataFrame is highly fragmented.  This is usually the result of calling `frame.insert` many times, which has poor performance.  Consider joining all columns at once using pd.concat(axis=1) instead. To get a de-fragmented frame, use `newframe = frame.copy()`\n",
      "  CompaniesDF[sym] = StockData\n"
     ]
    },
    {
     "name": "stdout",
     "output_type": "stream",
     "text": [
      "TMO 5291 True\n"
     ]
    },
    {
     "name": "stderr",
     "output_type": "stream",
     "text": [
      "/tmp/ipykernel_2253557/4176462810.py:31: PerformanceWarning: DataFrame is highly fragmented.  This is usually the result of calling `frame.insert` many times, which has poor performance.  Consider joining all columns at once using pd.concat(axis=1) instead. To get a de-fragmented frame, use `newframe = frame.copy()`\n",
      "  CompaniesDF[sym] = StockData\n"
     ]
    },
    {
     "name": "stdout",
     "output_type": "stream",
     "text": [
      "UNH 5291 True\n",
      "- VAR: No data found, symbol may be delisted\n",
      "VAR 0 False\n"
     ]
    },
    {
     "name": "stderr",
     "output_type": "stream",
     "text": [
      "/tmp/ipykernel_2253557/4176462810.py:31: PerformanceWarning: DataFrame is highly fragmented.  This is usually the result of calling `frame.insert` many times, which has poor performance.  Consider joining all columns at once using pd.concat(axis=1) instead. To get a de-fragmented frame, use `newframe = frame.copy()`\n",
      "  CompaniesDF[sym] = StockData\n"
     ]
    },
    {
     "name": "stdout",
     "output_type": "stream",
     "text": [
      "WAT 4309 False\n",
      "WPI 3218 False\n",
      "- WLP: No data found for this date range, symbol may be delisted\n",
      "WLP 0 False\n",
      "- ZMH: No data found for this date range, symbol may be delisted\n",
      "ZMH 0 False\n"
     ]
    }
   ],
   "source": [
    "# Normalizes returns\n",
    "\n",
    "NormRetDF = pd.DataFrame(data = ())\n",
    "\n",
    "\n",
    "for s in sectors:\n",
    "    print(s)\n",
    "    SectorDF = df[df[\"GICS Sector\"] == s]\n",
    "    SectorSymbols = SectorDF['Symbol'].values.tolist()\n",
    "    print(len(SectorDF[\"Symbol\"]))\n",
    "    \n",
    "    #Seclist.append(SectorPrices(s, start, end))\n",
    "    #NormRetDF[s] = SectorNormReturns(s, df,start, end, 13)\n",
    "    NormRetDF[s] = NormSectorReturns(s, df,start, end, 13)\n",
    "\n"
   ]
  },
  {
   "cell_type": "code",
   "execution_count": 115,
   "outputs": [
    {
     "name": "stdout",
     "output_type": "stream",
     "text": [
      "249\n"
     ]
    }
   ],
   "source": [
    "print(NumberOfCompanies)"
   ],
   "metadata": {
    "collapsed": false,
    "pycharm": {
     "name": "#%%\n"
    }
   }
  },
  {
   "cell_type": "code",
   "execution_count": 116,
   "id": "be49148e",
   "metadata": {},
   "outputs": [],
   "source": [
    "NormRetDF.to_csv(\"NormalisedSectorReturns.csv\")"
   ]
  },
  {
   "cell_type": "code",
   "execution_count": 117,
   "outputs": [
    {
     "name": "stdout",
     "output_type": "stream",
     "text": [
      "              Energy  Materials  Financials  Consumer Staples  \\\n",
      "Date                                                            \n",
      "1992-01-02       NaN        NaN         NaN               NaN   \n",
      "1992-01-03       NaN        NaN         NaN               NaN   \n",
      "1992-01-06       NaN        NaN         NaN               NaN   \n",
      "1992-01-07       NaN        NaN         NaN               NaN   \n",
      "1992-01-08       NaN        NaN         NaN               NaN   \n",
      "...              ...        ...         ...               ...   \n",
      "2012-12-24 -0.155057   1.385747    0.915809         -2.050516   \n",
      "2012-12-26 -0.271327   1.354208    0.456098         -3.382103   \n",
      "2012-12-27 -0.509202   0.887343    0.106018         -2.366387   \n",
      "2012-12-28 -1.407916  -0.036272   -0.628374         -3.036650   \n",
      "2012-12-31  0.150999   1.363142    0.372896         -1.091596   \n",
      "\n",
      "            Consumer Discretionary  Utilities  Telecommunications Services  \\\n",
      "Date                                                                         \n",
      "1992-01-02                     NaN        NaN                          NaN   \n",
      "1992-01-03                     NaN        NaN                          NaN   \n",
      "1992-01-06                     NaN        NaN                          NaN   \n",
      "1992-01-07                     NaN        NaN                          NaN   \n",
      "1992-01-08                     NaN        NaN                          NaN   \n",
      "...                            ...        ...                          ...   \n",
      "2012-12-24               -0.468294   0.083789                    -1.569582   \n",
      "2012-12-26               -2.163483  -1.516068                    -1.439234   \n",
      "2012-12-27               -1.208648  -1.576431                    -1.350895   \n",
      "2012-12-28               -2.366320  -2.584174                    -2.470347   \n",
      "2012-12-31                0.339846  -0.540745                    -1.014717   \n",
      "\n",
      "            Information Technology  Industrials  Health Care  \n",
      "Date                                                          \n",
      "1992-01-02                     NaN          NaN          NaN  \n",
      "1992-01-03                     NaN          NaN          NaN  \n",
      "1992-01-06                     NaN          NaN          NaN  \n",
      "1992-01-07                     NaN          NaN          NaN  \n",
      "1992-01-08                     NaN          NaN          NaN  \n",
      "...                            ...          ...          ...  \n",
      "2012-12-24                0.526224     0.836018    -0.456415  \n",
      "2012-12-26               -0.049680     0.458958    -1.302408  \n",
      "2012-12-27               -0.346070     0.259510    -1.603746  \n",
      "2012-12-28               -1.899120    -1.140783    -3.201348  \n",
      "2012-12-31                0.110539     1.004850    -0.892309  \n",
      "\n",
      "[5291 rows x 10 columns]\n"
     ]
    }
   ],
   "source": [
    "print(NormRetDF)"
   ],
   "metadata": {
    "collapsed": false,
    "pycharm": {
     "name": "#%%\n"
    }
   }
  },
  {
   "cell_type": "code",
   "execution_count": 118,
   "id": "743184af",
   "metadata": {},
   "outputs": [
    {
     "name": "stdout",
     "output_type": "stream",
     "text": [
      "              Energy  Materials  Financials  Consumer Staples  \\\n",
      "Date                                                            \n",
      "1992-01-02       NaN        NaN         NaN               NaN   \n",
      "1992-01-03       NaN        NaN         NaN               NaN   \n",
      "1992-01-06       NaN        NaN         NaN               NaN   \n",
      "1992-01-07       NaN        NaN         NaN               NaN   \n",
      "1992-01-08       NaN        NaN         NaN               NaN   \n",
      "...              ...        ...         ...               ...   \n",
      "2012-12-24 -0.155057   1.385747    0.915809         -2.050516   \n",
      "2012-12-26 -0.271327   1.354208    0.456098         -3.382103   \n",
      "2012-12-27 -0.509202   0.887343    0.106018         -2.366387   \n",
      "2012-12-28 -1.407916  -0.036272   -0.628374         -3.036650   \n",
      "2012-12-31  0.150999   1.363142    0.372896         -1.091596   \n",
      "\n",
      "            Consumer Discretionary  Utilities  Telecommunications Services  \\\n",
      "Date                                                                         \n",
      "1992-01-02                     NaN        NaN                          NaN   \n",
      "1992-01-03                     NaN        NaN                          NaN   \n",
      "1992-01-06                     NaN        NaN                          NaN   \n",
      "1992-01-07                     NaN        NaN                          NaN   \n",
      "1992-01-08                     NaN        NaN                          NaN   \n",
      "...                            ...        ...                          ...   \n",
      "2012-12-24               -0.468294   0.083789                    -1.569582   \n",
      "2012-12-26               -2.163483  -1.516068                    -1.439234   \n",
      "2012-12-27               -1.208648  -1.576431                    -1.350895   \n",
      "2012-12-28               -2.366320  -2.584174                    -2.470347   \n",
      "2012-12-31                0.339846  -0.540745                    -1.014717   \n",
      "\n",
      "            Information Technology  Industrials  Health Care  \n",
      "Date                                                          \n",
      "1992-01-02                     NaN          NaN          NaN  \n",
      "1992-01-03                     NaN          NaN          NaN  \n",
      "1992-01-06                     NaN          NaN          NaN  \n",
      "1992-01-07                     NaN          NaN          NaN  \n",
      "1992-01-08                     NaN          NaN          NaN  \n",
      "...                            ...          ...          ...  \n",
      "2012-12-24                0.526224     0.836018    -0.456415  \n",
      "2012-12-26               -0.049680     0.458958    -1.302408  \n",
      "2012-12-27               -0.346070     0.259510    -1.603746  \n",
      "2012-12-28               -1.899120    -1.140783    -3.201348  \n",
      "2012-12-31                0.110539     1.004850    -0.892309  \n",
      "\n",
      "[5291 rows x 10 columns]\n"
     ]
    }
   ],
   "source": [
    "print(NormRetDF)"
   ]
  },
  {
   "cell_type": "code",
   "execution_count": 119,
   "id": "764a9182",
   "metadata": {},
   "outputs": [
    {
     "data": {
      "text/plain": "<Figure size 432x288 with 1 Axes>",
      "image/png": "[encoded data removed]"
     },
     "metadata": {},
     "output_type": "display_data"
    }
   ],
   "source": [
    "import seaborn as sns\n",
    "sns.set()\n",
    "\n",
    "for i in NormRetDF.columns:\n",
    "    plt.plot(NormRetDF[i], label=i, alpha = 0.85)\n",
    "\n",
    "plt.legend(bbox_to_anchor=(1, 1))\n",
    "plt.title(\"Normalised Returns of the Sectors\")\n",
    "plt.xlabel(\"Time\")\n",
    "plt.ylabel(\"Normalised Returns\")\n",
    "plt.savefig(\"SectorReturns.pdf\",bbox_inches='tight',dpi=300)\n",
    "plt.show()"
   ]
  },
  {
   "cell_type": "code",
   "execution_count": 124,
   "outputs": [
    {
     "name": "stdout",
     "output_type": "stream",
     "text": [
      "(5291, 249)\n"
     ]
    },
    {
     "data": {
      "text/plain": "                 APA       CVX       COP       DVN       EOG       XOM  \\\nDate                                                                     \n1992-01-02  4.819200  5.664615  3.557870  3.089731  1.841979  5.622416   \n1992-01-03  4.780338  5.716020  3.557870  3.178011  1.829939  5.634130   \n1992-01-06  4.702604  5.633774  3.466644  3.178011  1.793822  5.587276   \n1992-01-07  4.469420  5.520687  3.375417  3.089731  1.649352  5.552134   \n1992-01-08  4.391690  5.489847  3.338926  3.089731  1.637314  5.481856   \n\n                 HAL        HP        HES       MRO  ...       LLY       MDT  \\\nDate                                                 ...                       \n1992-01-02  4.350014  1.958523  11.008553  3.224646  ...  8.770188  3.898283   \n1992-01-03  4.243047  1.934343  11.178351  3.241267  ...  8.770188  4.013558   \n1992-01-06  3.993456  1.922253  11.263249  3.041804  ...  8.731443  4.071053   \n1992-01-07  3.833003  1.910164  10.584059  2.991939  ...  8.821856  3.955638   \n1992-01-08  3.797348  1.922253  10.046366  2.875586  ...  8.976855  3.861206   \n\n                 MRK       PKI       PRGO       PFE       SYK        THC  \\\nDate                                                                       \n1992-01-02  9.758222  7.716903  12.030217  2.703786  4.854735  40.423100   \n1992-01-03  9.904853  7.776725  12.768913  2.691718  4.803633  39.801216   \n1992-01-06  9.809541  7.736849  13.085498  2.671599  4.905839  42.599728   \n1992-01-07  9.780216  7.796669  12.663390  2.719882  4.829185  43.221622   \n1992-01-08  9.780216  7.816609  12.663390  2.707810  4.803633  42.288784   \n\n                  TMO       UNH  \nDate                             \n1992-01-02  11.259748  1.899478  \n1992-01-03  11.168457  2.044846  \n1992-01-06  11.229319  2.073921  \n1992-01-07  11.168457  2.054538  \n1992-01-08  11.320614  2.057768  \n\n[5 rows x 249 columns]",
      "text/html": "<div>\n<style scoped>\n    .dataframe tbody tr th:only-of-type {\n        vertical-align: middle;\n    }\n\n    .dataframe tbody tr th {\n        vertical-align: top;\n    }\n\n    .dataframe thead th {\n        text-align: right;\n    }\n</style>\n<table border=\"1\" class=\"dataframe\">\n  <thead>\n    <tr style=\"text-align: right;\">\n      <th></th>\n      <th>APA</th>\n      <th>CVX</th>\n      <th>COP</th>\n      <th>DVN</th>\n      <th>EOG</th>\n      <th>XOM</th>\n      <th>HAL</th>\n      <th>HP</th>\n      <th>HES</th>\n      <th>MRO</th>\n      <th>...</th>\n      <th>LLY</th>\n      <th>MDT</th>\n      <th>MRK</th>\n      <th>PKI</th>\n      <th>PRGO</th>\n      <th>PFE</th>\n      <th>SYK</th>\n      <th>THC</th>\n      <th>TMO</th>\n      <th>UNH</th>\n    </tr>\n    <tr>\n      <th>Date</th>\n      <th></th>\n      <th></th>\n      <th></th>\n      <th></th>\n      <th></th>\n      <th></th>\n      <th></th>\n      <th></th>\n      <th></th>\n      <th></th>\n      <th></th>\n      <th></th>\n      <th></th>\n      <th></th>\n      <th></th>\n      <th></th>\n      <th></th>\n      <th></th>\n      <th></th>\n      <th></th>\n      <th></th>\n    </tr>\n  </thead>\n  <tbody>\n    <tr>\n      <th>1992-01-02</th>\n      <td>4.819200</td>\n      <td>5.664615</td>\n      <td>3.557870</td>\n      <td>3.089731</td>\n      <td>1.841979</td>\n      <td>5.622416</td>\n      <td>4.350014</td>\n      <td>1.958523</td>\n      <td>11.008553</td>\n      <td>3.224646</td>\n      <td>...</td>\n      <td>8.770188</td>\n      <td>3.898283</td>\n      <td>9.758222</td>\n      <td>7.716903</td>\n      <td>12.030217</td>\n      <td>2.703786</td>\n      <td>4.854735</td>\n      <td>40.423100</td>\n      <td>11.259748</td>\n      <td>1.899478</td>\n    </tr>\n    <tr>\n      <th>1992-01-03</th>\n      <td>4.780338</td>\n      <td>5.716020</td>\n      <td>3.557870</td>\n      <td>3.178011</td>\n      <td>1.829939</td>\n      <td>5.634130</td>\n      <td>4.243047</td>\n      <td>1.934343</td>\n      <td>11.178351</td>\n      <td>3.241267</td>\n      <td>...</td>\n      <td>8.770188</td>\n      <td>4.013558</td>\n      <td>9.904853</td>\n      <td>7.776725</td>\n      <td>12.768913</td>\n      <td>2.691718</td>\n      <td>4.803633</td>\n      <td>39.801216</td>\n      <td>11.168457</td>\n      <td>2.044846</td>\n    </tr>\n    <tr>\n      <th>1992-01-06</th>\n      <td>4.702604</td>\n      <td>5.633774</td>\n      <td>3.466644</td>\n      <td>3.178011</td>\n      <td>1.793822</td>\n      <td>5.587276</td>\n      <td>3.993456</td>\n      <td>1.922253</td>\n      <td>11.263249</td>\n      <td>3.041804</td>\n      <td>...</td>\n      <td>8.731443</td>\n      <td>4.071053</td>\n      <td>9.809541</td>\n      <td>7.736849</td>\n      <td>13.085498</td>\n      <td>2.671599</td>\n      <td>4.905839</td>\n      <td>42.599728</td>\n      <td>11.229319</td>\n      <td>2.073921</td>\n    </tr>\n    <tr>\n      <th>1992-01-07</th>\n      <td>4.469420</td>\n      <td>5.520687</td>\n      <td>3.375417</td>\n      <td>3.089731</td>\n      <td>1.649352</td>\n      <td>5.552134</td>\n      <td>3.833003</td>\n      <td>1.910164</td>\n      <td>10.584059</td>\n      <td>2.991939</td>\n      <td>...</td>\n      <td>8.821856</td>\n      <td>3.955638</td>\n      <td>9.780216</td>\n      <td>7.796669</td>\n      <td>12.663390</td>\n      <td>2.719882</td>\n      <td>4.829185</td>\n      <td>43.221622</td>\n      <td>11.168457</td>\n      <td>2.054538</td>\n    </tr>\n    <tr>\n      <th>1992-01-08</th>\n      <td>4.391690</td>\n      <td>5.489847</td>\n      <td>3.338926</td>\n      <td>3.089731</td>\n      <td>1.637314</td>\n      <td>5.481856</td>\n      <td>3.797348</td>\n      <td>1.922253</td>\n      <td>10.046366</td>\n      <td>2.875586</td>\n      <td>...</td>\n      <td>8.976855</td>\n      <td>3.861206</td>\n      <td>9.780216</td>\n      <td>7.816609</td>\n      <td>12.663390</td>\n      <td>2.707810</td>\n      <td>4.803633</td>\n      <td>42.288784</td>\n      <td>11.320614</td>\n      <td>2.057768</td>\n    </tr>\n  </tbody>\n</table>\n<p>5 rows × 249 columns</p>\n</div>"
     },
     "execution_count": 124,
     "metadata": {},
     "output_type": "execute_result"
    }
   ],
   "source": [
    "print(CompaniesDF.shape)\n",
    "CompaniesDF.to_csv(\"CompaniesStocks.csv\")\n",
    "CompaniesDF.head()"
   ],
   "metadata": {
    "collapsed": false,
    "pycharm": {
     "name": "#%%\n"
    }
   }
  },
  {
   "cell_type": "markdown",
   "id": "4a98d642",
   "metadata": {},
   "source": [
    "## Some Data Analysis"
   ]
  },
  {
   "cell_type": "code",
   "execution_count": 121,
   "id": "1a5b4dda",
   "metadata": {
    "pycharm": {
     "name": "#%%\n"
    }
   },
   "outputs": [
    {
     "name": "stdout",
     "output_type": "stream",
     "text": [
      "0.3349682234128487 Energy\n",
      "0.5123874856871958 Materials\n",
      "0.5377318823096033 Financials\n",
      "0.4831283959462371 Consumer Staples\n",
      "0.5700176986220085 Consumer Discretionary\n",
      "0.4128041004622075 Utilities\n",
      "0.38458050329143334 Telecommunications Services\n",
      "0.4808707254940902 Information Technology\n",
      "0.5899238562012322 Industrials\n",
      "0.4993916073382721 Health Care\n"
     ]
    },
    {
     "data": {
      "text/plain": "                               Energy  Materials  Financials  \\\nEnergy                       1.000000   0.380789    0.239649   \nMaterials                    0.380789   1.000000    0.490684   \nFinancials                   0.239649   0.490684    1.000000   \nConsumer Staples             0.165286   0.410512    0.513687   \nConsumer Discretionary       0.309823   0.607876    0.627324   \nUtilities                    0.277455   0.323603    0.422233   \nTelecommunications Services  0.118615   0.260044    0.409166   \nInformation Technology       0.293440   0.511249    0.471948   \nIndustrials                  0.337853   0.691211    0.672346   \nHealth Care                  0.226773   0.447907    0.530281   \n\n                             Consumer Staples  Consumer Discretionary  \\\nEnergy                               0.165286                0.309823   \nMaterials                            0.410512                0.607876   \nFinancials                           0.513687                0.627324   \nConsumer Staples                     1.000000                0.560971   \nConsumer Discretionary               0.560971                1.000000   \nUtilities                            0.393962                0.342023   \nTelecommunications Services          0.376135                0.336145   \nInformation Technology               0.328250                0.604138   \nIndustrials                          0.526067                0.747458   \nHealth Care                          0.556413                0.564418   \n\n                             Utilities  Telecommunications Services  \\\nEnergy                        0.277455                     0.118615   \nMaterials                     0.323603                     0.260044   \nFinancials                    0.422233                     0.409166   \nConsumer Staples              0.393962                     0.376135   \nConsumer Discretionary        0.342023                     0.336145   \nUtilities                     1.000000                     0.399281   \nTelecommunications Services   0.399281                     1.000000   \nInformation Technology        0.245815                     0.268460   \nIndustrials                   0.375781                     0.365919   \nHealth Care                   0.347888                     0.312039   \n\n                             Information Technology  Industrials  Health Care  \nEnergy                                     0.293440     0.337853     0.226773  \nMaterials                                  0.511249     0.691211     0.447907  \nFinancials                                 0.471948     0.672346     0.530281  \nConsumer Staples                           0.328250     0.526067     0.556413  \nConsumer Discretionary                     0.604138     0.747458     0.564418  \nUtilities                                  0.245815     0.375781     0.347888  \nTelecommunications Services                0.268460     0.365919     0.312039  \nInformation Technology                     1.000000     0.629909     0.455500  \nIndustrials                                0.629909     1.000000     0.552696  \nHealth Care                                0.455500     0.552696     1.000000  ",
      "text/html": "<div>\n<style scoped>\n    .dataframe tbody tr th:only-of-type {\n        vertical-align: middle;\n    }\n\n    .dataframe tbody tr th {\n        vertical-align: top;\n    }\n\n    .dataframe thead th {\n        text-align: right;\n    }\n</style>\n<table border=\"1\" class=\"dataframe\">\n  <thead>\n    <tr style=\"text-align: right;\">\n      <th></th>\n      <th>Energy</th>\n      <th>Materials</th>\n      <th>Financials</th>\n      <th>Consumer Staples</th>\n      <th>Consumer Discretionary</th>\n      <th>Utilities</th>\n      <th>Telecommunications Services</th>\n      <th>Information Technology</th>\n      <th>Industrials</th>\n      <th>Health Care</th>\n    </tr>\n  </thead>\n  <tbody>\n    <tr>\n      <th>Energy</th>\n      <td>1.000000</td>\n      <td>0.380789</td>\n      <td>0.239649</td>\n      <td>0.165286</td>\n      <td>0.309823</td>\n      <td>0.277455</td>\n      <td>0.118615</td>\n      <td>0.293440</td>\n      <td>0.337853</td>\n      <td>0.226773</td>\n    </tr>\n    <tr>\n      <th>Materials</th>\n      <td>0.380789</td>\n      <td>1.000000</td>\n      <td>0.490684</td>\n      <td>0.410512</td>\n      <td>0.607876</td>\n      <td>0.323603</td>\n      <td>0.260044</td>\n      <td>0.511249</td>\n      <td>0.691211</td>\n      <td>0.447907</td>\n    </tr>\n    <tr>\n      <th>Financials</th>\n      <td>0.239649</td>\n      <td>0.490684</td>\n      <td>1.000000</td>\n      <td>0.513687</td>\n      <td>0.627324</td>\n      <td>0.422233</td>\n      <td>0.409166</td>\n      <td>0.471948</td>\n      <td>0.672346</td>\n      <td>0.530281</td>\n    </tr>\n    <tr>\n      <th>Consumer Staples</th>\n      <td>0.165286</td>\n      <td>0.410512</td>\n      <td>0.513687</td>\n      <td>1.000000</td>\n      <td>0.560971</td>\n      <td>0.393962</td>\n      <td>0.376135</td>\n      <td>0.328250</td>\n      <td>0.526067</td>\n      <td>0.556413</td>\n    </tr>\n    <tr>\n      <th>Consumer Discretionary</th>\n      <td>0.309823</td>\n      <td>0.607876</td>\n      <td>0.627324</td>\n      <td>0.560971</td>\n      <td>1.000000</td>\n      <td>0.342023</td>\n      <td>0.336145</td>\n      <td>0.604138</td>\n      <td>0.747458</td>\n      <td>0.564418</td>\n    </tr>\n    <tr>\n      <th>Utilities</th>\n      <td>0.277455</td>\n      <td>0.323603</td>\n      <td>0.422233</td>\n      <td>0.393962</td>\n      <td>0.342023</td>\n      <td>1.000000</td>\n      <td>0.399281</td>\n      <td>0.245815</td>\n      <td>0.375781</td>\n      <td>0.347888</td>\n    </tr>\n    <tr>\n      <th>Telecommunications Services</th>\n      <td>0.118615</td>\n      <td>0.260044</td>\n      <td>0.409166</td>\n      <td>0.376135</td>\n      <td>0.336145</td>\n      <td>0.399281</td>\n      <td>1.000000</td>\n      <td>0.268460</td>\n      <td>0.365919</td>\n      <td>0.312039</td>\n    </tr>\n    <tr>\n      <th>Information Technology</th>\n      <td>0.293440</td>\n      <td>0.511249</td>\n      <td>0.471948</td>\n      <td>0.328250</td>\n      <td>0.604138</td>\n      <td>0.245815</td>\n      <td>0.268460</td>\n      <td>1.000000</td>\n      <td>0.629909</td>\n      <td>0.455500</td>\n    </tr>\n    <tr>\n      <th>Industrials</th>\n      <td>0.337853</td>\n      <td>0.691211</td>\n      <td>0.672346</td>\n      <td>0.526067</td>\n      <td>0.747458</td>\n      <td>0.375781</td>\n      <td>0.365919</td>\n      <td>0.629909</td>\n      <td>1.000000</td>\n      <td>0.552696</td>\n    </tr>\n    <tr>\n      <th>Health Care</th>\n      <td>0.226773</td>\n      <td>0.447907</td>\n      <td>0.530281</td>\n      <td>0.556413</td>\n      <td>0.564418</td>\n      <td>0.347888</td>\n      <td>0.312039</td>\n      <td>0.455500</td>\n      <td>0.552696</td>\n      <td>1.000000</td>\n    </tr>\n  </tbody>\n</table>\n</div>"
     },
     "execution_count": 121,
     "metadata": {},
     "output_type": "execute_result"
    }
   ],
   "source": [
    "Corr = NormRetDF.corr()\n",
    "\n",
    "for i in Corr.columns:\n",
    "    print(np.mean(Corr[i]),i)\n",
    "\n",
    "Corr"
   ]
  },
  {
   "cell_type": "code",
   "execution_count": 122,
   "outputs": [
    {
     "name": "stdout",
     "output_type": "stream",
     "text": [
      "              Energy  Materials  Financials  Consumer Staples  \\\n",
      "Date                                                            \n",
      "2012-12-24 -0.155057   1.385747    0.915809         -2.050516   \n",
      "2012-12-26 -0.271327   1.354208    0.456098         -3.382103   \n",
      "2012-12-27 -0.509202   0.887343    0.106018         -2.366387   \n",
      "2012-12-28 -1.407916  -0.036272   -0.628374         -3.036650   \n",
      "2012-12-31  0.150999   1.363142    0.372896         -1.091596   \n",
      "\n",
      "            Consumer Discretionary  Utilities  Telecommunications Services  \\\n",
      "Date                                                                         \n",
      "2012-12-24               -0.468294   0.083789                    -1.569582   \n",
      "2012-12-26               -2.163483  -1.516068                    -1.439234   \n",
      "2012-12-27               -1.208648  -1.576431                    -1.350895   \n",
      "2012-12-28               -2.366320  -2.584174                    -2.470347   \n",
      "2012-12-31                0.339846  -0.540745                    -1.014717   \n",
      "\n",
      "            Information Technology  Industrials  Health Care  \n",
      "Date                                                          \n",
      "2012-12-24                0.526224     0.836018    -0.456415  \n",
      "2012-12-26               -0.049680     0.458958    -1.302408  \n",
      "2012-12-27               -0.346070     0.259510    -1.603746  \n",
      "2012-12-28               -1.899120    -1.140783    -3.201348  \n",
      "2012-12-31                0.110539     1.004850    -0.892309  \n"
     ]
    }
   ],
   "source": [
    "\n",
    "print(NormRetDF.tail())"
   ],
   "metadata": {
    "collapsed": false,
    "pycharm": {
     "name": "#%%\n"
    }
   }
  },
  {
   "cell_type": "markdown",
   "source": [
    "Energy  Materials  Financials  Consumer Staples  \\\n",
    "Date\n",
    "2012-12-24 -0.155057   1.385743    0.915807         -2.050501\n",
    "2012-12-26 -0.271321   1.354210    0.456094         -3.382087\n",
    "2012-12-27 -0.509202   0.887341    0.106022         -2.366405\n",
    "2012-12-28 -1.407925  -0.036269   -0.628376         -3.036645\n",
    "2012-12-31  0.151004   1.363146    0.372894         -1.091603\n",
    "\n",
    "            Consumer Discretionary  Utilities  Telecommunications Services  \\\n",
    "Date\n",
    "2012-12-24               -0.468296   0.083791                    -1.569627\n",
    "2012-12-26               -2.163484  -1.516077                    -1.439208\n",
    "2012-12-27               -1.208650  -1.576422                    -1.350900\n",
    "2012-12-28               -2.366318  -2.584176                    -2.470365\n",
    "2012-12-31                0.339847  -0.540749                    -1.014720\n",
    "\n",
    "            Information Technology  Industrials  Health Care\n",
    "Date\n",
    "2012-12-24                0.526978     0.836018    -0.457769\n",
    "2012-12-26               -0.048467     0.458958    -1.303236\n",
    "2012-12-27               -0.344796     0.259510    -1.604453\n",
    "2012-12-28               -1.897725    -1.140783    -3.199392\n",
    "2012-12-31                0.110974     1.004850    -0.892310"
   ],
   "metadata": {
    "collapsed": false,
    "pycharm": {
     "name": "#%% md\n"
    }
   }
  }
 ],
 "metadata": {
  "kernelspec": {
   "display_name": "Python 3 (ipykernel)",
   "language": "python",
   "name": "python3"
  },
  "language_info": {
   "codemirror_mode": {
    "name": "ipython",
    "version": 3
   },
   "file_extension": ".py",
   "mimetype": "text/x-python",
   "name": "python",
   "nbconvert_exporter": "python",
   "pygments_lexer": "ipython3",
   "version": "3.7.3"
  }
 },
 "nbformat": 4,
 "nbformat_minor": 5
}