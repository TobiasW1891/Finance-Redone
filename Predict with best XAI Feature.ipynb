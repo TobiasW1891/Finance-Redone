{
 "cells": [
  {
   "cell_type": "code",
   "execution_count": 50,
   "metadata": {
    "collapsed": true
   },
   "outputs": [],
   "source": [
    "import antiCPy\n",
    "import numpy as np\n",
    "import matplotlib.pyplot as plt\n",
    "import warnings\n",
    "warnings.filterwarnings(\"ignore\")\n",
    "from sklearn.cluster import KMeans\n",
    "from sklearn.ensemble import RandomForestClassifier\n",
    "from sklearn.model_selection import train_test_split\n",
    "from imblearn.over_sampling import SMOTE\n",
    "import tensorflow.keras as keras\n",
    "from tensorflow.keras import layers\n",
    "from tensorflow.keras.layers import LeakyReLU\n",
    "from sklearn.preprocessing import LabelEncoder\n",
    "from keras.utils import np_utils\n",
    "import seaborn as sns\n",
    "sns.set()"
   ]
  },
  {
   "cell_type": "code",
   "execution_count": 51,
   "metadata": {
    "pycharm": {
     "name": "#%%\n"
    }
   },
   "outputs": [
    {
     "name": "stdout",
     "output_type": "stream",
     "text": [
      "[[ 0 27]\n",
      " [ 1  8]\n",
      " [ 2 36]\n",
      " [ 3 35]\n",
      " [ 4 12]\n",
      " [ 5 21]\n",
      " [ 6  0]\n",
      " [ 7  1]] [False  True False False False False  True  True False False False False\n",
      " False  True False False False False False False False  True False False\n",
      " False False False False False False False False False False False False\n",
      "  True False  True  True False False False False False]\n",
      "(5251, 8)\n"
     ]
    }
   ],
   "source": [
    "XAI = np.load(\"XAI_Finance.npy\")\n",
    "Names = np.load(\"Names.npy\")\n",
    "CorrMatrices = np.load(\"CorrMatricesTriangular.npy\")\n",
    "LabelNaiveOrdered = np.load(\"LabelNaiveOrdered.npy\")\n",
    "#OptimalXAI = np.load(\"OptimalXAIFeature.npy\")\n",
    "# now something different\n",
    "OptimalXAI = np.load(\"XAI_modes.npy\")\n",
    "MedianLogical = np.load(\"MedianLogical.npy\")\n",
    "print(OptimalXAI, MedianLogical)\n",
    "print(CorrMatrices[:, MedianLogical].shape)"
   ]
  },
  {
   "cell_type": "markdown",
   "metadata": {
    "pycharm": {
     "name": "#%% md\n"
    }
   },
   "source": [
    "### Visualisze the Feature Selection"
   ]
  },
  {
   "cell_type": "code",
   "execution_count": 52,
   "metadata": {
    "pycharm": {
     "name": "#%%\n"
    }
   },
   "outputs": [
    {
     "name": "stdout",
     "output_type": "stream",
     "text": [
      "[False False False False False False False False False False False False\n",
      " False False False False False False False False False False False False\n",
      " False False False False False False False False False False False False\n",
      " False False False False False False False False False]\n",
      "[ True  True False False False False False False  True False False False\n",
      "  True False False False False False False False False  True False False\n",
      " False False False  True False False False False False False False  True\n",
      "  True False False False False False False False False]\n"
     ]
    },
    {
     "data": {
      "text/plain": "<Figure size 432x288 with 1 Axes>",
      "image/png": "[encoded data removed]"
     },
     "metadata": {
      "needs_background": "light"
     },
     "output_type": "display_data"
    }
   ],
   "source": [
    "from matplotlib import ticker\n",
    "\n",
    "\n",
    "def ReverseDiag(Array, ZERO = True):\n",
    "    N = np.sqrt(2*len(Array)+0.25)+0.5\n",
    "    N = int(N)\n",
    "    Original = np.ones(int(N**2.)).reshape(1,-1)\n",
    "\n",
    "    if ZERO:\n",
    "        Original = np.zeros(int(N**2.)).reshape(1,-1)\n",
    "\n",
    "    index = np.triu(np.ones((N,N)),1)\n",
    "    index = index.reshape(1,-1)\n",
    "    index = index.astype(bool)\n",
    "\n",
    "    Original[index] = Array # upper triangle\n",
    "    Original = Original.reshape((N,N))\n",
    "    Original = Original.T  # guarantee symmetry\n",
    "    Original=Original.reshape(1,-1)\n",
    "    Original[index] = Array\n",
    "    Original=Original.reshape((N,N))\n",
    "\n",
    "    return(Original)\n",
    "\n",
    "def plot_matrix(m, title='Correlation Matrix', cmap=plt.cm.Blues, labels=None):\n",
    "    fig = plt.figure()\n",
    "    ax = fig.add_subplot(111)\n",
    "    cax = ax.matshow(m)\n",
    "    plt.title(title,y=1.08)\n",
    "    #fig.colorbar(cax)\n",
    "    if labels:\n",
    "        ax.set_xticklabels([''] + labels)\n",
    "        ax.set_yticklabels([''] + labels)\n",
    "        ax.xaxis.set_major_locator(ticker.MultipleLocator(1))\n",
    "        ax.yaxis.set_major_locator(ticker.MultipleLocator(1))\n",
    "    plt.xlabel('Sectors')\n",
    "    plt.ylabel('Sectors')\n",
    "    plt.show()\n",
    "\n",
    "sns.reset_orig()\n",
    "OptimalXAI[:,1]\n",
    "Optimal_Matrix = np.array([False]*len(MedianLogical))\n",
    "print(Optimal_Matrix)\n",
    "Optimal_Matrix[OptimalXAI[:,1]] = True\n",
    "print(Optimal_Matrix)\n",
    "plot_matrix(ReverseDiag(Optimal_Matrix),\n",
    "            title=\"Individually best Feature for each Cluster\",\n",
    "            labels = Names.tolist())\n",
    "\n",
    "sns.set()"
   ]
  },
  {
   "cell_type": "code",
   "execution_count": 53,
   "metadata": {
    "pycharm": {
     "name": "#%%\n"
    }
   },
   "outputs": [
    {
     "data": {
      "text/plain": "[<matplotlib.lines.Line2D at 0x7f585417e4a0>]"
     },
     "execution_count": 53,
     "metadata": {},
     "output_type": "execute_result"
    },
    {
     "data": {
      "text/plain": "<Figure size 432x288 with 1 Axes>",
      "image/png": "[encoded data removed]"
     },
     "metadata": {},
     "output_type": "display_data"
    }
   ],
   "source": [
    "#plt.plot(np.sort(abs(XAI).mean(0)))\n",
    "plt.plot(np.sort(np.median(abs(XAI),0)))"
   ]
  },
  {
   "cell_type": "markdown",
   "metadata": {},
   "source": [
    "### Train NN with all relevant features\n",
    "\n",
    "For this, we need one-hot encoded y"
   ]
  },
  {
   "cell_type": "code",
   "execution_count": 54,
   "metadata": {
    "pycharm": {
     "name": "#%%\n"
    }
   },
   "outputs": [
    {
     "name": "stdout",
     "output_type": "stream",
     "text": [
      "{0, 1, 35, 36, 8, 12, 21, 27}\n",
      "(5251, 8)\n",
      "[[1. 0. 0. ... 0. 0. 0.]\n",
      " [1. 0. 0. ... 0. 0. 0.]\n",
      " [1. 0. 0. ... 0. 0. 0.]\n",
      " ...\n",
      " [0. 0. 0. ... 0. 0. 1.]\n",
      " [0. 0. 0. ... 0. 0. 1.]\n",
      " [0. 0. 0. ... 0. 0. 1.]]\n"
     ]
    }
   ],
   "source": [
    "print(set(OptimalXAI[:,1]))\n",
    "CM_Reduced = CorrMatrices[:,list(set(OptimalXAI[:,1]))]\n",
    "print(CM_Reduced.shape)\n",
    "\n",
    "# one hot encoded\n",
    "encoded_Y = np_utils.to_categorical(LabelNaiveOrdered)\n",
    "\n",
    "X_train, X_test, y_train, y_test = train_test_split(CM_Reduced, encoded_Y,\n",
    "                                                    test_size=0.33, random_state=1)\n",
    "print(encoded_Y)\n",
    "\n",
    "# reverse the encoding via\n",
    "# np.argmax(encoded_Y, 1)"
   ]
  },
  {
   "cell_type": "code",
   "execution_count": 55,
   "metadata": {
    "pycharm": {
     "name": "#%%\n"
    }
   },
   "outputs": [
    {
     "data": {
      "text/plain": "<Figure size 576x216 with 2 Axes>",
      "image/png": "[encoded data removed]"
     },
     "metadata": {},
     "output_type": "display_data"
    }
   ],
   "source": [
    "fig, (ax1, ax2) = plt.subplots(1, 2)\n",
    "fig.set_size_inches(8, 3)\n",
    "ax1.hist(np.argmax(y_train,1), density = True,\n",
    "         bins = np.arange(-0.5, max(np.argmax(y_train,1))+1.5,1))\n",
    "ax2.hist(np.argmax(y_test,1),density = True,\n",
    "         bins = np.arange(-0.5, max(np.argmax(y_test,1))+1.5,1))\n",
    "plt.suptitle(\"Histograms of Training and Test Labels\")\n",
    "plt.show()"
   ]
  },
  {
   "cell_type": "code",
   "execution_count": 56,
   "metadata": {
    "pycharm": {
     "name": "#%%\n"
    }
   },
   "outputs": [
    {
     "name": "stdout",
     "output_type": "stream",
     "text": [
      "8 8\n",
      "Model: \"sequential_2\"\n",
      "_________________________________________________________________\n",
      " Layer (type)                Output Shape              Param #   \n",
      "=================================================================\n",
      " dense_12 (Dense)            (None, 256)               2304      \n",
      "                                                                 \n",
      " dense_13 (Dense)            (None, 128)               32896     \n",
      "                                                                 \n",
      " dense_14 (Dense)            (None, 128)               16512     \n",
      "                                                                 \n",
      " dense_15 (Dense)            (None, 1024)              132096    \n",
      "                                                                 \n",
      " dense_16 (Dense)            (None, 128)               131200    \n",
      "                                                                 \n",
      " dropout_2 (Dropout)         (None, 128)               0         \n",
      "                                                                 \n",
      " dense_17 (Dense)            (None, 8)                 1032      \n",
      "                                                                 \n",
      "=================================================================\n",
      "Total params: 316,040\n",
      "Trainable params: 316,040\n",
      "Non-trainable params: 0\n",
      "_________________________________________________________________\n"
     ]
    }
   ],
   "source": [
    "n_In = CM_Reduced.shape[1]\n",
    "num_classes = len(set(LabelNaiveOrdered))\n",
    "print(n_In, num_classes)\n",
    "\n",
    "model = keras.Sequential(\n",
    "    [\n",
    "        layers.Dense(units = 256, input_shape=(n_In,), activation = \"selu\"),\n",
    "        layers.Dense(units=128, activation=\"relu\"),\n",
    "        layers.Dense(units=128, activation=\"relu\"),\n",
    "        layers.Dense(units=1024,\n",
    "              activation=keras.layers.LeakyReLU(alpha=0.05)),\n",
    "        layers.Dense(units=128,\n",
    "              activation=keras.layers.LeakyReLU(alpha=0.01)),\n",
    "        layers.Dropout(0.3),\n",
    "        layers.Dense(units =num_classes, activation=\"softmax\"),\n",
    "    ]\n",
    ")\n",
    "#model.build(n_In)\n",
    "model.summary()"
   ]
  },
  {
   "cell_type": "code",
   "execution_count": 57,
   "metadata": {
    "pycharm": {
     "name": "#%%\n"
    }
   },
   "outputs": [
    {
     "name": "stdout",
     "output_type": "stream",
     "text": [
      "Epoch 1/100\n",
      "14/14 [==============================] - 1s 13ms/step - loss: 2.0512 - accuracy: 0.2428 - val_loss: 2.0211 - val_accuracy: 0.3422\n",
      "Epoch 2/100\n",
      "14/14 [==============================] - 0s 4ms/step - loss: 1.9889 - accuracy: 0.3491 - val_loss: 1.9445 - val_accuracy: 0.3917\n",
      "Epoch 3/100\n",
      "14/14 [==============================] - 0s 5ms/step - loss: 1.8863 - accuracy: 0.3906 - val_loss: 1.8176 - val_accuracy: 0.4167\n",
      "Epoch 4/100\n",
      "14/14 [==============================] - 0s 5ms/step - loss: 1.7382 - accuracy: 0.4349 - val_loss: 1.6450 - val_accuracy: 0.4741\n",
      "Epoch 5/100\n",
      "14/14 [==============================] - 0s 4ms/step - loss: 1.5619 - accuracy: 0.4878 - val_loss: 1.4483 - val_accuracy: 0.5310\n",
      "Epoch 6/100\n",
      "14/14 [==============================] - 0s 5ms/step - loss: 1.3811 - accuracy: 0.5389 - val_loss: 1.2578 - val_accuracy: 0.5844\n",
      "Epoch 7/100\n",
      "14/14 [==============================] - 0s 5ms/step - loss: 1.2152 - accuracy: 0.5725 - val_loss: 1.1092 - val_accuracy: 0.6100\n",
      "Epoch 8/100\n",
      "14/14 [==============================] - 0s 4ms/step - loss: 1.1042 - accuracy: 0.6077 - val_loss: 1.0016 - val_accuracy: 0.6248\n",
      "Epoch 9/100\n",
      "14/14 [==============================] - 0s 5ms/step - loss: 1.0229 - accuracy: 0.6254 - val_loss: 0.9272 - val_accuracy: 0.6595\n",
      "Epoch 10/100\n",
      "14/14 [==============================] - 0s 5ms/step - loss: 0.9621 - accuracy: 0.6390 - val_loss: 0.8835 - val_accuracy: 0.6765\n",
      "Epoch 11/100\n",
      "14/14 [==============================] - 0s 5ms/step - loss: 0.9463 - accuracy: 0.6384 - val_loss: 0.8491 - val_accuracy: 0.6833\n",
      "Epoch 12/100\n",
      "14/14 [==============================] - 0s 4ms/step - loss: 0.8944 - accuracy: 0.6731 - val_loss: 0.8340 - val_accuracy: 0.6896\n",
      "Epoch 13/100\n",
      "14/14 [==============================] - 0s 4ms/step - loss: 0.8777 - accuracy: 0.6742 - val_loss: 0.8033 - val_accuracy: 0.6930\n",
      "Epoch 14/100\n",
      "14/14 [==============================] - 0s 5ms/step - loss: 0.8466 - accuracy: 0.6873 - val_loss: 0.7882 - val_accuracy: 0.7095\n",
      "Epoch 15/100\n",
      "14/14 [==============================] - 0s 4ms/step - loss: 0.8421 - accuracy: 0.6811 - val_loss: 0.7748 - val_accuracy: 0.7101\n",
      "Epoch 16/100\n",
      "14/14 [==============================] - 0s 4ms/step - loss: 0.8096 - accuracy: 0.6998 - val_loss: 0.7753 - val_accuracy: 0.7032\n",
      "Epoch 17/100\n",
      "14/14 [==============================] - 0s 4ms/step - loss: 0.8113 - accuracy: 0.7101 - val_loss: 0.7513 - val_accuracy: 0.7203\n",
      "Epoch 18/100\n",
      "14/14 [==============================] - 0s 4ms/step - loss: 0.8067 - accuracy: 0.6993 - val_loss: 0.7424 - val_accuracy: 0.7271\n",
      "Epoch 19/100\n",
      "14/14 [==============================] - 0s 4ms/step - loss: 0.7824 - accuracy: 0.7089 - val_loss: 0.7352 - val_accuracy: 0.7254\n",
      "Epoch 20/100\n",
      "14/14 [==============================] - 0s 4ms/step - loss: 0.7737 - accuracy: 0.7129 - val_loss: 0.7249 - val_accuracy: 0.7288\n",
      "Epoch 21/100\n",
      "14/14 [==============================] - 0s 4ms/step - loss: 0.7615 - accuracy: 0.7152 - val_loss: 0.7204 - val_accuracy: 0.7248\n",
      "Epoch 22/100\n",
      "14/14 [==============================] - 0s 4ms/step - loss: 0.7477 - accuracy: 0.7214 - val_loss: 0.7116 - val_accuracy: 0.7447\n",
      "Epoch 23/100\n",
      "14/14 [==============================] - 0s 4ms/step - loss: 0.7364 - accuracy: 0.7328 - val_loss: 0.7107 - val_accuracy: 0.7317\n",
      "Epoch 24/100\n",
      "14/14 [==============================] - 0s 4ms/step - loss: 0.7472 - accuracy: 0.7169 - val_loss: 0.6943 - val_accuracy: 0.7413\n",
      "Epoch 25/100\n",
      "14/14 [==============================] - 0s 4ms/step - loss: 0.7418 - accuracy: 0.7260 - val_loss: 0.6940 - val_accuracy: 0.7436\n",
      "Epoch 26/100\n",
      "14/14 [==============================] - 0s 4ms/step - loss: 0.7111 - accuracy: 0.7351 - val_loss: 0.6838 - val_accuracy: 0.7464\n",
      "Epoch 27/100\n",
      "14/14 [==============================] - 0s 4ms/step - loss: 0.7053 - accuracy: 0.7322 - val_loss: 0.6792 - val_accuracy: 0.7544\n",
      "Epoch 28/100\n",
      "14/14 [==============================] - 0s 4ms/step - loss: 0.6952 - accuracy: 0.7453 - val_loss: 0.6695 - val_accuracy: 0.7538\n",
      "Epoch 29/100\n",
      "14/14 [==============================] - 0s 4ms/step - loss: 0.6912 - accuracy: 0.7447 - val_loss: 0.6654 - val_accuracy: 0.7555\n",
      "Epoch 30/100\n",
      "14/14 [==============================] - 0s 4ms/step - loss: 0.6817 - accuracy: 0.7425 - val_loss: 0.6601 - val_accuracy: 0.7652\n",
      "Epoch 31/100\n",
      "14/14 [==============================] - 0s 5ms/step - loss: 0.6742 - accuracy: 0.7533 - val_loss: 0.6577 - val_accuracy: 0.7624\n",
      "Epoch 32/100\n",
      "14/14 [==============================] - 0s 4ms/step - loss: 0.6561 - accuracy: 0.7572 - val_loss: 0.6586 - val_accuracy: 0.7675\n",
      "Epoch 33/100\n",
      "14/14 [==============================] - 0s 4ms/step - loss: 0.6643 - accuracy: 0.7567 - val_loss: 0.6438 - val_accuracy: 0.7692\n",
      "Epoch 34/100\n",
      "14/14 [==============================] - 0s 5ms/step - loss: 0.6643 - accuracy: 0.7487 - val_loss: 0.6400 - val_accuracy: 0.7669\n",
      "Epoch 35/100\n",
      "14/14 [==============================] - 0s 5ms/step - loss: 0.6503 - accuracy: 0.7607 - val_loss: 0.6359 - val_accuracy: 0.7646\n",
      "Epoch 36/100\n",
      "14/14 [==============================] - 0s 5ms/step - loss: 0.6472 - accuracy: 0.7663 - val_loss: 0.6313 - val_accuracy: 0.7698\n",
      "Epoch 37/100\n",
      "14/14 [==============================] - 0s 5ms/step - loss: 0.6498 - accuracy: 0.7572 - val_loss: 0.6282 - val_accuracy: 0.7857\n",
      "Epoch 38/100\n",
      "14/14 [==============================] - 0s 4ms/step - loss: 0.6396 - accuracy: 0.7584 - val_loss: 0.6268 - val_accuracy: 0.7669\n",
      "Epoch 39/100\n",
      "14/14 [==============================] - 0s 5ms/step - loss: 0.6176 - accuracy: 0.7840 - val_loss: 0.6261 - val_accuracy: 0.7663\n",
      "Epoch 40/100\n",
      "14/14 [==============================] - 0s 4ms/step - loss: 0.6220 - accuracy: 0.7663 - val_loss: 0.6178 - val_accuracy: 0.7783\n",
      "Epoch 41/100\n",
      "14/14 [==============================] - 0s 4ms/step - loss: 0.6089 - accuracy: 0.7800 - val_loss: 0.6136 - val_accuracy: 0.7834\n",
      "Epoch 42/100\n",
      "14/14 [==============================] - 0s 4ms/step - loss: 0.6135 - accuracy: 0.7692 - val_loss: 0.6105 - val_accuracy: 0.7874\n",
      "Epoch 43/100\n",
      "14/14 [==============================] - 0s 5ms/step - loss: 0.6026 - accuracy: 0.7811 - val_loss: 0.6023 - val_accuracy: 0.7874\n",
      "Epoch 44/100\n",
      "14/14 [==============================] - 0s 4ms/step - loss: 0.5961 - accuracy: 0.7851 - val_loss: 0.6021 - val_accuracy: 0.7823\n",
      "Epoch 45/100\n",
      "14/14 [==============================] - 0s 5ms/step - loss: 0.6027 - accuracy: 0.7811 - val_loss: 0.6022 - val_accuracy: 0.7914\n",
      "Epoch 46/100\n",
      "14/14 [==============================] - 0s 5ms/step - loss: 0.5969 - accuracy: 0.7834 - val_loss: 0.5922 - val_accuracy: 0.7908\n",
      "Epoch 47/100\n",
      "14/14 [==============================] - 0s 4ms/step - loss: 0.5929 - accuracy: 0.7823 - val_loss: 0.5954 - val_accuracy: 0.7925\n",
      "Epoch 48/100\n",
      "14/14 [==============================] - 0s 4ms/step - loss: 0.5810 - accuracy: 0.7902 - val_loss: 0.5859 - val_accuracy: 0.7970\n",
      "Epoch 49/100\n",
      "14/14 [==============================] - 0s 4ms/step - loss: 0.5803 - accuracy: 0.7879 - val_loss: 0.5865 - val_accuracy: 0.7942\n",
      "Epoch 50/100\n",
      "14/14 [==============================] - 0s 4ms/step - loss: 0.5720 - accuracy: 0.7868 - val_loss: 0.5875 - val_accuracy: 0.8005\n",
      "Epoch 51/100\n",
      "14/14 [==============================] - 0s 4ms/step - loss: 0.5529 - accuracy: 0.7925 - val_loss: 0.5754 - val_accuracy: 0.7976\n",
      "Epoch 52/100\n",
      "14/14 [==============================] - 0s 4ms/step - loss: 0.5586 - accuracy: 0.7993 - val_loss: 0.5735 - val_accuracy: 0.8027\n",
      "Epoch 53/100\n",
      "14/14 [==============================] - 0s 4ms/step - loss: 0.5428 - accuracy: 0.7919 - val_loss: 0.5716 - val_accuracy: 0.8027\n",
      "Epoch 54/100\n",
      "14/14 [==============================] - 0s 4ms/step - loss: 0.5438 - accuracy: 0.8050 - val_loss: 0.5672 - val_accuracy: 0.8027\n",
      "Epoch 55/100\n",
      "14/14 [==============================] - 0s 5ms/step - loss: 0.5451 - accuracy: 0.7953 - val_loss: 0.5659 - val_accuracy: 0.7993\n",
      "Epoch 56/100\n",
      "14/14 [==============================] - 0s 4ms/step - loss: 0.5344 - accuracy: 0.8050 - val_loss: 0.5624 - val_accuracy: 0.8118\n",
      "Epoch 57/100\n",
      "14/14 [==============================] - 0s 4ms/step - loss: 0.5333 - accuracy: 0.8067 - val_loss: 0.5585 - val_accuracy: 0.8078\n",
      "Epoch 58/100\n",
      "14/14 [==============================] - 0s 4ms/step - loss: 0.5174 - accuracy: 0.8249 - val_loss: 0.5569 - val_accuracy: 0.8124\n",
      "Epoch 59/100\n",
      "14/14 [==============================] - 0s 4ms/step - loss: 0.5312 - accuracy: 0.8118 - val_loss: 0.5570 - val_accuracy: 0.8005\n",
      "Epoch 60/100\n",
      "14/14 [==============================] - 0s 4ms/step - loss: 0.5271 - accuracy: 0.8096 - val_loss: 0.5526 - val_accuracy: 0.8050\n",
      "Epoch 61/100\n",
      "14/14 [==============================] - 0s 4ms/step - loss: 0.5159 - accuracy: 0.8204 - val_loss: 0.5507 - val_accuracy: 0.8135\n",
      "Epoch 62/100\n",
      "14/14 [==============================] - 0s 4ms/step - loss: 0.5073 - accuracy: 0.8078 - val_loss: 0.5456 - val_accuracy: 0.8118\n",
      "Epoch 63/100\n",
      "14/14 [==============================] - 0s 4ms/step - loss: 0.5157 - accuracy: 0.8124 - val_loss: 0.5508 - val_accuracy: 0.8073\n",
      "Epoch 64/100\n",
      "14/14 [==============================] - 0s 4ms/step - loss: 0.5203 - accuracy: 0.8204 - val_loss: 0.5423 - val_accuracy: 0.8101\n",
      "Epoch 65/100\n",
      "14/14 [==============================] - 0s 4ms/step - loss: 0.5048 - accuracy: 0.8243 - val_loss: 0.5401 - val_accuracy: 0.8147\n",
      "Epoch 66/100\n",
      "14/14 [==============================] - 0s 4ms/step - loss: 0.4953 - accuracy: 0.8221 - val_loss: 0.5413 - val_accuracy: 0.8073\n",
      "Epoch 67/100\n",
      "14/14 [==============================] - 0s 5ms/step - loss: 0.4928 - accuracy: 0.8169 - val_loss: 0.5380 - val_accuracy: 0.8158\n",
      "Epoch 68/100\n",
      "14/14 [==============================] - 0s 4ms/step - loss: 0.4928 - accuracy: 0.8192 - val_loss: 0.5306 - val_accuracy: 0.8215\n",
      "Epoch 69/100\n",
      "14/14 [==============================] - 0s 5ms/step - loss: 0.4802 - accuracy: 0.8346 - val_loss: 0.5317 - val_accuracy: 0.8209\n",
      "Epoch 70/100\n",
      "14/14 [==============================] - 0s 4ms/step - loss: 0.4687 - accuracy: 0.8346 - val_loss: 0.5256 - val_accuracy: 0.8221\n",
      "Epoch 71/100\n",
      "14/14 [==============================] - 0s 4ms/step - loss: 0.4756 - accuracy: 0.8266 - val_loss: 0.5230 - val_accuracy: 0.8215\n",
      "Epoch 72/100\n",
      "14/14 [==============================] - 0s 5ms/step - loss: 0.4788 - accuracy: 0.8238 - val_loss: 0.5227 - val_accuracy: 0.8209\n",
      "Epoch 73/100\n",
      "14/14 [==============================] - 0s 4ms/step - loss: 0.4652 - accuracy: 0.8294 - val_loss: 0.5195 - val_accuracy: 0.8204\n",
      "Epoch 74/100\n",
      "14/14 [==============================] - 0s 4ms/step - loss: 0.4776 - accuracy: 0.8221 - val_loss: 0.5176 - val_accuracy: 0.8243\n",
      "Epoch 75/100\n",
      "14/14 [==============================] - 0s 4ms/step - loss: 0.4730 - accuracy: 0.8164 - val_loss: 0.5218 - val_accuracy: 0.8124\n",
      "Epoch 76/100\n",
      "14/14 [==============================] - 0s 4ms/step - loss: 0.4683 - accuracy: 0.8312 - val_loss: 0.5115 - val_accuracy: 0.8272\n",
      "Epoch 77/100\n",
      "14/14 [==============================] - 0s 4ms/step - loss: 0.4479 - accuracy: 0.8448 - val_loss: 0.5121 - val_accuracy: 0.8272\n",
      "Epoch 78/100\n",
      "14/14 [==============================] - 0s 4ms/step - loss: 0.4622 - accuracy: 0.8340 - val_loss: 0.5134 - val_accuracy: 0.8312\n",
      "Epoch 79/100\n",
      "14/14 [==============================] - 0s 4ms/step - loss: 0.4415 - accuracy: 0.8334 - val_loss: 0.5141 - val_accuracy: 0.8289\n",
      "Epoch 80/100\n",
      "14/14 [==============================] - 0s 4ms/step - loss: 0.4435 - accuracy: 0.8397 - val_loss: 0.5066 - val_accuracy: 0.8317\n",
      "Epoch 81/100\n",
      "14/14 [==============================] - 0s 4ms/step - loss: 0.4438 - accuracy: 0.8340 - val_loss: 0.5047 - val_accuracy: 0.8272\n",
      "Epoch 82/100\n",
      "14/14 [==============================] - 0s 4ms/step - loss: 0.4460 - accuracy: 0.8454 - val_loss: 0.5012 - val_accuracy: 0.8334\n",
      "Epoch 83/100\n",
      "14/14 [==============================] - 0s 4ms/step - loss: 0.4410 - accuracy: 0.8374 - val_loss: 0.5030 - val_accuracy: 0.8238\n",
      "Epoch 84/100\n",
      "14/14 [==============================] - 0s 4ms/step - loss: 0.4403 - accuracy: 0.8368 - val_loss: 0.5065 - val_accuracy: 0.8277\n",
      "Epoch 85/100\n",
      "14/14 [==============================] - 0s 4ms/step - loss: 0.4358 - accuracy: 0.8403 - val_loss: 0.5015 - val_accuracy: 0.8260\n",
      "Epoch 86/100\n",
      "14/14 [==============================] - 0s 4ms/step - loss: 0.4216 - accuracy: 0.8442 - val_loss: 0.4949 - val_accuracy: 0.8340\n",
      "Epoch 87/100\n",
      "14/14 [==============================] - 0s 4ms/step - loss: 0.4185 - accuracy: 0.8459 - val_loss: 0.4902 - val_accuracy: 0.8329\n",
      "Epoch 88/100\n",
      "14/14 [==============================] - 0s 4ms/step - loss: 0.4159 - accuracy: 0.8562 - val_loss: 0.4952 - val_accuracy: 0.8300\n",
      "Epoch 89/100\n",
      "14/14 [==============================] - 0s 4ms/step - loss: 0.4123 - accuracy: 0.8528 - val_loss: 0.4905 - val_accuracy: 0.8357\n",
      "Epoch 90/100\n",
      "14/14 [==============================] - 0s 4ms/step - loss: 0.4193 - accuracy: 0.8465 - val_loss: 0.4982 - val_accuracy: 0.8238\n",
      "Epoch 91/100\n",
      "14/14 [==============================] - 0s 4ms/step - loss: 0.4147 - accuracy: 0.8448 - val_loss: 0.4900 - val_accuracy: 0.8334\n",
      "Epoch 92/100\n",
      "14/14 [==============================] - 0s 4ms/step - loss: 0.4206 - accuracy: 0.8454 - val_loss: 0.4885 - val_accuracy: 0.8363\n",
      "Epoch 93/100\n",
      "14/14 [==============================] - 0s 4ms/step - loss: 0.4109 - accuracy: 0.8431 - val_loss: 0.4947 - val_accuracy: 0.8425\n",
      "Epoch 94/100\n",
      "14/14 [==============================] - 0s 4ms/step - loss: 0.4182 - accuracy: 0.8414 - val_loss: 0.4810 - val_accuracy: 0.8391\n",
      "Epoch 95/100\n",
      "14/14 [==============================] - 0s 5ms/step - loss: 0.3995 - accuracy: 0.8613 - val_loss: 0.4936 - val_accuracy: 0.8317\n",
      "Epoch 96/100\n",
      "14/14 [==============================] - 0s 4ms/step - loss: 0.4026 - accuracy: 0.8533 - val_loss: 0.4806 - val_accuracy: 0.8317\n",
      "Epoch 97/100\n",
      "14/14 [==============================] - 0s 4ms/step - loss: 0.4058 - accuracy: 0.8562 - val_loss: 0.4898 - val_accuracy: 0.8385\n",
      "Epoch 98/100\n",
      "14/14 [==============================] - 0s 5ms/step - loss: 0.3899 - accuracy: 0.8596 - val_loss: 0.4839 - val_accuracy: 0.8391\n",
      "Epoch 99/100\n",
      "14/14 [==============================] - 0s 4ms/step - loss: 0.4029 - accuracy: 0.8573 - val_loss: 0.4773 - val_accuracy: 0.8414\n",
      "Epoch 100/100\n",
      "14/14 [==============================] - 0s 4ms/step - loss: 0.3990 - accuracy: 0.8584 - val_loss: 0.4726 - val_accuracy: 0.8408\n"
     ]
    },
    {
     "data": {
      "text/plain": "<keras.callbacks.History at 0x7f58147de830>"
     },
     "execution_count": 57,
     "metadata": {},
     "output_type": "execute_result"
    }
   ],
   "source": [
    "batch_size = 128\n",
    "epochs = 100\n",
    "\n",
    "model.compile(loss=\"categorical_crossentropy\",\n",
    "              optimizer=keras.optimizers.Adam(lr=0.0001),\n",
    "              metrics=[\"accuracy\"])\n",
    "\n",
    "model.fit(X_train, y_train,\n",
    "          batch_size=batch_size,\n",
    "          epochs=epochs,\n",
    "          validation_split=0.5)"
   ]
  },
  {
   "cell_type": "code",
   "execution_count": 58,
   "metadata": {
    "pycharm": {
     "name": "#%%\n"
    }
   },
   "outputs": [
    {
     "name": "stdout",
     "output_type": "stream",
     "text": [
      "0.8216964800923254\n"
     ]
    }
   ],
   "source": [
    "y_hat = np.argmax(model.predict(X_test),1)\n",
    "Accuracy_BestXAI = np.mean(y_hat == np.argmax(y_test,1))\n",
    "print(Accuracy_BestXAI)"
   ]
  },
  {
   "cell_type": "code",
   "execution_count": 59,
   "metadata": {
    "pycharm": {
     "name": "#%%\n"
    }
   },
   "outputs": [
    {
     "data": {
      "text/plain": "<Figure size 576x216 with 2 Axes>",
      "image/png": "[encoded data removed]"
     },
     "metadata": {},
     "output_type": "display_data"
    }
   ],
   "source": [
    "fig, (ax1, ax2) = plt.subplots(1, 2)\n",
    "fig.set_size_inches(8, 3)\n",
    "ax1.hist(y_hat, density = True,\n",
    "         bins = np.arange(-0.5, max(y_hat)+1.5,1))\n",
    "ax2.hist(np.argmax(y_test,1),density = True,\n",
    "         bins = np.arange(-0.5, max(np.argmax(y_test,1))+1.5,1))\n",
    "plt.suptitle(\"Histograms of Predicted and Test Labels\")\n",
    "plt.show()"
   ]
  },
  {
   "cell_type": "markdown",
   "metadata": {
    "pycharm": {
     "name": "#%% md\n"
    }
   },
   "source": [
    "### Comparison: best features according to Median XAI values"
   ]
  },
  {
   "cell_type": "code",
   "execution_count": 60,
   "metadata": {
    "pycharm": {
     "name": "#%%\n"
    }
   },
   "outputs": [
    {
     "name": "stdout",
     "output_type": "stream",
     "text": [
      "Epoch 1/100\n",
      "14/14 [==============================] - 0s 6ms/step - loss: 2.1479 - accuracy: 0.4542 - val_loss: 1.4652 - val_accuracy: 0.5048\n",
      "Epoch 2/100\n",
      "14/14 [==============================] - 0s 5ms/step - loss: 1.2890 - accuracy: 0.5668 - val_loss: 1.1051 - val_accuracy: 0.5952\n",
      "Epoch 3/100\n",
      "14/14 [==============================] - 0s 4ms/step - loss: 1.0640 - accuracy: 0.6077 - val_loss: 0.9826 - val_accuracy: 0.6435\n",
      "Epoch 4/100\n",
      "14/14 [==============================] - 0s 4ms/step - loss: 0.9688 - accuracy: 0.6538 - val_loss: 0.9044 - val_accuracy: 0.6833\n",
      "Epoch 5/100\n",
      "14/14 [==============================] - 0s 4ms/step - loss: 0.8956 - accuracy: 0.6686 - val_loss: 0.8433 - val_accuracy: 0.7038\n",
      "Epoch 6/100\n",
      "14/14 [==============================] - 0s 4ms/step - loss: 0.8496 - accuracy: 0.6896 - val_loss: 0.8000 - val_accuracy: 0.7101\n",
      "Epoch 7/100\n",
      "14/14 [==============================] - 0s 4ms/step - loss: 0.7986 - accuracy: 0.7112 - val_loss: 0.7670 - val_accuracy: 0.7271\n",
      "Epoch 8/100\n",
      "14/14 [==============================] - 0s 4ms/step - loss: 0.7608 - accuracy: 0.7243 - val_loss: 0.7362 - val_accuracy: 0.7351\n",
      "Epoch 9/100\n",
      "14/14 [==============================] - 0s 4ms/step - loss: 0.7453 - accuracy: 0.7254 - val_loss: 0.7167 - val_accuracy: 0.7379\n",
      "Epoch 10/100\n",
      "14/14 [==============================] - 0s 5ms/step - loss: 0.7164 - accuracy: 0.7356 - val_loss: 0.6959 - val_accuracy: 0.7521\n",
      "Epoch 11/100\n",
      "14/14 [==============================] - 0s 4ms/step - loss: 0.6972 - accuracy: 0.7368 - val_loss: 0.6906 - val_accuracy: 0.7499\n",
      "Epoch 12/100\n",
      "14/14 [==============================] - 0s 4ms/step - loss: 0.6973 - accuracy: 0.7436 - val_loss: 0.6739 - val_accuracy: 0.7567\n",
      "Epoch 13/100\n",
      "14/14 [==============================] - 0s 4ms/step - loss: 0.6667 - accuracy: 0.7572 - val_loss: 0.6586 - val_accuracy: 0.7646\n",
      "Epoch 14/100\n",
      "14/14 [==============================] - 0s 4ms/step - loss: 0.6495 - accuracy: 0.7607 - val_loss: 0.6461 - val_accuracy: 0.7703\n",
      "Epoch 15/100\n",
      "14/14 [==============================] - 0s 4ms/step - loss: 0.6547 - accuracy: 0.7652 - val_loss: 0.6357 - val_accuracy: 0.7783\n",
      "Epoch 16/100\n",
      "14/14 [==============================] - 0s 4ms/step - loss: 0.6326 - accuracy: 0.7754 - val_loss: 0.6270 - val_accuracy: 0.7794\n",
      "Epoch 17/100\n",
      "14/14 [==============================] - 0s 4ms/step - loss: 0.6268 - accuracy: 0.7658 - val_loss: 0.6202 - val_accuracy: 0.7862\n",
      "Epoch 18/100\n",
      "14/14 [==============================] - 0s 4ms/step - loss: 0.6150 - accuracy: 0.7754 - val_loss: 0.6108 - val_accuracy: 0.7914\n",
      "Epoch 19/100\n",
      "14/14 [==============================] - 0s 4ms/step - loss: 0.6040 - accuracy: 0.7857 - val_loss: 0.6054 - val_accuracy: 0.7902\n",
      "Epoch 20/100\n",
      "14/14 [==============================] - 0s 4ms/step - loss: 0.6057 - accuracy: 0.7851 - val_loss: 0.6093 - val_accuracy: 0.7851\n",
      "Epoch 21/100\n",
      "14/14 [==============================] - 0s 4ms/step - loss: 0.5856 - accuracy: 0.7879 - val_loss: 0.5966 - val_accuracy: 0.7948\n",
      "Epoch 22/100\n",
      "14/14 [==============================] - 0s 4ms/step - loss: 0.5728 - accuracy: 0.7959 - val_loss: 0.5853 - val_accuracy: 0.7982\n",
      "Epoch 23/100\n",
      "14/14 [==============================] - 0s 4ms/step - loss: 0.5604 - accuracy: 0.7965 - val_loss: 0.5776 - val_accuracy: 0.8022\n",
      "Epoch 24/100\n",
      "14/14 [==============================] - 0s 4ms/step - loss: 0.5585 - accuracy: 0.7982 - val_loss: 0.5774 - val_accuracy: 0.8050\n",
      "Epoch 25/100\n",
      "14/14 [==============================] - 0s 4ms/step - loss: 0.5424 - accuracy: 0.8033 - val_loss: 0.5688 - val_accuracy: 0.8073\n",
      "Epoch 26/100\n",
      "14/14 [==============================] - 0s 4ms/step - loss: 0.5545 - accuracy: 0.8027 - val_loss: 0.5603 - val_accuracy: 0.8067\n",
      "Epoch 27/100\n",
      "14/14 [==============================] - 0s 4ms/step - loss: 0.5538 - accuracy: 0.8039 - val_loss: 0.5523 - val_accuracy: 0.8096\n",
      "Epoch 28/100\n",
      "14/14 [==============================] - 0s 4ms/step - loss: 0.5313 - accuracy: 0.8073 - val_loss: 0.5494 - val_accuracy: 0.8101\n",
      "Epoch 29/100\n",
      "14/14 [==============================] - 0s 4ms/step - loss: 0.5153 - accuracy: 0.8158 - val_loss: 0.5459 - val_accuracy: 0.8113\n",
      "Epoch 30/100\n",
      "14/14 [==============================] - 0s 4ms/step - loss: 0.5129 - accuracy: 0.8232 - val_loss: 0.5432 - val_accuracy: 0.8107\n",
      "Epoch 31/100\n",
      "14/14 [==============================] - 0s 4ms/step - loss: 0.5076 - accuracy: 0.8181 - val_loss: 0.5415 - val_accuracy: 0.8124\n",
      "Epoch 32/100\n",
      "14/14 [==============================] - 0s 4ms/step - loss: 0.5029 - accuracy: 0.8294 - val_loss: 0.5311 - val_accuracy: 0.8169\n",
      "Epoch 33/100\n",
      "14/14 [==============================] - 0s 4ms/step - loss: 0.4983 - accuracy: 0.8221 - val_loss: 0.5289 - val_accuracy: 0.8192\n",
      "Epoch 34/100\n",
      "14/14 [==============================] - 0s 4ms/step - loss: 0.4990 - accuracy: 0.8198 - val_loss: 0.5383 - val_accuracy: 0.8090\n",
      "Epoch 35/100\n",
      "14/14 [==============================] - 0s 4ms/step - loss: 0.4974 - accuracy: 0.8306 - val_loss: 0.5223 - val_accuracy: 0.8209\n",
      "Epoch 36/100\n",
      "14/14 [==============================] - 0s 4ms/step - loss: 0.4823 - accuracy: 0.8300 - val_loss: 0.5209 - val_accuracy: 0.8152\n",
      "Epoch 37/100\n",
      "14/14 [==============================] - 0s 5ms/step - loss: 0.4750 - accuracy: 0.8340 - val_loss: 0.5181 - val_accuracy: 0.8215\n",
      "Epoch 38/100\n",
      "14/14 [==============================] - 0s 5ms/step - loss: 0.4757 - accuracy: 0.8289 - val_loss: 0.5083 - val_accuracy: 0.8232\n",
      "Epoch 39/100\n",
      "14/14 [==============================] - 0s 4ms/step - loss: 0.4613 - accuracy: 0.8442 - val_loss: 0.5049 - val_accuracy: 0.8260\n",
      "Epoch 40/100\n",
      "14/14 [==============================] - 0s 4ms/step - loss: 0.4638 - accuracy: 0.8391 - val_loss: 0.5061 - val_accuracy: 0.8249\n",
      "Epoch 41/100\n",
      "14/14 [==============================] - 0s 4ms/step - loss: 0.4661 - accuracy: 0.8391 - val_loss: 0.4985 - val_accuracy: 0.8277\n",
      "Epoch 42/100\n",
      "14/14 [==============================] - 0s 4ms/step - loss: 0.4511 - accuracy: 0.8425 - val_loss: 0.5033 - val_accuracy: 0.8260\n",
      "Epoch 43/100\n",
      "14/14 [==============================] - 0s 4ms/step - loss: 0.4522 - accuracy: 0.8357 - val_loss: 0.4913 - val_accuracy: 0.8329\n",
      "Epoch 44/100\n",
      "14/14 [==============================] - 0s 4ms/step - loss: 0.4470 - accuracy: 0.8493 - val_loss: 0.4911 - val_accuracy: 0.8277\n",
      "Epoch 45/100\n",
      "14/14 [==============================] - 0s 4ms/step - loss: 0.4303 - accuracy: 0.8471 - val_loss: 0.4894 - val_accuracy: 0.8323\n",
      "Epoch 46/100\n",
      "14/14 [==============================] - 0s 4ms/step - loss: 0.4334 - accuracy: 0.8476 - val_loss: 0.4856 - val_accuracy: 0.8380\n",
      "Epoch 47/100\n",
      "14/14 [==============================] - 0s 4ms/step - loss: 0.4403 - accuracy: 0.8425 - val_loss: 0.4839 - val_accuracy: 0.8357\n",
      "Epoch 48/100\n",
      "14/14 [==============================] - 0s 4ms/step - loss: 0.4187 - accuracy: 0.8493 - val_loss: 0.4802 - val_accuracy: 0.8306\n",
      "Epoch 49/100\n",
      "14/14 [==============================] - 0s 4ms/step - loss: 0.4149 - accuracy: 0.8567 - val_loss: 0.4793 - val_accuracy: 0.8380\n",
      "Epoch 50/100\n",
      "14/14 [==============================] - 0s 4ms/step - loss: 0.4117 - accuracy: 0.8562 - val_loss: 0.4750 - val_accuracy: 0.8363\n",
      "Epoch 51/100\n",
      "14/14 [==============================] - 0s 4ms/step - loss: 0.4081 - accuracy: 0.8607 - val_loss: 0.4710 - val_accuracy: 0.8374\n",
      "Epoch 52/100\n",
      "14/14 [==============================] - 0s 4ms/step - loss: 0.4099 - accuracy: 0.8619 - val_loss: 0.4715 - val_accuracy: 0.8420\n",
      "Epoch 53/100\n",
      "14/14 [==============================] - 0s 4ms/step - loss: 0.4068 - accuracy: 0.8516 - val_loss: 0.4714 - val_accuracy: 0.8414\n",
      "Epoch 54/100\n",
      "14/14 [==============================] - 0s 4ms/step - loss: 0.4047 - accuracy: 0.8613 - val_loss: 0.4715 - val_accuracy: 0.8408\n",
      "Epoch 55/100\n",
      "14/14 [==============================] - 0s 4ms/step - loss: 0.4185 - accuracy: 0.8545 - val_loss: 0.4686 - val_accuracy: 0.8374\n",
      "Epoch 56/100\n",
      "14/14 [==============================] - 0s 4ms/step - loss: 0.4024 - accuracy: 0.8567 - val_loss: 0.4575 - val_accuracy: 0.8425\n",
      "Epoch 57/100\n",
      "14/14 [==============================] - 0s 4ms/step - loss: 0.4018 - accuracy: 0.8641 - val_loss: 0.4602 - val_accuracy: 0.8454\n",
      "Epoch 58/100\n",
      "14/14 [==============================] - 0s 4ms/step - loss: 0.3922 - accuracy: 0.8619 - val_loss: 0.4524 - val_accuracy: 0.8465\n",
      "Epoch 59/100\n",
      "14/14 [==============================] - 0s 4ms/step - loss: 0.3855 - accuracy: 0.8727 - val_loss: 0.4530 - val_accuracy: 0.8471\n",
      "Epoch 60/100\n",
      "14/14 [==============================] - 0s 4ms/step - loss: 0.3794 - accuracy: 0.8766 - val_loss: 0.4507 - val_accuracy: 0.8425\n",
      "Epoch 61/100\n",
      "14/14 [==============================] - 0s 4ms/step - loss: 0.3766 - accuracy: 0.8755 - val_loss: 0.4482 - val_accuracy: 0.8482\n",
      "Epoch 62/100\n",
      "14/14 [==============================] - 0s 4ms/step - loss: 0.3765 - accuracy: 0.8692 - val_loss: 0.4482 - val_accuracy: 0.8516\n",
      "Epoch 63/100\n",
      "14/14 [==============================] - 0s 5ms/step - loss: 0.3657 - accuracy: 0.8772 - val_loss: 0.4449 - val_accuracy: 0.8482\n",
      "Epoch 64/100\n",
      "14/14 [==============================] - 0s 5ms/step - loss: 0.3629 - accuracy: 0.8761 - val_loss: 0.4460 - val_accuracy: 0.8511\n",
      "Epoch 65/100\n",
      "14/14 [==============================] - 0s 5ms/step - loss: 0.3692 - accuracy: 0.8738 - val_loss: 0.4421 - val_accuracy: 0.8511\n",
      "Epoch 66/100\n",
      "14/14 [==============================] - 0s 5ms/step - loss: 0.3672 - accuracy: 0.8749 - val_loss: 0.4381 - val_accuracy: 0.8522\n",
      "Epoch 67/100\n",
      "14/14 [==============================] - 0s 4ms/step - loss: 0.3618 - accuracy: 0.8755 - val_loss: 0.4568 - val_accuracy: 0.8425\n",
      "Epoch 68/100\n",
      "14/14 [==============================] - 0s 4ms/step - loss: 0.3535 - accuracy: 0.8806 - val_loss: 0.4545 - val_accuracy: 0.8459\n",
      "Epoch 69/100\n",
      "14/14 [==============================] - 0s 4ms/step - loss: 0.3562 - accuracy: 0.8704 - val_loss: 0.4344 - val_accuracy: 0.8499\n",
      "Epoch 70/100\n",
      "14/14 [==============================] - 0s 4ms/step - loss: 0.3497 - accuracy: 0.8908 - val_loss: 0.4363 - val_accuracy: 0.8545\n",
      "Epoch 71/100\n",
      "14/14 [==============================] - 0s 4ms/step - loss: 0.3444 - accuracy: 0.8778 - val_loss: 0.4328 - val_accuracy: 0.8505\n",
      "Epoch 72/100\n",
      "14/14 [==============================] - 0s 4ms/step - loss: 0.3416 - accuracy: 0.8857 - val_loss: 0.4294 - val_accuracy: 0.8556\n",
      "Epoch 73/100\n",
      "14/14 [==============================] - 0s 4ms/step - loss: 0.3415 - accuracy: 0.8806 - val_loss: 0.4295 - val_accuracy: 0.8511\n",
      "Epoch 74/100\n",
      "14/14 [==============================] - 0s 4ms/step - loss: 0.3292 - accuracy: 0.8897 - val_loss: 0.4269 - val_accuracy: 0.8567\n",
      "Epoch 75/100\n",
      "14/14 [==============================] - 0s 4ms/step - loss: 0.3339 - accuracy: 0.8971 - val_loss: 0.4245 - val_accuracy: 0.8539\n",
      "Epoch 76/100\n",
      "14/14 [==============================] - 0s 4ms/step - loss: 0.3274 - accuracy: 0.8931 - val_loss: 0.4252 - val_accuracy: 0.8567\n",
      "Epoch 77/100\n",
      "14/14 [==============================] - 0s 4ms/step - loss: 0.3266 - accuracy: 0.8886 - val_loss: 0.4237 - val_accuracy: 0.8601\n",
      "Epoch 78/100\n",
      "14/14 [==============================] - 0s 4ms/step - loss: 0.3212 - accuracy: 0.8948 - val_loss: 0.4243 - val_accuracy: 0.8573\n",
      "Epoch 79/100\n",
      "14/14 [==============================] - 0s 4ms/step - loss: 0.3200 - accuracy: 0.8982 - val_loss: 0.4196 - val_accuracy: 0.8567\n",
      "Epoch 80/100\n",
      "14/14 [==============================] - 0s 4ms/step - loss: 0.3169 - accuracy: 0.8960 - val_loss: 0.4217 - val_accuracy: 0.8579\n",
      "Epoch 81/100\n",
      "14/14 [==============================] - 0s 4ms/step - loss: 0.3331 - accuracy: 0.8891 - val_loss: 0.4198 - val_accuracy: 0.8539\n",
      "Epoch 82/100\n",
      "14/14 [==============================] - 0s 4ms/step - loss: 0.3135 - accuracy: 0.8982 - val_loss: 0.4249 - val_accuracy: 0.8590\n",
      "Epoch 83/100\n",
      "14/14 [==============================] - 0s 5ms/step - loss: 0.3242 - accuracy: 0.8931 - val_loss: 0.4152 - val_accuracy: 0.8590\n",
      "Epoch 84/100\n",
      "14/14 [==============================] - 0s 4ms/step - loss: 0.3165 - accuracy: 0.8994 - val_loss: 0.4153 - val_accuracy: 0.8607\n",
      "Epoch 85/100\n",
      "14/14 [==============================] - 0s 6ms/step - loss: 0.3033 - accuracy: 0.8982 - val_loss: 0.4226 - val_accuracy: 0.8584\n",
      "Epoch 86/100\n",
      "14/14 [==============================] - 0s 4ms/step - loss: 0.3099 - accuracy: 0.8965 - val_loss: 0.4102 - val_accuracy: 0.8630\n",
      "Epoch 87/100\n",
      "14/14 [==============================] - 0s 4ms/step - loss: 0.3053 - accuracy: 0.8965 - val_loss: 0.4090 - val_accuracy: 0.8607\n",
      "Epoch 88/100\n",
      "14/14 [==============================] - 0s 4ms/step - loss: 0.3070 - accuracy: 0.8931 - val_loss: 0.4083 - val_accuracy: 0.8601\n",
      "Epoch 89/100\n",
      "14/14 [==============================] - 0s 4ms/step - loss: 0.3087 - accuracy: 0.9028 - val_loss: 0.4074 - val_accuracy: 0.8619\n",
      "Epoch 90/100\n",
      "14/14 [==============================] - 0s 4ms/step - loss: 0.2950 - accuracy: 0.9102 - val_loss: 0.4058 - val_accuracy: 0.8624\n",
      "Epoch 91/100\n",
      "14/14 [==============================] - 0s 4ms/step - loss: 0.2914 - accuracy: 0.9005 - val_loss: 0.4042 - val_accuracy: 0.8664\n",
      "Epoch 92/100\n",
      "14/14 [==============================] - 0s 4ms/step - loss: 0.2951 - accuracy: 0.9022 - val_loss: 0.4074 - val_accuracy: 0.8647\n",
      "Epoch 93/100\n",
      "14/14 [==============================] - 0s 4ms/step - loss: 0.3054 - accuracy: 0.8982 - val_loss: 0.4021 - val_accuracy: 0.8641\n",
      "Epoch 94/100\n",
      "14/14 [==============================] - 0s 4ms/step - loss: 0.2946 - accuracy: 0.9022 - val_loss: 0.4004 - val_accuracy: 0.8647\n",
      "Epoch 95/100\n",
      "14/14 [==============================] - 0s 4ms/step - loss: 0.2893 - accuracy: 0.9051 - val_loss: 0.4062 - val_accuracy: 0.8601\n",
      "Epoch 96/100\n",
      "14/14 [==============================] - 0s 4ms/step - loss: 0.2898 - accuracy: 0.9039 - val_loss: 0.4015 - val_accuracy: 0.8607\n",
      "Epoch 97/100\n",
      "14/14 [==============================] - 0s 4ms/step - loss: 0.2888 - accuracy: 0.9011 - val_loss: 0.3964 - val_accuracy: 0.8681\n",
      "Epoch 98/100\n",
      "14/14 [==============================] - 0s 4ms/step - loss: 0.2785 - accuracy: 0.9039 - val_loss: 0.4026 - val_accuracy: 0.8658\n",
      "Epoch 99/100\n",
      "14/14 [==============================] - 0s 4ms/step - loss: 0.2793 - accuracy: 0.9136 - val_loss: 0.4058 - val_accuracy: 0.8647\n",
      "Epoch 100/100\n",
      "14/14 [==============================] - 0s 4ms/step - loss: 0.2829 - accuracy: 0.9079 - val_loss: 0.4035 - val_accuracy: 0.8624\n"
     ]
    }
   ],
   "source": [
    "\n",
    "\n",
    "X_train, X_test, y_train, y_test = train_test_split(CorrMatrices[:, MedianLogical],\n",
    "                                                    encoded_Y, test_size=0.33, random_state=1)\n",
    "\n",
    "\n",
    "model.fit(X_train, y_train,\n",
    "          batch_size=batch_size,\n",
    "          epochs=epochs,\n",
    "          validation_split=0.5)\n",
    "\n",
    "y_hat = np.argmax(model.predict(X_test),1)\n",
    "Accuracy_BestMedianXAI = np.mean(y_hat == np.argmax(y_test,1))\n"
   ]
  },
  {
   "cell_type": "code",
   "execution_count": 61,
   "metadata": {
    "pycharm": {
     "name": "#%%\n"
    }
   },
   "outputs": [
    {
     "name": "stdout",
     "output_type": "stream",
     "text": [
      "0.8390075014425851\n"
     ]
    }
   ],
   "source": [
    "print(Accuracy_BestMedianXAI)#without the optimal mode-mode"
   ]
  },
  {
   "cell_type": "markdown",
   "metadata": {
    "pycharm": {
     "name": "#%% md\n"
    }
   },
   "source": [
    "### Now with some other featureswithout the optimal mwithout the optimal mode-modeode-mode"
   ]
  },
  {
   "cell_type": "code",
   "execution_count": 62,
   "metadata": {
    "pycharm": {
     "name": "#%%\n"
    }
   },
   "outputs": [],
   "source": [
    "def TestNN(seed = 1234):\n",
    "    np.random.seed(seed)\n",
    "    Index = np.random.choice(np.arange(XAI.shape[1]).astype(\"int\"), # features to compare optimal XAI to\n",
    "                     size = len(list(set(OptimalXAI[:,1]))),\n",
    "                     replace = False)\n",
    "    CM_Reduced = CorrMatrices[:,Index]\n",
    "    X_train, X_test, y_train, y_test = train_test_split(CM_Reduced, encoded_Y,\n",
    "                                                    test_size=0.33, random_state=1)\n",
    "    model.fit(X_train, y_train,\n",
    "          batch_size=batch_size,\n",
    "          epochs=epochs,\n",
    "          validation_split=0.5,\n",
    "          verbose=0)\n",
    "    y_hat = np.argmax(model.predict(X_test),1)\n",
    "    return(np.mean(y_hat == np.argmax(y_test,1)))"
   ]
  },
  {
   "cell_type": "code",
   "execution_count": 63,
   "metadata": {
    "pycharm": {
     "name": "#%%\n"
    }
   },
   "outputs": [],
   "source": [
    "def ModeModeNN(seed = 1234):\n",
    "    np.random.seed(seed)\n",
    "    CM_Reduced = CorrMatrices[:,list(set(OptimalXAI[:,1]))]\n",
    "    X_train, X_test, y_train, y_test = train_test_split(CM_Reduced, encoded_Y,\n",
    "                                                    test_size=0.33, random_state=1)\n",
    "    model.fit(X_train, y_train,\n",
    "          batch_size=batch_size,\n",
    "          epochs=epochs,\n",
    "          validation_split=0.5,\n",
    "          verbose=0)\n",
    "    y_hat = np.argmax(model.predict(X_test),1)\n",
    "    return(np.mean(y_hat == np.argmax(y_test,1)))"
   ]
  },
  {
   "cell_type": "code",
   "execution_count": 64,
   "metadata": {
    "pycharm": {
     "name": "#%%\n"
    }
   },
   "outputs": [],
   "source": [
    "def MedianNN(seed = 1234):\n",
    "    np.random.seed(seed)\n",
    "    CM_Reduced = CorrMatrices[:, MedianLogical]\n",
    "    X_train, X_test, y_train, y_test = train_test_split(CM_Reduced, encoded_Y,\n",
    "                                                    test_size=0.33, random_state=1)\n",
    "    model.fit(X_train, y_train,\n",
    "          batch_size=batch_size,\n",
    "          epochs=epochs,\n",
    "          validation_split=0.5,\n",
    "          verbose=0)\n",
    "    y_hat = np.argmax(model.predict(X_test),1)\n",
    "    return(np.mean(y_hat == np.argmax(y_test,1)))"
   ]
  },
  {
   "cell_type": "code",
   "execution_count": 65,
   "metadata": {
    "pycharm": {
     "name": "#%%\n"
    }
   },
   "outputs": [
    {
     "data": {
      "text/plain": "0.864396999422966"
     },
     "execution_count": 65,
     "metadata": {},
     "output_type": "execute_result"
    }
   ],
   "source": [
    "ModeModeNN(53473)"
   ]
  },
  {
   "cell_type": "code",
   "execution_count": 66,
   "metadata": {
    "pycharm": {
     "name": "#%%\n"
    }
   },
   "outputs": [
    {
     "data": {
      "text/plain": "0.864396999422966"
     },
     "execution_count": 66,
     "metadata": {},
     "output_type": "execute_result"
    }
   ],
   "source": [
    "MedianNN(23757)"
   ]
  },
  {
   "cell_type": "code",
   "execution_count": 67,
   "metadata": {
    "pycharm": {
     "name": "#%%\n"
    }
   },
   "outputs": [
    {
     "data": {
      "text/plain": "0.8736295441431045"
     },
     "execution_count": 67,
     "metadata": {},
     "output_type": "execute_result"
    }
   ],
   "source": [
    "TestNN(54321)"
   ]
  },
  {
   "cell_type": "code",
   "execution_count": 68,
   "metadata": {
    "pycharm": {
     "name": "#%%\n"
    }
   },
   "outputs": [
    {
     "data": {
      "text/plain": "0.8488170802077323"
     },
     "execution_count": 68,
     "metadata": {},
     "output_type": "execute_result"
    }
   ],
   "source": [
    "TestNN()"
   ]
  },
  {
   "cell_type": "code",
   "execution_count": 69,
   "metadata": {
    "pycharm": {
     "name": "#%%\n"
    }
   },
   "outputs": [
    {
     "name": "stdout",
     "output_type": "stream",
     "text": [
      "0 [9047] 0.8707443739180611 0.8788228505481823 0.8661281015579919\n",
      "1 [2491] 0.8320830929024813 0.8863242931332949 0.8834391229082516\n",
      "2 [3603] 0.8932487016733988 0.8920946335833814 0.877668782458165\n",
      "3 [3761] 0.8366993652625505 0.8926716676283901 0.881130986728217\n",
      "4 [4929] 0.8782458165031737 0.8932487016733988 0.8880553952683208\n",
      "5 [3474] 0.847663012117715 0.8932487016733988 0.8874783612233121\n",
      "6 [4372] 0.8557414887478362 0.8874783612233121 0.8851702250432776\n",
      "7 [4580] 0.8678592036930178 0.9013271783035199 0.8834391229082516\n",
      "8 [6432] 0.877668782458165 0.894402769763416 0.8851702250432776\n",
      "9 [3840] 0.864396999422966 0.8955568378534333 0.8834391229082516\n",
      "10 [3716] 0.8805539526832084 0.894402769763416 0.8822850548182343\n",
      "11 [2515] 0.8724754760530872 0.8972879399884593 0.8840161569532602\n",
      "12 [1974] 0.8568955568378535 0.8915175995383727 0.8840161569532602\n",
      "13 [9435] 0.8649740334679746 0.8909405654933641 0.8897864974033468\n",
      "14 [2556] 0.8880553952683208 0.8920946335833814 0.8834391229082516\n",
      "15 [4042] 0.8667051356030006 0.9007501442585113 0.8857472590882862\n",
      "16 [531] 0.8736295441431045 0.9013271783035199 0.8863242931332949\n",
      "17 [288] 0.8718984420080784 0.8932487016733988 0.894402769763416\n",
      "18 [5282] 0.8528563185227929 0.896133871898442 0.8915175995383727\n",
      "19 [6765] 0.8903635314483554 0.8967109059434507 0.8874783612233121\n",
      "20 [3699] 0.8638199653779572 0.9024812463935372 0.8863242931332949\n",
      "21 [1592] 0.8615118291979227 0.8955568378534333 0.8869013271783035\n",
      "22 [5045] 0.8822850548182343 0.8990190421234853 0.8822850548182343\n",
      "23 [5604] 0.8540103866128101 0.8972879399884593 0.8834391229082516\n",
      "24 [2063] 0.8701673398730525 0.8920946335833814 0.8840161569532602\n",
      "25 [6903] 0.8765147143681478 0.9001731102135025 0.8822850548182343\n",
      "26 [6206] 0.8563185227928448 0.8984420080784766 0.8828620888632429\n",
      "27 [2413] 0.8401615695326025 0.8990190421234853 0.8817080207732256\n",
      "28 [7488] 0.8557414887478362 0.8967109059434507 0.8863242931332949\n",
      "29 [6693] 0.8430467397576457 0.8984420080784766 0.8817080207732256\n",
      "30 [4963] 0.8863242931332949 0.8938257357184074 0.8799769186381996\n",
      "31 [9972] 0.8770917484131564 0.9019042123485286 0.8892094633583382\n",
      "32 [1235] 0.847663012117715 0.8990190421234853 0.8840161569532602\n",
      "33 [2251] 0.86266589728794 0.8984420080784766 0.8828620888632429\n",
      "34 [7357] 0.8072706289671091 0.8938257357184074 0.8782458165031737\n",
      "35 [583] 0.8574725908828621 0.8984420080784766 0.8747836122331217\n",
      "36 [2553] 0.8574725908828621 0.9007501442585113 0.8805539526832084\n",
      "37 [2658] 0.829197922677438 0.8915175995383727 0.8817080207732256\n",
      "38 [455] 0.8188113098672821 0.8972879399884593 0.879399884593191\n",
      "39 [8981] 0.8384304673975764 0.8955568378534333 0.8886324293133295\n",
      "40 [6607] 0.8332371609924986 0.896133871898442 0.8874783612233121\n",
      "41 [1096] 0.8159261396422389 0.8967109059434507 0.8869013271783035\n",
      "42 [3904] 0.844200807847663 0.8892094633583382 0.8851702250432776\n",
      "43 [7467] 0.8216964800923254 0.897864974033468 0.879399884593191\n",
      "44 [7195] 0.8488170802077323 0.9007501442585113 0.8817080207732256\n",
      "45 [687] 0.842469705712637 0.9013271783035199 0.8892094633583382\n",
      "46 [6612] 0.8286208886324293 0.8972879399884593 0.8730525100980958\n",
      "47 [6946] 0.8055395268320831 0.8949798038084247 0.875937680323139\n",
      "48 [7415] 0.8020773225620311 0.8955568378534333 0.8770917484131564\n",
      "49 [8910] 0.844200807847663 0.8932487016733988 0.8869013271783035\n",
      "50 [7098] 0.8447778418926717 0.8926716676283901 0.879399884593191\n",
      "51 [7039] 0.8620888632429313 0.8897864974033468 0.8730525100980958\n",
      "52 [9780] 0.8326601269474899 0.897864974033468 0.8770917484131564\n",
      "53 [3248] 0.8649740334679746 0.894402769763416 0.8863242931332949\n",
      "54 [7032] 0.8470859780727062 0.8955568378534333 0.8857472590882862\n",
      "55 [1774] 0.8436237738026544 0.8995960761684939 0.8817080207732256\n",
      "56 [9674] 0.7974610502019619 0.9013271783035199 0.8834391229082516\n",
      "57 [6362] 0.8009232544720138 0.8903635314483554 0.8736295441431045\n",
      "58 [8967] 0.825735718407386 0.8938257357184074 0.8805539526832084\n",
      "59 [9077] 0.8713214079630698 0.8967109059434507 0.8845931909982689\n",
      "60 [2220] 0.7813040969417195 0.8886324293133295 0.877668782458165\n",
      "61 [3156] 0.8817080207732256 0.8926716676283901 0.8834391229082516\n",
      "62 [5640] 0.8286208886324293 0.8932487016733988 0.881130986728217\n",
      "63 [8242] 0.8447778418926717 0.894402769763416 0.8834391229082516\n",
      "64 [2218] 0.8401615695326025 0.896133871898442 0.8742065781881131\n",
      "65 [4319] 0.8857472590882862 0.9001731102135025 0.8834391229082516\n",
      "66 [5798] 0.790536641661858 0.8995960761684939 0.881130986728217\n",
      "67 [8419] 0.8066935949221004 0.9053664166185805 0.8770917484131564\n",
      "68 [4873] 0.8482400461627236 0.8995960761684939 0.8788228505481823\n",
      "69 [8396] 0.8182342758222735 0.8967109059434507 0.8834391229082516\n",
      "70 [9755] 0.8730525100980958 0.8949798038084247 0.8770917484131564\n",
      "71 [4313] 0.8574725908828621 0.896133871898442 0.8782458165031737\n",
      "72 [4630] 0.8349682631275245 0.8926716676283901 0.8805539526832084\n",
      "73 [9956] 0.8430467397576457 0.8897864974033468 0.8822850548182343\n",
      "74 [580] 0.8742065781881131 0.8938257357184074 0.8851702250432776\n",
      "75 [3794] 0.8874783612233121 0.8909405654933641 0.8799769186381996\n",
      "76 [8910] 0.8493941142527409 0.8920946335833814 0.8869013271783035\n",
      "77 [7098] 0.8309290248124639 0.8903635314483554 0.8845931909982689\n",
      "78 [7039] 0.8632429313329486 0.8932487016733988 0.8828620888632429\n",
      "79 [9780] 0.8488170802077323 0.8949798038084247 0.881130986728217\n",
      "80 [3248] 0.8724754760530872 0.8857472590882862 0.8857472590882862\n",
      "81 [7032] 0.844200807847663 0.8845931909982689 0.8920946335833814\n",
      "82 [1774] 0.8390075014425851 0.8892094633583382 0.8874783612233121\n",
      "83 [9674] 0.8072706289671091 0.8932487016733988 0.8874783612233121\n",
      "84 [6362] 0.8153491055972303 0.8845931909982689 0.8799769186381996\n",
      "85 [8967] 0.8361223312175419 0.8903635314483554 0.8742065781881131\n",
      "86 [9077] 0.8701673398730525 0.8949798038084247 0.8782458165031737\n",
      "87 [2220] 0.8061165608770917 0.8897864974033468 0.877668782458165\n",
      "88 [3156] 0.8926716676283901 0.8920946335833814 0.8817080207732256\n",
      "89 [5640] 0.8378534333525678 0.8955568378534333 0.8822850548182343\n",
      "90 [8242] 0.8638199653779572 0.8903635314483554 0.875937680323139\n",
      "91 [2218] 0.8499711482977496 0.8926716676283901 0.8730525100980958\n",
      "92 [4319] 0.8938257357184074 0.897864974033468 0.879399884593191\n",
      "93 [5798] 0.8251586843623774 0.8949798038084247 0.8770917484131564\n",
      "94 [8419] 0.8390075014425851 0.8897864974033468 0.8770917484131564\n",
      "95 [4873] 0.859203693017888 0.8869013271783035 0.8788228505481823\n",
      "96 [8396] 0.8268897864974033 0.8920946335833814 0.8753606462781304\n",
      "97 [9755] 0.8742065781881131 0.8938257357184074 0.8701673398730525\n",
      "98 [4313] 0.8672821696480092 0.8984420080784766 0.8742065781881131\n",
      "99 [4630] 0.8470859780727062 0.9001731102135025 0.8718984420080784\n"
     ]
    }
   ],
   "source": [
    "Runs = 100\n",
    "NN_comparison = np.zeros(Runs)\n",
    "NN_modemode = np.zeros(Runs)\n",
    "NN_median = np.zeros(Runs)\n",
    "\n",
    "for i in range(Runs):\n",
    "    s = np.random.choice(np.arange(10000).astype(\"int\"),1)\n",
    "    Test_Score = TestNN(s)\n",
    "    Mode_Score = ModeModeNN(s)\n",
    "    Median_Score = MedianNN(s)\n",
    "    print(i,s,Test_Score,Mode_Score, Median_Score)\n",
    "    NN_comparison[i] = Test_Score\n",
    "    NN_modemode[i] = Mode_Score\n",
    "    NN_median[i] = Median_Score\n"
   ]
  },
  {
   "cell_type": "code",
   "execution_count": 70,
   "metadata": {
    "pycharm": {
     "name": "#%%\n"
    }
   },
   "outputs": [
    {
     "data": {
      "text/plain": "(100, 100, 100)"
     },
     "execution_count": 70,
     "metadata": {},
     "output_type": "execute_result"
    }
   ],
   "source": [
    "len(NN_modemode), len(NN_comparison), len(NN_median)"
   ]
  },
  {
   "cell_type": "code",
   "execution_count": 71,
   "metadata": {
    "pycharm": {
     "name": "#%%\n"
    }
   },
   "outputs": [
    {
     "data": {
      "text/plain": "<Figure size 540x313.2 with 1 Axes>",
      "image/png": "[encoded data removed]"
     },
     "metadata": {},
     "output_type": "display_data"
    }
   ],
   "source": [
    "fig = plt.gcf()\n",
    "fig.set_size_inches(7.5,4.35)\n",
    "plt.hist(NN_comparison)\n",
    "plt.hist(NN_median, color=\"black\")\n",
    "plt.hist(NN_modemode, color=\"red\", bins=10)\n",
    "#plt.axvline(Accuracy_BestXAI, c=\"red\")\n",
    "#plt.axvline(Accuracy_BestMedianXAI,  c=\"black\")\n",
    "plt.xlabel(\"Accuracy of NN\",fontsize=14)\n",
    "plt.ylabel(\"Frequency\",fontsize=14)\n",
    "plt.title(\"Comparison: NN for Best XAI vs. Random Features\",\n",
    "          fontsize = 16)\n",
    "#plt.savefig(\"Comparison_RandomFeatures_vs_XAImode_100NNs\",dpi=600)\n",
    "plt.show()"
   ]
  },
  {
   "cell_type": "code",
   "execution_count": 72,
   "metadata": {
    "pycharm": {
     "name": "#%%\n"
    }
   },
   "outputs": [
    {
     "data": {
      "text/plain": "<Figure size 540x252 with 1 Axes>",
      "image/png": "[encoded data removed]"
     },
     "metadata": {},
     "output_type": "display_data"
    }
   ],
   "source": [
    "fig = plt.gcf()\n",
    "fig.set_size_inches(7.5,3.5)\n",
    "plt.subplots_adjust(bottom=0.15)\n",
    "sns.kdeplot(NN_comparison, label =\"Random\", fill=True)\n",
    "sns.kdeplot(NN_median, color = \"black\", label=\"Median\",fill=True)\n",
    "sns.kdeplot(NN_modemode, color = \"red\", label=\"Mode-Mode\",fill=True)\n",
    "plt.legend(loc=\"upper left\")\n",
    "plt.xlabel(\"Accuracy of Prediction by NN\",fontsize=14)\n",
    "plt.ylabel(\"Kernel Density\",fontsize=14)\n",
    "#plt.title(\"Comparison: NN for Best XAI vs. Random Features\",          fontsize = 16)\n",
    "plt.savefig(\"Comparison_100NNs_kde.pdf\",dpi=600, bbox_to_inches=\"tight\")\n",
    "plt.show()"
   ]
  },
  {
   "cell_type": "code",
   "execution_count": 73,
   "metadata": {
    "pycharm": {
     "name": "#%%\n"
    }
   },
   "outputs": [
    {
     "name": "stdout",
     "output_type": "stream",
     "text": [
      "0.8817830351990765 0.005011669407337001 0.8867947046064135\n",
      "0.8946739757645702 0.004479698551525496 0.8901942772130447\n",
      "0.8496249278707444 0.8748104643966848\n"
     ]
    }
   ],
   "source": [
    "print(np.mean(NN_median), np.std(NN_median),np.mean(NN_median)+ np.std(NN_median) )\n",
    "print(np.mean(NN_modemode), np.std(NN_modemode),np.mean(NN_modemode)- np.std(NN_modemode) )\n",
    "print(np.mean(NN_comparison),np.mean(NN_comparison) + np.std(NN_comparison) )\n"
   ]
  },
  {
   "cell_type": "code",
   "execution_count": 74,
   "metadata": {
    "pycharm": {
     "name": "#%%\n"
    }
   },
   "outputs": [
    {
     "name": "stdout",
     "output_type": "stream",
     "text": [
      "0.85 0.882 0.895\n",
      "0.025 0.005 0.004\n"
     ]
    }
   ],
   "source": [
    "print(np.round(np.mean(NN_comparison),3), np.round(np.mean(NN_median),3),np.round(np.mean(NN_modemode),3))\n",
    "print(np.round(np.std(NN_comparison),3), np.round(np.std(NN_median),3),np.round(np.std(NN_modemode),3))\n"
   ]
  },
  {
   "cell_type": "code",
   "execution_count": 75,
   "metadata": {
    "pycharm": {
     "name": "#%%\n"
    }
   },
   "outputs": [
    {
     "name": "stdout",
     "output_type": "stream",
     "text": [
      "Model: \"sequential_2\"\n",
      "_________________________________________________________________\n",
      " Layer (type)                Output Shape              Param #   \n",
      "=================================================================\n",
      " dense_12 (Dense)            (None, 256)               2304      \n",
      "                                                                 \n",
      " dense_13 (Dense)            (None, 128)               32896     \n",
      "                                                                 \n",
      " dense_14 (Dense)            (None, 128)               16512     \n",
      "                                                                 \n",
      " dense_15 (Dense)            (None, 1024)              132096    \n",
      "                                                                 \n",
      " dense_16 (Dense)            (None, 128)               131200    \n",
      "                                                                 \n",
      " dropout_2 (Dropout)         (None, 128)               0         \n",
      "                                                                 \n",
      " dense_17 (Dense)            (None, 8)                 1032      \n",
      "                                                                 \n",
      "=================================================================\n",
      "Total params: 316,040\n",
      "Trainable params: 316,040\n",
      "Non-trainable params: 0\n",
      "_________________________________________________________________\n"
     ]
    }
   ],
   "source": [
    "model.summary()"
   ]
  },
  {
   "cell_type": "markdown",
   "metadata": {
    "pycharm": {
     "name": "#%% md\n"
    }
   },
   "source": [
    "### Additional Benchmark\n",
    "Compare it to a NN that only selects features that DO NOT belong to the top eight mode-mode features."
   ]
  },
  {
   "cell_type": "code",
   "execution_count": 76,
   "metadata": {
    "pycharm": {
     "name": "#%%\n"
    }
   },
   "outputs": [
    {
     "name": "stdout",
     "output_type": "stream",
     "text": [
      "[ 2  3  4  5  6  7  9 10 11 13 14 15 16 17 18 19 20 22 23 24 25 26 28 29\n",
      " 30 31 32 33 34 37 38 39 40 41 42 43 44]\n"
     ]
    },
    {
     "data": {
      "text/plain": "37"
     },
     "execution_count": 76,
     "metadata": {},
     "output_type": "execute_result"
    }
   ],
   "source": [
    "\n",
    "LeftoverFeatures = set(range(XAI.shape[1])) - set(OptimalXAI[:,1])\n",
    "LeftoverFeatures = np.array(list(LeftoverFeatures)).astype(\"int\")\n",
    "print(LeftoverFeatures)\n",
    "len(LeftoverFeatures)"
   ]
  },
  {
   "cell_type": "code",
   "execution_count": 77,
   "metadata": {
    "pycharm": {
     "name": "#%%\n"
    }
   },
   "outputs": [],
   "source": [
    "def TestNN_Bad(seed = 1234):\n",
    "    np.random.seed(seed)\n",
    "    Index = np.random.choice(LeftoverFeatures, # features to compare optimal XAI to\n",
    "                     size = len(list(set(OptimalXAI[:,1]))),\n",
    "                     replace = False)\n",
    "    CM_Reduced = CorrMatrices[:,Index]\n",
    "    X_train, X_test, y_train, y_test = train_test_split(CM_Reduced, encoded_Y,\n",
    "                                                    test_size=0.33, random_state=1)\n",
    "    model.fit(X_train, y_train,\n",
    "          batch_size=batch_size,\n",
    "          epochs=epochs,\n",
    "          validation_split=0.5,\n",
    "          verbose=0)\n",
    "    y_hat = np.argmax(model.predict(X_test),1)\n",
    "    return(np.mean(y_hat == np.argmax(y_test,1)))"
   ]
  },
  {
   "cell_type": "code",
   "execution_count": 78,
   "metadata": {
    "pycharm": {
     "name": "#%%\n"
    }
   },
   "outputs": [
    {
     "name": "stdout",
     "output_type": "stream",
     "text": [
      "0 0.8418926716676284\n",
      "1 0.8061165608770917\n",
      "2 0.8015002885170225\n",
      "3 0.8309290248124639\n",
      "4 0.8101557991921523\n",
      "5 0.8101557991921523\n",
      "6 0.7784189267166762\n",
      "7 0.8447778418926717\n",
      "8 0.7951529140219273\n",
      "9 0.8141950375072129\n",
      "10 0.7784189267166762\n",
      "11 0.8009232544720138\n",
      "12 0.8303519907674553\n",
      "13 0.8384304673975764\n",
      "14 0.7293710328909405\n",
      "15 0.812463935372187\n",
      "16 0.7963069821119446\n",
      "17 0.8268897864974033\n",
      "18 0.8049624927870744\n",
      "19 0.8153491055972303\n",
      "20 0.7830351990767456\n",
      "21 0.7599538372763993\n",
      "22 0.7853433352567801\n",
      "23 0.795729948066936\n",
      "24 0.7409117137911136\n",
      "25 0.7686093479515291\n",
      "26 0.7997691863819966\n",
      "27 0.8390075014425851\n",
      "28 0.7253317945758799\n",
      "29 0.8101557991921523\n",
      "30 0.7628390075014426\n",
      "31 0.7807270628967109\n",
      "32 0.8113098672821697\n",
      "33 0.7876514714368148\n",
      "34 0.7518753606462781\n",
      "35 0.7553375649163301\n",
      "36 0.790536641661858\n",
      "37 0.7628390075014426\n",
      "38 0.7766878245816503\n",
      "39 0.8118869013271783\n",
      "40 0.7109059434506636\n",
      "41 0.7634160415464513\n",
      "42 0.773802654356607\n",
      "43 0.7657241777264858\n",
      "44 0.7801500288517023\n",
      "45 0.7916907097518754\n",
      "46 0.7749567224466244\n",
      "47 0.7836122331217542\n",
      "48 0.8055395268320831\n",
      "49 0.7841892671667628\n",
      "50 0.7830351990767456\n",
      "51 0.7564916330063474\n",
      "52 0.7634160415464513\n",
      "53 0.7951529140219273\n",
      "54 0.7726485862665897\n",
      "55 0.8234275822273515\n",
      "56 0.7697634160415464\n",
      "57 0.7813040969417195\n",
      "58 0.8009232544720138\n",
      "59 0.7899596076168494\n",
      "60 0.7114829774956722\n",
      "61 0.7639930755914599\n",
      "62 0.7657241777264858\n",
      "63 0.8193883439122909\n",
      "64 0.7818811309867282\n",
      "65 0.758799769186382\n",
      "66 0.7963069821119446\n",
      "67 0.7893825735718407\n",
      "68 0.7357184073860358\n",
      "69 0.790536641661858\n",
      "70 0.8141950375072129\n",
      "71 0.7968840161569533\n",
      "72 0.8061165608770917\n",
      "73 0.7761107905366417\n",
      "74 0.7443739180611656\n",
      "75 0.7616849394114252\n",
      "76 0.7963069821119446\n",
      "77 0.8366993652625505\n",
      "78 0.8015002885170225\n",
      "79 0.7813040969417195\n",
      "80 0.8205424120023082\n",
      "81 0.8182342758222735\n",
      "82 0.7611079053664166\n",
      "83 0.8286208886324293\n",
      "84 0.8286208886324293\n",
      "85 0.8101557991921523\n",
      "86 0.8199653779572995\n",
      "87 0.8147720715522215\n",
      "88 0.7651471436814772\n",
      "89 0.7991921523369879\n",
      "90 0.8032313906520485\n",
      "91 0.8372763993075591\n",
      "92 0.8366993652625505\n",
      "93 0.7963069821119446\n",
      "94 0.8361223312175419\n",
      "95 0.809001731102135\n",
      "96 0.775533756491633\n",
      "97 0.8482400461627236\n",
      "98 0.8338141950375072\n",
      "99 0.8251586843623774\n"
     ]
    }
   ],
   "source": [
    "NN_Leftovers = np.zeros(Runs)\n",
    "\n",
    "for i in range(Runs):\n",
    "    s = np.random.choice(np.arange(10000).astype(\"int\"),1)\n",
    "    Leftover_Score = TestNN_Bad(s)\n",
    "    NN_Leftovers[i] = Leftover_Score\n",
    "    print(i, Leftover_Score)"
   ]
  },
  {
   "cell_type": "code",
   "execution_count": 79,
   "metadata": {
    "pycharm": {
     "name": "#%%\n"
    }
   },
   "outputs": [
    {
     "data": {
      "text/plain": "0.7923254472013848"
     },
     "execution_count": 79,
     "metadata": {},
     "output_type": "execute_result"
    }
   ],
   "source": [
    "np.mean(NN_Leftovers)"
   ]
  },
  {
   "cell_type": "code",
   "execution_count": 80,
   "metadata": {
    "pycharm": {
     "name": "#%%\n"
    }
   },
   "outputs": [
    {
     "data": {
      "text/plain": "<Figure size 540x252 with 1 Axes>",
      "image/png": "[encoded data removed]"
     },
     "metadata": {},
     "output_type": "display_data"
    }
   ],
   "source": [
    "fig = plt.gcf()\n",
    "fig.set_size_inches(7.5,3.5)\n",
    "plt.subplots_adjust(bottom=0.15)\n",
    "sns.kdeplot(NN_Leftovers, label =\"Random\", fill=True)\n",
    "sns.kdeplot(NN_median, color = \"black\", label=\"Median\",fill=True)\n",
    "sns.kdeplot(NN_modemode, color = \"red\", label=\"Mode-Mode\",fill=True)\n",
    "#sns.kdeplot(NN_Leftovers, color = \"green\", label = \"Only Suboptimal\", fill = True)\n",
    "plt.legend(loc=\"upper left\")\n",
    "plt.xlabel(\"Accuracy of NN\",fontsize=14)\n",
    "plt.ylabel(\"Frequency\",fontsize=14)\n",
    "#plt.title(\"Comparison: NN for Best XAI vs. Random Features\",fontsize = 16)\n",
    "plt.savefig(\"Comparison_100NNs_kde_withLeftovers.pdf\",dpi=600)\n",
    "plt.show()"
   ]
  },
  {
   "cell_type": "code",
   "execution_count": 80,
   "outputs": [],
   "source": [],
   "metadata": {
    "collapsed": false,
    "pycharm": {
     "name": "#%%\n"
    }
   }
  }
 ],
 "metadata": {
  "kernelspec": {
   "display_name": "Python 3 (ipykernel)",
   "language": "python",
   "name": "python3"
  },
  "language_info": {
   "codemirror_mode": {
    "name": "ipython",
    "version": 3
   },
   "file_extension": ".py",
   "mimetype": "text/x-python",
   "name": "python",
   "nbconvert_exporter": "python",
   "pygments_lexer": "ipython3",
   "version": "3.7.3"
  }
 },
 "nbformat": 4,
 "nbformat_minor": 1
}