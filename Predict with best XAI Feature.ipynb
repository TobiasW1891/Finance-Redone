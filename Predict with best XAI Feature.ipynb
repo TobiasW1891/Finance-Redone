{
 "cells": [
  {
   "cell_type": "code",
   "execution_count": 17,
   "metadata": {
    "collapsed": true
   },
   "outputs": [],
   "source": [
    "import antiCPy\n",
    "import numpy as np\n",
    "import matplotlib.pyplot as plt\n",
    "import warnings\n",
    "warnings.filterwarnings(\"ignore\")\n",
    "from sklearn.cluster import KMeans\n",
    "from sklearn.ensemble import RandomForestClassifier\n",
    "from sklearn.model_selection import train_test_split\n",
    "from imblearn.over_sampling import SMOTE\n",
    "import tensorflow.keras as keras\n",
    "from tensorflow.keras import layers\n",
    "from tensorflow.keras.layers import LeakyReLU\n",
    "from sklearn.preprocessing import LabelEncoder\n",
    "from keras.utils import np_utils\n",
    "import seaborn as sns\n",
    "sns.set()"
   ]
  },
  {
   "cell_type": "code",
   "execution_count": 18,
   "outputs": [
    {
     "name": "stdout",
     "output_type": "stream",
     "text": [
      "[[ 0 11]\n",
      " [ 1 40]\n",
      " [ 2 37]\n",
      " [ 3 41]\n",
      " [ 4 16]\n",
      " [ 5 16]\n",
      " [ 6 14]\n",
      " [ 7 16]] [False False False False False False False False False False False False\n",
      " False False  True  True  True False False False False False False  True\n",
      " False False False False False False  True False False False False False\n",
      " False False False False False  True False False False False False False\n",
      " False False False False False False False]\n",
      "(5251, 6)\n"
     ]
    }
   ],
   "source": [
    "XAI = np.load(\"XAI_Finance.npy\")\n",
    "Names = np.load(\"Names.npy\")\n",
    "CorrMatrices = np.load(\"CorrMatricesTriangular.npy\")\n",
    "LabelNaiveOrdered = np.load(\"LabelNaiveOrdered.npy\")\n",
    "#OptimalXAI = np.load(\"OptimalXAIFeature.npy\")\n",
    "# now something different\n",
    "OptimalXAI = np.load(\"XAI_modes.npy\")\n",
    "MedianLogical = np.load(\"MedianLogical.npy\")\n",
    "print(OptimalXAI, MedianLogical)\n",
    "print(CorrMatrices[:, MedianLogical].shape)"
   ],
   "metadata": {
    "collapsed": false,
    "pycharm": {
     "name": "#%%\n"
    }
   }
  },
  {
   "cell_type": "code",
   "execution_count": 19,
   "outputs": [
    {
     "data": {
      "text/plain": "[<matplotlib.lines.Line2D at 0x7f3e8c18e710>]"
     },
     "execution_count": 19,
     "metadata": {},
     "output_type": "execute_result"
    },
    {
     "data": {
      "text/plain": "<Figure size 432x288 with 1 Axes>",
      "image/png": "[encoded data removed]"
     },
     "metadata": {},
     "output_type": "display_data"
    }
   ],
   "source": [
    "#plt.plot(np.sort(abs(XAI).mean(0)))\n",
    "plt.plot(np.sort(np.median(abs(XAI),0)))"
   ],
   "metadata": {
    "collapsed": false,
    "pycharm": {
     "name": "#%%\n"
    }
   }
  },
  {
   "cell_type": "markdown",
   "source": [
    "### Train NN with all relevant features\n",
    "\n",
    "For this, we need one-hot encoded y"
   ],
   "metadata": {
    "collapsed": false
   }
  },
  {
   "cell_type": "code",
   "execution_count": 20,
   "outputs": [
    {
     "name": "stdout",
     "output_type": "stream",
     "text": [
      "{37, 40, 41, 11, 14, 16}\n",
      "(5251, 6)\n",
      "[[1. 0. 0. ... 0. 0. 0.]\n",
      " [1. 0. 0. ... 0. 0. 0.]\n",
      " [1. 0. 0. ... 0. 0. 0.]\n",
      " ...\n",
      " [0. 0. 0. ... 0. 0. 1.]\n",
      " [0. 0. 0. ... 0. 0. 1.]\n",
      " [0. 0. 0. ... 0. 0. 1.]]\n"
     ]
    }
   ],
   "source": [
    "print(set(OptimalXAI[:,1]))\n",
    "CM_Reduced = CorrMatrices[:,list(set(OptimalXAI[:,1]))]\n",
    "print(CM_Reduced.shape)\n",
    "\n",
    "# one hot encoded\n",
    "encoded_Y = np_utils.to_categorical(LabelNaiveOrdered)\n",
    "\n",
    "X_train, X_test, y_train, y_test = train_test_split(CM_Reduced, encoded_Y,\n",
    "                                                    test_size=0.33, random_state=1)\n",
    "print(encoded_Y)\n",
    "\n",
    "# reverse the encoding via\n",
    "# np.argmax(encoded_Y, 1)"
   ],
   "metadata": {
    "collapsed": false,
    "pycharm": {
     "name": "#%%\n"
    }
   }
  },
  {
   "cell_type": "code",
   "execution_count": 21,
   "outputs": [
    {
     "data": {
      "text/plain": "<Figure size 576x216 with 2 Axes>",
      "image/png": "[encoded data removed]"
     },
     "metadata": {},
     "output_type": "display_data"
    }
   ],
   "source": [
    "fig, (ax1, ax2) = plt.subplots(1, 2)\n",
    "fig.set_size_inches(8, 3)\n",
    "ax1.hist(np.argmax(y_train,1), density = True,\n",
    "         bins = np.arange(-0.5, max(np.argmax(y_train,1))+1.5,1))\n",
    "ax2.hist(np.argmax(y_test,1),density = True,\n",
    "         bins = np.arange(-0.5, max(np.argmax(y_test,1))+1.5,1))\n",
    "plt.suptitle(\"Histograms of Training and Test Labels\")\n",
    "plt.show()"
   ],
   "metadata": {
    "collapsed": false,
    "pycharm": {
     "name": "#%%\n"
    }
   }
  },
  {
   "cell_type": "code",
   "execution_count": 22,
   "outputs": [
    {
     "name": "stdout",
     "output_type": "stream",
     "text": [
      "6 8\n",
      "Model: \"sequential_1\"\n",
      "_________________________________________________________________\n",
      " Layer (type)                Output Shape              Param #   \n",
      "=================================================================\n",
      " dense_6 (Dense)             (None, 256)               1792      \n",
      "                                                                 \n",
      " dense_7 (Dense)             (None, 128)               32896     \n",
      "                                                                 \n",
      " dense_8 (Dense)             (None, 128)               16512     \n",
      "                                                                 \n",
      " dense_9 (Dense)             (None, 1024)              132096    \n",
      "                                                                 \n",
      " dense_10 (Dense)            (None, 128)               131200    \n",
      "                                                                 \n",
      " dropout_1 (Dropout)         (None, 128)               0         \n",
      "                                                                 \n",
      " dense_11 (Dense)            (None, 8)                 1032      \n",
      "                                                                 \n",
      "=================================================================\n",
      "Total params: 315,528\n",
      "Trainable params: 315,528\n",
      "Non-trainable params: 0\n",
      "_________________________________________________________________\n"
     ]
    }
   ],
   "source": [
    "n_In = CM_Reduced.shape[1]\n",
    "num_classes = len(set(LabelNaiveOrdered))\n",
    "print(n_In, num_classes)\n",
    "\n",
    "model = keras.Sequential(\n",
    "    [\n",
    "        layers.Dense(units = 256, input_shape=(n_In,), activation = \"selu\"),\n",
    "        layers.Dense(units=128, activation=\"relu\"),\n",
    "        layers.Dense(units=128, activation=\"relu\"),\n",
    "        layers.Dense(units=1024,\n",
    "              activation=keras.layers.LeakyReLU(alpha=0.05)),\n",
    "        layers.Dense(units=128,\n",
    "              activation=keras.layers.LeakyReLU(alpha=0.01)),\n",
    "        layers.Dropout(0.3),\n",
    "        layers.Dense(units =num_classes, activation=\"softmax\"),\n",
    "    ]\n",
    ")\n",
    "#model.build(n_In)\n",
    "model.summary()"
   ],
   "metadata": {
    "collapsed": false,
    "pycharm": {
     "name": "#%%\n"
    }
   }
  },
  {
   "cell_type": "code",
   "execution_count": 23,
   "outputs": [
    {
     "name": "stdout",
     "output_type": "stream",
     "text": [
      "Epoch 1/100\n",
      "14/14 [==============================] - 0s 11ms/step - loss: 2.0415 - accuracy: 0.2399 - val_loss: 2.0134 - val_accuracy: 0.2331\n",
      "Epoch 2/100\n",
      "14/14 [==============================] - 0s 5ms/step - loss: 1.9671 - accuracy: 0.2763 - val_loss: 1.9444 - val_accuracy: 0.2609\n",
      "Epoch 3/100\n",
      "14/14 [==============================] - 0s 5ms/step - loss: 1.8771 - accuracy: 0.3189 - val_loss: 1.8524 - val_accuracy: 0.3309\n",
      "Epoch 4/100\n",
      "14/14 [==============================] - 0s 5ms/step - loss: 1.7646 - accuracy: 0.3889 - val_loss: 1.7236 - val_accuracy: 0.4190\n",
      "Epoch 5/100\n",
      "14/14 [==============================] - 0s 5ms/step - loss: 1.6111 - accuracy: 0.4974 - val_loss: 1.5613 - val_accuracy: 0.5026\n",
      "Epoch 6/100\n",
      "14/14 [==============================] - 0s 4ms/step - loss: 1.4449 - accuracy: 0.5486 - val_loss: 1.3860 - val_accuracy: 0.5497\n",
      "Epoch 7/100\n",
      "14/14 [==============================] - 0s 4ms/step - loss: 1.2912 - accuracy: 0.5776 - val_loss: 1.2341 - val_accuracy: 0.5782\n",
      "Epoch 8/100\n",
      "14/14 [==============================] - 0s 4ms/step - loss: 1.1688 - accuracy: 0.6009 - val_loss: 1.1282 - val_accuracy: 0.5901\n",
      "Epoch 9/100\n",
      "14/14 [==============================] - 0s 5ms/step - loss: 1.0933 - accuracy: 0.6146 - val_loss: 1.0491 - val_accuracy: 0.6128\n",
      "Epoch 10/100\n",
      "14/14 [==============================] - 0s 5ms/step - loss: 1.0290 - accuracy: 0.6100 - val_loss: 1.0050 - val_accuracy: 0.6174\n",
      "Epoch 11/100\n",
      "14/14 [==============================] - 0s 5ms/step - loss: 0.9954 - accuracy: 0.6276 - val_loss: 0.9592 - val_accuracy: 0.6293\n",
      "Epoch 12/100\n",
      "14/14 [==============================] - 0s 4ms/step - loss: 0.9562 - accuracy: 0.6464 - val_loss: 0.9318 - val_accuracy: 0.6401\n",
      "Epoch 13/100\n",
      "14/14 [==============================] - 0s 4ms/step - loss: 0.9343 - accuracy: 0.6504 - val_loss: 0.9120 - val_accuracy: 0.6464\n",
      "Epoch 14/100\n",
      "14/14 [==============================] - 0s 4ms/step - loss: 0.9172 - accuracy: 0.6555 - val_loss: 0.8848 - val_accuracy: 0.6617\n",
      "Epoch 15/100\n",
      "14/14 [==============================] - 0s 4ms/step - loss: 0.8922 - accuracy: 0.6543 - val_loss: 0.8643 - val_accuracy: 0.6782\n",
      "Epoch 16/100\n",
      "14/14 [==============================] - 0s 4ms/step - loss: 0.8735 - accuracy: 0.6686 - val_loss: 0.8551 - val_accuracy: 0.6669\n",
      "Epoch 17/100\n",
      "14/14 [==============================] - 0s 4ms/step - loss: 0.8631 - accuracy: 0.6765 - val_loss: 0.8380 - val_accuracy: 0.6799\n",
      "Epoch 18/100\n",
      "14/14 [==============================] - 0s 4ms/step - loss: 0.8462 - accuracy: 0.6794 - val_loss: 0.8246 - val_accuracy: 0.6862\n",
      "Epoch 19/100\n",
      "14/14 [==============================] - 0s 4ms/step - loss: 0.8197 - accuracy: 0.6919 - val_loss: 0.8220 - val_accuracy: 0.6703\n",
      "Epoch 20/100\n",
      "14/14 [==============================] - 0s 4ms/step - loss: 0.8102 - accuracy: 0.6993 - val_loss: 0.8054 - val_accuracy: 0.6907\n",
      "Epoch 21/100\n",
      "14/14 [==============================] - 0s 5ms/step - loss: 0.7897 - accuracy: 0.7004 - val_loss: 0.7942 - val_accuracy: 0.6936\n",
      "Epoch 22/100\n",
      "14/14 [==============================] - 0s 5ms/step - loss: 0.8023 - accuracy: 0.6976 - val_loss: 0.7920 - val_accuracy: 0.7044\n",
      "Epoch 23/100\n",
      "14/14 [==============================] - 0s 5ms/step - loss: 0.7920 - accuracy: 0.7044 - val_loss: 0.7943 - val_accuracy: 0.6976\n",
      "Epoch 24/100\n",
      "14/14 [==============================] - 0s 5ms/step - loss: 0.7736 - accuracy: 0.7055 - val_loss: 0.7702 - val_accuracy: 0.7010\n",
      "Epoch 25/100\n",
      "14/14 [==============================] - 0s 4ms/step - loss: 0.7533 - accuracy: 0.7203 - val_loss: 0.7736 - val_accuracy: 0.6896\n",
      "Epoch 26/100\n",
      "14/14 [==============================] - 0s 4ms/step - loss: 0.7473 - accuracy: 0.7135 - val_loss: 0.7558 - val_accuracy: 0.7084\n",
      "Epoch 27/100\n",
      "14/14 [==============================] - 0s 4ms/step - loss: 0.7511 - accuracy: 0.7095 - val_loss: 0.7569 - val_accuracy: 0.7084\n",
      "Epoch 28/100\n",
      "14/14 [==============================] - 0s 4ms/step - loss: 0.7336 - accuracy: 0.7277 - val_loss: 0.7444 - val_accuracy: 0.7106\n",
      "Epoch 29/100\n",
      "14/14 [==============================] - 0s 4ms/step - loss: 0.7346 - accuracy: 0.7214 - val_loss: 0.7514 - val_accuracy: 0.7112\n",
      "Epoch 30/100\n",
      "14/14 [==============================] - 0s 4ms/step - loss: 0.7302 - accuracy: 0.7271 - val_loss: 0.7327 - val_accuracy: 0.7123\n",
      "Epoch 31/100\n",
      "14/14 [==============================] - 0s 4ms/step - loss: 0.7148 - accuracy: 0.7368 - val_loss: 0.7315 - val_accuracy: 0.7214\n",
      "Epoch 32/100\n",
      "14/14 [==============================] - 0s 4ms/step - loss: 0.7197 - accuracy: 0.7243 - val_loss: 0.7255 - val_accuracy: 0.7203\n",
      "Epoch 33/100\n",
      "14/14 [==============================] - 0s 5ms/step - loss: 0.7389 - accuracy: 0.7265 - val_loss: 0.7206 - val_accuracy: 0.7209\n",
      "Epoch 34/100\n",
      "14/14 [==============================] - 0s 5ms/step - loss: 0.7047 - accuracy: 0.7391 - val_loss: 0.7281 - val_accuracy: 0.7237\n",
      "Epoch 35/100\n",
      "14/14 [==============================] - 0s 4ms/step - loss: 0.6988 - accuracy: 0.7362 - val_loss: 0.7108 - val_accuracy: 0.7260\n",
      "Epoch 36/100\n",
      "14/14 [==============================] - 0s 4ms/step - loss: 0.6979 - accuracy: 0.7374 - val_loss: 0.7096 - val_accuracy: 0.7243\n",
      "Epoch 37/100\n",
      "14/14 [==============================] - 0s 4ms/step - loss: 0.6974 - accuracy: 0.7379 - val_loss: 0.7249 - val_accuracy: 0.7169\n",
      "Epoch 38/100\n",
      "14/14 [==============================] - 0s 4ms/step - loss: 0.6825 - accuracy: 0.7396 - val_loss: 0.7037 - val_accuracy: 0.7283\n",
      "Epoch 39/100\n",
      "14/14 [==============================] - 0s 4ms/step - loss: 0.6734 - accuracy: 0.7459 - val_loss: 0.7169 - val_accuracy: 0.7180\n",
      "Epoch 40/100\n",
      "14/14 [==============================] - 0s 4ms/step - loss: 0.6766 - accuracy: 0.7442 - val_loss: 0.7004 - val_accuracy: 0.7237\n",
      "Epoch 41/100\n",
      "14/14 [==============================] - 0s 4ms/step - loss: 0.6646 - accuracy: 0.7516 - val_loss: 0.6937 - val_accuracy: 0.7265\n",
      "Epoch 42/100\n",
      "14/14 [==============================] - 0s 5ms/step - loss: 0.6488 - accuracy: 0.7572 - val_loss: 0.6956 - val_accuracy: 0.7283\n",
      "Epoch 43/100\n",
      "14/14 [==============================] - 0s 5ms/step - loss: 0.6421 - accuracy: 0.7584 - val_loss: 0.6902 - val_accuracy: 0.7237\n",
      "Epoch 44/100\n",
      "14/14 [==============================] - 0s 4ms/step - loss: 0.6584 - accuracy: 0.7521 - val_loss: 0.6936 - val_accuracy: 0.7317\n",
      "Epoch 45/100\n",
      "14/14 [==============================] - 0s 5ms/step - loss: 0.6348 - accuracy: 0.7533 - val_loss: 0.6891 - val_accuracy: 0.7203\n",
      "Epoch 46/100\n",
      "14/14 [==============================] - 0s 6ms/step - loss: 0.6550 - accuracy: 0.7459 - val_loss: 0.6881 - val_accuracy: 0.7288\n",
      "Epoch 47/100\n",
      "14/14 [==============================] - 0s 6ms/step - loss: 0.6360 - accuracy: 0.7550 - val_loss: 0.6755 - val_accuracy: 0.7453\n",
      "Epoch 48/100\n",
      "14/14 [==============================] - 0s 5ms/step - loss: 0.6382 - accuracy: 0.7669 - val_loss: 0.6659 - val_accuracy: 0.7436\n",
      "Epoch 49/100\n",
      "14/14 [==============================] - 0s 5ms/step - loss: 0.6370 - accuracy: 0.7590 - val_loss: 0.6674 - val_accuracy: 0.7436\n",
      "Epoch 50/100\n",
      "14/14 [==============================] - 0s 4ms/step - loss: 0.6169 - accuracy: 0.7698 - val_loss: 0.6634 - val_accuracy: 0.7464\n",
      "Epoch 51/100\n",
      "14/14 [==============================] - 0s 4ms/step - loss: 0.6292 - accuracy: 0.7618 - val_loss: 0.6598 - val_accuracy: 0.7447\n",
      "Epoch 52/100\n",
      "14/14 [==============================] - 0s 4ms/step - loss: 0.6143 - accuracy: 0.7686 - val_loss: 0.6548 - val_accuracy: 0.7550\n",
      "Epoch 53/100\n",
      "14/14 [==============================] - 0s 4ms/step - loss: 0.6108 - accuracy: 0.7629 - val_loss: 0.6620 - val_accuracy: 0.7413\n",
      "Epoch 54/100\n",
      "14/14 [==============================] - 0s 4ms/step - loss: 0.6151 - accuracy: 0.7681 - val_loss: 0.6506 - val_accuracy: 0.7499\n",
      "Epoch 55/100\n",
      "14/14 [==============================] - 0s 4ms/step - loss: 0.6043 - accuracy: 0.7771 - val_loss: 0.6522 - val_accuracy: 0.7550\n",
      "Epoch 56/100\n",
      "14/14 [==============================] - 0s 4ms/step - loss: 0.6047 - accuracy: 0.7743 - val_loss: 0.6418 - val_accuracy: 0.7601\n",
      "Epoch 57/100\n",
      "14/14 [==============================] - 0s 4ms/step - loss: 0.5941 - accuracy: 0.7806 - val_loss: 0.6527 - val_accuracy: 0.7624\n",
      "Epoch 58/100\n",
      "14/14 [==============================] - 0s 4ms/step - loss: 0.5844 - accuracy: 0.7828 - val_loss: 0.6358 - val_accuracy: 0.7646\n",
      "Epoch 59/100\n",
      "14/14 [==============================] - 0s 4ms/step - loss: 0.5878 - accuracy: 0.7754 - val_loss: 0.6525 - val_accuracy: 0.7550\n",
      "Epoch 60/100\n",
      "14/14 [==============================] - 0s 4ms/step - loss: 0.5885 - accuracy: 0.7703 - val_loss: 0.6367 - val_accuracy: 0.7629\n",
      "Epoch 61/100\n",
      "14/14 [==============================] - 0s 4ms/step - loss: 0.5790 - accuracy: 0.7851 - val_loss: 0.6362 - val_accuracy: 0.7607\n",
      "Epoch 62/100\n",
      "14/14 [==============================] - 0s 4ms/step - loss: 0.5783 - accuracy: 0.7709 - val_loss: 0.6410 - val_accuracy: 0.7652\n",
      "Epoch 63/100\n",
      "14/14 [==============================] - 0s 4ms/step - loss: 0.5788 - accuracy: 0.7794 - val_loss: 0.6438 - val_accuracy: 0.7544\n",
      "Epoch 64/100\n",
      "14/14 [==============================] - 0s 4ms/step - loss: 0.5803 - accuracy: 0.7794 - val_loss: 0.6308 - val_accuracy: 0.7607\n",
      "Epoch 65/100\n",
      "14/14 [==============================] - 0s 4ms/step - loss: 0.5639 - accuracy: 0.7908 - val_loss: 0.6484 - val_accuracy: 0.7504\n",
      "Epoch 66/100\n",
      "14/14 [==============================] - 0s 4ms/step - loss: 0.5638 - accuracy: 0.7919 - val_loss: 0.6229 - val_accuracy: 0.7675\n",
      "Epoch 67/100\n",
      "14/14 [==============================] - 0s 4ms/step - loss: 0.5590 - accuracy: 0.7931 - val_loss: 0.6288 - val_accuracy: 0.7629\n",
      "Epoch 68/100\n",
      "14/14 [==============================] - 0s 4ms/step - loss: 0.5676 - accuracy: 0.7800 - val_loss: 0.6280 - val_accuracy: 0.7635\n",
      "Epoch 69/100\n",
      "14/14 [==============================] - 0s 4ms/step - loss: 0.5699 - accuracy: 0.7845 - val_loss: 0.6142 - val_accuracy: 0.7715\n",
      "Epoch 70/100\n",
      "14/14 [==============================] - 0s 4ms/step - loss: 0.5575 - accuracy: 0.7897 - val_loss: 0.6181 - val_accuracy: 0.7703\n",
      "Epoch 71/100\n",
      "14/14 [==============================] - 0s 4ms/step - loss: 0.5451 - accuracy: 0.7931 - val_loss: 0.6114 - val_accuracy: 0.7715\n",
      "Epoch 72/100\n",
      "14/14 [==============================] - 0s 4ms/step - loss: 0.5428 - accuracy: 0.7891 - val_loss: 0.6149 - val_accuracy: 0.7737\n",
      "Epoch 73/100\n",
      "14/14 [==============================] - 0s 4ms/step - loss: 0.5452 - accuracy: 0.8016 - val_loss: 0.6134 - val_accuracy: 0.7823\n",
      "Epoch 74/100\n",
      "14/14 [==============================] - 0s 4ms/step - loss: 0.5332 - accuracy: 0.7965 - val_loss: 0.6068 - val_accuracy: 0.7789\n",
      "Epoch 75/100\n",
      "14/14 [==============================] - 0s 4ms/step - loss: 0.5337 - accuracy: 0.8039 - val_loss: 0.6302 - val_accuracy: 0.7601\n",
      "Epoch 76/100\n",
      "14/14 [==============================] - 0s 4ms/step - loss: 0.5532 - accuracy: 0.7999 - val_loss: 0.6096 - val_accuracy: 0.7686\n",
      "Epoch 77/100\n",
      "14/14 [==============================] - 0s 4ms/step - loss: 0.5419 - accuracy: 0.7931 - val_loss: 0.6127 - val_accuracy: 0.7681\n",
      "Epoch 78/100\n",
      "14/14 [==============================] - 0s 4ms/step - loss: 0.5268 - accuracy: 0.8067 - val_loss: 0.6107 - val_accuracy: 0.7675\n",
      "Epoch 79/100\n",
      "14/14 [==============================] - 0s 4ms/step - loss: 0.5252 - accuracy: 0.8022 - val_loss: 0.6226 - val_accuracy: 0.7646\n",
      "Epoch 80/100\n",
      "14/14 [==============================] - 0s 5ms/step - loss: 0.5246 - accuracy: 0.8016 - val_loss: 0.6175 - val_accuracy: 0.7669\n",
      "Epoch 81/100\n",
      "14/14 [==============================] - 0s 4ms/step - loss: 0.5275 - accuracy: 0.7965 - val_loss: 0.5953 - val_accuracy: 0.7806\n",
      "Epoch 82/100\n",
      "14/14 [==============================] - 0s 4ms/step - loss: 0.5198 - accuracy: 0.8027 - val_loss: 0.5970 - val_accuracy: 0.7743\n",
      "Epoch 83/100\n",
      "14/14 [==============================] - 0s 4ms/step - loss: 0.5223 - accuracy: 0.8113 - val_loss: 0.5994 - val_accuracy: 0.7811\n",
      "Epoch 84/100\n",
      "14/14 [==============================] - 0s 4ms/step - loss: 0.5108 - accuracy: 0.8164 - val_loss: 0.5997 - val_accuracy: 0.7851\n",
      "Epoch 85/100\n",
      "14/14 [==============================] - 0s 4ms/step - loss: 0.5098 - accuracy: 0.8118 - val_loss: 0.6058 - val_accuracy: 0.7800\n",
      "Epoch 86/100\n",
      "14/14 [==============================] - 0s 4ms/step - loss: 0.5231 - accuracy: 0.8124 - val_loss: 0.6393 - val_accuracy: 0.7681\n",
      "Epoch 87/100\n",
      "14/14 [==============================] - 0s 4ms/step - loss: 0.5150 - accuracy: 0.8039 - val_loss: 0.5947 - val_accuracy: 0.7857\n",
      "Epoch 88/100\n",
      "14/14 [==============================] - 0s 5ms/step - loss: 0.5052 - accuracy: 0.8152 - val_loss: 0.5885 - val_accuracy: 0.7840\n",
      "Epoch 89/100\n",
      "14/14 [==============================] - 0s 5ms/step - loss: 0.4934 - accuracy: 0.8141 - val_loss: 0.5863 - val_accuracy: 0.7828\n",
      "Epoch 90/100\n",
      "14/14 [==============================] - 0s 5ms/step - loss: 0.5005 - accuracy: 0.8061 - val_loss: 0.5889 - val_accuracy: 0.7811\n",
      "Epoch 91/100\n",
      "14/14 [==============================] - 0s 5ms/step - loss: 0.5025 - accuracy: 0.8101 - val_loss: 0.5835 - val_accuracy: 0.7834\n",
      "Epoch 92/100\n",
      "14/14 [==============================] - 0s 5ms/step - loss: 0.4884 - accuracy: 0.8221 - val_loss: 0.5828 - val_accuracy: 0.7857\n",
      "Epoch 93/100\n",
      "14/14 [==============================] - 0s 5ms/step - loss: 0.4965 - accuracy: 0.8186 - val_loss: 0.5890 - val_accuracy: 0.7857\n",
      "Epoch 94/100\n",
      "14/14 [==============================] - 0s 5ms/step - loss: 0.4929 - accuracy: 0.8204 - val_loss: 0.5840 - val_accuracy: 0.7879\n",
      "Epoch 95/100\n",
      "14/14 [==============================] - 0s 4ms/step - loss: 0.4924 - accuracy: 0.8101 - val_loss: 0.5772 - val_accuracy: 0.7840\n",
      "Epoch 96/100\n",
      "14/14 [==============================] - 0s 4ms/step - loss: 0.4823 - accuracy: 0.8289 - val_loss: 0.5879 - val_accuracy: 0.7834\n",
      "Epoch 97/100\n",
      "14/14 [==============================] - 0s 4ms/step - loss: 0.4855 - accuracy: 0.8215 - val_loss: 0.5772 - val_accuracy: 0.7874\n",
      "Epoch 98/100\n",
      "14/14 [==============================] - 0s 4ms/step - loss: 0.4825 - accuracy: 0.8186 - val_loss: 0.5799 - val_accuracy: 0.7908\n",
      "Epoch 99/100\n",
      "14/14 [==============================] - 0s 4ms/step - loss: 0.4731 - accuracy: 0.8238 - val_loss: 0.5856 - val_accuracy: 0.7845\n",
      "Epoch 100/100\n",
      "14/14 [==============================] - 0s 4ms/step - loss: 0.4860 - accuracy: 0.8192 - val_loss: 0.5813 - val_accuracy: 0.7868\n"
     ]
    },
    {
     "data": {
      "text/plain": "<keras.callbacks.History at 0x7f3e6c606e00>"
     },
     "execution_count": 23,
     "metadata": {},
     "output_type": "execute_result"
    }
   ],
   "source": [
    "batch_size = 128\n",
    "epochs = 100\n",
    "\n",
    "model.compile(loss=\"categorical_crossentropy\",\n",
    "              optimizer=keras.optimizers.Adam(lr=0.0001),\n",
    "              metrics=[\"accuracy\"])\n",
    "\n",
    "model.fit(X_train, y_train,\n",
    "          batch_size=batch_size,\n",
    "          epochs=epochs,\n",
    "          validation_split=0.5)"
   ],
   "metadata": {
    "collapsed": false,
    "pycharm": {
     "name": "#%%\n"
    }
   }
  },
  {
   "cell_type": "code",
   "execution_count": 24,
   "outputs": [
    {
     "name": "stdout",
     "output_type": "stream",
     "text": [
      "0.7864974033467974\n"
     ]
    }
   ],
   "source": [
    "y_hat = np.argmax(model.predict(X_test),1)\n",
    "Accuracy_BestXAI = np.mean(y_hat == np.argmax(y_test,1))\n",
    "print(Accuracy_BestXAI)"
   ],
   "metadata": {
    "collapsed": false,
    "pycharm": {
     "name": "#%%\n"
    }
   }
  },
  {
   "cell_type": "code",
   "execution_count": 25,
   "outputs": [
    {
     "data": {
      "text/plain": "<Figure size 576x216 with 2 Axes>",
      "image/png": "[encoded data removed]"
     },
     "metadata": {},
     "output_type": "display_data"
    }
   ],
   "source": [
    "fig, (ax1, ax2) = plt.subplots(1, 2)\n",
    "fig.set_size_inches(8, 3)\n",
    "ax1.hist(y_hat, density = True,\n",
    "         bins = np.arange(-0.5, max(y_hat)+1.5,1))\n",
    "ax2.hist(np.argmax(y_test,1),density = True,\n",
    "         bins = np.arange(-0.5, max(np.argmax(y_test,1))+1.5,1))\n",
    "plt.suptitle(\"Histograms of Predicted and Test Labels\")\n",
    "plt.show()"
   ],
   "metadata": {
    "collapsed": false,
    "pycharm": {
     "name": "#%%\n"
    }
   }
  },
  {
   "cell_type": "markdown",
   "source": [
    "### Comparison: best features according to Median XAI values"
   ],
   "metadata": {
    "collapsed": false,
    "pycharm": {
     "name": "#%% md\n"
    }
   }
  },
  {
   "cell_type": "code",
   "execution_count": 26,
   "outputs": [
    {
     "name": "stdout",
     "output_type": "stream",
     "text": [
      "Epoch 1/100\n",
      "14/14 [==============================] - 0s 5ms/step - loss: 2.8343 - accuracy: 0.3422 - val_loss: 1.8374 - val_accuracy: 0.3530\n",
      "Epoch 2/100\n",
      "14/14 [==============================] - 0s 4ms/step - loss: 1.5275 - accuracy: 0.4508 - val_loss: 1.2986 - val_accuracy: 0.4923\n",
      "Epoch 3/100\n",
      "14/14 [==============================] - 0s 4ms/step - loss: 1.1866 - accuracy: 0.5429 - val_loss: 1.1217 - val_accuracy: 0.5657\n",
      "Epoch 4/100\n",
      "14/14 [==============================] - 0s 5ms/step - loss: 1.0428 - accuracy: 0.6163 - val_loss: 1.0269 - val_accuracy: 0.6140\n",
      "Epoch 5/100\n",
      "14/14 [==============================] - 0s 5ms/step - loss: 0.9695 - accuracy: 0.6498 - val_loss: 0.9692 - val_accuracy: 0.6339\n",
      "Epoch 6/100\n",
      "14/14 [==============================] - 0s 5ms/step - loss: 0.9092 - accuracy: 0.6646 - val_loss: 0.9253 - val_accuracy: 0.6430\n",
      "Epoch 7/100\n",
      "14/14 [==============================] - 0s 4ms/step - loss: 0.8833 - accuracy: 0.6737 - val_loss: 0.8988 - val_accuracy: 0.6583\n",
      "Epoch 8/100\n",
      "14/14 [==============================] - 0s 4ms/step - loss: 0.8531 - accuracy: 0.6816 - val_loss: 0.8765 - val_accuracy: 0.6686\n",
      "Epoch 9/100\n",
      "14/14 [==============================] - 0s 4ms/step - loss: 0.8382 - accuracy: 0.6794 - val_loss: 0.8642 - val_accuracy: 0.6674\n",
      "Epoch 10/100\n",
      "14/14 [==============================] - 0s 4ms/step - loss: 0.8240 - accuracy: 0.7015 - val_loss: 0.8457 - val_accuracy: 0.6760\n",
      "Epoch 11/100\n",
      "14/14 [==============================] - 0s 4ms/step - loss: 0.7925 - accuracy: 0.7095 - val_loss: 0.8365 - val_accuracy: 0.6890\n",
      "Epoch 12/100\n",
      "14/14 [==============================] - 0s 5ms/step - loss: 0.7888 - accuracy: 0.7146 - val_loss: 0.8282 - val_accuracy: 0.6868\n",
      "Epoch 13/100\n",
      "14/14 [==============================] - 0s 4ms/step - loss: 0.7767 - accuracy: 0.7237 - val_loss: 0.8201 - val_accuracy: 0.6896\n",
      "Epoch 14/100\n",
      "14/14 [==============================] - 0s 4ms/step - loss: 0.7700 - accuracy: 0.7248 - val_loss: 0.8028 - val_accuracy: 0.6970\n",
      "Epoch 15/100\n",
      "14/14 [==============================] - 0s 4ms/step - loss: 0.7480 - accuracy: 0.7265 - val_loss: 0.8003 - val_accuracy: 0.6976\n",
      "Epoch 16/100\n",
      "14/14 [==============================] - 0s 4ms/step - loss: 0.7395 - accuracy: 0.7305 - val_loss: 0.7891 - val_accuracy: 0.6987\n",
      "Epoch 17/100\n",
      "14/14 [==============================] - 0s 4ms/step - loss: 0.7382 - accuracy: 0.7271 - val_loss: 0.7853 - val_accuracy: 0.6998\n",
      "Epoch 18/100\n",
      "14/14 [==============================] - 0s 4ms/step - loss: 0.7309 - accuracy: 0.7356 - val_loss: 0.7775 - val_accuracy: 0.7044\n",
      "Epoch 19/100\n",
      "14/14 [==============================] - 0s 4ms/step - loss: 0.7191 - accuracy: 0.7408 - val_loss: 0.7716 - val_accuracy: 0.7015\n",
      "Epoch 20/100\n",
      "14/14 [==============================] - 0s 4ms/step - loss: 0.7215 - accuracy: 0.7385 - val_loss: 0.7704 - val_accuracy: 0.7061\n",
      "Epoch 21/100\n",
      "14/14 [==============================] - 0s 4ms/step - loss: 0.7162 - accuracy: 0.7311 - val_loss: 0.7600 - val_accuracy: 0.7089\n",
      "Epoch 22/100\n",
      "14/14 [==============================] - 0s 4ms/step - loss: 0.7018 - accuracy: 0.7413 - val_loss: 0.7523 - val_accuracy: 0.7152\n",
      "Epoch 23/100\n",
      "14/14 [==============================] - 0s 4ms/step - loss: 0.6919 - accuracy: 0.7476 - val_loss: 0.7526 - val_accuracy: 0.7118\n",
      "Epoch 24/100\n",
      "14/14 [==============================] - 0s 4ms/step - loss: 0.6870 - accuracy: 0.7436 - val_loss: 0.7766 - val_accuracy: 0.7027\n",
      "Epoch 25/100\n",
      "14/14 [==============================] - 0s 4ms/step - loss: 0.6924 - accuracy: 0.7516 - val_loss: 0.7374 - val_accuracy: 0.7248\n",
      "Epoch 26/100\n",
      "14/14 [==============================] - 0s 4ms/step - loss: 0.6807 - accuracy: 0.7425 - val_loss: 0.7416 - val_accuracy: 0.7129\n",
      "Epoch 27/100\n",
      "14/14 [==============================] - 0s 5ms/step - loss: 0.6827 - accuracy: 0.7504 - val_loss: 0.7306 - val_accuracy: 0.7180\n",
      "Epoch 28/100\n",
      "14/14 [==============================] - 0s 4ms/step - loss: 0.6728 - accuracy: 0.7544 - val_loss: 0.7292 - val_accuracy: 0.7180\n",
      "Epoch 29/100\n",
      "14/14 [==============================] - 0s 4ms/step - loss: 0.6674 - accuracy: 0.7624 - val_loss: 0.7287 - val_accuracy: 0.7169\n",
      "Epoch 30/100\n",
      "14/14 [==============================] - 0s 4ms/step - loss: 0.6752 - accuracy: 0.7470 - val_loss: 0.7229 - val_accuracy: 0.7220\n",
      "Epoch 31/100\n",
      "14/14 [==============================] - 0s 4ms/step - loss: 0.6585 - accuracy: 0.7618 - val_loss: 0.7189 - val_accuracy: 0.7231\n",
      "Epoch 32/100\n",
      "14/14 [==============================] - 0s 4ms/step - loss: 0.6474 - accuracy: 0.7612 - val_loss: 0.7153 - val_accuracy: 0.7243\n",
      "Epoch 33/100\n",
      "14/14 [==============================] - 0s 4ms/step - loss: 0.6444 - accuracy: 0.7652 - val_loss: 0.7112 - val_accuracy: 0.7254\n",
      "Epoch 34/100\n",
      "14/14 [==============================] - 0s 4ms/step - loss: 0.6337 - accuracy: 0.7692 - val_loss: 0.7085 - val_accuracy: 0.7300\n",
      "Epoch 35/100\n",
      "14/14 [==============================] - 0s 4ms/step - loss: 0.6351 - accuracy: 0.7681 - val_loss: 0.7037 - val_accuracy: 0.7317\n",
      "Epoch 36/100\n",
      "14/14 [==============================] - 0s 4ms/step - loss: 0.6361 - accuracy: 0.7669 - val_loss: 0.6999 - val_accuracy: 0.7305\n",
      "Epoch 37/100\n",
      "14/14 [==============================] - 0s 4ms/step - loss: 0.6197 - accuracy: 0.7749 - val_loss: 0.7032 - val_accuracy: 0.7283\n",
      "Epoch 38/100\n",
      "14/14 [==============================] - 0s 4ms/step - loss: 0.6249 - accuracy: 0.7760 - val_loss: 0.7023 - val_accuracy: 0.7277\n",
      "Epoch 39/100\n",
      "14/14 [==============================] - 0s 4ms/step - loss: 0.6135 - accuracy: 0.7783 - val_loss: 0.6965 - val_accuracy: 0.7339\n",
      "Epoch 40/100\n",
      "14/14 [==============================] - 0s 4ms/step - loss: 0.6275 - accuracy: 0.7726 - val_loss: 0.6922 - val_accuracy: 0.7374\n",
      "Epoch 41/100\n",
      "14/14 [==============================] - 0s 4ms/step - loss: 0.6196 - accuracy: 0.7754 - val_loss: 0.6874 - val_accuracy: 0.7402\n",
      "Epoch 42/100\n",
      "14/14 [==============================] - 0s 4ms/step - loss: 0.5983 - accuracy: 0.7777 - val_loss: 0.6893 - val_accuracy: 0.7413\n",
      "Epoch 43/100\n",
      "14/14 [==============================] - 0s 4ms/step - loss: 0.6104 - accuracy: 0.7777 - val_loss: 0.6835 - val_accuracy: 0.7391\n",
      "Epoch 44/100\n",
      "14/14 [==============================] - 0s 4ms/step - loss: 0.6097 - accuracy: 0.7760 - val_loss: 0.6819 - val_accuracy: 0.7402\n",
      "Epoch 45/100\n",
      "14/14 [==============================] - 0s 4ms/step - loss: 0.6169 - accuracy: 0.7737 - val_loss: 0.6780 - val_accuracy: 0.7396\n",
      "Epoch 46/100\n",
      "14/14 [==============================] - 0s 4ms/step - loss: 0.5976 - accuracy: 0.7794 - val_loss: 0.6831 - val_accuracy: 0.7356\n",
      "Epoch 47/100\n",
      "14/14 [==============================] - 0s 4ms/step - loss: 0.5921 - accuracy: 0.7777 - val_loss: 0.6843 - val_accuracy: 0.7334\n",
      "Epoch 48/100\n",
      "14/14 [==============================] - 0s 4ms/step - loss: 0.5768 - accuracy: 0.7874 - val_loss: 0.6728 - val_accuracy: 0.7408\n",
      "Epoch 49/100\n",
      "14/14 [==============================] - 0s 4ms/step - loss: 0.5792 - accuracy: 0.7874 - val_loss: 0.6708 - val_accuracy: 0.7442\n",
      "Epoch 50/100\n",
      "14/14 [==============================] - 0s 4ms/step - loss: 0.5912 - accuracy: 0.7885 - val_loss: 0.6744 - val_accuracy: 0.7351\n",
      "Epoch 51/100\n",
      "14/14 [==============================] - 0s 4ms/step - loss: 0.5793 - accuracy: 0.7834 - val_loss: 0.6707 - val_accuracy: 0.7402\n",
      "Epoch 52/100\n",
      "14/14 [==============================] - 0s 4ms/step - loss: 0.5837 - accuracy: 0.7919 - val_loss: 0.6635 - val_accuracy: 0.7436\n",
      "Epoch 53/100\n",
      "14/14 [==============================] - 0s 4ms/step - loss: 0.5791 - accuracy: 0.7857 - val_loss: 0.6646 - val_accuracy: 0.7442\n",
      "Epoch 54/100\n",
      "14/14 [==============================] - 0s 4ms/step - loss: 0.5725 - accuracy: 0.7914 - val_loss: 0.6569 - val_accuracy: 0.7430\n",
      "Epoch 55/100\n",
      "14/14 [==============================] - 0s 4ms/step - loss: 0.5617 - accuracy: 0.8039 - val_loss: 0.6590 - val_accuracy: 0.7453\n",
      "Epoch 56/100\n",
      "14/14 [==============================] - 0s 4ms/step - loss: 0.5807 - accuracy: 0.7902 - val_loss: 0.6566 - val_accuracy: 0.7510\n",
      "Epoch 57/100\n",
      "14/14 [==============================] - 0s 4ms/step - loss: 0.5616 - accuracy: 0.8022 - val_loss: 0.6579 - val_accuracy: 0.7453\n",
      "Epoch 58/100\n",
      "14/14 [==============================] - 0s 4ms/step - loss: 0.5674 - accuracy: 0.7925 - val_loss: 0.6566 - val_accuracy: 0.7482\n",
      "Epoch 59/100\n",
      "14/14 [==============================] - 0s 4ms/step - loss: 0.5635 - accuracy: 0.7897 - val_loss: 0.6524 - val_accuracy: 0.7499\n",
      "Epoch 60/100\n",
      "14/14 [==============================] - 0s 4ms/step - loss: 0.5623 - accuracy: 0.7999 - val_loss: 0.6458 - val_accuracy: 0.7527\n",
      "Epoch 61/100\n",
      "14/14 [==============================] - 0s 4ms/step - loss: 0.5448 - accuracy: 0.7999 - val_loss: 0.6455 - val_accuracy: 0.7516\n",
      "Epoch 62/100\n",
      "14/14 [==============================] - 0s 4ms/step - loss: 0.5448 - accuracy: 0.8073 - val_loss: 0.6503 - val_accuracy: 0.7521\n",
      "Epoch 63/100\n",
      "14/14 [==============================] - 0s 4ms/step - loss: 0.5452 - accuracy: 0.8050 - val_loss: 0.6352 - val_accuracy: 0.7612\n",
      "Epoch 64/100\n",
      "14/14 [==============================] - 0s 4ms/step - loss: 0.5421 - accuracy: 0.8039 - val_loss: 0.6343 - val_accuracy: 0.7561\n",
      "Epoch 65/100\n",
      "14/14 [==============================] - 0s 4ms/step - loss: 0.5364 - accuracy: 0.7999 - val_loss: 0.6349 - val_accuracy: 0.7533\n",
      "Epoch 66/100\n",
      "14/14 [==============================] - 0s 4ms/step - loss: 0.5380 - accuracy: 0.7953 - val_loss: 0.6357 - val_accuracy: 0.7572\n",
      "Epoch 67/100\n",
      "14/14 [==============================] - 0s 4ms/step - loss: 0.5334 - accuracy: 0.8090 - val_loss: 0.6327 - val_accuracy: 0.7578\n",
      "Epoch 68/100\n",
      "14/14 [==============================] - 0s 4ms/step - loss: 0.5288 - accuracy: 0.8107 - val_loss: 0.6301 - val_accuracy: 0.7635\n",
      "Epoch 69/100\n",
      "14/14 [==============================] - 0s 4ms/step - loss: 0.5208 - accuracy: 0.8022 - val_loss: 0.6307 - val_accuracy: 0.7595\n",
      "Epoch 70/100\n",
      "14/14 [==============================] - 0s 4ms/step - loss: 0.5292 - accuracy: 0.8164 - val_loss: 0.6201 - val_accuracy: 0.7663\n",
      "Epoch 71/100\n",
      "14/14 [==============================] - 0s 4ms/step - loss: 0.5206 - accuracy: 0.8118 - val_loss: 0.6227 - val_accuracy: 0.7624\n",
      "Epoch 72/100\n",
      "14/14 [==============================] - 0s 4ms/step - loss: 0.5282 - accuracy: 0.8107 - val_loss: 0.6191 - val_accuracy: 0.7635\n",
      "Epoch 73/100\n",
      "14/14 [==============================] - 0s 4ms/step - loss: 0.5219 - accuracy: 0.8124 - val_loss: 0.6175 - val_accuracy: 0.7663\n",
      "Epoch 74/100\n",
      "14/14 [==============================] - 0s 4ms/step - loss: 0.5138 - accuracy: 0.8192 - val_loss: 0.6186 - val_accuracy: 0.7658\n",
      "Epoch 75/100\n",
      "14/14 [==============================] - 0s 4ms/step - loss: 0.5112 - accuracy: 0.8175 - val_loss: 0.6173 - val_accuracy: 0.7686\n",
      "Epoch 76/100\n",
      "14/14 [==============================] - 0s 4ms/step - loss: 0.5066 - accuracy: 0.8152 - val_loss: 0.6120 - val_accuracy: 0.7692\n",
      "Epoch 77/100\n",
      "14/14 [==============================] - 0s 4ms/step - loss: 0.5067 - accuracy: 0.8141 - val_loss: 0.6141 - val_accuracy: 0.7669\n",
      "Epoch 78/100\n",
      "14/14 [==============================] - 0s 4ms/step - loss: 0.4942 - accuracy: 0.8175 - val_loss: 0.6086 - val_accuracy: 0.7698\n",
      "Epoch 79/100\n",
      "14/14 [==============================] - 0s 4ms/step - loss: 0.4971 - accuracy: 0.8175 - val_loss: 0.6077 - val_accuracy: 0.7658\n",
      "Epoch 80/100\n",
      "14/14 [==============================] - 0s 4ms/step - loss: 0.5053 - accuracy: 0.8243 - val_loss: 0.6127 - val_accuracy: 0.7675\n",
      "Epoch 81/100\n",
      "14/14 [==============================] - 0s 4ms/step - loss: 0.5037 - accuracy: 0.8181 - val_loss: 0.6048 - val_accuracy: 0.7698\n",
      "Epoch 82/100\n",
      "14/14 [==============================] - 0s 4ms/step - loss: 0.4965 - accuracy: 0.8272 - val_loss: 0.5981 - val_accuracy: 0.7743\n",
      "Epoch 83/100\n",
      "14/14 [==============================] - 0s 4ms/step - loss: 0.4896 - accuracy: 0.8294 - val_loss: 0.6043 - val_accuracy: 0.7686\n",
      "Epoch 84/100\n",
      "14/14 [==============================] - 0s 4ms/step - loss: 0.4908 - accuracy: 0.8215 - val_loss: 0.5999 - val_accuracy: 0.7698\n",
      "Epoch 85/100\n",
      "14/14 [==============================] - 0s 4ms/step - loss: 0.4828 - accuracy: 0.8232 - val_loss: 0.6052 - val_accuracy: 0.7709\n",
      "Epoch 86/100\n",
      "14/14 [==============================] - 0s 4ms/step - loss: 0.4831 - accuracy: 0.8226 - val_loss: 0.6292 - val_accuracy: 0.7567\n",
      "Epoch 87/100\n",
      "14/14 [==============================] - 0s 4ms/step - loss: 0.4891 - accuracy: 0.8232 - val_loss: 0.5979 - val_accuracy: 0.7720\n",
      "Epoch 88/100\n",
      "14/14 [==============================] - 0s 4ms/step - loss: 0.4848 - accuracy: 0.8277 - val_loss: 0.6045 - val_accuracy: 0.7692\n",
      "Epoch 89/100\n",
      "14/14 [==============================] - 0s 4ms/step - loss: 0.4857 - accuracy: 0.8351 - val_loss: 0.5909 - val_accuracy: 0.7749\n",
      "Epoch 90/100\n",
      "14/14 [==============================] - 0s 4ms/step - loss: 0.4779 - accuracy: 0.8266 - val_loss: 0.5879 - val_accuracy: 0.7766\n",
      "Epoch 91/100\n",
      "14/14 [==============================] - 0s 4ms/step - loss: 0.4747 - accuracy: 0.8226 - val_loss: 0.6049 - val_accuracy: 0.7669\n",
      "Epoch 92/100\n",
      "14/14 [==============================] - 0s 4ms/step - loss: 0.4773 - accuracy: 0.8283 - val_loss: 0.5950 - val_accuracy: 0.7828\n",
      "Epoch 93/100\n",
      "14/14 [==============================] - 0s 4ms/step - loss: 0.4773 - accuracy: 0.8277 - val_loss: 0.5848 - val_accuracy: 0.7811\n",
      "Epoch 94/100\n",
      "14/14 [==============================] - 0s 4ms/step - loss: 0.4823 - accuracy: 0.8266 - val_loss: 0.5887 - val_accuracy: 0.7834\n",
      "Epoch 95/100\n",
      "14/14 [==============================] - 0s 4ms/step - loss: 0.4707 - accuracy: 0.8374 - val_loss: 0.5828 - val_accuracy: 0.7760\n",
      "Epoch 96/100\n",
      "14/14 [==============================] - 0s 4ms/step - loss: 0.4574 - accuracy: 0.8374 - val_loss: 0.5819 - val_accuracy: 0.7817\n",
      "Epoch 97/100\n",
      "14/14 [==============================] - 0s 4ms/step - loss: 0.4585 - accuracy: 0.8385 - val_loss: 0.5800 - val_accuracy: 0.7828\n",
      "Epoch 98/100\n",
      "14/14 [==============================] - 0s 4ms/step - loss: 0.4555 - accuracy: 0.8431 - val_loss: 0.5771 - val_accuracy: 0.7834\n",
      "Epoch 99/100\n",
      "14/14 [==============================] - 0s 4ms/step - loss: 0.4634 - accuracy: 0.8368 - val_loss: 0.5790 - val_accuracy: 0.7868\n",
      "Epoch 100/100\n",
      "14/14 [==============================] - 0s 4ms/step - loss: 0.4582 - accuracy: 0.8437 - val_loss: 0.5774 - val_accuracy: 0.7823\n"
     ]
    }
   ],
   "source": [
    "\n",
    "\n",
    "X_train, X_test, y_train, y_test = train_test_split(CorrMatrices[:, MedianLogical],\n",
    "                                                    encoded_Y, test_size=0.33, random_state=1)\n",
    "\n",
    "\n",
    "model.fit(X_train, y_train,\n",
    "          batch_size=batch_size,\n",
    "          epochs=epochs,\n",
    "          validation_split=0.5)\n",
    "\n",
    "y_hat = np.argmax(model.predict(X_test),1)\n",
    "Accuracy_BestMedianXAI = np.mean(y_hat == np.argmax(y_test,1))\n"
   ],
   "metadata": {
    "collapsed": false,
    "pycharm": {
     "name": "#%%\n"
    }
   }
  },
  {
   "cell_type": "code",
   "execution_count": 27,
   "outputs": [
    {
     "name": "stdout",
     "output_type": "stream",
     "text": [
      "0.7997691863819966\n"
     ]
    }
   ],
   "source": [
    "print(Accuracy_BestMedianXAI)"
   ],
   "metadata": {
    "collapsed": false,
    "pycharm": {
     "name": "#%%\n"
    }
   }
  },
  {
   "cell_type": "markdown",
   "source": [
    "### Now with some other features"
   ],
   "metadata": {
    "collapsed": false,
    "pycharm": {
     "name": "#%% md\n"
    }
   }
  },
  {
   "cell_type": "code",
   "execution_count": 28,
   "outputs": [],
   "source": [
    "def TestNN(seed = 1234):\n",
    "    np.random.seed(seed)\n",
    "    Index = np.random.choice(np.arange(XAI.shape[1]).astype(\"int\"), # features to compare optimal XAI to\n",
    "                     size = len(list(set(OptimalXAI[:,1]))),\n",
    "                     replace = False)\n",
    "    CM_Reduced = CorrMatrices[:,Index]\n",
    "    X_train, X_test, y_train, y_test = train_test_split(CM_Reduced, encoded_Y,\n",
    "                                                    test_size=0.33, random_state=1)\n",
    "    model.fit(X_train, y_train,\n",
    "          batch_size=batch_size,\n",
    "          epochs=epochs,\n",
    "          validation_split=0.5,\n",
    "          verbose=0)\n",
    "    y_hat = np.argmax(model.predict(X_test),1)\n",
    "    return(np.mean(y_hat == np.argmax(y_test,1)))"
   ],
   "metadata": {
    "collapsed": false,
    "pycharm": {
     "name": "#%%\n"
    }
   }
  },
  {
   "cell_type": "code",
   "execution_count": 29,
   "outputs": [],
   "source": [
    "def ModeModeNN(seed = 1234):\n",
    "    np.random.seed(seed)\n",
    "    CM_Reduced = CorrMatrices[:,list(set(OptimalXAI[:,1]))]\n",
    "    X_train, X_test, y_train, y_test = train_test_split(CM_Reduced, encoded_Y,\n",
    "                                                    test_size=0.33, random_state=1)\n",
    "    model.fit(X_train, y_train,\n",
    "          batch_size=batch_size,\n",
    "          epochs=epochs,\n",
    "          validation_split=0.5,\n",
    "          verbose=0)\n",
    "    y_hat = np.argmax(model.predict(X_test),1)\n",
    "    return(np.mean(y_hat == np.argmax(y_test,1)))"
   ],
   "metadata": {
    "collapsed": false,
    "pycharm": {
     "name": "#%%\n"
    }
   }
  },
  {
   "cell_type": "code",
   "execution_count": 30,
   "outputs": [],
   "source": [
    "def MedianNN(seed = 1234):\n",
    "    np.random.seed(seed)\n",
    "    CM_Reduced = CorrMatrices[:, MedianLogical]\n",
    "    X_train, X_test, y_train, y_test = train_test_split(CM_Reduced, encoded_Y,\n",
    "                                                    test_size=0.33, random_state=1)\n",
    "    model.fit(X_train, y_train,\n",
    "          batch_size=batch_size,\n",
    "          epochs=epochs,\n",
    "          validation_split=0.5,\n",
    "          verbose=0)\n",
    "    y_hat = np.argmax(model.predict(X_test),1)\n",
    "    return(np.mean(y_hat == np.argmax(y_test,1)))"
   ],
   "metadata": {
    "collapsed": false,
    "pycharm": {
     "name": "#%%\n"
    }
   }
  },
  {
   "cell_type": "code",
   "execution_count": 31,
   "outputs": [
    {
     "data": {
      "text/plain": "0.8147720715522215"
     },
     "execution_count": 31,
     "metadata": {},
     "output_type": "execute_result"
    }
   ],
   "source": [
    "ModeModeNN(53473)"
   ],
   "metadata": {
    "collapsed": false,
    "pycharm": {
     "name": "#%%\n"
    }
   }
  },
  {
   "cell_type": "code",
   "execution_count": 32,
   "outputs": [
    {
     "data": {
      "text/plain": "0.8430467397576457"
     },
     "execution_count": 32,
     "metadata": {},
     "output_type": "execute_result"
    }
   ],
   "source": [
    "MedianNN(23757)"
   ],
   "metadata": {
    "collapsed": false,
    "pycharm": {
     "name": "#%%\n"
    }
   }
  },
  {
   "cell_type": "code",
   "execution_count": 33,
   "outputs": [
    {
     "data": {
      "text/plain": "0.7559145989613387"
     },
     "execution_count": 33,
     "metadata": {},
     "output_type": "execute_result"
    }
   ],
   "source": [
    "TestNN(54321)"
   ],
   "metadata": {
    "collapsed": false,
    "pycharm": {
     "name": "#%%\n"
    }
   }
  },
  {
   "cell_type": "code",
   "execution_count": 34,
   "outputs": [
    {
     "data": {
      "text/plain": "0.7651471436814772"
     },
     "execution_count": 34,
     "metadata": {},
     "output_type": "execute_result"
    }
   ],
   "source": [
    "TestNN()"
   ],
   "metadata": {
    "collapsed": false,
    "pycharm": {
     "name": "#%%\n"
    }
   }
  },
  {
   "cell_type": "code",
   "execution_count": 35,
   "outputs": [
    {
     "name": "stdout",
     "output_type": "stream",
     "text": [
      "0 [5206] 0.7836122331217542 0.8205424120023082 0.8586266589728794\n",
      "1 [1145] 0.7247547605308713 0.8430467397576457 0.8649740334679746\n",
      "2 [1896] 0.6982111944604732 0.8597807270628968 0.8678592036930178\n",
      "3 [5294] 0.7726485862665897 0.860934795152914 0.875937680323139\n",
      "4 [1182] 0.8101557991921523 0.8690132717830352 0.8736295441431045\n",
      "5 [6053] 0.8032313906520485 0.8661281015579919 0.8707443739180611\n",
      "6 [8396] 0.7818811309867282 0.8695903058280439 0.8736295441431045\n",
      "7 [9755] 0.7449509521061742 0.8597807270628968 0.875937680323139\n",
      "8 [4313] 0.7934218118869013 0.8655510675129833 0.8742065781881131\n",
      "9 [4630] 0.790536641661858 0.8695903058280439 0.8678592036930178\n",
      "10 [9956] 0.8147720715522215 0.8672821696480092 0.8684362377380266\n",
      "11 [580] 0.7686093479515291 0.879399884593191 0.8770917484131564\n",
      "12 [3794] 0.8078476630121177 0.8753606462781304 0.8678592036930178\n",
      "13 [8910] 0.7484131563762262 0.8845931909982689 0.8684362377380266\n",
      "14 [7098] 0.7651471436814772 0.8840161569532602 0.8667051356030006\n",
      "15 [7039] 0.7726485862665897 0.8874783612233121 0.8701673398730525\n",
      "16 [9780] 0.7357184073860358 0.877668782458165 0.8690132717830352\n",
      "17 [3248] 0.7997691863819966 0.8742065781881131 0.8701673398730525\n",
      "18 [7032] 0.7784189267166762 0.8782458165031737 0.8695903058280439\n",
      "19 [1774] 0.7697634160415464 0.879399884593191 0.8753606462781304\n",
      "20 [9674] 0.7743796884016156 0.8655510675129833 0.875937680323139\n",
      "21 [6362] 0.7218695903058281 0.881130986728217 0.8747836122331217\n",
      "22 [8967] 0.8026543566070398 0.8799769186381996 0.8684362377380266\n",
      "23 [9077] 0.7576457010963646 0.877668782458165 0.8742065781881131\n",
      "24 [2220] 0.7316791690709752 0.8863242931332949 0.8742065781881131\n",
      "25 [3156] 0.743796884016157 0.8880553952683208 0.8667051356030006\n",
      "26 [5640] 0.7184073860357761 0.8834391229082516 0.877668782458165\n",
      "27 [8242] 0.8107328332371609 0.8782458165031737 0.8690132717830352\n",
      "28 [2218] 0.7888055395268321 0.8770917484131564 0.86266589728794\n",
      "29 [4319] 0.7466820542412003 0.8713214079630698 0.8736295441431045\n",
      "30 [5798] 0.7807270628967109 0.8747836122331217 0.8661281015579919\n",
      "31 [8419] 0.8101557991921523 0.8742065781881131 0.8724754760530872\n",
      "32 [4873] 0.7126370455856895 0.8770917484131564 0.8707443739180611\n",
      "33 [8396] 0.7674552798615119 0.8765147143681478 0.8724754760530872\n",
      "34 [9755] 0.7553375649163301 0.8742065781881131 0.8724754760530872\n",
      "35 [4313] 0.7795729948066936 0.8805539526832084 0.8713214079630698\n",
      "36 [4630] 0.7784189267166762 0.875937680323139 0.8730525100980958\n",
      "37 [9956] 0.7945758799769186 0.8782458165031737 0.8684362377380266\n",
      "38 [580] 0.775533756491633 0.875937680323139 0.8765147143681478\n",
      "39 [3794] 0.8072706289671091 0.8747836122331217 0.8718984420080784\n",
      "40 [8910] 0.7426428159261397 0.8770917484131564 0.86266589728794\n",
      "41 [7098] 0.7559145989613387 0.8788228505481823 0.8730525100980958\n",
      "42 [7039] 0.7818811309867282 0.877668782458165 0.8690132717830352\n",
      "43 [9780] 0.7212925562608193 0.8713214079630698 0.8701673398730525\n",
      "44 [3248] 0.7876514714368148 0.881130986728217 0.8690132717830352\n",
      "45 [7032] 0.773802654356607 0.875937680323139 0.8730525100980958\n",
      "46 [1774] 0.7801500288517023 0.8782458165031737 0.8753606462781304\n",
      "47 [9674] 0.7968840161569533 0.875937680323139 0.8684362377380266\n",
      "48 [6362] 0.7512983266012695 0.8799769186381996 0.8736295441431045\n",
      "49 [8967] 0.8170802077322562 0.8753606462781304 0.8724754760530872\n",
      "50 [9077] 0.727062896710906 0.8828620888632429 0.8678592036930178\n",
      "51 [2220] 0.743796884016157 0.8747836122331217 0.8718984420080784\n",
      "52 [3156] 0.7432198499711483 0.8805539526832084 0.8684362377380266\n",
      "53 [5640] 0.7189844200807848 0.8753606462781304 0.8730525100980958\n",
      "54 [8242] 0.8193883439122909 0.881130986728217 0.8747836122331217\n",
      "55 [2218] 0.8055395268320831 0.8770917484131564 0.8649740334679746\n",
      "56 [4319] 0.7414887478361223 0.8753606462781304 0.8620888632429313\n",
      "57 [5798] 0.7876514714368148 0.8707443739180611 0.8672821696480092\n",
      "58 [8419] 0.7951529140219273 0.8742065781881131 0.8690132717830352\n",
      "59 [4873] 0.7212925562608193 0.8730525100980958 0.8695903058280439\n",
      "60 [8396] 0.7639930755914599 0.8713214079630698 0.8672821696480092\n",
      "61 [9755] 0.7426428159261397 0.8770917484131564 0.8649740334679746\n",
      "62 [4313] 0.7928447778418927 0.879399884593191 0.8718984420080784\n",
      "63 [4630] 0.7864974033467974 0.8828620888632429 0.8661281015579919\n",
      "64 [9956] 0.8049624927870744 0.8730525100980958 0.8667051356030006\n",
      "65 [580] 0.7709174841315638 0.8799769186381996 0.8655510675129833\n",
      "66 [3794] 0.7997691863819966 0.8753606462781304 0.8713214079630698\n",
      "67 [8910] 0.742065781881131 0.8765147143681478 0.8574725908828621\n",
      "68 [7098] 0.7576457010963646 0.8782458165031737 0.864396999422966\n",
      "69 [7039] 0.7668782458165032 0.877668782458165 0.8701673398730525\n",
      "70 [9780] 0.723600692440854 0.8730525100980958 0.8765147143681478\n",
      "71 [3248] 0.7997691863819966 0.8805539526832084 0.8655510675129833\n",
      "72 [7032] 0.7668782458165032 0.8782458165031737 0.8753606462781304\n",
      "73 [1774] 0.7697634160415464 0.8678592036930178 0.8736295441431045\n",
      "74 [9674] 0.7830351990767456 0.8701673398730525 0.8724754760530872\n",
      "75 [6362] 0.742065781881131 0.8770917484131564 0.8638199653779572\n",
      "76 [8967] 0.8118869013271783 0.879399884593191 0.8718984420080784\n",
      "77 [9077] 0.7472590882862089 0.8724754760530872 0.864396999422966\n",
      "78 [2220] 0.7530294287362954 0.8730525100980958 0.8707443739180611\n",
      "79 [3156] 0.7564916330063474 0.8765147143681478 0.8672821696480092\n",
      "80 [5640] 0.7224466243508367 0.8718984420080784 0.8661281015579919\n",
      "81 [8242] 0.8055395268320831 0.8730525100980958 0.8742065781881131\n",
      "82 [2218] 0.809001731102135 0.8724754760530872 0.8695903058280439\n",
      "83 [4319] 0.7616849394114252 0.8747836122331217 0.8684362377380266\n",
      "84 [5798] 0.7749567224466244 0.8718984420080784 0.8678592036930178\n",
      "85 [8419] 0.7980380842469705 0.8742065781881131 0.8638199653779572\n",
      "86 [4873] 0.7362954414310444 0.8707443739180611 0.8678592036930178\n",
      "87 [8396] 0.7674552798615119 0.8718984420080784 0.8632429313329486\n",
      "88 [9755] 0.7553375649163301 0.8713214079630698 0.8718984420080784\n",
      "89 [4313] 0.7934218118869013 0.8730525100980958 0.8638199653779572\n",
      "90 [4630] 0.8032313906520485 0.8707443739180611 0.8684362377380266\n",
      "91 [9956] 0.7980380842469705 0.8730525100980958 0.8655510675129833\n",
      "92 [580] 0.7778418926716676 0.8678592036930178 0.8615118291979227\n",
      "93 [3794] 0.7951529140219273 0.877668782458165 0.8672821696480092\n",
      "94 [8910] 0.7576457010963646 0.877668782458165 0.8638199653779572\n",
      "95 [7098] 0.7512983266012695 0.8730525100980958 0.8632429313329486\n",
      "96 [7039] 0.7818811309867282 0.8718984420080784 0.8620888632429313\n",
      "97 [9780] 0.7391806116560877 0.8632429313329486 0.8580496249278707\n",
      "98 [3248] 0.7986151182919792 0.8753606462781304 0.8615118291979227\n",
      "99 [7032] 0.7818811309867282 0.8661281015579919 0.8678592036930178\n"
     ]
    }
   ],
   "source": [
    "Runs = 100\n",
    "NN_comparison = np.zeros(Runs)\n",
    "NN_modemode = np.zeros(Runs)\n",
    "NN_median = np.zeros(Runs)\n",
    "\n",
    "for i in range(Runs):\n",
    "    s = np.random.choice(np.arange(10000).astype(\"int\"),1)\n",
    "    Test_Score = TestNN(s)\n",
    "    Mode_Score = ModeModeNN(s)\n",
    "    Median_Score = MedianNN(s)\n",
    "    print(i,s,Test_Score,Mode_Score, Median_Score)\n",
    "    NN_comparison[i] = Test_Score\n",
    "    NN_modemode[i] = Mode_Score\n",
    "    NN_median[i] = Median_Score\n"
   ],
   "metadata": {
    "collapsed": false,
    "pycharm": {
     "name": "#%%\n"
    }
   }
  },
  {
   "cell_type": "code",
   "execution_count": 49,
   "outputs": [
    {
     "data": {
      "text/plain": "(100, 100, 100)"
     },
     "execution_count": 49,
     "metadata": {},
     "output_type": "execute_result"
    }
   ],
   "source": [
    "len(NN_modemode), len(NN_comparison), len(NN_median)"
   ],
   "metadata": {
    "collapsed": false,
    "pycharm": {
     "name": "#%%\n"
    }
   }
  },
  {
   "cell_type": "code",
   "execution_count": 51,
   "outputs": [
    {
     "data": {
      "text/plain": "<Figure size 540x313.2 with 1 Axes>",
      "image/png": "[encoded data removed]"
     },
     "metadata": {},
     "output_type": "display_data"
    }
   ],
   "source": [
    "fig = plt.gcf()\n",
    "fig.set_size_inches(7.5,4.35)\n",
    "plt.hist(NN_comparison)\n",
    "plt.hist(NN_median, color=\"black\")\n",
    "plt.hist(NN_modemode, color=\"red\", bins=10)\n",
    "#plt.axvline(Accuracy_BestXAI, c=\"red\")\n",
    "#plt.axvline(Accuracy_BestMedianXAI,  c=\"black\")\n",
    "plt.xlabel(\"Accuracy of NN\",fontsize=14)\n",
    "plt.ylabel(\"Frequency\",fontsize=14)\n",
    "plt.title(\"Comparison: NN for Best XAI vs. Random Features\",\n",
    "          fontsize = 16)\n",
    "#plt.savefig(\"Comparison_RandomFeatures_vs_XAImode_100NNs\",dpi=600)\n",
    "plt.show()"
   ],
   "metadata": {
    "collapsed": false,
    "pycharm": {
     "name": "#%%\n"
    }
   }
  },
  {
   "cell_type": "code",
   "execution_count": 61,
   "outputs": [
    {
     "data": {
      "text/plain": "<Figure size 540x313.2 with 1 Axes>",
      "image/png": "[encoded data removed]"
     },
     "metadata": {},
     "output_type": "display_data"
    }
   ],
   "source": [
    "fig = plt.gcf()\n",
    "fig.set_size_inches(7.5,4.35)\n",
    "sns.kdeplot(NN_comparison, label =\"Random\", fill=True)\n",
    "sns.kdeplot(NN_median, color = \"black\", label=\"Median\",fill=True)\n",
    "sns.kdeplot(NN_modemode, color = \"red\", label=\"Mode-Mode\",fill=True)\n",
    "plt.legend(loc=\"upper left\")\n",
    "plt.xlabel(\"Accuracy of NN\",fontsize=14)\n",
    "plt.ylabel(\"Frequency\",fontsize=14)\n",
    "plt.title(\"Comparison: NN for Best XAI vs. Random Features\",\n",
    "          fontsize = 16)\n",
    "plt.savefig(\"Comparison_100NNs_kde.pdf\",dpi=600)\n",
    "plt.show()"
   ],
   "metadata": {
    "collapsed": false,
    "pycharm": {
     "name": "#%%\n"
    }
   }
  },
  {
   "cell_type": "code",
   "execution_count": 58,
   "outputs": [
    {
     "name": "stdout",
     "output_type": "stream",
     "text": [
      "0.8691863819965377 0.004478245197891232 0.8736646271944289\n",
      "0.874212348528563 0.00828862556718412 0.8659237229613789\n"
     ]
    }
   ],
   "source": [
    "print(np.mean(NN_median), np.std(NN_median),np.mean(NN_median)+ np.std(NN_median) )\n",
    "print(np.mean(NN_modemode), np.std(NN_modemode),np.mean(NN_modemode)- np.std(NN_modemode) )\n"
   ],
   "metadata": {
    "collapsed": false,
    "pycharm": {
     "name": "#%%\n"
    }
   }
  },
  {
   "cell_type": "code",
   "execution_count": null,
   "outputs": [],
   "source": [],
   "metadata": {
    "collapsed": false,
    "pycharm": {
     "name": "#%%\n"
    }
   }
  },
  {
   "cell_type": "code",
   "execution_count": null,
   "outputs": [],
   "source": [],
   "metadata": {
    "collapsed": false,
    "pycharm": {
     "name": "#%%\n"
    }
   }
  },
  {
   "cell_type": "code",
   "execution_count": 64,
   "outputs": [
    {
     "name": "stdout",
     "output_type": "stream",
     "text": [
      "Model: \"sequential_1\"\n",
      "_________________________________________________________________\n",
      " Layer (type)                Output Shape              Param #   \n",
      "=================================================================\n",
      " dense_6 (Dense)             (None, 256)               1792      \n",
      "                                                                 \n",
      " dense_7 (Dense)             (None, 128)               32896     \n",
      "                                                                 \n",
      " dense_8 (Dense)             (None, 128)               16512     \n",
      "                                                                 \n",
      " dense_9 (Dense)             (None, 1024)              132096    \n",
      "                                                                 \n",
      " dense_10 (Dense)            (None, 128)               131200    \n",
      "                                                                 \n",
      " dropout_1 (Dropout)         (None, 128)               0         \n",
      "                                                                 \n",
      " dense_11 (Dense)            (None, 8)                 1032      \n",
      "                                                                 \n",
      "=================================================================\n",
      "Total params: 315,528\n",
      "Trainable params: 315,528\n",
      "Non-trainable params: 0\n",
      "_________________________________________________________________\n"
     ]
    }
   ],
   "source": [
    "model.summary()"
   ],
   "metadata": {
    "collapsed": false,
    "pycharm": {
     "name": "#%%\n"
    }
   }
  },
  {
   "cell_type": "code",
   "execution_count": null,
   "outputs": [],
   "source": [],
   "metadata": {
    "collapsed": false,
    "pycharm": {
     "name": "#%%\n"
    }
   }
  }
 ],
 "metadata": {
  "kernelspec": {
   "display_name": "Python 3",
   "language": "python",
   "name": "python3"
  },
  "language_info": {
   "codemirror_mode": {
    "name": "ipython",
    "version": 2
   },
   "file_extension": ".py",
   "mimetype": "text/x-python",
   "name": "python",
   "nbconvert_exporter": "python",
   "pygments_lexer": "ipython2",
   "version": "2.7.6"
  }
 },
 "nbformat": 4,
 "nbformat_minor": 0
}