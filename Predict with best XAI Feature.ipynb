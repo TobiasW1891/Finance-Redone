{
 "cells": [
  {
   "cell_type": "code",
   "execution_count": 1,
   "metadata": {
    "collapsed": true
   },
   "outputs": [
    {
     "name": "stderr",
     "output_type": "stream",
     "text": [
      "2022-03-02 17:28:44.506320: W tensorflow/stream_executor/platform/default/dso_loader.cc:64] Could not load dynamic library 'libcudart.so.11.0'; dlerror: libcudart.so.11.0: cannot open shared object file: No such file or directory\n",
      "2022-03-02 17:28:44.506341: I tensorflow/stream_executor/cuda/cudart_stub.cc:29] Ignore above cudart dlerror if you do not have a GPU set up on your machine.\n"
     ]
    }
   ],
   "source": [
    "import antiCPy\n",
    "import numpy as np\n",
    "import matplotlib.pyplot as plt\n",
    "import warnings\n",
    "warnings.filterwarnings(\"ignore\")\n",
    "from sklearn.cluster import KMeans\n",
    "from sklearn.ensemble import RandomForestClassifier\n",
    "from sklearn.model_selection import train_test_split\n",
    "from imblearn.over_sampling import SMOTE\n",
    "import tensorflow.keras as keras\n",
    "from tensorflow.keras import layers\n",
    "from tensorflow.keras.layers import LeakyReLU\n",
    "from sklearn.preprocessing import LabelEncoder\n",
    "from keras.utils import np_utils\n",
    "import seaborn as sns\n",
    "sns.set()"
   ]
  },
  {
   "cell_type": "code",
   "execution_count": 2,
   "outputs": [
    {
     "data": {
      "text/plain": "array([[ 0, 11],\n       [ 1, 40],\n       [ 2, 37],\n       [ 3, 41],\n       [ 4, 16],\n       [ 5, 16],\n       [ 6, 14],\n       [ 7, 16]])"
     },
     "execution_count": 2,
     "metadata": {},
     "output_type": "execute_result"
    }
   ],
   "source": [
    "XAI = np.load(\"XAI_Finance.npy\")\n",
    "Names = np.load(\"Names.npy\")\n",
    "CorrMatrices = np.load(\"CorrMatricesTriangular.npy\")\n",
    "LabelNaiveOrdered = np.load(\"LabelNaiveOrdered.npy\")\n",
    "#OptimalXAI = np.load(\"OptimalXAIFeature.npy\")\n",
    "# now something different\n",
    "OptimalXAI = np.load(\"XAI_modes.npy\")\n",
    "OptimalXAI"
   ],
   "metadata": {
    "collapsed": false,
    "pycharm": {
     "name": "#%%\n"
    }
   }
  },
  {
   "cell_type": "markdown",
   "source": [
    "### Train NN with all relevant features\n",
    "\n",
    "For this, we need one-hot encoded y"
   ],
   "metadata": {
    "collapsed": false
   }
  },
  {
   "cell_type": "code",
   "execution_count": 3,
   "outputs": [
    {
     "name": "stdout",
     "output_type": "stream",
     "text": [
      "{37, 40, 41, 11, 14, 16}\n",
      "(5251, 6)\n",
      "[[1. 0. 0. ... 0. 0. 0.]\n",
      " [1. 0. 0. ... 0. 0. 0.]\n",
      " [1. 0. 0. ... 0. 0. 0.]\n",
      " ...\n",
      " [0. 0. 0. ... 0. 0. 1.]\n",
      " [0. 0. 0. ... 0. 0. 1.]\n",
      " [0. 0. 0. ... 0. 0. 1.]]\n"
     ]
    }
   ],
   "source": [
    "print(set(OptimalXAI[:,1]))\n",
    "CM_Reduced = CorrMatrices[:,list(set(OptimalXAI[:,1]))]\n",
    "print(CM_Reduced.shape)\n",
    "\n",
    "# one hot encoded\n",
    "encoded_Y = np_utils.to_categorical(LabelNaiveOrdered)\n",
    "\n",
    "X_train, X_test, y_train, y_test = train_test_split(CM_Reduced, encoded_Y,\n",
    "                                                    test_size=0.33, random_state=1)\n",
    "print(encoded_Y)\n",
    "\n",
    "# reverse the encoding via\n",
    "# np.argmax(encoded_Y, 1)"
   ],
   "metadata": {
    "collapsed": false,
    "pycharm": {
     "name": "#%%\n"
    }
   }
  },
  {
   "cell_type": "code",
   "execution_count": 4,
   "outputs": [
    {
     "data": {
      "text/plain": "<Figure size 576x216 with 2 Axes>",
      "image/png": "[encoded data removed]"
     },
     "metadata": {},
     "output_type": "display_data"
    }
   ],
   "source": [
    "fig, (ax1, ax2) = plt.subplots(1, 2)\n",
    "fig.set_size_inches(8, 3)\n",
    "ax1.hist(np.argmax(y_train,1), density = True,\n",
    "         bins = np.arange(-0.5, max(np.argmax(y_train,1))+1.5,1))\n",
    "ax2.hist(np.argmax(y_test,1),density = True,\n",
    "         bins = np.arange(-0.5, max(np.argmax(y_test,1))+1.5,1))\n",
    "plt.suptitle(\"Histograms of Training and Test Labels\")\n",
    "plt.show()"
   ],
   "metadata": {
    "collapsed": false,
    "pycharm": {
     "name": "#%%\n"
    }
   }
  },
  {
   "cell_type": "code",
   "execution_count": 5,
   "outputs": [
    {
     "name": "stdout",
     "output_type": "stream",
     "text": [
      "6 8\n",
      "Model: \"sequential\"\n",
      "_________________________________________________________________\n",
      " Layer (type)                Output Shape              Param #   \n",
      "=================================================================\n",
      " dense (Dense)               (None, 256)               1792      \n",
      "                                                                 \n",
      " dense_1 (Dense)             (None, 128)               32896     \n",
      "                                                                 \n",
      " dense_2 (Dense)             (None, 128)               16512     \n",
      "                                                                 \n",
      " dense_3 (Dense)             (None, 1024)              132096    \n",
      "                                                                 \n",
      " dense_4 (Dense)             (None, 128)               131200    \n",
      "                                                                 \n",
      " dropout (Dropout)           (None, 128)               0         \n",
      "                                                                 \n",
      " dense_5 (Dense)             (None, 8)                 1032      \n",
      "                                                                 \n",
      "=================================================================\n",
      "Total params: 315,528\n",
      "Trainable params: 315,528\n",
      "Non-trainable params: 0\n",
      "_________________________________________________________________\n"
     ]
    },
    {
     "name": "stderr",
     "output_type": "stream",
     "text": [
      "2022-03-02 17:28:48.728656: W tensorflow/stream_executor/platform/default/dso_loader.cc:64] Could not load dynamic library 'libcuda.so.1'; dlerror: libcuda.so.1: cannot open shared object file: No such file or directory\n",
      "2022-03-02 17:28:48.728675: W tensorflow/stream_executor/cuda/cuda_driver.cc:269] failed call to cuInit: UNKNOWN ERROR (303)\n",
      "2022-03-02 17:28:48.728692: I tensorflow/stream_executor/cuda/cuda_diagnostics.cc:156] kernel driver does not appear to be running on this host (BARDEEN): /proc/driver/nvidia/version does not exist\n",
      "2022-03-02 17:28:48.728938: I tensorflow/core/platform/cpu_feature_guard.cc:151] This TensorFlow binary is optimized with oneAPI Deep Neural Network Library (oneDNN) to use the following CPU instructions in performance-critical operations:  AVX2 FMA\n",
      "To enable them in other operations, rebuild TensorFlow with the appropriate compiler flags.\n"
     ]
    }
   ],
   "source": [
    "n_In = CM_Reduced.shape[1]\n",
    "num_classes = len(set(LabelNaiveOrdered))\n",
    "print(n_In, num_classes)\n",
    "\n",
    "model = keras.Sequential(\n",
    "    [\n",
    "        layers.Dense(units = 256, input_shape=(n_In,), activation = \"selu\"),\n",
    "        layers.Dense(units=128, activation=\"relu\"),\n",
    "        layers.Dense(units=128, activation=\"relu\"),\n",
    "        layers.Dense(units=1024,\n",
    "              activation=keras.layers.LeakyReLU(alpha=0.05)),\n",
    "        layers.Dense(units=128,\n",
    "              activation=keras.layers.LeakyReLU(alpha=0.01)),\n",
    "        layers.Dropout(0.3),\n",
    "        layers.Dense(units =num_classes, activation=\"softmax\"),\n",
    "    ]\n",
    ")\n",
    "#model.build(n_In)\n",
    "model.summary()"
   ],
   "metadata": {
    "collapsed": false,
    "pycharm": {
     "name": "#%%\n"
    }
   }
  },
  {
   "cell_type": "code",
   "execution_count": 6,
   "outputs": [
    {
     "name": "stdout",
     "output_type": "stream",
     "text": [
      "Epoch 1/100\n",
      "14/14 [==============================] - 1s 27ms/step - loss: 2.0343 - accuracy: 0.1967 - val_loss: 2.0010 - val_accuracy: 0.1808\n",
      "Epoch 2/100\n",
      "14/14 [==============================] - 0s 7ms/step - loss: 1.9521 - accuracy: 0.2177 - val_loss: 1.9183 - val_accuracy: 0.2160\n",
      "Epoch 3/100\n",
      "14/14 [==============================] - 0s 7ms/step - loss: 1.8534 - accuracy: 0.2632 - val_loss: 1.8189 - val_accuracy: 0.2860\n",
      "Epoch 4/100\n",
      "14/14 [==============================] - 0s 6ms/step - loss: 1.7507 - accuracy: 0.3360 - val_loss: 1.6924 - val_accuracy: 0.3729\n",
      "Epoch 5/100\n",
      "14/14 [==============================] - 0s 6ms/step - loss: 1.6166 - accuracy: 0.4389 - val_loss: 1.5407 - val_accuracy: 0.4531\n",
      "Epoch 6/100\n",
      "14/14 [==============================] - 0s 7ms/step - loss: 1.4556 - accuracy: 0.5111 - val_loss: 1.3800 - val_accuracy: 0.5037\n",
      "Epoch 7/100\n",
      "14/14 [==============================] - 0s 7ms/step - loss: 1.2949 - accuracy: 0.5708 - val_loss: 1.2185 - val_accuracy: 0.5674\n",
      "Epoch 8/100\n",
      "14/14 [==============================] - 0s 6ms/step - loss: 1.1541 - accuracy: 0.6089 - val_loss: 1.0941 - val_accuracy: 0.6032\n",
      "Epoch 9/100\n",
      "14/14 [==============================] - 0s 6ms/step - loss: 1.0493 - accuracy: 0.6202 - val_loss: 1.0134 - val_accuracy: 0.6293\n",
      "Epoch 10/100\n",
      "14/14 [==============================] - 0s 6ms/step - loss: 0.9887 - accuracy: 0.6458 - val_loss: 0.9512 - val_accuracy: 0.6549\n",
      "Epoch 11/100\n",
      "14/14 [==============================] - 0s 6ms/step - loss: 0.9420 - accuracy: 0.6521 - val_loss: 0.9134 - val_accuracy: 0.6686\n",
      "Epoch 12/100\n",
      "14/14 [==============================] - 0s 6ms/step - loss: 0.9194 - accuracy: 0.6572 - val_loss: 0.8850 - val_accuracy: 0.6646\n",
      "Epoch 13/100\n",
      "14/14 [==============================] - 0s 6ms/step - loss: 0.8868 - accuracy: 0.6691 - val_loss: 0.8615 - val_accuracy: 0.6720\n",
      "Epoch 14/100\n",
      "14/14 [==============================] - 0s 6ms/step - loss: 0.8739 - accuracy: 0.6742 - val_loss: 0.8361 - val_accuracy: 0.6845\n",
      "Epoch 15/100\n",
      "14/14 [==============================] - 0s 6ms/step - loss: 0.8474 - accuracy: 0.6833 - val_loss: 0.8239 - val_accuracy: 0.6828\n",
      "Epoch 16/100\n",
      "14/14 [==============================] - 0s 7ms/step - loss: 0.8362 - accuracy: 0.6833 - val_loss: 0.8199 - val_accuracy: 0.6885\n",
      "Epoch 17/100\n",
      "14/14 [==============================] - 0s 7ms/step - loss: 0.8167 - accuracy: 0.6924 - val_loss: 0.7957 - val_accuracy: 0.6924\n",
      "Epoch 18/100\n",
      "14/14 [==============================] - 0s 7ms/step - loss: 0.8167 - accuracy: 0.6953 - val_loss: 0.7988 - val_accuracy: 0.6868\n",
      "Epoch 19/100\n",
      "14/14 [==============================] - 0s 6ms/step - loss: 0.7823 - accuracy: 0.7084 - val_loss: 0.7840 - val_accuracy: 0.6896\n",
      "Epoch 20/100\n",
      "14/14 [==============================] - 0s 7ms/step - loss: 0.7818 - accuracy: 0.7049 - val_loss: 0.7707 - val_accuracy: 0.7061\n",
      "Epoch 21/100\n",
      "14/14 [==============================] - 0s 6ms/step - loss: 0.7616 - accuracy: 0.7112 - val_loss: 0.7605 - val_accuracy: 0.7044\n",
      "Epoch 22/100\n",
      "14/14 [==============================] - 0s 6ms/step - loss: 0.7719 - accuracy: 0.7101 - val_loss: 0.7825 - val_accuracy: 0.6799\n",
      "Epoch 23/100\n",
      "14/14 [==============================] - 0s 6ms/step - loss: 0.7793 - accuracy: 0.7146 - val_loss: 0.7498 - val_accuracy: 0.7067\n",
      "Epoch 24/100\n",
      "14/14 [==============================] - 0s 6ms/step - loss: 0.7444 - accuracy: 0.7214 - val_loss: 0.7410 - val_accuracy: 0.7072\n",
      "Epoch 25/100\n",
      "14/14 [==============================] - 0s 6ms/step - loss: 0.7225 - accuracy: 0.7328 - val_loss: 0.7430 - val_accuracy: 0.7067\n",
      "Epoch 26/100\n",
      "14/14 [==============================] - 0s 6ms/step - loss: 0.7152 - accuracy: 0.7288 - val_loss: 0.7272 - val_accuracy: 0.7163\n",
      "Epoch 27/100\n",
      "14/14 [==============================] - 0s 7ms/step - loss: 0.7221 - accuracy: 0.7260 - val_loss: 0.7259 - val_accuracy: 0.7203\n",
      "Epoch 28/100\n",
      "14/14 [==============================] - 0s 6ms/step - loss: 0.7137 - accuracy: 0.7328 - val_loss: 0.7209 - val_accuracy: 0.7203\n",
      "Epoch 29/100\n",
      "14/14 [==============================] - 0s 6ms/step - loss: 0.7039 - accuracy: 0.7226 - val_loss: 0.7183 - val_accuracy: 0.7260\n",
      "Epoch 30/100\n",
      "14/14 [==============================] - 0s 6ms/step - loss: 0.6897 - accuracy: 0.7408 - val_loss: 0.7166 - val_accuracy: 0.7231\n",
      "Epoch 31/100\n",
      "14/14 [==============================] - 0s 6ms/step - loss: 0.6994 - accuracy: 0.7430 - val_loss: 0.7049 - val_accuracy: 0.7220\n",
      "Epoch 32/100\n",
      "14/14 [==============================] - 0s 6ms/step - loss: 0.6852 - accuracy: 0.7436 - val_loss: 0.7261 - val_accuracy: 0.7152\n",
      "Epoch 33/100\n",
      "14/14 [==============================] - 0s 6ms/step - loss: 0.6916 - accuracy: 0.7356 - val_loss: 0.6994 - val_accuracy: 0.7271\n",
      "Epoch 34/100\n",
      "14/14 [==============================] - 0s 6ms/step - loss: 0.6830 - accuracy: 0.7482 - val_loss: 0.6923 - val_accuracy: 0.7248\n",
      "Epoch 35/100\n",
      "14/14 [==============================] - 0s 6ms/step - loss: 0.6741 - accuracy: 0.7396 - val_loss: 0.6925 - val_accuracy: 0.7345\n",
      "Epoch 36/100\n",
      "14/14 [==============================] - 0s 6ms/step - loss: 0.6703 - accuracy: 0.7555 - val_loss: 0.6885 - val_accuracy: 0.7379\n",
      "Epoch 37/100\n",
      "14/14 [==============================] - 0s 6ms/step - loss: 0.6757 - accuracy: 0.7447 - val_loss: 0.6888 - val_accuracy: 0.7351\n",
      "Epoch 38/100\n",
      "14/14 [==============================] - 0s 6ms/step - loss: 0.6640 - accuracy: 0.7550 - val_loss: 0.6952 - val_accuracy: 0.7288\n",
      "Epoch 39/100\n",
      "14/14 [==============================] - 0s 6ms/step - loss: 0.6543 - accuracy: 0.7521 - val_loss: 0.6752 - val_accuracy: 0.7374\n",
      "Epoch 40/100\n",
      "14/14 [==============================] - 0s 6ms/step - loss: 0.6566 - accuracy: 0.7487 - val_loss: 0.6810 - val_accuracy: 0.7362\n",
      "Epoch 41/100\n",
      "14/14 [==============================] - 0s 6ms/step - loss: 0.6468 - accuracy: 0.7555 - val_loss: 0.6732 - val_accuracy: 0.7487\n",
      "Epoch 42/100\n",
      "14/14 [==============================] - 0s 6ms/step - loss: 0.6496 - accuracy: 0.7590 - val_loss: 0.6637 - val_accuracy: 0.7453\n",
      "Epoch 43/100\n",
      "14/14 [==============================] - 0s 7ms/step - loss: 0.6299 - accuracy: 0.7527 - val_loss: 0.6785 - val_accuracy: 0.7368\n",
      "Epoch 44/100\n",
      "14/14 [==============================] - 0s 7ms/step - loss: 0.6446 - accuracy: 0.7584 - val_loss: 0.6637 - val_accuracy: 0.7374\n",
      "Epoch 45/100\n",
      "14/14 [==============================] - 0s 6ms/step - loss: 0.6385 - accuracy: 0.7493 - val_loss: 0.6589 - val_accuracy: 0.7464\n",
      "Epoch 46/100\n",
      "14/14 [==============================] - 0s 7ms/step - loss: 0.6302 - accuracy: 0.7584 - val_loss: 0.6600 - val_accuracy: 0.7442\n",
      "Epoch 47/100\n",
      "14/14 [==============================] - 0s 7ms/step - loss: 0.6324 - accuracy: 0.7675 - val_loss: 0.6595 - val_accuracy: 0.7374\n",
      "Epoch 48/100\n",
      "14/14 [==============================] - 0s 7ms/step - loss: 0.6212 - accuracy: 0.7550 - val_loss: 0.6543 - val_accuracy: 0.7482\n",
      "Epoch 49/100\n",
      "14/14 [==============================] - 0s 7ms/step - loss: 0.6177 - accuracy: 0.7692 - val_loss: 0.6536 - val_accuracy: 0.7402\n",
      "Epoch 50/100\n",
      "14/14 [==============================] - 0s 7ms/step - loss: 0.6195 - accuracy: 0.7544 - val_loss: 0.6439 - val_accuracy: 0.7572\n",
      "Epoch 51/100\n",
      "14/14 [==============================] - 0s 7ms/step - loss: 0.6064 - accuracy: 0.7754 - val_loss: 0.6442 - val_accuracy: 0.7561\n",
      "Epoch 52/100\n",
      "14/14 [==============================] - 0s 7ms/step - loss: 0.6103 - accuracy: 0.7720 - val_loss: 0.6452 - val_accuracy: 0.7482\n",
      "Epoch 53/100\n",
      "14/14 [==============================] - 0s 7ms/step - loss: 0.5947 - accuracy: 0.7766 - val_loss: 0.6625 - val_accuracy: 0.7362\n",
      "Epoch 54/100\n",
      "14/14 [==============================] - 0s 6ms/step - loss: 0.5919 - accuracy: 0.7811 - val_loss: 0.6325 - val_accuracy: 0.7629\n",
      "Epoch 55/100\n",
      "14/14 [==============================] - 0s 6ms/step - loss: 0.5805 - accuracy: 0.7862 - val_loss: 0.6366 - val_accuracy: 0.7675\n",
      "Epoch 56/100\n",
      "14/14 [==============================] - 0s 6ms/step - loss: 0.5848 - accuracy: 0.7800 - val_loss: 0.6295 - val_accuracy: 0.7641\n",
      "Epoch 57/100\n",
      "14/14 [==============================] - 0s 6ms/step - loss: 0.5849 - accuracy: 0.7771 - val_loss: 0.6253 - val_accuracy: 0.7629\n",
      "Epoch 58/100\n",
      "14/14 [==============================] - 0s 6ms/step - loss: 0.5801 - accuracy: 0.7811 - val_loss: 0.6280 - val_accuracy: 0.7607\n",
      "Epoch 59/100\n",
      "14/14 [==============================] - 0s 6ms/step - loss: 0.5711 - accuracy: 0.7828 - val_loss: 0.6220 - val_accuracy: 0.7612\n",
      "Epoch 60/100\n",
      "14/14 [==============================] - 0s 6ms/step - loss: 0.5752 - accuracy: 0.7834 - val_loss: 0.6223 - val_accuracy: 0.7641\n",
      "Epoch 61/100\n",
      "14/14 [==============================] - 0s 6ms/step - loss: 0.5732 - accuracy: 0.7840 - val_loss: 0.6333 - val_accuracy: 0.7544\n",
      "Epoch 62/100\n",
      "14/14 [==============================] - 0s 6ms/step - loss: 0.5666 - accuracy: 0.7811 - val_loss: 0.6219 - val_accuracy: 0.7624\n",
      "Epoch 63/100\n",
      "14/14 [==============================] - 0s 7ms/step - loss: 0.5673 - accuracy: 0.7874 - val_loss: 0.6168 - val_accuracy: 0.7720\n",
      "Epoch 64/100\n",
      "14/14 [==============================] - 0s 7ms/step - loss: 0.5655 - accuracy: 0.7908 - val_loss: 0.6161 - val_accuracy: 0.7771\n",
      "Epoch 65/100\n",
      "14/14 [==============================] - 0s 7ms/step - loss: 0.5520 - accuracy: 0.7908 - val_loss: 0.6241 - val_accuracy: 0.7698\n",
      "Epoch 66/100\n",
      "14/14 [==============================] - 0s 7ms/step - loss: 0.5544 - accuracy: 0.7840 - val_loss: 0.6156 - val_accuracy: 0.7686\n",
      "Epoch 67/100\n",
      "14/14 [==============================] - 0s 6ms/step - loss: 0.5418 - accuracy: 0.7959 - val_loss: 0.6101 - val_accuracy: 0.7720\n",
      "Epoch 68/100\n",
      "14/14 [==============================] - 0s 6ms/step - loss: 0.5546 - accuracy: 0.7868 - val_loss: 0.6099 - val_accuracy: 0.7709\n",
      "Epoch 69/100\n",
      "14/14 [==============================] - 0s 7ms/step - loss: 0.5416 - accuracy: 0.7942 - val_loss: 0.6043 - val_accuracy: 0.7754\n",
      "Epoch 70/100\n",
      "14/14 [==============================] - 0s 7ms/step - loss: 0.5534 - accuracy: 0.7840 - val_loss: 0.6073 - val_accuracy: 0.7777\n",
      "Epoch 71/100\n",
      "14/14 [==============================] - 0s 7ms/step - loss: 0.5394 - accuracy: 0.7970 - val_loss: 0.6069 - val_accuracy: 0.7737\n",
      "Epoch 72/100\n",
      "14/14 [==============================] - 0s 8ms/step - loss: 0.5351 - accuracy: 0.7948 - val_loss: 0.6066 - val_accuracy: 0.7681\n",
      "Epoch 73/100\n",
      "14/14 [==============================] - 0s 8ms/step - loss: 0.5407 - accuracy: 0.7982 - val_loss: 0.6052 - val_accuracy: 0.7703\n",
      "Epoch 74/100\n",
      "14/14 [==============================] - 0s 7ms/step - loss: 0.5389 - accuracy: 0.7970 - val_loss: 0.5965 - val_accuracy: 0.7817\n",
      "Epoch 75/100\n",
      "14/14 [==============================] - 0s 8ms/step - loss: 0.5200 - accuracy: 0.8044 - val_loss: 0.5963 - val_accuracy: 0.7811\n",
      "Epoch 76/100\n",
      "14/14 [==============================] - 0s 6ms/step - loss: 0.5430 - accuracy: 0.7925 - val_loss: 0.5987 - val_accuracy: 0.7806\n",
      "Epoch 77/100\n",
      "14/14 [==============================] - 0s 6ms/step - loss: 0.5405 - accuracy: 0.7953 - val_loss: 0.5957 - val_accuracy: 0.7845\n",
      "Epoch 78/100\n",
      "14/14 [==============================] - 0s 7ms/step - loss: 0.5220 - accuracy: 0.8050 - val_loss: 0.5963 - val_accuracy: 0.7737\n",
      "Epoch 79/100\n",
      "14/14 [==============================] - 0s 6ms/step - loss: 0.5202 - accuracy: 0.8061 - val_loss: 0.5963 - val_accuracy: 0.7715\n",
      "Epoch 80/100\n",
      "14/14 [==============================] - 0s 7ms/step - loss: 0.5178 - accuracy: 0.8084 - val_loss: 0.5988 - val_accuracy: 0.7726\n",
      "Epoch 81/100\n",
      "14/14 [==============================] - 0s 7ms/step - loss: 0.5296 - accuracy: 0.8044 - val_loss: 0.5940 - val_accuracy: 0.7771\n",
      "Epoch 82/100\n",
      "14/14 [==============================] - 0s 6ms/step - loss: 0.5119 - accuracy: 0.8101 - val_loss: 0.5861 - val_accuracy: 0.7806\n",
      "Epoch 83/100\n",
      "14/14 [==============================] - 0s 7ms/step - loss: 0.5050 - accuracy: 0.8141 - val_loss: 0.5847 - val_accuracy: 0.7817\n",
      "Epoch 84/100\n",
      "14/14 [==============================] - 0s 7ms/step - loss: 0.5203 - accuracy: 0.8101 - val_loss: 0.5918 - val_accuracy: 0.7845\n",
      "Epoch 85/100\n",
      "14/14 [==============================] - 0s 7ms/step - loss: 0.5059 - accuracy: 0.8130 - val_loss: 0.5856 - val_accuracy: 0.7823\n",
      "Epoch 86/100\n",
      "14/14 [==============================] - 0s 7ms/step - loss: 0.5207 - accuracy: 0.8050 - val_loss: 0.5964 - val_accuracy: 0.7817\n",
      "Epoch 87/100\n",
      "14/14 [==============================] - 0s 8ms/step - loss: 0.5041 - accuracy: 0.8078 - val_loss: 0.5864 - val_accuracy: 0.7857\n",
      "Epoch 88/100\n",
      "14/14 [==============================] - 0s 7ms/step - loss: 0.4979 - accuracy: 0.8135 - val_loss: 0.5840 - val_accuracy: 0.7868\n",
      "Epoch 89/100\n",
      "14/14 [==============================] - 0s 8ms/step - loss: 0.5020 - accuracy: 0.8073 - val_loss: 0.5769 - val_accuracy: 0.7862\n",
      "Epoch 90/100\n",
      "14/14 [==============================] - 0s 7ms/step - loss: 0.4898 - accuracy: 0.8226 - val_loss: 0.5818 - val_accuracy: 0.7868\n",
      "Epoch 91/100\n",
      "14/14 [==============================] - 0s 7ms/step - loss: 0.4846 - accuracy: 0.8186 - val_loss: 0.5840 - val_accuracy: 0.7908\n",
      "Epoch 92/100\n",
      "14/14 [==============================] - 0s 7ms/step - loss: 0.4934 - accuracy: 0.8164 - val_loss: 0.5749 - val_accuracy: 0.7874\n",
      "Epoch 93/100\n",
      "14/14 [==============================] - 0s 8ms/step - loss: 0.4887 - accuracy: 0.8113 - val_loss: 0.5720 - val_accuracy: 0.7891\n",
      "Epoch 94/100\n",
      "14/14 [==============================] - 0s 8ms/step - loss: 0.4944 - accuracy: 0.8152 - val_loss: 0.5821 - val_accuracy: 0.7908\n",
      "Epoch 95/100\n",
      "14/14 [==============================] - 0s 8ms/step - loss: 0.4968 - accuracy: 0.8158 - val_loss: 0.5677 - val_accuracy: 0.7959\n",
      "Epoch 96/100\n",
      "14/14 [==============================] - 0s 8ms/step - loss: 0.4905 - accuracy: 0.8096 - val_loss: 0.5754 - val_accuracy: 0.7851\n",
      "Epoch 97/100\n",
      "14/14 [==============================] - 0s 8ms/step - loss: 0.4998 - accuracy: 0.8152 - val_loss: 0.5704 - val_accuracy: 0.7931\n",
      "Epoch 98/100\n",
      "14/14 [==============================] - 0s 7ms/step - loss: 0.4799 - accuracy: 0.8181 - val_loss: 0.5834 - val_accuracy: 0.7891\n",
      "Epoch 99/100\n",
      "14/14 [==============================] - 0s 8ms/step - loss: 0.4764 - accuracy: 0.8221 - val_loss: 0.5649 - val_accuracy: 0.7948\n",
      "Epoch 100/100\n",
      "14/14 [==============================] - 0s 9ms/step - loss: 0.4686 - accuracy: 0.8272 - val_loss: 0.5680 - val_accuracy: 0.7914\n"
     ]
    },
    {
     "data": {
      "text/plain": "<keras.callbacks.History at 0x7f765015b250>"
     },
     "execution_count": 6,
     "metadata": {},
     "output_type": "execute_result"
    }
   ],
   "source": [
    "batch_size = 128\n",
    "epochs = 100\n",
    "\n",
    "model.compile(loss=\"categorical_crossentropy\",\n",
    "              optimizer=keras.optimizers.Adam(lr=0.0001),\n",
    "              metrics=[\"accuracy\"])\n",
    "\n",
    "model.fit(X_train, y_train,\n",
    "          batch_size=batch_size,\n",
    "          epochs=epochs,\n",
    "          validation_split=0.5)"
   ],
   "metadata": {
    "collapsed": false,
    "pycharm": {
     "name": "#%%\n"
    }
   }
  },
  {
   "cell_type": "code",
   "execution_count": 7,
   "outputs": [
    {
     "name": "stdout",
     "output_type": "stream",
     "text": [
      "0.7882285054818234\n"
     ]
    }
   ],
   "source": [
    "y_hat = np.argmax(model.predict(X_test),1)\n",
    "Accuracy_BestXAI = np.mean(y_hat == np.argmax(y_test,1))\n",
    "print(Accuracy_BestXAI)"
   ],
   "metadata": {
    "collapsed": false,
    "pycharm": {
     "name": "#%%\n"
    }
   }
  },
  {
   "cell_type": "code",
   "execution_count": 8,
   "outputs": [
    {
     "data": {
      "text/plain": "<Figure size 576x216 with 2 Axes>",
      "image/png": "[encoded data removed]"
     },
     "metadata": {},
     "output_type": "display_data"
    }
   ],
   "source": [
    "fig, (ax1, ax2) = plt.subplots(1, 2)\n",
    "fig.set_size_inches(8, 3)\n",
    "ax1.hist(y_hat, density = True,\n",
    "         bins = np.arange(-0.5, max(y_hat)+1.5,1))\n",
    "ax2.hist(np.argmax(y_test,1),density = True,\n",
    "         bins = np.arange(-0.5, max(np.argmax(y_test,1))+1.5,1))\n",
    "plt.suptitle(\"Histograms of Predicted and Test Labels\")\n",
    "plt.show()"
   ],
   "metadata": {
    "collapsed": false,
    "pycharm": {
     "name": "#%%\n"
    }
   }
  },
  {
   "cell_type": "markdown",
   "source": [
    "### Now with some other features"
   ],
   "metadata": {
    "collapsed": false,
    "pycharm": {
     "name": "#%% md\n"
    }
   }
  },
  {
   "cell_type": "code",
   "execution_count": 9,
   "outputs": [],
   "source": [
    "def TestNN(seed = 1234):\n",
    "    np.random.seed(seed)\n",
    "    Index = np.random.choice(np.arange(XAI.shape[1]).astype(\"int\"), # features to compare optimal XAI to\n",
    "                     size = len(list(set(OptimalXAI[:,1]))),\n",
    "                     replace = False)\n",
    "    CM_Reduced = CorrMatrices[:,Index]\n",
    "    X_train, X_test, y_train, y_test = train_test_split(CM_Reduced, encoded_Y,\n",
    "                                                    test_size=0.33, random_state=1)\n",
    "    model.fit(X_train, y_train,\n",
    "          batch_size=batch_size,\n",
    "          epochs=epochs,\n",
    "          validation_split=0.5,\n",
    "          verbose=0)\n",
    "    y_hat = np.argmax(model.predict(X_test),1)\n",
    "    return(np.mean(y_hat == np.argmax(y_test,1)))"
   ],
   "metadata": {
    "collapsed": false,
    "pycharm": {
     "name": "#%%\n"
    }
   }
  },
  {
   "cell_type": "markdown",
   "source": [],
   "metadata": {
    "collapsed": false
   }
  },
  {
   "cell_type": "code",
   "execution_count": 10,
   "outputs": [
    {
     "data": {
      "text/plain": "0.7166762839007501"
     },
     "execution_count": 10,
     "metadata": {},
     "output_type": "execute_result"
    }
   ],
   "source": [
    "TestNN(54321)"
   ],
   "metadata": {
    "collapsed": false,
    "pycharm": {
     "name": "#%%\n"
    }
   }
  },
  {
   "cell_type": "code",
   "execution_count": 11,
   "outputs": [
    {
     "data": {
      "text/plain": "0.7299480669359493"
     },
     "execution_count": 11,
     "metadata": {},
     "output_type": "execute_result"
    }
   ],
   "source": [
    "TestNN()"
   ],
   "metadata": {
    "collapsed": false,
    "pycharm": {
     "name": "#%%\n"
    }
   }
  },
  {
   "cell_type": "code",
   "execution_count": 12,
   "outputs": [
    {
     "name": "stdout",
     "output_type": "stream",
     "text": [
      "0 [5206] 0.7559145989613387\n",
      "1 [8676] 0.7362954414310444\n",
      "2 [2446] 0.7697634160415464\n",
      "3 [2594] 0.7743796884016156\n",
      "4 [0] 0.7489901904212348\n",
      "5 [7221] 0.7974610502019619\n",
      "6 [6887] 0.790536641661858\n",
      "7 [7580] 0.7888055395268321\n",
      "8 [30] 0.7137911136757069\n",
      "9 [7699] 0.7080207732256203\n",
      "10 [4222] 0.7501442585112522\n",
      "11 [6242] 0.7663012117714946\n",
      "12 [1070] 0.8343912290825158\n",
      "13 [6397] 0.7559145989613387\n",
      "14 [7177] 0.7651471436814772\n",
      "15 [2956] 0.7703404500865552\n",
      "16 [395] 0.7541834968263128\n",
      "17 [5141] 0.7507212925562609\n",
      "18 [8748] 0.7963069821119446\n",
      "19 [6897] 0.7443739180611656\n",
      "20 [5977] 0.7795729948066936\n",
      "21 [5705] 0.7674552798615119\n",
      "22 [4016] 0.7645701096364685\n",
      "23 [2914] 0.7472590882862089\n",
      "24 [142] 0.7674552798615119\n",
      "25 [657] 0.7120600115406809\n",
      "26 [9479] 0.6803231390652048\n",
      "27 [4210] 0.6982111944604732\n",
      "28 [8513] 0.7351413733410271\n",
      "29 [9173] 0.7022504327755338\n",
      "30 [9637] 0.7010963646855164\n",
      "31 [6801] 0.7599538372763993\n",
      "32 [3333] 0.6739757645701097\n",
      "33 [921] 0.6993652625504905\n",
      "34 [1677] 0.7547605308713214\n",
      "35 [5278] 0.7195614541257934\n",
      "36 [8481] 0.790536641661858\n",
      "37 [6780] 0.7189844200807848\n",
      "38 [4364] 0.7091748413156376\n",
      "39 [5362] 0.8049624927870744\n",
      "40 [8917] 0.7334102712060011\n",
      "41 [5835] 0.7345643392960185\n",
      "42 [302] 0.7028274668205424\n",
      "43 [734] 0.7374495095210617\n",
      "44 [8535] 0.673398730525101\n",
      "45 [1145] 0.6641661858049625\n",
      "46 [7068] 0.6953260242354299\n",
      "47 [8524] 0.7426428159261397\n",
      "48 [2014] 0.6635891517599538\n",
      "49 [4683] 0.7212925562608193\n",
      "50 [400] 0.7005193306405078\n",
      "51 [4242] 0.7368724754760531\n",
      "52 [362] 0.7339873052510099\n",
      "53 [7131] 0.7264858626658973\n",
      "54 [5389] 0.6699365262550491\n",
      "55 [5094] 0.7085978072706289\n",
      "56 [3484] 0.7057126370455857\n",
      "57 [5208] 0.7397576457010964\n",
      "58 [8855] 0.7524523946912868\n",
      "59 [9349] 0.7010963646855164\n",
      "60 [3280] 0.7547605308713214\n",
      "61 [1327] 0.6832083092902481\n",
      "62 [9953] 0.7143681477207156\n",
      "63 [6860] 0.7489901904212348\n",
      "64 [893] 0.7184073860357761\n",
      "65 [8554] 0.7524523946912868\n",
      "66 [8382] 0.7149451817657242\n",
      "67 [5396] 0.7155222158107328\n",
      "68 [7369] 0.7674552798615119\n",
      "69 [9226] 0.7432198499711483\n",
      "70 [8924] 0.7351413733410271\n",
      "71 [4485] 0.7564916330063474\n",
      "72 [748] 0.7518753606462781\n",
      "73 [3383] 0.7316791690709752\n",
      "74 [9774] 0.6999422965954991\n",
      "75 [5309] 0.7576457010963646\n",
      "76 [1195] 0.7155222158107328\n",
      "77 [1113] 0.7247547605308713\n",
      "78 [5662] 0.668205424120023\n",
      "79 [6980] 0.7714945181765724\n",
      "80 [7152] 0.7126370455856895\n",
      "81 [5453] 0.7091748413156376\n",
      "82 [6669] 0.7991921523369879\n",
      "83 [772] 0.6866705135603001\n",
      "84 [96] 0.7761107905366417\n",
      "85 [7664] 0.758799769186382\n",
      "86 [8314] 0.8009232544720138\n",
      "87 [3796] 0.706866705135603\n",
      "88 [9816] 0.6762839007501442\n",
      "89 [4870] 0.7651471436814772\n",
      "90 [2135] 0.7512983266012695\n",
      "91 [6114] 0.7155222158107328\n",
      "92 [8305] 0.6658972879399885\n",
      "93 [3013] 0.7109059434506636\n",
      "94 [7718] 0.7443739180611656\n",
      "95 [8061] 0.706866705135603\n",
      "96 [100] 0.7368724754760531\n",
      "97 [7074] 0.7472590882862089\n",
      "98 [5101] 0.7697634160415464\n",
      "99 [7586] 0.688401615695326\n"
     ]
    }
   ],
   "source": [
    "Runs = 100\n",
    "NN_comparison = np.zeros(Runs)\n",
    "\n",
    "for i in range(Runs):\n",
    "    s = np.random.choice(np.arange(10000).astype(\"int\"),1)\n",
    "    Test_Score = TestNN(s)\n",
    "    print(i,s,Test_Score)\n",
    "    NN_comparison[i] = Test_Score\n"
   ],
   "metadata": {
    "collapsed": false,
    "pycharm": {
     "name": "#%%\n"
    }
   }
  },
  {
   "cell_type": "code",
   "execution_count": 13,
   "outputs": [
    {
     "data": {
      "text/plain": "<Figure size 540x313.2 with 1 Axes>",
      "image/png": "[encoded data removed]"
     },
     "metadata": {},
     "output_type": "display_data"
    }
   ],
   "source": [
    "fig = plt.gcf()\n",
    "fig.set_size_inches(7.5,4.35)\n",
    "plt.hist(NN_comparison)\n",
    "plt.axvline(Accuracy_BestXAI,\n",
    "            c=\"red\")\n",
    "plt.xlabel(\"Accuracy of NN\",fontsize=14)\n",
    "plt.ylabel(\"Frequency\",fontsize=14)\n",
    "plt.title(\"Comparison: NN for Best XAI vs. Random Features\",\n",
    "          fontsize = 16)\n",
    "plt.xticks(fontsize=12)\n",
    "plt.yticks(fontsize=12)\n",
    "plt.savefig(\"Comparison_RandomFeatures_vs_XAImode_100NN\",dpi=600)\n",
    "plt.show()"
   ],
   "metadata": {
    "collapsed": false,
    "pycharm": {
     "name": "#%%\n"
    }
   }
  },
  {
   "cell_type": "code",
   "execution_count": 15,
   "outputs": [
    {
     "data": {
      "text/plain": "(0.7365839584535487, 0.7345758799769186, 0.7882285054818234)"
     },
     "execution_count": 15,
     "metadata": {},
     "output_type": "execute_result"
    }
   ],
   "source": [
    "np.median(NN_comparison),np.mean(NN_comparison), Accuracy_BestXAI"
   ],
   "metadata": {
    "collapsed": false,
    "pycharm": {
     "name": "#%%\n"
    }
   }
  },
  {
   "cell_type": "code",
   "execution_count": null,
   "outputs": [],
   "source": [],
   "metadata": {
    "collapsed": false,
    "pycharm": {
     "name": "#%%\n"
    }
   }
  }
 ],
 "metadata": {
  "kernelspec": {
   "display_name": "Python 3",
   "language": "python",
   "name": "python3"
  },
  "language_info": {
   "codemirror_mode": {
    "name": "ipython",
    "version": 2
   },
   "file_extension": ".py",
   "mimetype": "text/x-python",
   "name": "python",
   "nbconvert_exporter": "python",
   "pygments_lexer": "ipython2",
   "version": "2.7.6"
  }
 },
 "nbformat": 4,
 "nbformat_minor": 0
}