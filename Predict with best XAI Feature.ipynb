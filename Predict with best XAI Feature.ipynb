{
 "cells": [
  {
   "cell_type": "code",
   "execution_count": 61,
   "metadata": {
    "collapsed": true
   },
   "outputs": [],
   "source": [
    "import antiCPy\n",
    "import numpy as np\n",
    "import matplotlib.pyplot as plt\n",
    "import warnings\n",
    "warnings.filterwarnings(\"ignore\")\n",
    "from sklearn.cluster import KMeans\n",
    "from sklearn.ensemble import RandomForestClassifier\n",
    "from sklearn.model_selection import train_test_split\n",
    "from imblearn.over_sampling import SMOTE\n",
    "import tensorflow.keras as keras\n",
    "from tensorflow.keras import layers\n",
    "from tensorflow.keras.layers import LeakyReLU\n",
    "from sklearn.preprocessing import LabelEncoder\n",
    "from keras.utils import np_utils\n",
    "import seaborn as sns\n",
    "sns.set()"
   ]
  },
  {
   "cell_type": "code",
   "execution_count": 62,
   "outputs": [
    {
     "name": "stdout",
     "output_type": "stream",
     "text": [
      "[[ 0 11]\n",
      " [ 1 40]\n",
      " [ 2 37]\n",
      " [ 3 41]\n",
      " [ 4 16]\n",
      " [ 5 16]\n",
      " [ 6 14]\n",
      " [ 7 16]] [False False False False False False False False False False False False\n",
      " False False  True  True  True False False False False False False  True\n",
      " False False False False False False  True False False False False False\n",
      " False False False False False  True False False False False False False\n",
      " False False False False False False False]\n",
      "(5251, 6)\n"
     ]
    }
   ],
   "source": [
    "XAI = np.load(\"XAI_Finance.npy\")\n",
    "Names = np.load(\"Names.npy\")\n",
    "CorrMatrices = np.load(\"CorrMatricesTriangular.npy\")\n",
    "LabelNaiveOrdered = np.load(\"LabelNaiveOrdered.npy\")\n",
    "#OptimalXAI = np.load(\"OptimalXAIFeature.npy\")\n",
    "# now something different\n",
    "OptimalXAI = np.load(\"XAI_modes.npy\")\n",
    "MedianLogical = np.load(\"MedianLogical.npy\")\n",
    "print(OptimalXAI, MedianLogical)\n",
    "print(CorrMatrices[:, MedianLogical].shape)"
   ],
   "metadata": {
    "collapsed": false,
    "pycharm": {
     "name": "#%%\n"
    }
   }
  },
  {
   "cell_type": "code",
   "execution_count": 63,
   "outputs": [
    {
     "data": {
      "text/plain": "[<matplotlib.lines.Line2D at 0x7f2194198700>]"
     },
     "execution_count": 63,
     "metadata": {},
     "output_type": "execute_result"
    },
    {
     "data": {
      "text/plain": "<Figure size 432x288 with 1 Axes>",
      "image/png": "[encoded data removed]"
     },
     "metadata": {},
     "output_type": "display_data"
    }
   ],
   "source": [
    "#plt.plot(np.sort(abs(XAI).mean(0)))\n",
    "plt.plot(np.sort(np.median(abs(XAI),0)))"
   ],
   "metadata": {
    "collapsed": false,
    "pycharm": {
     "name": "#%%\n"
    }
   }
  },
  {
   "cell_type": "markdown",
   "source": [
    "### Train NN with all relevant features\n",
    "\n",
    "For this, we need one-hot encoded y"
   ],
   "metadata": {
    "collapsed": false
   }
  },
  {
   "cell_type": "code",
   "execution_count": 64,
   "outputs": [
    {
     "name": "stdout",
     "output_type": "stream",
     "text": [
      "{37, 40, 41, 11, 14, 16}\n",
      "(5251, 6)\n",
      "[[1. 0. 0. ... 0. 0. 0.]\n",
      " [1. 0. 0. ... 0. 0. 0.]\n",
      " [1. 0. 0. ... 0. 0. 0.]\n",
      " ...\n",
      " [0. 0. 0. ... 0. 0. 1.]\n",
      " [0. 0. 0. ... 0. 0. 1.]\n",
      " [0. 0. 0. ... 0. 0. 1.]]\n"
     ]
    }
   ],
   "source": [
    "print(set(OptimalXAI[:,1]))\n",
    "CM_Reduced = CorrMatrices[:,list(set(OptimalXAI[:,1]))]\n",
    "print(CM_Reduced.shape)\n",
    "\n",
    "# one hot encoded\n",
    "encoded_Y = np_utils.to_categorical(LabelNaiveOrdered)\n",
    "\n",
    "X_train, X_test, y_train, y_test = train_test_split(CM_Reduced, encoded_Y,\n",
    "                                                    test_size=0.33, random_state=1)\n",
    "print(encoded_Y)\n",
    "\n",
    "# reverse the encoding via\n",
    "# np.argmax(encoded_Y, 1)"
   ],
   "metadata": {
    "collapsed": false,
    "pycharm": {
     "name": "#%%\n"
    }
   }
  },
  {
   "cell_type": "code",
   "execution_count": 65,
   "outputs": [
    {
     "data": {
      "text/plain": "<Figure size 576x216 with 2 Axes>",
      "image/png": "[encoded data removed]"
     },
     "metadata": {},
     "output_type": "display_data"
    }
   ],
   "source": [
    "fig, (ax1, ax2) = plt.subplots(1, 2)\n",
    "fig.set_size_inches(8, 3)\n",
    "ax1.hist(np.argmax(y_train,1), density = True,\n",
    "         bins = np.arange(-0.5, max(np.argmax(y_train,1))+1.5,1))\n",
    "ax2.hist(np.argmax(y_test,1),density = True,\n",
    "         bins = np.arange(-0.5, max(np.argmax(y_test,1))+1.5,1))\n",
    "plt.suptitle(\"Histograms of Training and Test Labels\")\n",
    "plt.show()"
   ],
   "metadata": {
    "collapsed": false,
    "pycharm": {
     "name": "#%%\n"
    }
   }
  },
  {
   "cell_type": "code",
   "execution_count": 66,
   "outputs": [
    {
     "name": "stdout",
     "output_type": "stream",
     "text": [
      "6 8\n",
      "Model: \"sequential_3\"\n",
      "_________________________________________________________________\n",
      " Layer (type)                Output Shape              Param #   \n",
      "=================================================================\n",
      " dense_18 (Dense)            (None, 256)               1792      \n",
      "                                                                 \n",
      " dense_19 (Dense)            (None, 128)               32896     \n",
      "                                                                 \n",
      " dense_20 (Dense)            (None, 128)               16512     \n",
      "                                                                 \n",
      " dense_21 (Dense)            (None, 1024)              132096    \n",
      "                                                                 \n",
      " dense_22 (Dense)            (None, 128)               131200    \n",
      "                                                                 \n",
      " dropout_3 (Dropout)         (None, 128)               0         \n",
      "                                                                 \n",
      " dense_23 (Dense)            (None, 8)                 1032      \n",
      "                                                                 \n",
      "=================================================================\n",
      "Total params: 315,528\n",
      "Trainable params: 315,528\n",
      "Non-trainable params: 0\n",
      "_________________________________________________________________\n"
     ]
    }
   ],
   "source": [
    "n_In = CM_Reduced.shape[1]\n",
    "num_classes = len(set(LabelNaiveOrdered))\n",
    "print(n_In, num_classes)\n",
    "\n",
    "model = keras.Sequential(\n",
    "    [\n",
    "        layers.Dense(units = 256, input_shape=(n_In,), activation = \"selu\"),\n",
    "        layers.Dense(units=128, activation=\"relu\"),\n",
    "        layers.Dense(units=128, activation=\"relu\"),\n",
    "        layers.Dense(units=1024,\n",
    "              activation=keras.layers.LeakyReLU(alpha=0.05)),\n",
    "        layers.Dense(units=128,\n",
    "              activation=keras.layers.LeakyReLU(alpha=0.01)),\n",
    "        layers.Dropout(0.3),\n",
    "        layers.Dense(units =num_classes, activation=\"softmax\"),\n",
    "    ]\n",
    ")\n",
    "#model.build(n_In)\n",
    "model.summary()"
   ],
   "metadata": {
    "collapsed": false,
    "pycharm": {
     "name": "#%%\n"
    }
   }
  },
  {
   "cell_type": "code",
   "execution_count": 67,
   "outputs": [
    {
     "name": "stdout",
     "output_type": "stream",
     "text": [
      "Epoch 1/100\n",
      "14/14 [==============================] - 1s 17ms/step - loss: 2.0546 - accuracy: 0.2103 - val_loss: 2.0203 - val_accuracy: 0.2280\n",
      "Epoch 2/100\n",
      "14/14 [==============================] - 0s 6ms/step - loss: 1.9795 - accuracy: 0.2496 - val_loss: 1.9420 - val_accuracy: 0.2683\n",
      "Epoch 3/100\n",
      "14/14 [==============================] - 0s 7ms/step - loss: 1.8814 - accuracy: 0.3042 - val_loss: 1.8324 - val_accuracy: 0.3150\n",
      "Epoch 4/100\n",
      "14/14 [==============================] - 0s 6ms/step - loss: 1.7559 - accuracy: 0.3593 - val_loss: 1.6980 - val_accuracy: 0.3928\n",
      "Epoch 5/100\n",
      "14/14 [==============================] - 0s 6ms/step - loss: 1.6047 - accuracy: 0.4611 - val_loss: 1.5369 - val_accuracy: 0.5065\n",
      "Epoch 6/100\n",
      "14/14 [==============================] - 0s 7ms/step - loss: 1.4330 - accuracy: 0.5446 - val_loss: 1.3653 - val_accuracy: 0.5492\n",
      "Epoch 7/100\n",
      "14/14 [==============================] - 0s 6ms/step - loss: 1.2779 - accuracy: 0.5821 - val_loss: 1.2226 - val_accuracy: 0.5657\n",
      "Epoch 8/100\n",
      "14/14 [==============================] - 0s 6ms/step - loss: 1.1496 - accuracy: 0.5981 - val_loss: 1.1199 - val_accuracy: 0.5930\n",
      "Epoch 9/100\n",
      "14/14 [==============================] - 0s 6ms/step - loss: 1.0713 - accuracy: 0.6094 - val_loss: 1.0523 - val_accuracy: 0.6140\n",
      "Epoch 10/100\n",
      "14/14 [==============================] - 0s 6ms/step - loss: 1.0305 - accuracy: 0.6282 - val_loss: 1.0005 - val_accuracy: 0.6242\n",
      "Epoch 11/100\n",
      "14/14 [==============================] - 0s 6ms/step - loss: 0.9911 - accuracy: 0.6214 - val_loss: 0.9712 - val_accuracy: 0.6322\n",
      "Epoch 12/100\n",
      "14/14 [==============================] - 0s 6ms/step - loss: 0.9562 - accuracy: 0.6316 - val_loss: 0.9418 - val_accuracy: 0.6413\n",
      "Epoch 13/100\n",
      "14/14 [==============================] - 0s 6ms/step - loss: 0.9226 - accuracy: 0.6481 - val_loss: 0.9120 - val_accuracy: 0.6526\n",
      "Epoch 14/100\n",
      "14/14 [==============================] - 0s 6ms/step - loss: 0.9046 - accuracy: 0.6532 - val_loss: 0.9032 - val_accuracy: 0.6339\n",
      "Epoch 15/100\n",
      "14/14 [==============================] - 0s 6ms/step - loss: 0.8947 - accuracy: 0.6521 - val_loss: 0.8752 - val_accuracy: 0.6600\n",
      "Epoch 16/100\n",
      "14/14 [==============================] - 0s 6ms/step - loss: 0.8770 - accuracy: 0.6623 - val_loss: 0.8692 - val_accuracy: 0.6572\n",
      "Epoch 17/100\n",
      "14/14 [==============================] - 0s 6ms/step - loss: 0.8599 - accuracy: 0.6771 - val_loss: 0.8486 - val_accuracy: 0.6680\n",
      "Epoch 18/100\n",
      "14/14 [==============================] - 0s 6ms/step - loss: 0.8580 - accuracy: 0.6782 - val_loss: 0.8281 - val_accuracy: 0.6777\n",
      "Epoch 19/100\n",
      "14/14 [==============================] - 0s 6ms/step - loss: 0.8294 - accuracy: 0.6850 - val_loss: 0.8152 - val_accuracy: 0.6879\n",
      "Epoch 20/100\n",
      "14/14 [==============================] - 0s 6ms/step - loss: 0.8324 - accuracy: 0.6873 - val_loss: 0.8077 - val_accuracy: 0.6907\n",
      "Epoch 21/100\n",
      "14/14 [==============================] - 0s 6ms/step - loss: 0.8125 - accuracy: 0.6879 - val_loss: 0.7934 - val_accuracy: 0.6958\n",
      "Epoch 22/100\n",
      "14/14 [==============================] - 0s 6ms/step - loss: 0.7997 - accuracy: 0.6947 - val_loss: 0.7808 - val_accuracy: 0.6947\n",
      "Epoch 23/100\n",
      "14/14 [==============================] - 0s 7ms/step - loss: 0.7917 - accuracy: 0.6919 - val_loss: 0.7690 - val_accuracy: 0.6970\n",
      "Epoch 24/100\n",
      "14/14 [==============================] - 0s 6ms/step - loss: 0.7710 - accuracy: 0.7140 - val_loss: 0.7705 - val_accuracy: 0.6907\n",
      "Epoch 25/100\n",
      "14/14 [==============================] - 0s 7ms/step - loss: 0.7686 - accuracy: 0.7055 - val_loss: 0.7511 - val_accuracy: 0.7078\n",
      "Epoch 26/100\n",
      "14/14 [==============================] - 0s 7ms/step - loss: 0.7503 - accuracy: 0.7129 - val_loss: 0.7432 - val_accuracy: 0.7055\n",
      "Epoch 27/100\n",
      "14/14 [==============================] - 0s 7ms/step - loss: 0.7452 - accuracy: 0.7197 - val_loss: 0.7363 - val_accuracy: 0.7095\n",
      "Epoch 28/100\n",
      "14/14 [==============================] - 0s 7ms/step - loss: 0.7342 - accuracy: 0.7163 - val_loss: 0.7349 - val_accuracy: 0.7118\n",
      "Epoch 29/100\n",
      "14/14 [==============================] - 0s 7ms/step - loss: 0.7303 - accuracy: 0.7271 - val_loss: 0.7402 - val_accuracy: 0.7015\n",
      "Epoch 30/100\n",
      "14/14 [==============================] - 0s 7ms/step - loss: 0.7350 - accuracy: 0.7203 - val_loss: 0.7272 - val_accuracy: 0.7049\n",
      "Epoch 31/100\n",
      "14/14 [==============================] - 0s 7ms/step - loss: 0.7174 - accuracy: 0.7283 - val_loss: 0.7152 - val_accuracy: 0.7243\n",
      "Epoch 32/100\n",
      "14/14 [==============================] - 0s 6ms/step - loss: 0.7062 - accuracy: 0.7391 - val_loss: 0.7120 - val_accuracy: 0.7175\n",
      "Epoch 33/100\n",
      "14/14 [==============================] - 0s 6ms/step - loss: 0.6939 - accuracy: 0.7356 - val_loss: 0.7051 - val_accuracy: 0.7288\n",
      "Epoch 34/100\n",
      "14/14 [==============================] - 0s 6ms/step - loss: 0.6994 - accuracy: 0.7408 - val_loss: 0.7002 - val_accuracy: 0.7294\n",
      "Epoch 35/100\n",
      "14/14 [==============================] - 0s 6ms/step - loss: 0.6932 - accuracy: 0.7447 - val_loss: 0.7242 - val_accuracy: 0.7044\n",
      "Epoch 36/100\n",
      "14/14 [==============================] - 0s 7ms/step - loss: 0.6843 - accuracy: 0.7499 - val_loss: 0.6967 - val_accuracy: 0.7294\n",
      "Epoch 37/100\n",
      "14/14 [==============================] - 0s 6ms/step - loss: 0.6767 - accuracy: 0.7533 - val_loss: 0.6916 - val_accuracy: 0.7339\n",
      "Epoch 38/100\n",
      "14/14 [==============================] - 0s 6ms/step - loss: 0.6634 - accuracy: 0.7482 - val_loss: 0.6810 - val_accuracy: 0.7391\n",
      "Epoch 39/100\n",
      "14/14 [==============================] - 0s 6ms/step - loss: 0.6564 - accuracy: 0.7538 - val_loss: 0.6800 - val_accuracy: 0.7374\n",
      "Epoch 40/100\n",
      "14/14 [==============================] - 0s 6ms/step - loss: 0.6667 - accuracy: 0.7425 - val_loss: 0.6786 - val_accuracy: 0.7374\n",
      "Epoch 41/100\n",
      "14/14 [==============================] - 0s 6ms/step - loss: 0.6425 - accuracy: 0.7692 - val_loss: 0.6726 - val_accuracy: 0.7334\n",
      "Epoch 42/100\n",
      "14/14 [==============================] - 0s 6ms/step - loss: 0.6568 - accuracy: 0.7436 - val_loss: 0.6777 - val_accuracy: 0.7379\n",
      "Epoch 43/100\n",
      "14/14 [==============================] - 0s 7ms/step - loss: 0.6485 - accuracy: 0.7561 - val_loss: 0.6702 - val_accuracy: 0.7356\n",
      "Epoch 44/100\n",
      "14/14 [==============================] - 0s 6ms/step - loss: 0.6375 - accuracy: 0.7555 - val_loss: 0.6685 - val_accuracy: 0.7368\n",
      "Epoch 45/100\n",
      "14/14 [==============================] - 0s 6ms/step - loss: 0.6295 - accuracy: 0.7681 - val_loss: 0.6698 - val_accuracy: 0.7391\n",
      "Epoch 46/100\n",
      "14/14 [==============================] - 0s 6ms/step - loss: 0.6259 - accuracy: 0.7550 - val_loss: 0.6571 - val_accuracy: 0.7453\n",
      "Epoch 47/100\n",
      "14/14 [==============================] - 0s 7ms/step - loss: 0.6222 - accuracy: 0.7612 - val_loss: 0.6499 - val_accuracy: 0.7521\n",
      "Epoch 48/100\n",
      "14/14 [==============================] - 0s 7ms/step - loss: 0.6237 - accuracy: 0.7567 - val_loss: 0.6534 - val_accuracy: 0.7521\n",
      "Epoch 49/100\n",
      "14/14 [==============================] - 0s 6ms/step - loss: 0.6178 - accuracy: 0.7646 - val_loss: 0.6546 - val_accuracy: 0.7499\n",
      "Epoch 50/100\n",
      "14/14 [==============================] - 0s 6ms/step - loss: 0.6125 - accuracy: 0.7754 - val_loss: 0.6443 - val_accuracy: 0.7561\n",
      "Epoch 51/100\n",
      "14/14 [==============================] - 0s 7ms/step - loss: 0.6153 - accuracy: 0.7652 - val_loss: 0.6410 - val_accuracy: 0.7567\n",
      "Epoch 52/100\n",
      "14/14 [==============================] - 0s 6ms/step - loss: 0.6064 - accuracy: 0.7754 - val_loss: 0.6375 - val_accuracy: 0.7612\n",
      "Epoch 53/100\n",
      "14/14 [==============================] - 0s 6ms/step - loss: 0.6047 - accuracy: 0.7692 - val_loss: 0.6326 - val_accuracy: 0.7612\n",
      "Epoch 54/100\n",
      "14/14 [==============================] - 0s 7ms/step - loss: 0.5984 - accuracy: 0.7794 - val_loss: 0.6397 - val_accuracy: 0.7578\n",
      "Epoch 55/100\n",
      "14/14 [==============================] - 0s 6ms/step - loss: 0.5929 - accuracy: 0.7794 - val_loss: 0.6267 - val_accuracy: 0.7646\n",
      "Epoch 56/100\n",
      "14/14 [==============================] - 0s 6ms/step - loss: 0.5906 - accuracy: 0.7771 - val_loss: 0.6377 - val_accuracy: 0.7624\n",
      "Epoch 57/100\n",
      "14/14 [==============================] - 0s 7ms/step - loss: 0.5931 - accuracy: 0.7749 - val_loss: 0.6300 - val_accuracy: 0.7641\n",
      "Epoch 58/100\n",
      "14/14 [==============================] - 0s 8ms/step - loss: 0.5874 - accuracy: 0.7862 - val_loss: 0.6221 - val_accuracy: 0.7618\n",
      "Epoch 59/100\n",
      "14/14 [==============================] - 0s 8ms/step - loss: 0.5776 - accuracy: 0.7817 - val_loss: 0.6289 - val_accuracy: 0.7635\n",
      "Epoch 60/100\n",
      "14/14 [==============================] - 0s 7ms/step - loss: 0.5702 - accuracy: 0.7902 - val_loss: 0.6216 - val_accuracy: 0.7658\n",
      "Epoch 61/100\n",
      "14/14 [==============================] - 0s 6ms/step - loss: 0.5637 - accuracy: 0.7908 - val_loss: 0.6204 - val_accuracy: 0.7715\n",
      "Epoch 62/100\n",
      "14/14 [==============================] - 0s 7ms/step - loss: 0.5592 - accuracy: 0.7766 - val_loss: 0.6268 - val_accuracy: 0.7629\n",
      "Epoch 63/100\n",
      "14/14 [==============================] - 0s 6ms/step - loss: 0.5714 - accuracy: 0.7908 - val_loss: 0.6109 - val_accuracy: 0.7737\n",
      "Epoch 64/100\n",
      "14/14 [==============================] - 0s 7ms/step - loss: 0.5528 - accuracy: 0.7919 - val_loss: 0.6148 - val_accuracy: 0.7681\n",
      "Epoch 65/100\n",
      "14/14 [==============================] - 0s 6ms/step - loss: 0.5471 - accuracy: 0.7987 - val_loss: 0.6201 - val_accuracy: 0.7641\n",
      "Epoch 66/100\n",
      "14/14 [==============================] - 0s 7ms/step - loss: 0.5668 - accuracy: 0.7925 - val_loss: 0.6359 - val_accuracy: 0.7538\n",
      "Epoch 67/100\n",
      "14/14 [==============================] - 0s 7ms/step - loss: 0.5641 - accuracy: 0.7897 - val_loss: 0.6070 - val_accuracy: 0.7698\n",
      "Epoch 68/100\n",
      "14/14 [==============================] - 0s 7ms/step - loss: 0.5494 - accuracy: 0.7874 - val_loss: 0.6132 - val_accuracy: 0.7663\n",
      "Epoch 69/100\n",
      "14/14 [==============================] - 0s 6ms/step - loss: 0.5420 - accuracy: 0.7953 - val_loss: 0.6031 - val_accuracy: 0.7692\n",
      "Epoch 70/100\n",
      "14/14 [==============================] - 0s 6ms/step - loss: 0.5442 - accuracy: 0.7987 - val_loss: 0.6238 - val_accuracy: 0.7584\n",
      "Epoch 71/100\n",
      "14/14 [==============================] - 0s 7ms/step - loss: 0.5417 - accuracy: 0.7999 - val_loss: 0.6171 - val_accuracy: 0.7629\n",
      "Epoch 72/100\n",
      "14/14 [==============================] - 0s 7ms/step - loss: 0.5412 - accuracy: 0.8010 - val_loss: 0.5959 - val_accuracy: 0.7715\n",
      "Epoch 73/100\n",
      "14/14 [==============================] - 0s 6ms/step - loss: 0.5352 - accuracy: 0.7942 - val_loss: 0.6046 - val_accuracy: 0.7669\n",
      "Epoch 74/100\n",
      "14/14 [==============================] - 0s 6ms/step - loss: 0.5456 - accuracy: 0.8010 - val_loss: 0.6030 - val_accuracy: 0.7658\n",
      "Epoch 75/100\n",
      "14/14 [==============================] - 0s 6ms/step - loss: 0.5308 - accuracy: 0.7959 - val_loss: 0.6067 - val_accuracy: 0.7658\n",
      "Epoch 76/100\n",
      "14/14 [==============================] - 0s 7ms/step - loss: 0.5161 - accuracy: 0.8101 - val_loss: 0.5927 - val_accuracy: 0.7754\n",
      "Epoch 77/100\n",
      "14/14 [==============================] - 0s 7ms/step - loss: 0.5086 - accuracy: 0.8096 - val_loss: 0.5934 - val_accuracy: 0.7726\n",
      "Epoch 78/100\n",
      "14/14 [==============================] - 0s 8ms/step - loss: 0.5154 - accuracy: 0.8096 - val_loss: 0.5890 - val_accuracy: 0.7806\n",
      "Epoch 79/100\n",
      "14/14 [==============================] - 0s 7ms/step - loss: 0.5121 - accuracy: 0.8073 - val_loss: 0.5996 - val_accuracy: 0.7692\n",
      "Epoch 80/100\n",
      "14/14 [==============================] - 0s 6ms/step - loss: 0.5168 - accuracy: 0.8050 - val_loss: 0.5998 - val_accuracy: 0.7698\n",
      "Epoch 81/100\n",
      "14/14 [==============================] - 0s 7ms/step - loss: 0.5212 - accuracy: 0.8192 - val_loss: 0.5965 - val_accuracy: 0.7726\n",
      "Epoch 82/100\n",
      "14/14 [==============================] - 0s 8ms/step - loss: 0.5061 - accuracy: 0.8067 - val_loss: 0.5913 - val_accuracy: 0.7760\n",
      "Epoch 83/100\n",
      "14/14 [==============================] - 0s 8ms/step - loss: 0.5100 - accuracy: 0.8141 - val_loss: 0.5826 - val_accuracy: 0.7806\n",
      "Epoch 84/100\n",
      "14/14 [==============================] - 0s 7ms/step - loss: 0.5051 - accuracy: 0.8169 - val_loss: 0.6068 - val_accuracy: 0.7698\n",
      "Epoch 85/100\n",
      "14/14 [==============================] - 0s 8ms/step - loss: 0.5048 - accuracy: 0.8152 - val_loss: 0.5826 - val_accuracy: 0.7840\n",
      "Epoch 86/100\n",
      "14/14 [==============================] - 0s 7ms/step - loss: 0.5037 - accuracy: 0.8056 - val_loss: 0.6035 - val_accuracy: 0.7749\n",
      "Epoch 87/100\n",
      "14/14 [==============================] - 0s 7ms/step - loss: 0.5039 - accuracy: 0.8101 - val_loss: 0.5822 - val_accuracy: 0.7845\n",
      "Epoch 88/100\n",
      "14/14 [==============================] - 0s 8ms/step - loss: 0.5002 - accuracy: 0.8084 - val_loss: 0.5842 - val_accuracy: 0.7868\n",
      "Epoch 89/100\n",
      "14/14 [==============================] - 0s 8ms/step - loss: 0.4897 - accuracy: 0.8107 - val_loss: 0.5831 - val_accuracy: 0.7828\n",
      "Epoch 90/100\n",
      "14/14 [==============================] - 0s 8ms/step - loss: 0.4908 - accuracy: 0.8141 - val_loss: 0.5777 - val_accuracy: 0.7817\n",
      "Epoch 91/100\n",
      "14/14 [==============================] - 0s 8ms/step - loss: 0.4810 - accuracy: 0.8215 - val_loss: 0.5769 - val_accuracy: 0.7851\n",
      "Epoch 92/100\n",
      "14/14 [==============================] - 0s 6ms/step - loss: 0.4774 - accuracy: 0.8266 - val_loss: 0.5788 - val_accuracy: 0.7766\n",
      "Epoch 93/100\n",
      "14/14 [==============================] - 0s 6ms/step - loss: 0.4794 - accuracy: 0.8243 - val_loss: 0.5759 - val_accuracy: 0.7834\n",
      "Epoch 94/100\n",
      "14/14 [==============================] - 0s 6ms/step - loss: 0.4812 - accuracy: 0.8169 - val_loss: 0.5690 - val_accuracy: 0.7879\n",
      "Epoch 95/100\n",
      "14/14 [==============================] - 0s 6ms/step - loss: 0.4719 - accuracy: 0.8243 - val_loss: 0.5834 - val_accuracy: 0.7851\n",
      "Epoch 96/100\n",
      "14/14 [==============================] - 0s 6ms/step - loss: 0.4856 - accuracy: 0.8249 - val_loss: 0.5773 - val_accuracy: 0.7851\n",
      "Epoch 97/100\n",
      "14/14 [==============================] - 0s 6ms/step - loss: 0.4706 - accuracy: 0.8249 - val_loss: 0.5717 - val_accuracy: 0.7874\n",
      "Epoch 98/100\n",
      "14/14 [==============================] - 0s 6ms/step - loss: 0.4679 - accuracy: 0.8272 - val_loss: 0.5701 - val_accuracy: 0.7897\n",
      "Epoch 99/100\n",
      "14/14 [==============================] - 0s 6ms/step - loss: 0.4717 - accuracy: 0.8158 - val_loss: 0.5796 - val_accuracy: 0.7834\n",
      "Epoch 100/100\n",
      "14/14 [==============================] - 0s 8ms/step - loss: 0.4830 - accuracy: 0.8152 - val_loss: 0.5698 - val_accuracy: 0.7840\n"
     ]
    },
    {
     "data": {
      "text/plain": "<keras.callbacks.History at 0x7f21807a7e50>"
     },
     "execution_count": 67,
     "metadata": {},
     "output_type": "execute_result"
    }
   ],
   "source": [
    "batch_size = 128\n",
    "epochs = 100\n",
    "\n",
    "model.compile(loss=\"categorical_crossentropy\",\n",
    "              optimizer=keras.optimizers.Adam(lr=0.0001),\n",
    "              metrics=[\"accuracy\"])\n",
    "\n",
    "model.fit(X_train, y_train,\n",
    "          batch_size=batch_size,\n",
    "          epochs=epochs,\n",
    "          validation_split=0.5)"
   ],
   "metadata": {
    "collapsed": false,
    "pycharm": {
     "name": "#%%\n"
    }
   }
  },
  {
   "cell_type": "code",
   "execution_count": 68,
   "outputs": [
    {
     "name": "stdout",
     "output_type": "stream",
     "text": [
      "0.7864974033467974\n"
     ]
    }
   ],
   "source": [
    "y_hat = np.argmax(model.predict(X_test),1)\n",
    "Accuracy_BestXAI = np.mean(y_hat == np.argmax(y_test,1))\n",
    "print(Accuracy_BestXAI)"
   ],
   "metadata": {
    "collapsed": false,
    "pycharm": {
     "name": "#%%\n"
    }
   }
  },
  {
   "cell_type": "code",
   "execution_count": 69,
   "outputs": [
    {
     "data": {
      "text/plain": "<Figure size 576x216 with 2 Axes>",
      "image/png": "[encoded data removed]"
     },
     "metadata": {},
     "output_type": "display_data"
    }
   ],
   "source": [
    "fig, (ax1, ax2) = plt.subplots(1, 2)\n",
    "fig.set_size_inches(8, 3)\n",
    "ax1.hist(y_hat, density = True,\n",
    "         bins = np.arange(-0.5, max(y_hat)+1.5,1))\n",
    "ax2.hist(np.argmax(y_test,1),density = True,\n",
    "         bins = np.arange(-0.5, max(np.argmax(y_test,1))+1.5,1))\n",
    "plt.suptitle(\"Histograms of Predicted and Test Labels\")\n",
    "plt.show()"
   ],
   "metadata": {
    "collapsed": false,
    "pycharm": {
     "name": "#%%\n"
    }
   }
  },
  {
   "cell_type": "markdown",
   "source": [
    "### Comparison: best features according to Median XAI values"
   ],
   "metadata": {
    "collapsed": false,
    "pycharm": {
     "name": "#%% md\n"
    }
   }
  },
  {
   "cell_type": "code",
   "execution_count": 70,
   "outputs": [
    {
     "name": "stdout",
     "output_type": "stream",
     "text": [
      "Epoch 1/100\n",
      "14/14 [==============================] - 0s 8ms/step - loss: 2.8582 - accuracy: 0.3468 - val_loss: 1.8597 - val_accuracy: 0.3712\n",
      "Epoch 2/100\n",
      "14/14 [==============================] - 0s 7ms/step - loss: 1.5004 - accuracy: 0.4588 - val_loss: 1.2876 - val_accuracy: 0.5065\n",
      "Epoch 3/100\n",
      "14/14 [==============================] - 0s 7ms/step - loss: 1.1735 - accuracy: 0.5514 - val_loss: 1.1392 - val_accuracy: 0.5514\n",
      "Epoch 4/100\n",
      "14/14 [==============================] - 0s 7ms/step - loss: 1.0756 - accuracy: 0.5890 - val_loss: 1.0512 - val_accuracy: 0.5947\n",
      "Epoch 5/100\n",
      "14/14 [==============================] - 0s 7ms/step - loss: 0.9816 - accuracy: 0.6259 - val_loss: 0.9933 - val_accuracy: 0.6157\n",
      "Epoch 6/100\n",
      "14/14 [==============================] - 0s 7ms/step - loss: 0.9305 - accuracy: 0.6464 - val_loss: 0.9478 - val_accuracy: 0.6265\n",
      "Epoch 7/100\n",
      "14/14 [==============================] - 0s 7ms/step - loss: 0.8833 - accuracy: 0.6686 - val_loss: 0.9194 - val_accuracy: 0.6407\n",
      "Epoch 8/100\n",
      "14/14 [==============================] - 0s 6ms/step - loss: 0.8593 - accuracy: 0.6742 - val_loss: 0.8975 - val_accuracy: 0.6498\n",
      "Epoch 9/100\n",
      "14/14 [==============================] - 0s 7ms/step - loss: 0.8376 - accuracy: 0.6777 - val_loss: 0.8804 - val_accuracy: 0.6578\n",
      "Epoch 10/100\n",
      "14/14 [==============================] - 0s 8ms/step - loss: 0.8293 - accuracy: 0.6839 - val_loss: 0.8746 - val_accuracy: 0.6669\n",
      "Epoch 11/100\n",
      "14/14 [==============================] - 0s 7ms/step - loss: 0.7978 - accuracy: 0.7055 - val_loss: 0.8611 - val_accuracy: 0.6708\n",
      "Epoch 12/100\n",
      "14/14 [==============================] - 0s 8ms/step - loss: 0.7836 - accuracy: 0.7118 - val_loss: 0.8397 - val_accuracy: 0.6822\n",
      "Epoch 13/100\n",
      "14/14 [==============================] - 0s 7ms/step - loss: 0.7699 - accuracy: 0.7231 - val_loss: 0.8297 - val_accuracy: 0.6850\n",
      "Epoch 14/100\n",
      "14/14 [==============================] - 0s 8ms/step - loss: 0.7625 - accuracy: 0.7123 - val_loss: 0.8302 - val_accuracy: 0.6816\n",
      "Epoch 15/100\n",
      "14/14 [==============================] - 0s 8ms/step - loss: 0.7573 - accuracy: 0.7135 - val_loss: 0.8125 - val_accuracy: 0.6890\n",
      "Epoch 16/100\n",
      "14/14 [==============================] - 0s 7ms/step - loss: 0.7425 - accuracy: 0.7294 - val_loss: 0.8058 - val_accuracy: 0.6947\n",
      "Epoch 17/100\n",
      "14/14 [==============================] - 0s 7ms/step - loss: 0.7349 - accuracy: 0.7237 - val_loss: 0.8039 - val_accuracy: 0.6902\n",
      "Epoch 18/100\n",
      "14/14 [==============================] - 0s 7ms/step - loss: 0.7247 - accuracy: 0.7231 - val_loss: 0.8311 - val_accuracy: 0.6794\n",
      "Epoch 19/100\n",
      "14/14 [==============================] - 0s 7ms/step - loss: 0.7236 - accuracy: 0.7339 - val_loss: 0.7861 - val_accuracy: 0.6970\n",
      "Epoch 20/100\n",
      "14/14 [==============================] - 0s 8ms/step - loss: 0.7126 - accuracy: 0.7334 - val_loss: 0.7818 - val_accuracy: 0.7032\n",
      "Epoch 21/100\n",
      "14/14 [==============================] - 0s 7ms/step - loss: 0.7009 - accuracy: 0.7464 - val_loss: 0.7741 - val_accuracy: 0.7027\n",
      "Epoch 22/100\n",
      "14/14 [==============================] - 0s 8ms/step - loss: 0.7020 - accuracy: 0.7442 - val_loss: 0.7702 - val_accuracy: 0.7044\n",
      "Epoch 23/100\n",
      "14/14 [==============================] - 0s 8ms/step - loss: 0.7010 - accuracy: 0.7368 - val_loss: 0.7614 - val_accuracy: 0.7089\n",
      "Epoch 24/100\n",
      "14/14 [==============================] - 0s 11ms/step - loss: 0.6855 - accuracy: 0.7470 - val_loss: 0.7556 - val_accuracy: 0.7061\n",
      "Epoch 25/100\n",
      "14/14 [==============================] - 0s 8ms/step - loss: 0.6729 - accuracy: 0.7572 - val_loss: 0.7661 - val_accuracy: 0.7027\n",
      "Epoch 26/100\n",
      "14/14 [==============================] - 0s 6ms/step - loss: 0.6814 - accuracy: 0.7527 - val_loss: 0.7470 - val_accuracy: 0.7095\n",
      "Epoch 27/100\n",
      "14/14 [==============================] - 0s 6ms/step - loss: 0.6563 - accuracy: 0.7504 - val_loss: 0.7408 - val_accuracy: 0.7135\n",
      "Epoch 28/100\n",
      "14/14 [==============================] - 0s 6ms/step - loss: 0.6445 - accuracy: 0.7652 - val_loss: 0.7346 - val_accuracy: 0.7095\n",
      "Epoch 29/100\n",
      "14/14 [==============================] - 0s 7ms/step - loss: 0.6532 - accuracy: 0.7618 - val_loss: 0.7341 - val_accuracy: 0.7163\n",
      "Epoch 30/100\n",
      "14/14 [==============================] - 0s 7ms/step - loss: 0.6592 - accuracy: 0.7624 - val_loss: 0.7272 - val_accuracy: 0.7067\n",
      "Epoch 31/100\n",
      "14/14 [==============================] - 0s 7ms/step - loss: 0.6499 - accuracy: 0.7527 - val_loss: 0.7371 - val_accuracy: 0.7123\n",
      "Epoch 32/100\n",
      "14/14 [==============================] - 0s 6ms/step - loss: 0.6399 - accuracy: 0.7618 - val_loss: 0.7220 - val_accuracy: 0.7163\n",
      "Epoch 33/100\n",
      "14/14 [==============================] - 0s 6ms/step - loss: 0.6349 - accuracy: 0.7658 - val_loss: 0.7139 - val_accuracy: 0.7186\n",
      "Epoch 34/100\n",
      "14/14 [==============================] - 0s 8ms/step - loss: 0.6338 - accuracy: 0.7789 - val_loss: 0.7286 - val_accuracy: 0.7129\n",
      "Epoch 35/100\n",
      "14/14 [==============================] - 0s 7ms/step - loss: 0.6306 - accuracy: 0.7675 - val_loss: 0.7361 - val_accuracy: 0.7044\n",
      "Epoch 36/100\n",
      "14/14 [==============================] - 0s 6ms/step - loss: 0.6291 - accuracy: 0.7607 - val_loss: 0.7266 - val_accuracy: 0.7163\n",
      "Epoch 37/100\n",
      "14/14 [==============================] - 0s 6ms/step - loss: 0.6247 - accuracy: 0.7760 - val_loss: 0.7317 - val_accuracy: 0.7072\n",
      "Epoch 38/100\n",
      "14/14 [==============================] - 0s 7ms/step - loss: 0.6159 - accuracy: 0.7692 - val_loss: 0.7013 - val_accuracy: 0.7226\n",
      "Epoch 39/100\n",
      "14/14 [==============================] - 0s 6ms/step - loss: 0.6267 - accuracy: 0.7720 - val_loss: 0.7104 - val_accuracy: 0.7163\n",
      "Epoch 40/100\n",
      "14/14 [==============================] - 0s 6ms/step - loss: 0.6088 - accuracy: 0.7743 - val_loss: 0.7039 - val_accuracy: 0.7192\n",
      "Epoch 41/100\n",
      "14/14 [==============================] - 0s 6ms/step - loss: 0.6035 - accuracy: 0.7868 - val_loss: 0.6908 - val_accuracy: 0.7300\n",
      "Epoch 42/100\n",
      "14/14 [==============================] - 0s 6ms/step - loss: 0.6035 - accuracy: 0.7834 - val_loss: 0.6902 - val_accuracy: 0.7271\n",
      "Epoch 43/100\n",
      "14/14 [==============================] - 0s 7ms/step - loss: 0.5811 - accuracy: 0.7857 - val_loss: 0.6894 - val_accuracy: 0.7288\n",
      "Epoch 44/100\n",
      "14/14 [==============================] - 0s 7ms/step - loss: 0.5925 - accuracy: 0.7851 - val_loss: 0.7062 - val_accuracy: 0.7214\n",
      "Epoch 45/100\n",
      "14/14 [==============================] - 0s 7ms/step - loss: 0.5888 - accuracy: 0.7851 - val_loss: 0.6797 - val_accuracy: 0.7339\n",
      "Epoch 46/100\n",
      "14/14 [==============================] - 0s 7ms/step - loss: 0.5891 - accuracy: 0.7823 - val_loss: 0.6789 - val_accuracy: 0.7368\n",
      "Epoch 47/100\n",
      "14/14 [==============================] - 0s 6ms/step - loss: 0.5835 - accuracy: 0.7902 - val_loss: 0.6760 - val_accuracy: 0.7356\n",
      "Epoch 48/100\n",
      "14/14 [==============================] - 0s 6ms/step - loss: 0.5792 - accuracy: 0.7914 - val_loss: 0.6701 - val_accuracy: 0.7447\n",
      "Epoch 49/100\n",
      "14/14 [==============================] - 0s 6ms/step - loss: 0.5742 - accuracy: 0.7885 - val_loss: 0.6798 - val_accuracy: 0.7294\n",
      "Epoch 50/100\n",
      "14/14 [==============================] - 0s 6ms/step - loss: 0.5771 - accuracy: 0.7987 - val_loss: 0.6713 - val_accuracy: 0.7385\n",
      "Epoch 51/100\n",
      "14/14 [==============================] - 0s 6ms/step - loss: 0.5705 - accuracy: 0.7982 - val_loss: 0.6699 - val_accuracy: 0.7442\n",
      "Epoch 52/100\n",
      "14/14 [==============================] - 0s 6ms/step - loss: 0.5589 - accuracy: 0.7925 - val_loss: 0.6605 - val_accuracy: 0.7459\n",
      "Epoch 53/100\n",
      "14/14 [==============================] - 0s 6ms/step - loss: 0.5514 - accuracy: 0.7965 - val_loss: 0.6765 - val_accuracy: 0.7322\n",
      "Epoch 54/100\n",
      "14/14 [==============================] - 0s 6ms/step - loss: 0.5549 - accuracy: 0.7987 - val_loss: 0.6676 - val_accuracy: 0.7413\n",
      "Epoch 55/100\n",
      "14/14 [==============================] - 0s 7ms/step - loss: 0.5572 - accuracy: 0.8039 - val_loss: 0.6683 - val_accuracy: 0.7391\n",
      "Epoch 56/100\n",
      "14/14 [==============================] - 0s 6ms/step - loss: 0.5466 - accuracy: 0.7987 - val_loss: 0.6645 - val_accuracy: 0.7402\n",
      "Epoch 57/100\n",
      "14/14 [==============================] - 0s 6ms/step - loss: 0.5474 - accuracy: 0.8039 - val_loss: 0.6603 - val_accuracy: 0.7436\n",
      "Epoch 58/100\n",
      "14/14 [==============================] - 0s 7ms/step - loss: 0.5466 - accuracy: 0.8101 - val_loss: 0.6648 - val_accuracy: 0.7402\n",
      "Epoch 59/100\n",
      "14/14 [==============================] - 0s 7ms/step - loss: 0.5464 - accuracy: 0.8078 - val_loss: 0.6517 - val_accuracy: 0.7510\n",
      "Epoch 60/100\n",
      "14/14 [==============================] - 0s 6ms/step - loss: 0.5427 - accuracy: 0.8084 - val_loss: 0.6452 - val_accuracy: 0.7516\n",
      "Epoch 61/100\n",
      "14/14 [==============================] - 0s 7ms/step - loss: 0.5314 - accuracy: 0.8090 - val_loss: 0.6376 - val_accuracy: 0.7595\n",
      "Epoch 62/100\n",
      "14/14 [==============================] - 0s 7ms/step - loss: 0.5340 - accuracy: 0.8084 - val_loss: 0.6429 - val_accuracy: 0.7624\n",
      "Epoch 63/100\n",
      "14/14 [==============================] - 0s 7ms/step - loss: 0.5298 - accuracy: 0.8118 - val_loss: 0.6349 - val_accuracy: 0.7595\n",
      "Epoch 64/100\n",
      "14/14 [==============================] - 0s 7ms/step - loss: 0.5336 - accuracy: 0.8130 - val_loss: 0.6343 - val_accuracy: 0.7578\n",
      "Epoch 65/100\n",
      "14/14 [==============================] - 0s 6ms/step - loss: 0.5225 - accuracy: 0.8124 - val_loss: 0.6354 - val_accuracy: 0.7595\n",
      "Epoch 66/100\n",
      "14/14 [==============================] - 0s 7ms/step - loss: 0.5204 - accuracy: 0.8113 - val_loss: 0.6312 - val_accuracy: 0.7646\n",
      "Epoch 67/100\n",
      "14/14 [==============================] - 0s 6ms/step - loss: 0.5215 - accuracy: 0.8221 - val_loss: 0.6407 - val_accuracy: 0.7578\n",
      "Epoch 68/100\n",
      "14/14 [==============================] - 0s 6ms/step - loss: 0.5134 - accuracy: 0.8181 - val_loss: 0.6384 - val_accuracy: 0.7555\n",
      "Epoch 69/100\n",
      "14/14 [==============================] - 0s 6ms/step - loss: 0.5206 - accuracy: 0.8124 - val_loss: 0.6405 - val_accuracy: 0.7612\n",
      "Epoch 70/100\n",
      "14/14 [==============================] - 0s 7ms/step - loss: 0.5116 - accuracy: 0.8186 - val_loss: 0.6436 - val_accuracy: 0.7544\n",
      "Epoch 71/100\n",
      "14/14 [==============================] - 0s 7ms/step - loss: 0.5063 - accuracy: 0.8130 - val_loss: 0.6260 - val_accuracy: 0.7658\n",
      "Epoch 72/100\n",
      "14/14 [==============================] - 0s 7ms/step - loss: 0.5100 - accuracy: 0.8158 - val_loss: 0.6196 - val_accuracy: 0.7720\n",
      "Epoch 73/100\n",
      "14/14 [==============================] - 0s 7ms/step - loss: 0.5041 - accuracy: 0.8204 - val_loss: 0.6144 - val_accuracy: 0.7743\n",
      "Epoch 74/100\n",
      "14/14 [==============================] - 0s 7ms/step - loss: 0.4953 - accuracy: 0.8175 - val_loss: 0.6149 - val_accuracy: 0.7726\n",
      "Epoch 75/100\n",
      "14/14 [==============================] - 0s 7ms/step - loss: 0.4955 - accuracy: 0.8164 - val_loss: 0.6174 - val_accuracy: 0.7749\n",
      "Epoch 76/100\n",
      "14/14 [==============================] - 0s 7ms/step - loss: 0.4958 - accuracy: 0.8340 - val_loss: 0.6362 - val_accuracy: 0.7652\n",
      "Epoch 77/100\n",
      "14/14 [==============================] - 0s 7ms/step - loss: 0.4918 - accuracy: 0.8283 - val_loss: 0.6072 - val_accuracy: 0.7811\n",
      "Epoch 78/100\n",
      "14/14 [==============================] - 0s 6ms/step - loss: 0.5024 - accuracy: 0.8198 - val_loss: 0.6074 - val_accuracy: 0.7783\n",
      "Epoch 79/100\n",
      "14/14 [==============================] - 0s 6ms/step - loss: 0.4944 - accuracy: 0.8209 - val_loss: 0.6087 - val_accuracy: 0.7800\n",
      "Epoch 80/100\n",
      "14/14 [==============================] - 0s 6ms/step - loss: 0.4902 - accuracy: 0.8283 - val_loss: 0.6114 - val_accuracy: 0.7777\n",
      "Epoch 81/100\n",
      "14/14 [==============================] - 0s 6ms/step - loss: 0.4826 - accuracy: 0.8323 - val_loss: 0.6034 - val_accuracy: 0.7789\n",
      "Epoch 82/100\n",
      "14/14 [==============================] - 0s 6ms/step - loss: 0.4775 - accuracy: 0.8266 - val_loss: 0.6069 - val_accuracy: 0.7789\n",
      "Epoch 83/100\n",
      "14/14 [==============================] - 0s 6ms/step - loss: 0.4880 - accuracy: 0.8334 - val_loss: 0.6150 - val_accuracy: 0.7720\n",
      "Epoch 84/100\n",
      "14/14 [==============================] - 0s 6ms/step - loss: 0.4765 - accuracy: 0.8215 - val_loss: 0.6022 - val_accuracy: 0.7811\n",
      "Epoch 85/100\n",
      "14/14 [==============================] - 0s 6ms/step - loss: 0.4729 - accuracy: 0.8306 - val_loss: 0.5999 - val_accuracy: 0.7817\n",
      "Epoch 86/100\n",
      "14/14 [==============================] - 0s 6ms/step - loss: 0.4672 - accuracy: 0.8323 - val_loss: 0.5934 - val_accuracy: 0.7891\n",
      "Epoch 87/100\n",
      "14/14 [==============================] - 0s 6ms/step - loss: 0.4774 - accuracy: 0.8272 - val_loss: 0.5918 - val_accuracy: 0.7874\n",
      "Epoch 88/100\n",
      "14/14 [==============================] - 0s 6ms/step - loss: 0.4675 - accuracy: 0.8323 - val_loss: 0.5891 - val_accuracy: 0.7862\n",
      "Epoch 89/100\n",
      "14/14 [==============================] - 0s 6ms/step - loss: 0.4584 - accuracy: 0.8408 - val_loss: 0.6077 - val_accuracy: 0.7760\n",
      "Epoch 90/100\n",
      "14/14 [==============================] - 0s 6ms/step - loss: 0.4699 - accuracy: 0.8346 - val_loss: 0.6163 - val_accuracy: 0.7720\n",
      "Epoch 91/100\n",
      "14/14 [==============================] - 0s 7ms/step - loss: 0.4672 - accuracy: 0.8374 - val_loss: 0.5898 - val_accuracy: 0.7897\n",
      "Epoch 92/100\n",
      "14/14 [==============================] - 0s 6ms/step - loss: 0.4527 - accuracy: 0.8385 - val_loss: 0.5916 - val_accuracy: 0.7885\n",
      "Epoch 93/100\n",
      "14/14 [==============================] - 0s 6ms/step - loss: 0.4642 - accuracy: 0.8334 - val_loss: 0.5937 - val_accuracy: 0.7868\n",
      "Epoch 94/100\n",
      "14/14 [==============================] - 0s 6ms/step - loss: 0.4523 - accuracy: 0.8403 - val_loss: 0.5839 - val_accuracy: 0.7914\n",
      "Epoch 95/100\n",
      "14/14 [==============================] - 0s 6ms/step - loss: 0.4516 - accuracy: 0.8442 - val_loss: 0.5907 - val_accuracy: 0.7902\n",
      "Epoch 96/100\n",
      "14/14 [==============================] - 0s 7ms/step - loss: 0.4479 - accuracy: 0.8431 - val_loss: 0.5856 - val_accuracy: 0.7919\n",
      "Epoch 97/100\n",
      "14/14 [==============================] - 0s 7ms/step - loss: 0.4411 - accuracy: 0.8482 - val_loss: 0.5858 - val_accuracy: 0.7885\n",
      "Epoch 98/100\n",
      "14/14 [==============================] - 0s 6ms/step - loss: 0.4469 - accuracy: 0.8442 - val_loss: 0.5848 - val_accuracy: 0.7857\n",
      "Epoch 99/100\n",
      "14/14 [==============================] - 0s 6ms/step - loss: 0.4437 - accuracy: 0.8493 - val_loss: 0.5983 - val_accuracy: 0.7811\n",
      "Epoch 100/100\n",
      "14/14 [==============================] - 0s 6ms/step - loss: 0.4531 - accuracy: 0.8397 - val_loss: 0.5873 - val_accuracy: 0.7834\n"
     ]
    }
   ],
   "source": [
    "\n",
    "\n",
    "X_train, X_test, y_train, y_test = train_test_split(CorrMatrices[:, MedianLogical],\n",
    "                                                    encoded_Y, test_size=0.33, random_state=1)\n",
    "\n",
    "\n",
    "model.fit(X_train, y_train,\n",
    "          batch_size=batch_size,\n",
    "          epochs=epochs,\n",
    "          validation_split=0.5)\n",
    "\n",
    "y_hat = np.argmax(model.predict(X_test),1)\n",
    "Accuracy_BestMedianXAI = np.mean(y_hat == np.argmax(y_test,1))\n"
   ],
   "metadata": {
    "collapsed": false,
    "pycharm": {
     "name": "#%%\n"
    }
   }
  },
  {
   "cell_type": "code",
   "execution_count": 71,
   "outputs": [
    {
     "name": "stdout",
     "output_type": "stream",
     "text": [
      "0.8003462204270052\n"
     ]
    }
   ],
   "source": [
    "print(Accuracy_BestMedianXAI)"
   ],
   "metadata": {
    "collapsed": false,
    "pycharm": {
     "name": "#%%\n"
    }
   }
  },
  {
   "cell_type": "markdown",
   "source": [
    "### Now with some other features"
   ],
   "metadata": {
    "collapsed": false,
    "pycharm": {
     "name": "#%% md\n"
    }
   }
  },
  {
   "cell_type": "code",
   "execution_count": 72,
   "outputs": [],
   "source": [
    "def TestNN(seed = 1234):\n",
    "    np.random.seed(seed)\n",
    "    Index = np.random.choice(np.arange(XAI.shape[1]).astype(\"int\"), # features to compare optimal XAI to\n",
    "                     size = len(list(set(OptimalXAI[:,1]))),\n",
    "                     replace = False)\n",
    "    CM_Reduced = CorrMatrices[:,Index]\n",
    "    X_train, X_test, y_train, y_test = train_test_split(CM_Reduced, encoded_Y,\n",
    "                                                    test_size=0.33, random_state=1)\n",
    "    model.fit(X_train, y_train,\n",
    "          batch_size=batch_size,\n",
    "          epochs=epochs,\n",
    "          validation_split=0.5,\n",
    "          verbose=0)\n",
    "    y_hat = np.argmax(model.predict(X_test),1)\n",
    "    return(np.mean(y_hat == np.argmax(y_test,1)))"
   ],
   "metadata": {
    "collapsed": false,
    "pycharm": {
     "name": "#%%\n"
    }
   }
  },
  {
   "cell_type": "markdown",
   "source": [],
   "metadata": {
    "collapsed": false
   }
  },
  {
   "cell_type": "code",
   "execution_count": 73,
   "outputs": [
    {
     "data": {
      "text/plain": "0.7305251009809579"
     },
     "execution_count": 73,
     "metadata": {},
     "output_type": "execute_result"
    }
   ],
   "source": [
    "TestNN(54321)"
   ],
   "metadata": {
    "collapsed": false,
    "pycharm": {
     "name": "#%%\n"
    }
   }
  },
  {
   "cell_type": "code",
   "execution_count": 74,
   "outputs": [
    {
     "data": {
      "text/plain": "0.7345643392960185"
     },
     "execution_count": 74,
     "metadata": {},
     "output_type": "execute_result"
    }
   ],
   "source": [
    "TestNN()"
   ],
   "metadata": {
    "collapsed": false,
    "pycharm": {
     "name": "#%%\n"
    }
   }
  },
  {
   "cell_type": "code",
   "execution_count": 75,
   "outputs": [
    {
     "name": "stdout",
     "output_type": "stream",
     "text": [
      "0 [5206] 0.753606462781304\n",
      "1 [8676] 0.760530871321408\n",
      "2 [2446] 0.7841892671667628\n",
      "3 [2594] 0.7836122331217542\n",
      "4 [0] 0.7397576457010964\n",
      "5 [7221] 0.8101557991921523\n",
      "6 [6887] 0.79399884593191\n",
      "7 [7580] 0.7599538372763993\n",
      "8 [30] 0.7189844200807848\n",
      "9 [7699] 0.6976341604154646\n",
      "10 [4222] 0.7616849394114252\n",
      "11 [6242] 0.7668782458165032\n",
      "12 [1070] 0.8286208886324293\n",
      "13 [6397] 0.762261973456434\n",
      "14 [7177] 0.773802654356607\n",
      "15 [2956] 0.7841892671667628\n",
      "16 [395] 0.7524523946912868\n",
      "17 [5141] 0.7432198499711483\n",
      "18 [8748] 0.7864974033467974\n",
      "19 [6897] 0.7714945181765724\n",
      "20 [5977] 0.7928447778418927\n",
      "21 [5705] 0.7761107905366417\n",
      "22 [4016] 0.7749567224466244\n",
      "23 [2914] 0.7449509521061742\n",
      "24 [142] 0.7311021350259665\n",
      "25 [657] 0.7201384881708021\n",
      "26 [9479] 0.690132717830352\n",
      "27 [4210] 0.7137911136757069\n",
      "28 [8513] 0.7178303519907675\n",
      "29 [9173] 0.7414887478361223\n",
      "30 [9637] 0.688401615695326\n",
      "31 [6801] 0.7501442585112522\n",
      "32 [3333] 0.6912867859203693\n",
      "33 [921] 0.7149451817657242\n",
      "34 [1677] 0.7518753606462781\n",
      "35 [5278] 0.7097518753606463\n",
      "36 [8481] 0.812463935372187\n",
      "37 [6780] 0.7276399307559146\n",
      "38 [4364] 0.7137911136757069\n",
      "39 [5362] 0.8003462204270052\n",
      "40 [8917] 0.7357184073860358\n",
      "41 [5835] 0.7455279861511829\n",
      "42 [302] 0.7034045008655511\n",
      "43 [734] 0.758799769186382\n",
      "44 [8535] 0.6855164454702828\n",
      "45 [1145] 0.6728216964800924\n",
      "46 [7068] 0.710328909405655\n",
      "47 [8524] 0.7674552798615119\n",
      "48 [2014] 0.6664743219849971\n",
      "49 [4683] 0.7224466243508367\n",
      "50 [400] 0.7022504327755338\n",
      "51 [4242] 0.7559145989613387\n",
      "52 [362] 0.7368724754760531\n",
      "53 [7131] 0.7409117137911136\n",
      "54 [5389] 0.6641661858049625\n",
      "55 [5094] 0.7114829774956722\n",
      "56 [3484] 0.7022504327755338\n",
      "57 [5208] 0.7328332371609925\n",
      "58 [8855] 0.7316791690709752\n",
      "59 [9349] 0.7039815349105597\n",
      "60 [3280] 0.7472590882862089\n",
      "61 [1327] 0.6797461050201962\n",
      "62 [9953] 0.7045585689555683\n",
      "63 [6860] 0.7334102712060011\n",
      "64 [893] 0.7414887478361223\n",
      "65 [8554] 0.7611079053664166\n",
      "66 [8382] 0.7282169648009232\n",
      "67 [5396] 0.7195614541257934\n",
      "68 [7369] 0.7634160415464513\n",
      "69 [9226] 0.7120600115406809\n",
      "70 [8924] 0.7039815349105597\n",
      "71 [4485] 0.7345643392960185\n",
      "72 [748] 0.7680323139065205\n",
      "73 [3383] 0.7276399307559146\n",
      "74 [9774] 0.6993652625504905\n",
      "75 [5309] 0.7709174841315638\n",
      "76 [1195] 0.7178303519907675\n",
      "77 [1113] 0.7495672244662435\n",
      "78 [5662] 0.641661858049625\n",
      "79 [6980] 0.7686093479515291\n",
      "80 [7152] 0.6976341604154646\n",
      "81 [5453] 0.7109059434506636\n",
      "82 [6669] 0.7795729948066936\n",
      "83 [772] 0.7016733987305251\n",
      "84 [96] 0.7784189267166762\n",
      "85 [7664] 0.7495672244662435\n",
      "86 [8314] 0.7864974033467974\n",
      "87 [3796] 0.7189844200807848\n",
      "88 [9816] 0.6814772071552222\n",
      "89 [4870] 0.7443739180611656\n",
      "90 [2135] 0.7541834968263128\n",
      "91 [6114] 0.7074437391806117\n",
      "92 [8305] 0.684939411425274\n",
      "93 [3013] 0.6855164454702828\n",
      "94 [7718] 0.7530294287362954\n",
      "95 [8061] 0.7149451817657242\n",
      "96 [100] 0.7414887478361223\n",
      "97 [7074] 0.7322562031159838\n",
      "98 [5101] 0.7743796884016156\n",
      "99 [7586] 0.6878245816503173\n"
     ]
    }
   ],
   "source": [
    "Runs = 100\n",
    "NN_comparison = np.zeros(Runs)\n",
    "\n",
    "for i in range(Runs):\n",
    "    s = np.random.choice(np.arange(10000).astype(\"int\"),1)\n",
    "    Test_Score = TestNN(s)\n",
    "    print(i,s,Test_Score)\n",
    "    NN_comparison[i] = Test_Score\n"
   ],
   "metadata": {
    "collapsed": false,
    "pycharm": {
     "name": "#%%\n"
    }
   }
  },
  {
   "cell_type": "code",
   "execution_count": 76,
   "outputs": [
    {
     "data": {
      "text/plain": "<Figure size 540x313.2 with 1 Axes>",
      "image/png": "[encoded data removed]"
     },
     "metadata": {},
     "output_type": "display_data"
    }
   ],
   "source": [
    "fig = plt.gcf()\n",
    "fig.set_size_inches(7.5,4.35)\n",
    "plt.hist(NN_comparison)\n",
    "plt.axvline(Accuracy_BestXAI,\n",
    "            c=\"red\")\n",
    "plt.axvline(Accuracy_BestMedianXAI,\n",
    "            c=\"black\")\n",
    "plt.xlabel(\"Accuracy of NN\",fontsize=14)\n",
    "plt.ylabel(\"Frequency\",fontsize=14)\n",
    "plt.title(\"Comparison: NN for Best XAI vs. Random Features\",\n",
    "          fontsize = 16)s\n",
    "plt.savefig(\"Comparison_RandomFeatures_vs_XAImode_100NN\",dpi=600)\n",
    "plt.show()"
   ],
   "metadata": {
    "collapsed": false,
    "pycharm": {
     "name": "#%%\n"
    }
   }
  },
  {
   "cell_type": "code",
   "execution_count": 77,
   "outputs": [
    {
     "data": {
      "text/plain": "(0.7362954414310444, 0.7360646278130409, 0.7864974033467974)"
     },
     "execution_count": 77,
     "metadata": {},
     "output_type": "execute_result"
    }
   ],
   "source": [
    "np.median(NN_comparison),np.mean(NN_comparison), Accuracy_BestXAI"
   ],
   "metadata": {
    "collapsed": false,
    "pycharm": {
     "name": "#%%\n"
    }
   }
  },
  {
   "cell_type": "code",
   "execution_count": 77,
   "outputs": [],
   "source": [],
   "metadata": {
    "collapsed": false,
    "pycharm": {
     "name": "#%%\n"
    }
   }
  }
 ],
 "metadata": {
  "kernelspec": {
   "display_name": "Python 3",
   "language": "python",
   "name": "python3"
  },
  "language_info": {
   "codemirror_mode": {
    "name": "ipython",
    "version": 2
   },
   "file_extension": ".py",
   "mimetype": "text/x-python",
   "name": "python",
   "nbconvert_exporter": "python",
   "pygments_lexer": "ipython2",
   "version": "2.7.6"
  }
 },
 "nbformat": 4,
 "nbformat_minor": 0
}