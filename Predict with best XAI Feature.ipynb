{
 "cells": [
  {
   "cell_type": "code",
   "execution_count": 16,
   "metadata": {
    "collapsed": true
   },
   "outputs": [],
   "source": [
    "import antiCPy\n",
    "import numpy as np\n",
    "import matplotlib.pyplot as plt\n",
    "import warnings\n",
    "warnings.filterwarnings(\"ignore\")\n",
    "from sklearn.cluster import KMeans\n",
    "from sklearn.ensemble import RandomForestClassifier\n",
    "from sklearn.model_selection import train_test_split\n",
    "from imblearn.over_sampling import SMOTE\n",
    "import tensorflow.keras as keras\n",
    "from tensorflow.keras import layers\n",
    "from tensorflow.keras.layers import LeakyReLU\n",
    "from sklearn.preprocessing import LabelEncoder\n",
    "from keras.utils import np_utils\n",
    "import seaborn as sns\n",
    "sns.set()"
   ]
  },
  {
   "cell_type": "code",
   "execution_count": 17,
   "outputs": [
    {
     "name": "stdout",
     "output_type": "stream",
     "text": [
      "[[ 0 27]\n",
      " [ 1  8]\n",
      " [ 2 36]\n",
      " [ 3 35]\n",
      " [ 4 12]\n",
      " [ 5 21]\n",
      " [ 6  0]\n",
      " [ 7  1]] [False  True False False False False  True  True False False False False\n",
      " False  True False False False False False False False  True False False\n",
      " False False False False False False False False False False False False\n",
      "  True False  True  True False False False False False]\n",
      "(5251, 8)\n"
     ]
    }
   ],
   "source": [
    "XAI = np.load(\"XAI_Finance.npy\")\n",
    "Names = np.load(\"Names.npy\")\n",
    "CorrMatrices = np.load(\"CorrMatricesTriangular.npy\")\n",
    "LabelNaiveOrdered = np.load(\"LabelNaiveOrdered.npy\")\n",
    "#OptimalXAI = np.load(\"OptimalXAIFeature.npy\")\n",
    "# now something different\n",
    "OptimalXAI = np.load(\"XAI_modes.npy\")\n",
    "MedianLogical = np.load(\"MedianLogical.npy\")\n",
    "print(OptimalXAI, MedianLogical)\n",
    "print(CorrMatrices[:, MedianLogical].shape)"
   ],
   "metadata": {
    "collapsed": false,
    "pycharm": {
     "name": "#%%\n"
    }
   }
  },
  {
   "cell_type": "code",
   "execution_count": 18,
   "outputs": [
    {
     "data": {
      "text/plain": "[<matplotlib.lines.Line2D at 0x7fb30c727ca0>]"
     },
     "execution_count": 18,
     "metadata": {},
     "output_type": "execute_result"
    },
    {
     "data": {
      "text/plain": "<Figure size 432x288 with 1 Axes>",
      "image/png": "[encoded data removed]"
     },
     "metadata": {},
     "output_type": "display_data"
    }
   ],
   "source": [
    "#plt.plot(np.sort(abs(XAI).mean(0)))\n",
    "plt.plot(np.sort(np.median(abs(XAI),0)))"
   ],
   "metadata": {
    "collapsed": false,
    "pycharm": {
     "name": "#%%\n"
    }
   }
  },
  {
   "cell_type": "markdown",
   "source": [
    "### Train NN with all relevant features\n",
    "\n",
    "For this, we need one-hot encoded y"
   ],
   "metadata": {
    "collapsed": false
   }
  },
  {
   "cell_type": "code",
   "execution_count": 19,
   "outputs": [
    {
     "name": "stdout",
     "output_type": "stream",
     "text": [
      "{0, 1, 35, 36, 8, 12, 21, 27}\n",
      "(5251, 8)\n",
      "[[1. 0. 0. ... 0. 0. 0.]\n",
      " [1. 0. 0. ... 0. 0. 0.]\n",
      " [1. 0. 0. ... 0. 0. 0.]\n",
      " ...\n",
      " [0. 0. 0. ... 0. 0. 1.]\n",
      " [0. 0. 0. ... 0. 0. 1.]\n",
      " [0. 0. 0. ... 0. 0. 1.]]\n"
     ]
    }
   ],
   "source": [
    "print(set(OptimalXAI[:,1]))\n",
    "CM_Reduced = CorrMatrices[:,list(set(OptimalXAI[:,1]))]\n",
    "print(CM_Reduced.shape)\n",
    "\n",
    "# one hot encoded\n",
    "encoded_Y = np_utils.to_categorical(LabelNaiveOrdered)\n",
    "\n",
    "X_train, X_test, y_train, y_test = train_test_split(CM_Reduced, encoded_Y,\n",
    "                                                    test_size=0.33, random_state=1)\n",
    "print(encoded_Y)\n",
    "\n",
    "# reverse the encoding via\n",
    "# np.argmax(encoded_Y, 1)"
   ],
   "metadata": {
    "collapsed": false,
    "pycharm": {
     "name": "#%%\n"
    }
   }
  },
  {
   "cell_type": "code",
   "execution_count": 20,
   "outputs": [
    {
     "data": {
      "text/plain": "<Figure size 576x216 with 2 Axes>",
      "image/png": "[encoded data removed]"
     },
     "metadata": {},
     "output_type": "display_data"
    }
   ],
   "source": [
    "fig, (ax1, ax2) = plt.subplots(1, 2)\n",
    "fig.set_size_inches(8, 3)\n",
    "ax1.hist(np.argmax(y_train,1), density = True,\n",
    "         bins = np.arange(-0.5, max(np.argmax(y_train,1))+1.5,1))\n",
    "ax2.hist(np.argmax(y_test,1),density = True,\n",
    "         bins = np.arange(-0.5, max(np.argmax(y_test,1))+1.5,1))\n",
    "plt.suptitle(\"Histograms of Training and Test Labels\")\n",
    "plt.show()"
   ],
   "metadata": {
    "collapsed": false,
    "pycharm": {
     "name": "#%%\n"
    }
   }
  },
  {
   "cell_type": "code",
   "execution_count": 21,
   "outputs": [
    {
     "name": "stdout",
     "output_type": "stream",
     "text": [
      "8 8\n",
      "Model: \"sequential_2\"\n",
      "_________________________________________________________________\n",
      " Layer (type)                Output Shape              Param #   \n",
      "=================================================================\n",
      " dense_12 (Dense)            (None, 256)               2304      \n",
      "                                                                 \n",
      " dense_13 (Dense)            (None, 128)               32896     \n",
      "                                                                 \n",
      " dense_14 (Dense)            (None, 128)               16512     \n",
      "                                                                 \n",
      " dense_15 (Dense)            (None, 1024)              132096    \n",
      "                                                                 \n",
      " dense_16 (Dense)            (None, 128)               131200    \n",
      "                                                                 \n",
      " dropout_2 (Dropout)         (None, 128)               0         \n",
      "                                                                 \n",
      " dense_17 (Dense)            (None, 8)                 1032      \n",
      "                                                                 \n",
      "=================================================================\n",
      "Total params: 316,040\n",
      "Trainable params: 316,040\n",
      "Non-trainable params: 0\n",
      "_________________________________________________________________\n"
     ]
    }
   ],
   "source": [
    "n_In = CM_Reduced.shape[1]\n",
    "num_classes = len(set(LabelNaiveOrdered))\n",
    "print(n_In, num_classes)\n",
    "\n",
    "model = keras.Sequential(\n",
    "    [\n",
    "        layers.Dense(units = 256, input_shape=(n_In,), activation = \"selu\"),\n",
    "        layers.Dense(units=128, activation=\"relu\"),\n",
    "        layers.Dense(units=128, activation=\"relu\"),\n",
    "        layers.Dense(units=1024,\n",
    "              activation=keras.layers.LeakyReLU(alpha=0.05)),\n",
    "        layers.Dense(units=128,\n",
    "              activation=keras.layers.LeakyReLU(alpha=0.01)),\n",
    "        layers.Dropout(0.3),\n",
    "        layers.Dense(units =num_classes, activation=\"softmax\"),\n",
    "    ]\n",
    ")\n",
    "#model.build(n_In)\n",
    "model.summary()"
   ],
   "metadata": {
    "collapsed": false,
    "pycharm": {
     "name": "#%%\n"
    }
   }
  },
  {
   "cell_type": "code",
   "execution_count": 22,
   "outputs": [
    {
     "name": "stdout",
     "output_type": "stream",
     "text": [
      "Epoch 1/100\n",
      "14/14 [==============================] - 0s 11ms/step - loss: 2.0362 - accuracy: 0.2518 - val_loss: 1.9953 - val_accuracy: 0.2598\n",
      "Epoch 2/100\n",
      "14/14 [==============================] - 0s 5ms/step - loss: 1.9483 - accuracy: 0.2723 - val_loss: 1.8981 - val_accuracy: 0.2882\n",
      "Epoch 3/100\n",
      "14/14 [==============================] - 0s 5ms/step - loss: 1.8311 - accuracy: 0.3150 - val_loss: 1.7680 - val_accuracy: 0.3491\n",
      "Epoch 4/100\n",
      "14/14 [==============================] - 0s 5ms/step - loss: 1.6919 - accuracy: 0.3906 - val_loss: 1.6063 - val_accuracy: 0.4366\n",
      "Epoch 5/100\n",
      "14/14 [==============================] - 0s 4ms/step - loss: 1.5360 - accuracy: 0.4690 - val_loss: 1.4286 - val_accuracy: 0.5009\n",
      "Epoch 6/100\n",
      "14/14 [==============================] - 0s 4ms/step - loss: 1.3609 - accuracy: 0.5327 - val_loss: 1.2508 - val_accuracy: 0.5651\n",
      "Epoch 7/100\n",
      "14/14 [==============================] - 0s 4ms/step - loss: 1.2149 - accuracy: 0.5731 - val_loss: 1.1042 - val_accuracy: 0.6180\n",
      "Epoch 8/100\n",
      "14/14 [==============================] - 0s 4ms/step - loss: 1.1088 - accuracy: 0.6236 - val_loss: 1.0044 - val_accuracy: 0.6629\n",
      "Epoch 9/100\n",
      "14/14 [==============================] - 0s 4ms/step - loss: 1.0150 - accuracy: 0.6390 - val_loss: 0.9322 - val_accuracy: 0.6697\n",
      "Epoch 10/100\n",
      "14/14 [==============================] - 0s 4ms/step - loss: 0.9679 - accuracy: 0.6515 - val_loss: 0.8824 - val_accuracy: 0.6828\n",
      "Epoch 11/100\n",
      "14/14 [==============================] - 0s 4ms/step - loss: 0.9446 - accuracy: 0.6492 - val_loss: 0.8494 - val_accuracy: 0.6976\n",
      "Epoch 12/100\n",
      "14/14 [==============================] - 0s 4ms/step - loss: 0.8969 - accuracy: 0.6703 - val_loss: 0.8316 - val_accuracy: 0.6936\n",
      "Epoch 13/100\n",
      "14/14 [==============================] - 0s 4ms/step - loss: 0.8729 - accuracy: 0.6788 - val_loss: 0.8037 - val_accuracy: 0.7067\n",
      "Epoch 14/100\n",
      "14/14 [==============================] - 0s 4ms/step - loss: 0.8633 - accuracy: 0.6782 - val_loss: 0.7925 - val_accuracy: 0.7055\n",
      "Epoch 15/100\n",
      "14/14 [==============================] - 0s 4ms/step - loss: 0.8454 - accuracy: 0.6919 - val_loss: 0.7800 - val_accuracy: 0.7197\n",
      "Epoch 16/100\n",
      "14/14 [==============================] - 0s 4ms/step - loss: 0.8286 - accuracy: 0.6833 - val_loss: 0.7672 - val_accuracy: 0.7209\n",
      "Epoch 17/100\n",
      "14/14 [==============================] - 0s 4ms/step - loss: 0.8119 - accuracy: 0.6885 - val_loss: 0.7624 - val_accuracy: 0.7226\n",
      "Epoch 18/100\n",
      "14/14 [==============================] - 0s 4ms/step - loss: 0.8075 - accuracy: 0.6976 - val_loss: 0.7484 - val_accuracy: 0.7300\n",
      "Epoch 19/100\n",
      "14/14 [==============================] - 0s 4ms/step - loss: 0.7913 - accuracy: 0.7055 - val_loss: 0.7409 - val_accuracy: 0.7271\n",
      "Epoch 20/100\n",
      "14/14 [==============================] - 0s 4ms/step - loss: 0.7783 - accuracy: 0.7140 - val_loss: 0.7343 - val_accuracy: 0.7334\n",
      "Epoch 21/100\n",
      "14/14 [==============================] - 0s 4ms/step - loss: 0.7757 - accuracy: 0.7157 - val_loss: 0.7230 - val_accuracy: 0.7391\n",
      "Epoch 22/100\n",
      "14/14 [==============================] - 0s 6ms/step - loss: 0.7540 - accuracy: 0.7214 - val_loss: 0.7150 - val_accuracy: 0.7442\n",
      "Epoch 23/100\n",
      "14/14 [==============================] - 0s 5ms/step - loss: 0.7366 - accuracy: 0.7237 - val_loss: 0.7070 - val_accuracy: 0.7493\n",
      "Epoch 24/100\n",
      "14/14 [==============================] - 0s 6ms/step - loss: 0.7373 - accuracy: 0.7283 - val_loss: 0.7054 - val_accuracy: 0.7504\n",
      "Epoch 25/100\n",
      "14/14 [==============================] - 0s 5ms/step - loss: 0.7442 - accuracy: 0.7254 - val_loss: 0.6995 - val_accuracy: 0.7419\n",
      "Epoch 26/100\n",
      "14/14 [==============================] - 0s 5ms/step - loss: 0.7359 - accuracy: 0.7265 - val_loss: 0.7017 - val_accuracy: 0.7447\n",
      "Epoch 27/100\n",
      "14/14 [==============================] - 0s 4ms/step - loss: 0.7197 - accuracy: 0.7260 - val_loss: 0.7038 - val_accuracy: 0.7368\n",
      "Epoch 28/100\n",
      "14/14 [==============================] - 0s 4ms/step - loss: 0.7221 - accuracy: 0.7374 - val_loss: 0.6856 - val_accuracy: 0.7521\n",
      "Epoch 29/100\n",
      "14/14 [==============================] - 0s 4ms/step - loss: 0.7030 - accuracy: 0.7436 - val_loss: 0.6731 - val_accuracy: 0.7555\n",
      "Epoch 30/100\n",
      "14/14 [==============================] - 0s 4ms/step - loss: 0.6840 - accuracy: 0.7601 - val_loss: 0.6704 - val_accuracy: 0.7601\n",
      "Epoch 31/100\n",
      "14/14 [==============================] - 0s 4ms/step - loss: 0.7020 - accuracy: 0.7379 - val_loss: 0.6697 - val_accuracy: 0.7578\n",
      "Epoch 32/100\n",
      "14/14 [==============================] - 0s 4ms/step - loss: 0.6811 - accuracy: 0.7402 - val_loss: 0.6644 - val_accuracy: 0.7555\n",
      "Epoch 33/100\n",
      "14/14 [==============================] - 0s 4ms/step - loss: 0.6771 - accuracy: 0.7544 - val_loss: 0.6623 - val_accuracy: 0.7555\n",
      "Epoch 34/100\n",
      "14/14 [==============================] - 0s 5ms/step - loss: 0.6755 - accuracy: 0.7499 - val_loss: 0.6512 - val_accuracy: 0.7681\n",
      "Epoch 35/100\n",
      "14/14 [==============================] - 0s 4ms/step - loss: 0.6859 - accuracy: 0.7533 - val_loss: 0.6490 - val_accuracy: 0.7669\n",
      "Epoch 36/100\n",
      "14/14 [==============================] - 0s 4ms/step - loss: 0.6688 - accuracy: 0.7499 - val_loss: 0.6465 - val_accuracy: 0.7624\n",
      "Epoch 37/100\n",
      "14/14 [==============================] - 0s 4ms/step - loss: 0.6557 - accuracy: 0.7584 - val_loss: 0.6477 - val_accuracy: 0.7618\n",
      "Epoch 38/100\n",
      "14/14 [==============================] - 0s 4ms/step - loss: 0.6406 - accuracy: 0.7663 - val_loss: 0.6342 - val_accuracy: 0.7737\n",
      "Epoch 39/100\n",
      "14/14 [==============================] - 0s 4ms/step - loss: 0.6437 - accuracy: 0.7635 - val_loss: 0.6331 - val_accuracy: 0.7726\n",
      "Epoch 40/100\n",
      "14/14 [==============================] - 0s 5ms/step - loss: 0.6264 - accuracy: 0.7726 - val_loss: 0.6323 - val_accuracy: 0.7669\n",
      "Epoch 41/100\n",
      "14/14 [==============================] - 0s 4ms/step - loss: 0.6211 - accuracy: 0.7681 - val_loss: 0.6277 - val_accuracy: 0.7737\n",
      "Epoch 42/100\n",
      "14/14 [==============================] - 0s 4ms/step - loss: 0.6317 - accuracy: 0.7578 - val_loss: 0.6281 - val_accuracy: 0.7686\n",
      "Epoch 43/100\n",
      "14/14 [==============================] - 0s 4ms/step - loss: 0.6240 - accuracy: 0.7669 - val_loss: 0.6155 - val_accuracy: 0.7783\n",
      "Epoch 44/100\n",
      "14/14 [==============================] - 0s 4ms/step - loss: 0.6039 - accuracy: 0.7777 - val_loss: 0.6146 - val_accuracy: 0.7709\n",
      "Epoch 45/100\n",
      "14/14 [==============================] - 0s 4ms/step - loss: 0.6121 - accuracy: 0.7794 - val_loss: 0.6137 - val_accuracy: 0.7692\n",
      "Epoch 46/100\n",
      "14/14 [==============================] - 0s 4ms/step - loss: 0.6010 - accuracy: 0.7663 - val_loss: 0.6070 - val_accuracy: 0.7828\n",
      "Epoch 47/100\n",
      "14/14 [==============================] - 0s 4ms/step - loss: 0.6089 - accuracy: 0.7709 - val_loss: 0.6146 - val_accuracy: 0.7709\n",
      "Epoch 48/100\n",
      "14/14 [==============================] - 0s 4ms/step - loss: 0.5886 - accuracy: 0.7891 - val_loss: 0.5987 - val_accuracy: 0.7845\n",
      "Epoch 49/100\n",
      "14/14 [==============================] - 0s 5ms/step - loss: 0.5859 - accuracy: 0.7817 - val_loss: 0.5925 - val_accuracy: 0.7868\n",
      "Epoch 50/100\n",
      "14/14 [==============================] - 0s 5ms/step - loss: 0.5869 - accuracy: 0.7834 - val_loss: 0.5972 - val_accuracy: 0.7885\n",
      "Epoch 51/100\n",
      "14/14 [==============================] - 0s 4ms/step - loss: 0.5742 - accuracy: 0.7897 - val_loss: 0.5889 - val_accuracy: 0.7908\n",
      "Epoch 52/100\n",
      "14/14 [==============================] - 0s 4ms/step - loss: 0.5736 - accuracy: 0.7851 - val_loss: 0.5825 - val_accuracy: 0.7925\n",
      "Epoch 53/100\n",
      "14/14 [==============================] - 0s 5ms/step - loss: 0.5514 - accuracy: 0.7970 - val_loss: 0.5840 - val_accuracy: 0.7931\n",
      "Epoch 54/100\n",
      "14/14 [==============================] - 0s 5ms/step - loss: 0.5583 - accuracy: 0.7953 - val_loss: 0.5796 - val_accuracy: 0.7936\n",
      "Epoch 55/100\n",
      "14/14 [==============================] - 0s 4ms/step - loss: 0.5596 - accuracy: 0.7936 - val_loss: 0.5765 - val_accuracy: 0.7902\n",
      "Epoch 56/100\n",
      "14/14 [==============================] - 0s 4ms/step - loss: 0.5555 - accuracy: 0.8050 - val_loss: 0.5746 - val_accuracy: 0.7931\n",
      "Epoch 57/100\n",
      "14/14 [==============================] - 0s 4ms/step - loss: 0.5573 - accuracy: 0.7948 - val_loss: 0.5722 - val_accuracy: 0.7999\n",
      "Epoch 58/100\n",
      "14/14 [==============================] - 0s 4ms/step - loss: 0.5435 - accuracy: 0.7868 - val_loss: 0.5686 - val_accuracy: 0.7936\n",
      "Epoch 59/100\n",
      "14/14 [==============================] - 0s 4ms/step - loss: 0.5416 - accuracy: 0.8067 - val_loss: 0.5620 - val_accuracy: 0.7982\n",
      "Epoch 60/100\n",
      "14/14 [==============================] - 0s 5ms/step - loss: 0.5359 - accuracy: 0.8033 - val_loss: 0.5636 - val_accuracy: 0.8010\n",
      "Epoch 61/100\n",
      "14/14 [==============================] - 0s 4ms/step - loss: 0.5261 - accuracy: 0.8033 - val_loss: 0.5567 - val_accuracy: 0.7953\n",
      "Epoch 62/100\n",
      "14/14 [==============================] - 0s 5ms/step - loss: 0.5244 - accuracy: 0.8084 - val_loss: 0.5573 - val_accuracy: 0.8016\n",
      "Epoch 63/100\n",
      "14/14 [==============================] - 0s 5ms/step - loss: 0.5293 - accuracy: 0.8005 - val_loss: 0.5580 - val_accuracy: 0.8005\n",
      "Epoch 64/100\n",
      "14/14 [==============================] - 0s 5ms/step - loss: 0.5155 - accuracy: 0.8078 - val_loss: 0.5499 - val_accuracy: 0.8033\n",
      "Epoch 65/100\n",
      "14/14 [==============================] - 0s 5ms/step - loss: 0.5262 - accuracy: 0.8078 - val_loss: 0.5505 - val_accuracy: 0.8084\n",
      "Epoch 66/100\n",
      "14/14 [==============================] - 0s 5ms/step - loss: 0.5264 - accuracy: 0.8078 - val_loss: 0.5545 - val_accuracy: 0.8027\n",
      "Epoch 67/100\n",
      "14/14 [==============================] - 0s 5ms/step - loss: 0.5114 - accuracy: 0.8152 - val_loss: 0.5437 - val_accuracy: 0.8067\n",
      "Epoch 68/100\n",
      "14/14 [==============================] - 0s 5ms/step - loss: 0.5049 - accuracy: 0.8221 - val_loss: 0.5397 - val_accuracy: 0.8067\n",
      "Epoch 69/100\n",
      "14/14 [==============================] - 0s 6ms/step - loss: 0.5051 - accuracy: 0.8135 - val_loss: 0.5355 - val_accuracy: 0.8113\n",
      "Epoch 70/100\n",
      "14/14 [==============================] - 0s 6ms/step - loss: 0.4961 - accuracy: 0.8221 - val_loss: 0.5323 - val_accuracy: 0.8050\n",
      "Epoch 71/100\n",
      "14/14 [==============================] - 0s 5ms/step - loss: 0.4852 - accuracy: 0.8266 - val_loss: 0.5293 - val_accuracy: 0.8084\n",
      "Epoch 72/100\n",
      "14/14 [==============================] - 0s 5ms/step - loss: 0.4767 - accuracy: 0.8300 - val_loss: 0.5306 - val_accuracy: 0.8084\n",
      "Epoch 73/100\n",
      "14/14 [==============================] - 0s 5ms/step - loss: 0.4820 - accuracy: 0.8289 - val_loss: 0.5223 - val_accuracy: 0.8124\n",
      "Epoch 74/100\n",
      "14/14 [==============================] - 0s 5ms/step - loss: 0.4942 - accuracy: 0.8260 - val_loss: 0.5283 - val_accuracy: 0.8096\n",
      "Epoch 75/100\n",
      "14/14 [==============================] - 0s 5ms/step - loss: 0.4788 - accuracy: 0.8221 - val_loss: 0.5327 - val_accuracy: 0.8073\n",
      "Epoch 76/100\n",
      "14/14 [==============================] - 0s 4ms/step - loss: 0.4806 - accuracy: 0.8334 - val_loss: 0.5260 - val_accuracy: 0.8101\n",
      "Epoch 77/100\n",
      "14/14 [==============================] - 0s 4ms/step - loss: 0.4679 - accuracy: 0.8346 - val_loss: 0.5123 - val_accuracy: 0.8169\n",
      "Epoch 78/100\n",
      "14/14 [==============================] - 0s 5ms/step - loss: 0.4622 - accuracy: 0.8334 - val_loss: 0.5153 - val_accuracy: 0.8141\n",
      "Epoch 79/100\n",
      "14/14 [==============================] - 0s 4ms/step - loss: 0.4551 - accuracy: 0.8357 - val_loss: 0.5103 - val_accuracy: 0.8181\n",
      "Epoch 80/100\n",
      "14/14 [==============================] - 0s 4ms/step - loss: 0.4514 - accuracy: 0.8363 - val_loss: 0.5129 - val_accuracy: 0.8169\n",
      "Epoch 81/100\n",
      "14/14 [==============================] - 0s 5ms/step - loss: 0.4615 - accuracy: 0.8357 - val_loss: 0.5073 - val_accuracy: 0.8294\n",
      "Epoch 82/100\n",
      "14/14 [==============================] - 0s 5ms/step - loss: 0.4564 - accuracy: 0.8289 - val_loss: 0.5024 - val_accuracy: 0.8198\n",
      "Epoch 83/100\n",
      "14/14 [==============================] - 0s 4ms/step - loss: 0.4449 - accuracy: 0.8374 - val_loss: 0.5049 - val_accuracy: 0.8152\n",
      "Epoch 84/100\n",
      "14/14 [==============================] - 0s 4ms/step - loss: 0.4386 - accuracy: 0.8391 - val_loss: 0.5049 - val_accuracy: 0.8215\n",
      "Epoch 85/100\n",
      "14/14 [==============================] - 0s 4ms/step - loss: 0.4464 - accuracy: 0.8471 - val_loss: 0.4925 - val_accuracy: 0.8294\n",
      "Epoch 86/100\n",
      "14/14 [==============================] - 0s 5ms/step - loss: 0.4373 - accuracy: 0.8448 - val_loss: 0.4977 - val_accuracy: 0.8243\n",
      "Epoch 87/100\n",
      "14/14 [==============================] - 0s 5ms/step - loss: 0.4294 - accuracy: 0.8448 - val_loss: 0.4887 - val_accuracy: 0.8272\n",
      "Epoch 88/100\n",
      "14/14 [==============================] - 0s 5ms/step - loss: 0.4310 - accuracy: 0.8499 - val_loss: 0.4936 - val_accuracy: 0.8255\n",
      "Epoch 89/100\n",
      "14/14 [==============================] - 0s 4ms/step - loss: 0.4346 - accuracy: 0.8437 - val_loss: 0.4900 - val_accuracy: 0.8329\n",
      "Epoch 90/100\n",
      "14/14 [==============================] - 0s 5ms/step - loss: 0.4232 - accuracy: 0.8516 - val_loss: 0.4860 - val_accuracy: 0.8260\n",
      "Epoch 91/100\n",
      "14/14 [==============================] - 0s 4ms/step - loss: 0.4188 - accuracy: 0.8562 - val_loss: 0.4800 - val_accuracy: 0.8289\n",
      "Epoch 92/100\n",
      "14/14 [==============================] - 0s 4ms/step - loss: 0.4134 - accuracy: 0.8562 - val_loss: 0.4772 - val_accuracy: 0.8277\n",
      "Epoch 93/100\n",
      "14/14 [==============================] - 0s 4ms/step - loss: 0.4102 - accuracy: 0.8499 - val_loss: 0.4739 - val_accuracy: 0.8340\n",
      "Epoch 94/100\n",
      "14/14 [==============================] - 0s 5ms/step - loss: 0.4104 - accuracy: 0.8516 - val_loss: 0.4818 - val_accuracy: 0.8306\n",
      "Epoch 95/100\n",
      "14/14 [==============================] - 0s 5ms/step - loss: 0.4125 - accuracy: 0.8528 - val_loss: 0.4739 - val_accuracy: 0.8294\n",
      "Epoch 96/100\n",
      "14/14 [==============================] - 0s 5ms/step - loss: 0.4101 - accuracy: 0.8516 - val_loss: 0.4706 - val_accuracy: 0.8334\n",
      "Epoch 97/100\n",
      "14/14 [==============================] - 0s 5ms/step - loss: 0.4071 - accuracy: 0.8528 - val_loss: 0.4741 - val_accuracy: 0.8312\n",
      "Epoch 98/100\n",
      "14/14 [==============================] - 0s 4ms/step - loss: 0.3920 - accuracy: 0.8624 - val_loss: 0.4665 - val_accuracy: 0.8420\n",
      "Epoch 99/100\n",
      "14/14 [==============================] - 0s 4ms/step - loss: 0.3809 - accuracy: 0.8647 - val_loss: 0.4617 - val_accuracy: 0.8380\n",
      "Epoch 100/100\n",
      "14/14 [==============================] - 0s 4ms/step - loss: 0.3808 - accuracy: 0.8755 - val_loss: 0.4765 - val_accuracy: 0.8272\n"
     ]
    },
    {
     "data": {
      "text/plain": "<keras.callbacks.History at 0x7fb30c6683a0>"
     },
     "execution_count": 22,
     "metadata": {},
     "output_type": "execute_result"
    }
   ],
   "source": [
    "batch_size = 128\n",
    "epochs = 100\n",
    "\n",
    "model.compile(loss=\"categorical_crossentropy\",\n",
    "              optimizer=keras.optimizers.Adam(lr=0.0001),\n",
    "              metrics=[\"accuracy\"])\n",
    "\n",
    "model.fit(X_train, y_train,\n",
    "          batch_size=batch_size,\n",
    "          epochs=epochs,\n",
    "          validation_split=0.5)"
   ],
   "metadata": {
    "collapsed": false,
    "pycharm": {
     "name": "#%%\n"
    }
   }
  },
  {
   "cell_type": "code",
   "execution_count": 23,
   "outputs": [
    {
     "name": "stdout",
     "output_type": "stream",
     "text": [
      "0.8147720715522215\n"
     ]
    }
   ],
   "source": [
    "y_hat = np.argmax(model.predict(X_test),1)\n",
    "Accuracy_BestXAI = np.mean(y_hat == np.argmax(y_test,1))\n",
    "print(Accuracy_BestXAI)"
   ],
   "metadata": {
    "collapsed": false,
    "pycharm": {
     "name": "#%%\n"
    }
   }
  },
  {
   "cell_type": "code",
   "execution_count": 24,
   "outputs": [
    {
     "data": {
      "text/plain": "<Figure size 576x216 with 2 Axes>",
      "image/png": "[encoded data removed]"
     },
     "metadata": {},
     "output_type": "display_data"
    }
   ],
   "source": [
    "fig, (ax1, ax2) = plt.subplots(1, 2)\n",
    "fig.set_size_inches(8, 3)\n",
    "ax1.hist(y_hat, density = True,\n",
    "         bins = np.arange(-0.5, max(y_hat)+1.5,1))\n",
    "ax2.hist(np.argmax(y_test,1),density = True,\n",
    "         bins = np.arange(-0.5, max(np.argmax(y_test,1))+1.5,1))\n",
    "plt.suptitle(\"Histograms of Predicted and Test Labels\")\n",
    "plt.show()"
   ],
   "metadata": {
    "collapsed": false,
    "pycharm": {
     "name": "#%%\n"
    }
   }
  },
  {
   "cell_type": "markdown",
   "source": [
    "### Comparison: best features according to Median XAI values"
   ],
   "metadata": {
    "collapsed": false,
    "pycharm": {
     "name": "#%% md\n"
    }
   }
  },
  {
   "cell_type": "code",
   "execution_count": 25,
   "outputs": [
    {
     "name": "stdout",
     "output_type": "stream",
     "text": [
      "Epoch 1/100\n",
      "14/14 [==============================] - 0s 6ms/step - loss: 2.0857 - accuracy: 0.4486 - val_loss: 1.4681 - val_accuracy: 0.5173\n",
      "Epoch 2/100\n",
      "14/14 [==============================] - 0s 4ms/step - loss: 1.2728 - accuracy: 0.5691 - val_loss: 1.0747 - val_accuracy: 0.6100\n",
      "Epoch 3/100\n",
      "14/14 [==============================] - 0s 4ms/step - loss: 1.0291 - accuracy: 0.6384 - val_loss: 0.9478 - val_accuracy: 0.6617\n",
      "Epoch 4/100\n",
      "14/14 [==============================] - 0s 4ms/step - loss: 0.9233 - accuracy: 0.6765 - val_loss: 0.8670 - val_accuracy: 0.6941\n",
      "Epoch 5/100\n",
      "14/14 [==============================] - 0s 4ms/step - loss: 0.8445 - accuracy: 0.6970 - val_loss: 0.8124 - val_accuracy: 0.7061\n",
      "Epoch 6/100\n",
      "14/14 [==============================] - 0s 4ms/step - loss: 0.8017 - accuracy: 0.7072 - val_loss: 0.7747 - val_accuracy: 0.7322\n",
      "Epoch 7/100\n",
      "14/14 [==============================] - 0s 4ms/step - loss: 0.7690 - accuracy: 0.7180 - val_loss: 0.7435 - val_accuracy: 0.7374\n",
      "Epoch 8/100\n",
      "14/14 [==============================] - 0s 4ms/step - loss: 0.7408 - accuracy: 0.7379 - val_loss: 0.7218 - val_accuracy: 0.7425\n",
      "Epoch 9/100\n",
      "14/14 [==============================] - 0s 4ms/step - loss: 0.7173 - accuracy: 0.7368 - val_loss: 0.7017 - val_accuracy: 0.7527\n",
      "Epoch 10/100\n",
      "14/14 [==============================] - 0s 4ms/step - loss: 0.6959 - accuracy: 0.7391 - val_loss: 0.6853 - val_accuracy: 0.7533\n",
      "Epoch 11/100\n",
      "14/14 [==============================] - 0s 4ms/step - loss: 0.6764 - accuracy: 0.7538 - val_loss: 0.6702 - val_accuracy: 0.7612\n",
      "Epoch 12/100\n",
      "14/14 [==============================] - 0s 4ms/step - loss: 0.6644 - accuracy: 0.7516 - val_loss: 0.6666 - val_accuracy: 0.7601\n",
      "Epoch 13/100\n",
      "14/14 [==============================] - 0s 4ms/step - loss: 0.6464 - accuracy: 0.7629 - val_loss: 0.6472 - val_accuracy: 0.7703\n",
      "Epoch 14/100\n",
      "14/14 [==============================] - 0s 4ms/step - loss: 0.6379 - accuracy: 0.7663 - val_loss: 0.6373 - val_accuracy: 0.7754\n",
      "Epoch 15/100\n",
      "14/14 [==============================] - 0s 4ms/step - loss: 0.6310 - accuracy: 0.7652 - val_loss: 0.6402 - val_accuracy: 0.7669\n",
      "Epoch 16/100\n",
      "14/14 [==============================] - 0s 4ms/step - loss: 0.6088 - accuracy: 0.7743 - val_loss: 0.6178 - val_accuracy: 0.7766\n",
      "Epoch 17/100\n",
      "14/14 [==============================] - 0s 4ms/step - loss: 0.6099 - accuracy: 0.7709 - val_loss: 0.6093 - val_accuracy: 0.7817\n",
      "Epoch 18/100\n",
      "14/14 [==============================] - 0s 4ms/step - loss: 0.5892 - accuracy: 0.7897 - val_loss: 0.6019 - val_accuracy: 0.7834\n",
      "Epoch 19/100\n",
      "14/14 [==============================] - 0s 5ms/step - loss: 0.5801 - accuracy: 0.7874 - val_loss: 0.5923 - val_accuracy: 0.7874\n",
      "Epoch 20/100\n",
      "14/14 [==============================] - 0s 5ms/step - loss: 0.5757 - accuracy: 0.7965 - val_loss: 0.5854 - val_accuracy: 0.7948\n",
      "Epoch 21/100\n",
      "14/14 [==============================] - 0s 4ms/step - loss: 0.5615 - accuracy: 0.8050 - val_loss: 0.5807 - val_accuracy: 0.7925\n",
      "Epoch 22/100\n",
      "14/14 [==============================] - 0s 5ms/step - loss: 0.5493 - accuracy: 0.8078 - val_loss: 0.5717 - val_accuracy: 0.7993\n",
      "Epoch 23/100\n",
      "14/14 [==============================] - 0s 5ms/step - loss: 0.5393 - accuracy: 0.8061 - val_loss: 0.5661 - val_accuracy: 0.8033\n",
      "Epoch 24/100\n",
      "14/14 [==============================] - 0s 5ms/step - loss: 0.5438 - accuracy: 0.8016 - val_loss: 0.5577 - val_accuracy: 0.8078\n",
      "Epoch 25/100\n",
      "14/14 [==============================] - 0s 4ms/step - loss: 0.5320 - accuracy: 0.8181 - val_loss: 0.5543 - val_accuracy: 0.8084\n",
      "Epoch 26/100\n",
      "14/14 [==============================] - 0s 4ms/step - loss: 0.5236 - accuracy: 0.8209 - val_loss: 0.5485 - val_accuracy: 0.8084\n",
      "Epoch 27/100\n",
      "14/14 [==============================] - 0s 4ms/step - loss: 0.5077 - accuracy: 0.8221 - val_loss: 0.5438 - val_accuracy: 0.8113\n",
      "Epoch 28/100\n",
      "14/14 [==============================] - 0s 4ms/step - loss: 0.5082 - accuracy: 0.8221 - val_loss: 0.5448 - val_accuracy: 0.8084\n",
      "Epoch 29/100\n",
      "14/14 [==============================] - 0s 5ms/step - loss: 0.5049 - accuracy: 0.8255 - val_loss: 0.5339 - val_accuracy: 0.8141\n",
      "Epoch 30/100\n",
      "14/14 [==============================] - 0s 5ms/step - loss: 0.5065 - accuracy: 0.8357 - val_loss: 0.5313 - val_accuracy: 0.8141\n",
      "Epoch 31/100\n",
      "14/14 [==============================] - 0s 5ms/step - loss: 0.4914 - accuracy: 0.8329 - val_loss: 0.5289 - val_accuracy: 0.8186\n",
      "Epoch 32/100\n",
      "14/14 [==============================] - 0s 4ms/step - loss: 0.4924 - accuracy: 0.8317 - val_loss: 0.5222 - val_accuracy: 0.8175\n",
      "Epoch 33/100\n",
      "14/14 [==============================] - 0s 4ms/step - loss: 0.4681 - accuracy: 0.8414 - val_loss: 0.5241 - val_accuracy: 0.8141\n",
      "Epoch 34/100\n",
      "14/14 [==============================] - 0s 4ms/step - loss: 0.4815 - accuracy: 0.8357 - val_loss: 0.5128 - val_accuracy: 0.8209\n",
      "Epoch 35/100\n",
      "14/14 [==============================] - 0s 4ms/step - loss: 0.4758 - accuracy: 0.8420 - val_loss: 0.5141 - val_accuracy: 0.8186\n",
      "Epoch 36/100\n",
      "14/14 [==============================] - 0s 5ms/step - loss: 0.4598 - accuracy: 0.8448 - val_loss: 0.5065 - val_accuracy: 0.8289\n",
      "Epoch 37/100\n",
      "14/14 [==============================] - 0s 4ms/step - loss: 0.4592 - accuracy: 0.8437 - val_loss: 0.5000 - val_accuracy: 0.8266\n",
      "Epoch 38/100\n",
      "14/14 [==============================] - 0s 4ms/step - loss: 0.4589 - accuracy: 0.8516 - val_loss: 0.4972 - val_accuracy: 0.8283\n",
      "Epoch 39/100\n",
      "14/14 [==============================] - 0s 4ms/step - loss: 0.4453 - accuracy: 0.8556 - val_loss: 0.4969 - val_accuracy: 0.8232\n",
      "Epoch 40/100\n",
      "14/14 [==============================] - 0s 4ms/step - loss: 0.4516 - accuracy: 0.8511 - val_loss: 0.4953 - val_accuracy: 0.8249\n",
      "Epoch 41/100\n",
      "14/14 [==============================] - 0s 4ms/step - loss: 0.4455 - accuracy: 0.8448 - val_loss: 0.4852 - val_accuracy: 0.8334\n",
      "Epoch 42/100\n",
      "14/14 [==============================] - 0s 4ms/step - loss: 0.4219 - accuracy: 0.8545 - val_loss: 0.4900 - val_accuracy: 0.8277\n",
      "Epoch 43/100\n",
      "14/14 [==============================] - 0s 4ms/step - loss: 0.4352 - accuracy: 0.8601 - val_loss: 0.4825 - val_accuracy: 0.8334\n",
      "Epoch 44/100\n",
      "14/14 [==============================] - 0s 4ms/step - loss: 0.4259 - accuracy: 0.8567 - val_loss: 0.4804 - val_accuracy: 0.8334\n",
      "Epoch 45/100\n",
      "14/14 [==============================] - 0s 5ms/step - loss: 0.4251 - accuracy: 0.8601 - val_loss: 0.4817 - val_accuracy: 0.8294\n",
      "Epoch 46/100\n",
      "14/14 [==============================] - 0s 5ms/step - loss: 0.4222 - accuracy: 0.8658 - val_loss: 0.4774 - val_accuracy: 0.8317\n",
      "Epoch 47/100\n",
      "14/14 [==============================] - 0s 5ms/step - loss: 0.4218 - accuracy: 0.8596 - val_loss: 0.4823 - val_accuracy: 0.8272\n",
      "Epoch 48/100\n",
      "14/14 [==============================] - 0s 4ms/step - loss: 0.4138 - accuracy: 0.8619 - val_loss: 0.4707 - val_accuracy: 0.8368\n",
      "Epoch 49/100\n",
      "14/14 [==============================] - 0s 4ms/step - loss: 0.4053 - accuracy: 0.8721 - val_loss: 0.4646 - val_accuracy: 0.8431\n",
      "Epoch 50/100\n",
      "14/14 [==============================] - 0s 4ms/step - loss: 0.4054 - accuracy: 0.8647 - val_loss: 0.4738 - val_accuracy: 0.8346\n",
      "Epoch 51/100\n",
      "14/14 [==============================] - 0s 5ms/step - loss: 0.3987 - accuracy: 0.8698 - val_loss: 0.4591 - val_accuracy: 0.8454\n",
      "Epoch 52/100\n",
      "14/14 [==============================] - 0s 5ms/step - loss: 0.3948 - accuracy: 0.8738 - val_loss: 0.4567 - val_accuracy: 0.8459\n",
      "Epoch 53/100\n",
      "14/14 [==============================] - 0s 5ms/step - loss: 0.3967 - accuracy: 0.8692 - val_loss: 0.4551 - val_accuracy: 0.8442\n",
      "Epoch 54/100\n",
      "14/14 [==============================] - 0s 5ms/step - loss: 0.3913 - accuracy: 0.8744 - val_loss: 0.4525 - val_accuracy: 0.8465\n",
      "Epoch 55/100\n",
      "14/14 [==============================] - 0s 5ms/step - loss: 0.3919 - accuracy: 0.8721 - val_loss: 0.4564 - val_accuracy: 0.8442\n",
      "Epoch 56/100\n",
      "14/14 [==============================] - 0s 4ms/step - loss: 0.3758 - accuracy: 0.8812 - val_loss: 0.4476 - val_accuracy: 0.8488\n",
      "Epoch 57/100\n",
      "14/14 [==============================] - 0s 4ms/step - loss: 0.3832 - accuracy: 0.8755 - val_loss: 0.4557 - val_accuracy: 0.8420\n",
      "Epoch 58/100\n",
      "14/14 [==============================] - 0s 4ms/step - loss: 0.3806 - accuracy: 0.8800 - val_loss: 0.4475 - val_accuracy: 0.8488\n",
      "Epoch 59/100\n",
      "14/14 [==============================] - 0s 4ms/step - loss: 0.3654 - accuracy: 0.8800 - val_loss: 0.4418 - val_accuracy: 0.8493\n",
      "Epoch 60/100\n",
      "14/14 [==============================] - 0s 4ms/step - loss: 0.3731 - accuracy: 0.8766 - val_loss: 0.4373 - val_accuracy: 0.8516\n",
      "Epoch 61/100\n",
      "14/14 [==============================] - 0s 4ms/step - loss: 0.3494 - accuracy: 0.8891 - val_loss: 0.4375 - val_accuracy: 0.8488\n",
      "Epoch 62/100\n",
      "14/14 [==============================] - 0s 4ms/step - loss: 0.3694 - accuracy: 0.8818 - val_loss: 0.4364 - val_accuracy: 0.8459\n",
      "Epoch 63/100\n",
      "14/14 [==============================] - 0s 4ms/step - loss: 0.3535 - accuracy: 0.8852 - val_loss: 0.4370 - val_accuracy: 0.8454\n",
      "Epoch 64/100\n",
      "14/14 [==============================] - 0s 4ms/step - loss: 0.3608 - accuracy: 0.8778 - val_loss: 0.4379 - val_accuracy: 0.8505\n",
      "Epoch 65/100\n",
      "14/14 [==============================] - 0s 4ms/step - loss: 0.3615 - accuracy: 0.8778 - val_loss: 0.4292 - val_accuracy: 0.8522\n",
      "Epoch 66/100\n",
      "14/14 [==============================] - 0s 4ms/step - loss: 0.3399 - accuracy: 0.8863 - val_loss: 0.4282 - val_accuracy: 0.8499\n",
      "Epoch 67/100\n",
      "14/14 [==============================] - 0s 4ms/step - loss: 0.3281 - accuracy: 0.8943 - val_loss: 0.4267 - val_accuracy: 0.8545\n",
      "Epoch 68/100\n",
      "14/14 [==============================] - 0s 4ms/step - loss: 0.3463 - accuracy: 0.8863 - val_loss: 0.4296 - val_accuracy: 0.8465\n",
      "Epoch 69/100\n",
      "14/14 [==============================] - 0s 4ms/step - loss: 0.3463 - accuracy: 0.8869 - val_loss: 0.4246 - val_accuracy: 0.8505\n",
      "Epoch 70/100\n",
      "14/14 [==============================] - 0s 4ms/step - loss: 0.3437 - accuracy: 0.8914 - val_loss: 0.4318 - val_accuracy: 0.8482\n",
      "Epoch 71/100\n",
      "14/14 [==============================] - 0s 4ms/step - loss: 0.3374 - accuracy: 0.8891 - val_loss: 0.4213 - val_accuracy: 0.8550\n",
      "Epoch 72/100\n",
      "14/14 [==============================] - 0s 4ms/step - loss: 0.3313 - accuracy: 0.8886 - val_loss: 0.4208 - val_accuracy: 0.8550\n",
      "Epoch 73/100\n",
      "14/14 [==============================] - 0s 4ms/step - loss: 0.3276 - accuracy: 0.8920 - val_loss: 0.4177 - val_accuracy: 0.8567\n",
      "Epoch 74/100\n",
      "14/14 [==============================] - 0s 4ms/step - loss: 0.3361 - accuracy: 0.8840 - val_loss: 0.4377 - val_accuracy: 0.8454\n",
      "Epoch 75/100\n",
      "14/14 [==============================] - 0s 4ms/step - loss: 0.3361 - accuracy: 0.8840 - val_loss: 0.4222 - val_accuracy: 0.8550\n",
      "Epoch 76/100\n",
      "14/14 [==============================] - 0s 4ms/step - loss: 0.3276 - accuracy: 0.8869 - val_loss: 0.4191 - val_accuracy: 0.8556\n",
      "Epoch 77/100\n",
      "14/14 [==============================] - 0s 4ms/step - loss: 0.3304 - accuracy: 0.8886 - val_loss: 0.4115 - val_accuracy: 0.8596\n",
      "Epoch 78/100\n",
      "14/14 [==============================] - 0s 5ms/step - loss: 0.3214 - accuracy: 0.8937 - val_loss: 0.4100 - val_accuracy: 0.8624\n",
      "Epoch 79/100\n",
      "14/14 [==============================] - 0s 4ms/step - loss: 0.3275 - accuracy: 0.8965 - val_loss: 0.4085 - val_accuracy: 0.8641\n",
      "Epoch 80/100\n",
      "14/14 [==============================] - 0s 4ms/step - loss: 0.3220 - accuracy: 0.8977 - val_loss: 0.4079 - val_accuracy: 0.8647\n",
      "Epoch 81/100\n",
      "14/14 [==============================] - 0s 4ms/step - loss: 0.3138 - accuracy: 0.8954 - val_loss: 0.4101 - val_accuracy: 0.8624\n",
      "Epoch 82/100\n",
      "14/14 [==============================] - 0s 4ms/step - loss: 0.3144 - accuracy: 0.8988 - val_loss: 0.4036 - val_accuracy: 0.8647\n",
      "Epoch 83/100\n",
      "14/14 [==============================] - 0s 4ms/step - loss: 0.3161 - accuracy: 0.8982 - val_loss: 0.4075 - val_accuracy: 0.8619\n",
      "Epoch 84/100\n",
      "14/14 [==============================] - 0s 4ms/step - loss: 0.3105 - accuracy: 0.8926 - val_loss: 0.4090 - val_accuracy: 0.8619\n",
      "Epoch 85/100\n",
      "14/14 [==============================] - 0s 5ms/step - loss: 0.2930 - accuracy: 0.9028 - val_loss: 0.4006 - val_accuracy: 0.8619\n",
      "Epoch 86/100\n",
      "14/14 [==============================] - 0s 5ms/step - loss: 0.3054 - accuracy: 0.8977 - val_loss: 0.3980 - val_accuracy: 0.8619\n",
      "Epoch 87/100\n",
      "14/14 [==============================] - 0s 5ms/step - loss: 0.3059 - accuracy: 0.8971 - val_loss: 0.3959 - val_accuracy: 0.8675\n",
      "Epoch 88/100\n",
      "14/14 [==============================] - 0s 5ms/step - loss: 0.2945 - accuracy: 0.9005 - val_loss: 0.3972 - val_accuracy: 0.8630\n",
      "Epoch 89/100\n",
      "14/14 [==============================] - 0s 6ms/step - loss: 0.2927 - accuracy: 0.9073 - val_loss: 0.3958 - val_accuracy: 0.8664\n",
      "Epoch 90/100\n",
      "14/14 [==============================] - 0s 5ms/step - loss: 0.2965 - accuracy: 0.8988 - val_loss: 0.3957 - val_accuracy: 0.8664\n",
      "Epoch 91/100\n",
      "14/14 [==============================] - 0s 5ms/step - loss: 0.2837 - accuracy: 0.9125 - val_loss: 0.3900 - val_accuracy: 0.8670\n",
      "Epoch 92/100\n",
      "14/14 [==============================] - 0s 6ms/step - loss: 0.2948 - accuracy: 0.9073 - val_loss: 0.3924 - val_accuracy: 0.8692\n",
      "Epoch 93/100\n",
      "14/14 [==============================] - 0s 5ms/step - loss: 0.2853 - accuracy: 0.9073 - val_loss: 0.3929 - val_accuracy: 0.8692\n",
      "Epoch 94/100\n",
      "14/14 [==============================] - 0s 5ms/step - loss: 0.2816 - accuracy: 0.9107 - val_loss: 0.3911 - val_accuracy: 0.8732\n",
      "Epoch 95/100\n",
      "14/14 [==============================] - 0s 4ms/step - loss: 0.2796 - accuracy: 0.9073 - val_loss: 0.3936 - val_accuracy: 0.8670\n",
      "Epoch 96/100\n",
      "14/14 [==============================] - 0s 5ms/step - loss: 0.2911 - accuracy: 0.9045 - val_loss: 0.3937 - val_accuracy: 0.8692\n",
      "Epoch 97/100\n",
      "14/14 [==============================] - 0s 5ms/step - loss: 0.2779 - accuracy: 0.9073 - val_loss: 0.3877 - val_accuracy: 0.8749\n",
      "Epoch 98/100\n",
      "14/14 [==============================] - 0s 5ms/step - loss: 0.2724 - accuracy: 0.9119 - val_loss: 0.3882 - val_accuracy: 0.8715\n",
      "Epoch 99/100\n",
      "14/14 [==============================] - 0s 5ms/step - loss: 0.2729 - accuracy: 0.9125 - val_loss: 0.3868 - val_accuracy: 0.8709\n",
      "Epoch 100/100\n",
      "14/14 [==============================] - 0s 4ms/step - loss: 0.2710 - accuracy: 0.9085 - val_loss: 0.3897 - val_accuracy: 0.8670\n"
     ]
    }
   ],
   "source": [
    "\n",
    "\n",
    "X_train, X_test, y_train, y_test = train_test_split(CorrMatrices[:, MedianLogical],\n",
    "                                                    encoded_Y, test_size=0.33, random_state=1)\n",
    "\n",
    "\n",
    "model.fit(X_train, y_train,\n",
    "          batch_size=batch_size,\n",
    "          epochs=epochs,\n",
    "          validation_split=0.5)\n",
    "\n",
    "y_hat = np.argmax(model.predict(X_test),1)\n",
    "Accuracy_BestMedianXAI = np.mean(y_hat == np.argmax(y_test,1))\n"
   ],
   "metadata": {
    "collapsed": false,
    "pycharm": {
     "name": "#%%\n"
    }
   }
  },
  {
   "cell_type": "code",
   "execution_count": 26,
   "outputs": [
    {
     "name": "stdout",
     "output_type": "stream",
     "text": [
      "0.8447778418926717\n"
     ]
    }
   ],
   "source": [
    "print(Accuracy_BestMedianXAI)"
   ],
   "metadata": {
    "collapsed": false,
    "pycharm": {
     "name": "#%%\n"
    }
   }
  },
  {
   "cell_type": "markdown",
   "source": [
    "### Now with some other features"
   ],
   "metadata": {
    "collapsed": false,
    "pycharm": {
     "name": "#%% md\n"
    }
   }
  },
  {
   "cell_type": "code",
   "execution_count": 27,
   "outputs": [],
   "source": [
    "def TestNN(seed = 1234):\n",
    "    np.random.seed(seed)\n",
    "    Index = np.random.choice(np.arange(XAI.shape[1]).astype(\"int\"), # features to compare optimal XAI to\n",
    "                     size = len(list(set(OptimalXAI[:,1]))),\n",
    "                     replace = False)\n",
    "    CM_Reduced = CorrMatrices[:,Index]\n",
    "    X_train, X_test, y_train, y_test = train_test_split(CM_Reduced, encoded_Y,\n",
    "                                                    test_size=0.33, random_state=1)\n",
    "    model.fit(X_train, y_train,\n",
    "          batch_size=batch_size,\n",
    "          epochs=epochs,\n",
    "          validation_split=0.5,\n",
    "          verbose=0)\n",
    "    y_hat = np.argmax(model.predict(X_test),1)\n",
    "    return(np.mean(y_hat == np.argmax(y_test,1)))"
   ],
   "metadata": {
    "collapsed": false,
    "pycharm": {
     "name": "#%%\n"
    }
   }
  },
  {
   "cell_type": "code",
   "execution_count": 28,
   "outputs": [],
   "source": [
    "def ModeModeNN(seed = 1234):\n",
    "    np.random.seed(seed)\n",
    "    CM_Reduced = CorrMatrices[:,list(set(OptimalXAI[:,1]))]\n",
    "    X_train, X_test, y_train, y_test = train_test_split(CM_Reduced, encoded_Y,\n",
    "                                                    test_size=0.33, random_state=1)\n",
    "    model.fit(X_train, y_train,\n",
    "          batch_size=batch_size,\n",
    "          epochs=epochs,\n",
    "          validation_split=0.5,\n",
    "          verbose=0)\n",
    "    y_hat = np.argmax(model.predict(X_test),1)\n",
    "    return(np.mean(y_hat == np.argmax(y_test,1)))"
   ],
   "metadata": {
    "collapsed": false,
    "pycharm": {
     "name": "#%%\n"
    }
   }
  },
  {
   "cell_type": "code",
   "execution_count": 29,
   "outputs": [],
   "source": [
    "def MedianNN(seed = 1234):\n",
    "    np.random.seed(seed)\n",
    "    CM_Reduced = CorrMatrices[:, MedianLogical]\n",
    "    X_train, X_test, y_train, y_test = train_test_split(CM_Reduced, encoded_Y,\n",
    "                                                    test_size=0.33, random_state=1)\n",
    "    model.fit(X_train, y_train,\n",
    "          batch_size=batch_size,\n",
    "          epochs=epochs,\n",
    "          validation_split=0.5,\n",
    "          verbose=0)\n",
    "    y_hat = np.argmax(model.predict(X_test),1)\n",
    "    return(np.mean(y_hat == np.argmax(y_test,1)))"
   ],
   "metadata": {
    "collapsed": false,
    "pycharm": {
     "name": "#%%\n"
    }
   }
  },
  {
   "cell_type": "code",
   "execution_count": 30,
   "outputs": [
    {
     "data": {
      "text/plain": "0.8672821696480092"
     },
     "execution_count": 30,
     "metadata": {},
     "output_type": "execute_result"
    }
   ],
   "source": [
    "ModeModeNN(53473)"
   ],
   "metadata": {
    "collapsed": false,
    "pycharm": {
     "name": "#%%\n"
    }
   }
  },
  {
   "cell_type": "code",
   "execution_count": 31,
   "outputs": [
    {
     "data": {
      "text/plain": "0.8724754760530872"
     },
     "execution_count": 31,
     "metadata": {},
     "output_type": "execute_result"
    }
   ],
   "source": [
    "MedianNN(23757)"
   ],
   "metadata": {
    "collapsed": false,
    "pycharm": {
     "name": "#%%\n"
    }
   }
  },
  {
   "cell_type": "code",
   "execution_count": 32,
   "outputs": [
    {
     "data": {
      "text/plain": "0.875937680323139"
     },
     "execution_count": 32,
     "metadata": {},
     "output_type": "execute_result"
    }
   ],
   "source": [
    "TestNN(54321)"
   ],
   "metadata": {
    "collapsed": false,
    "pycharm": {
     "name": "#%%\n"
    }
   }
  },
  {
   "cell_type": "code",
   "execution_count": 33,
   "outputs": [
    {
     "data": {
      "text/plain": "0.847663012117715"
     },
     "execution_count": 33,
     "metadata": {},
     "output_type": "execute_result"
    }
   ],
   "source": [
    "TestNN()"
   ],
   "metadata": {
    "collapsed": false,
    "pycharm": {
     "name": "#%%\n"
    }
   }
  },
  {
   "cell_type": "code",
   "execution_count": 34,
   "outputs": [
    {
     "name": "stdout",
     "output_type": "stream",
     "text": [
      "0 [9047] 0.8557414887478362 0.8799769186381996 0.8834391229082516\n",
      "1 [2491] 0.825735718407386 0.8949798038084247 0.8845931909982689\n",
      "2 [3603] 0.8834391229082516 0.8949798038084247 0.8880553952683208\n",
      "3 [3761] 0.827466820542412 0.8967109059434507 0.8909405654933641\n",
      "4 [4929] 0.877668782458165 0.9013271783035199 0.896133871898442\n",
      "5 [3474] 0.8482400461627236 0.8990190421234853 0.8892094633583382\n",
      "6 [4372] 0.8742065781881131 0.8990190421234853 0.875937680323139\n",
      "7 [4580] 0.8528563185227929 0.894402769763416 0.8984420080784766\n",
      "8 [6432] 0.8586266589728794 0.897864974033468 0.8955568378534333\n",
      "9 [3840] 0.8597807270628968 0.8995960761684939 0.8903635314483554\n",
      "10 [3716] 0.8822850548182343 0.8995960761684939 0.8869013271783035\n",
      "11 [2515] 0.8678592036930178 0.896133871898442 0.8851702250432776\n",
      "12 [1974] 0.8620888632429313 0.9042123485285631 0.8932487016733988\n",
      "13 [9435] 0.8534333525678015 0.9065204847085978 0.8903635314483554\n",
      "14 [2556] 0.8747836122331217 0.897864974033468 0.8863242931332949\n",
      "15 [4042] 0.8672821696480092 0.9019042123485286 0.8897864974033468\n",
      "16 [531] 0.8753606462781304 0.9013271783035199 0.8880553952683208\n",
      "17 [288] 0.8586266589728794 0.8955568378534333 0.8869013271783035\n",
      "18 [5282] 0.8615118291979227 0.9007501442585113 0.8903635314483554\n",
      "19 [6765] 0.8903635314483554 0.8990190421234853 0.8857472590882862\n",
      "20 [3699] 0.8505481823427582 0.9042123485285631 0.8857472590882862\n",
      "21 [1592] 0.8453548759376803 0.9001731102135025 0.8828620888632429\n",
      "22 [5045] 0.8747836122331217 0.8990190421234853 0.8903635314483554\n",
      "23 [5604] 0.8488170802077323 0.897864974033468 0.8874783612233121\n",
      "24 [2063] 0.86266589728794 0.8967109059434507 0.8874783612233121\n",
      "25 [6903] 0.8718984420080784 0.9007501442585113 0.8845931909982689\n",
      "26 [6206] 0.8528563185227929 0.897864974033468 0.8869013271783035\n",
      "27 [2413] 0.8372763993075591 0.8990190421234853 0.8892094633583382\n",
      "28 [7488] 0.842469705712637 0.896133871898442 0.8880553952683208\n",
      "29 [6693] 0.8361223312175419 0.9036353144835545 0.8897864974033468\n",
      "30 [4963] 0.8845931909982689 0.8984420080784766 0.8920946335833814\n",
      "31 [9972] 0.8499711482977496 0.8984420080784766 0.8938257357184074\n",
      "32 [1235] 0.8413156376226197 0.9001731102135025 0.8903635314483554\n",
      "33 [2251] 0.8667051356030006 0.8995960761684939 0.8828620888632429\n",
      "34 [7357] 0.7888055395268321 0.8990190421234853 0.8834391229082516\n",
      "35 [583] 0.844200807847663 0.896133871898442 0.8817080207732256\n",
      "36 [2553] 0.8493941142527409 0.9007501442585113 0.8851702250432776\n",
      "37 [2658] 0.8222735141373341 0.9001731102135025 0.8857472590882862\n",
      "38 [455] 0.8084246970571264 0.9007501442585113 0.8805539526832084\n",
      "39 [8981] 0.8332371609924986 0.9070975187536064 0.8834391229082516\n",
      "40 [6607] 0.8447778418926717 0.897864974033468 0.8869013271783035\n",
      "41 [1096] 0.8245816503173687 0.8984420080784766 0.8886324293133295\n",
      "42 [3904] 0.8413156376226197 0.9019042123485286 0.8909405654933641\n",
      "43 [7467] 0.8147720715522215 0.8920946335833814 0.8915175995383727\n",
      "44 [7195] 0.8493941142527409 0.9013271783035199 0.8880553952683208\n",
      "45 [687] 0.845931909982689 0.9024812463935372 0.8949798038084247\n",
      "46 [6612] 0.8182342758222735 0.9001731102135025 0.8897864974033468\n",
      "47 [6946] 0.8049624927870744 0.9019042123485286 0.8851702250432776\n",
      "48 [7415] 0.7876514714368148 0.8984420080784766 0.8770917484131564\n",
      "49 [8910] 0.8147720715522215 0.9047893825735719 0.8788228505481823\n",
      "50 [7098] 0.8326601269474899 0.9013271783035199 0.8886324293133295\n",
      "51 [7039] 0.8620888632429313 0.9019042123485286 0.8828620888632429\n",
      "52 [9780] 0.8320830929024813 0.9070975187536064 0.8880553952683208\n",
      "53 [3248] 0.8695903058280439 0.9042123485285631 0.8822850548182343\n",
      "54 [7032] 0.8597807270628968 0.9042123485285631 0.8840161569532602\n",
      "55 [1774] 0.8407386035776111 0.9019042123485286 0.8788228505481823\n",
      "56 [9674] 0.7980380842469705 0.9007501442585113 0.877668782458165\n",
      "57 [6362] 0.8107328332371609 0.9007501442585113 0.875937680323139\n",
      "58 [8967] 0.8147720715522215 0.9013271783035199 0.8845931909982689\n",
      "59 [9077] 0.8742065781881131 0.8995960761684939 0.8713214079630698\n",
      "60 [2220] 0.8182342758222735 0.9030582804385459 0.8817080207732256\n",
      "61 [3156] 0.8678592036930178 0.8938257357184074 0.881130986728217\n",
      "62 [5640] 0.8407386035776111 0.8972879399884593 0.8788228505481823\n",
      "63 [8242] 0.8603577611079054 0.9001731102135025 0.8765147143681478\n",
      "64 [2218] 0.8407386035776111 0.8949798038084247 0.875937680323139\n",
      "65 [4319] 0.879399884593191 0.9047893825735719 0.8799769186381996\n",
      "66 [5798] 0.812463935372187 0.9030582804385459 0.881130986728217\n",
      "67 [8419] 0.8107328332371609 0.9065204847085978 0.8770917484131564\n",
      "68 [4873] 0.8343912290825158 0.9053664166185805 0.8770917484131564\n",
      "69 [8396] 0.8205424120023082 0.9013271783035199 0.8834391229082516\n",
      "70 [9755] 0.8632429313329486 0.897864974033468 0.8707443739180611\n",
      "71 [4313] 0.8545874206578188 0.9007501442585113 0.8736295441431045\n",
      "72 [4630] 0.8395845354875938 0.9007501442585113 0.8799769186381996\n",
      "73 [9956] 0.8251586843623774 0.8984420080784766 0.877668782458165\n",
      "74 [580] 0.8742065781881131 0.896133871898442 0.8851702250432776\n",
      "75 [3794] 0.8805539526832084 0.9013271783035199 0.8817080207732256\n",
      "76 [8910] 0.8390075014425851 0.9013271783035199 0.8892094633583382\n",
      "77 [7098] 0.8413156376226197 0.8972879399884593 0.8817080207732256\n",
      "78 [7039] 0.8511252163877668 0.8995960761684939 0.8851702250432776\n",
      "79 [9780] 0.8355452971725332 0.9030582804385459 0.8799769186381996\n",
      "80 [3248] 0.864396999422966 0.9036353144835545 0.8799769186381996\n",
      "81 [7032] 0.860934795152914 0.9053664166185805 0.8817080207732256\n",
      "82 [1774] 0.8586266589728794 0.8955568378534333 0.8869013271783035\n",
      "83 [9674] 0.8049624927870744 0.9001731102135025 0.8817080207732256\n",
      "84 [6362] 0.8251586843623774 0.896133871898442 0.8834391229082516\n",
      "85 [8967] 0.8147720715522215 0.8990190421234853 0.8840161569532602\n",
      "86 [9077] 0.877668782458165 0.897864974033468 0.8892094633583382\n",
      "87 [2220] 0.8268897864974033 0.8909405654933641 0.8684362377380266\n",
      "88 [3156] 0.877668782458165 0.9013271783035199 0.881130986728217\n",
      "89 [5640] 0.8430467397576457 0.894402769763416 0.879399884593191\n",
      "90 [8242] 0.8603577611079054 0.9001731102135025 0.8747836122331217\n",
      "91 [2218] 0.8499711482977496 0.8995960761684939 0.879399884593191\n",
      "92 [4319] 0.8857472590882862 0.9019042123485286 0.8840161569532602\n",
      "93 [5798] 0.8263127524523947 0.8984420080784766 0.8805539526832084\n",
      "94 [8419] 0.8309290248124639 0.8955568378534333 0.879399884593191\n",
      "95 [4873] 0.8580496249278707 0.8926716676283901 0.8799769186381996\n",
      "96 [8396] 0.8309290248124639 0.8972879399884593 0.8799769186381996\n",
      "97 [9755] 0.875937680323139 0.8990190421234853 0.877668782458165\n",
      "98 [4313] 0.8672821696480092 0.8932487016733988 0.881130986728217\n",
      "99 [4630] 0.8545874206578188 0.8932487016733988 0.8770917484131564\n"
     ]
    }
   ],
   "source": [
    "Runs = 100\n",
    "NN_comparison = np.zeros(Runs)\n",
    "NN_modemode = np.zeros(Runs)\n",
    "NN_median = np.zeros(Runs)\n",
    "\n",
    "for i in range(Runs):\n",
    "    s = np.random.choice(np.arange(10000).astype(\"int\"),1)\n",
    "    Test_Score = TestNN(s)\n",
    "    Mode_Score = ModeModeNN(s)\n",
    "    Median_Score = MedianNN(s)\n",
    "    print(i,s,Test_Score,Mode_Score, Median_Score)\n",
    "    NN_comparison[i] = Test_Score\n",
    "    NN_modemode[i] = Mode_Score\n",
    "    NN_median[i] = Median_Score\n"
   ],
   "metadata": {
    "collapsed": false,
    "pycharm": {
     "name": "#%%\n"
    }
   }
  },
  {
   "cell_type": "code",
   "execution_count": 35,
   "outputs": [
    {
     "data": {
      "text/plain": "(100, 100, 100)"
     },
     "execution_count": 35,
     "metadata": {},
     "output_type": "execute_result"
    }
   ],
   "source": [
    "len(NN_modemode), len(NN_comparison), len(NN_median)"
   ],
   "metadata": {
    "collapsed": false,
    "pycharm": {
     "name": "#%%\n"
    }
   }
  },
  {
   "cell_type": "code",
   "execution_count": 36,
   "outputs": [
    {
     "data": {
      "text/plain": "<Figure size 540x313.2 with 1 Axes>",
      "image/png": "[encoded data removed]"
     },
     "metadata": {},
     "output_type": "display_data"
    }
   ],
   "source": [
    "fig = plt.gcf()\n",
    "fig.set_size_inches(7.5,4.35)\n",
    "plt.hist(NN_comparison)\n",
    "plt.hist(NN_median, color=\"black\")\n",
    "plt.hist(NN_modemode, color=\"red\", bins=10)\n",
    "#plt.axvline(Accuracy_BestXAI, c=\"red\")\n",
    "#plt.axvline(Accuracy_BestMedianXAI,  c=\"black\")\n",
    "plt.xlabel(\"Accuracy of NN\",fontsize=14)\n",
    "plt.ylabel(\"Frequency\",fontsize=14)\n",
    "plt.title(\"Comparison: NN for Best XAI vs. Random Features\",\n",
    "          fontsize = 16)\n",
    "#plt.savefig(\"Comparison_RandomFeatures_vs_XAImode_100NNs\",dpi=600)\n",
    "plt.show()"
   ],
   "metadata": {
    "collapsed": false,
    "pycharm": {
     "name": "#%%\n"
    }
   }
  },
  {
   "cell_type": "code",
   "execution_count": 37,
   "outputs": [
    {
     "data": {
      "text/plain": "<Figure size 540x313.2 with 1 Axes>",
      "image/png": "[encoded data removed]"
     },
     "metadata": {},
     "output_type": "display_data"
    }
   ],
   "source": [
    "fig = plt.gcf()\n",
    "fig.set_size_inches(7.5,4.35)\n",
    "sns.kdeplot(NN_comparison, label =\"Random\", fill=True)\n",
    "sns.kdeplot(NN_median, color = \"black\", label=\"Median\",fill=True)\n",
    "sns.kdeplot(NN_modemode, color = \"red\", label=\"Mode-Mode\",fill=True)\n",
    "plt.legend(loc=\"upper left\")\n",
    "plt.xlabel(\"Accuracy of NN\",fontsize=14)\n",
    "plt.ylabel(\"Frequency\",fontsize=14)\n",
    "plt.title(\"Comparison: NN for Best XAI vs. Random Features\",\n",
    "          fontsize = 16)\n",
    "plt.savefig(\"Comparison_100NNs_kde.pdf\",dpi=600)\n",
    "plt.show()"
   ],
   "metadata": {
    "collapsed": false,
    "pycharm": {
     "name": "#%%\n"
    }
   }
  },
  {
   "cell_type": "code",
   "execution_count": 59,
   "outputs": [
    {
     "name": "stdout",
     "output_type": "stream",
     "text": [
      "0.8840103866128101 0.005750395420629598 0.8897607820334397\n",
      "0.8994171956145413 0.003909970937086996 0.8955072246774542\n",
      "0.8469417195614541 0.8703189882384117\n"
     ]
    }
   ],
   "source": [
    "print(np.mean(NN_median), np.std(NN_median),np.mean(NN_median)+ np.std(NN_median) )\n",
    "print(np.mean(NN_modemode), np.std(NN_modemode),np.mean(NN_modemode)- np.std(NN_modemode) )\n",
    "print(np.mean(NN_comparison),np.mean(NN_comparison) + np.std(NN_comparison) )\n"
   ],
   "metadata": {
    "collapsed": false,
    "pycharm": {
     "name": "#%%\n"
    }
   }
  },
  {
   "cell_type": "code",
   "execution_count": 38,
   "outputs": [],
   "source": [],
   "metadata": {
    "collapsed": false,
    "pycharm": {
     "name": "#%%\n"
    }
   }
  },
  {
   "cell_type": "code",
   "execution_count": 38,
   "outputs": [],
   "source": [],
   "metadata": {
    "collapsed": false,
    "pycharm": {
     "name": "#%%\n"
    }
   }
  },
  {
   "cell_type": "code",
   "execution_count": 39,
   "outputs": [
    {
     "name": "stdout",
     "output_type": "stream",
     "text": [
      "Model: \"sequential_2\"\n",
      "_________________________________________________________________\n",
      " Layer (type)                Output Shape              Param #   \n",
      "=================================================================\n",
      " dense_12 (Dense)            (None, 256)               2304      \n",
      "                                                                 \n",
      " dense_13 (Dense)            (None, 128)               32896     \n",
      "                                                                 \n",
      " dense_14 (Dense)            (None, 128)               16512     \n",
      "                                                                 \n",
      " dense_15 (Dense)            (None, 1024)              132096    \n",
      "                                                                 \n",
      " dense_16 (Dense)            (None, 128)               131200    \n",
      "                                                                 \n",
      " dropout_2 (Dropout)         (None, 128)               0         \n",
      "                                                                 \n",
      " dense_17 (Dense)            (None, 8)                 1032      \n",
      "                                                                 \n",
      "=================================================================\n",
      "Total params: 316,040\n",
      "Trainable params: 316,040\n",
      "Non-trainable params: 0\n",
      "_________________________________________________________________\n"
     ]
    }
   ],
   "source": [
    "model.summary()"
   ],
   "metadata": {
    "collapsed": false,
    "pycharm": {
     "name": "#%%\n"
    }
   }
  },
  {
   "cell_type": "markdown",
   "source": [
    "### Additional Benchmark\n",
    "Compare it to a NN that only selects features that DO NOT belong to the top eight mode-mode features."
   ],
   "metadata": {
    "collapsed": false,
    "pycharm": {
     "name": "#%% md\n"
    }
   }
  },
  {
   "cell_type": "code",
   "execution_count": 51,
   "outputs": [
    {
     "name": "stdout",
     "output_type": "stream",
     "text": [
      "[ 2  3  4  5  6  7  9 10 11 13 14 15 16 17 18 19 20 22 23 24 25 26 28 29\n",
      " 30 31 32 33 34 37 38 39 40 41 42 43 44]\n"
     ]
    },
    {
     "data": {
      "text/plain": "37"
     },
     "execution_count": 51,
     "metadata": {},
     "output_type": "execute_result"
    }
   ],
   "source": [
    "\n",
    "LeftoverFeatures = set(range(XAI.shape[1])) - set(OptimalXAI[:,1])\n",
    "LeftoverFeatures = np.array(list(LeftoverFeatures)).astype(\"int\")\n",
    "print(LeftoverFeatures)\n",
    "len(LeftoverFeatures)"
   ],
   "metadata": {
    "collapsed": false,
    "pycharm": {
     "name": "#%%\n"
    }
   }
  },
  {
   "cell_type": "code",
   "execution_count": 52,
   "outputs": [],
   "source": [
    "def TestNN_Bad(seed = 1234):\n",
    "    np.random.seed(seed)\n",
    "    Index = np.random.choice(LeftoverFeatures, # features to compare optimal XAI to\n",
    "                     size = len(list(set(OptimalXAI[:,1]))),\n",
    "                     replace = False)\n",
    "    CM_Reduced = CorrMatrices[:,Index]\n",
    "    X_train, X_test, y_train, y_test = train_test_split(CM_Reduced, encoded_Y,\n",
    "                                                    test_size=0.33, random_state=1)\n",
    "    model.fit(X_train, y_train,\n",
    "          batch_size=batch_size,\n",
    "          epochs=epochs,\n",
    "          validation_split=0.5,\n",
    "          verbose=0)\n",
    "    y_hat = np.argmax(model.predict(X_test),1)\n",
    "    return(np.mean(y_hat == np.argmax(y_test,1)))"
   ],
   "metadata": {
    "collapsed": false,
    "pycharm": {
     "name": "#%%\n"
    }
   }
  },
  {
   "cell_type": "code",
   "execution_count": 55,
   "outputs": [
    {
     "name": "stdout",
     "output_type": "stream",
     "text": [
      "0 0.8003462204270052\n",
      "1 0.8251586843623774\n",
      "2 0.8499711482977496\n",
      "3 0.8540103866128101\n",
      "4 0.812463935372187\n",
      "5 0.8020773225620311\n",
      "6 0.7997691863819966\n",
      "7 0.8349682631275245\n",
      "8 0.8430467397576457\n",
      "9 0.8130409694171956\n",
      "10 0.8141950375072129\n",
      "11 0.809001731102135\n",
      "12 0.8372763993075591\n",
      "13 0.7841892671667628\n",
      "14 0.795729948066936\n",
      "15 0.7888055395268321\n",
      "16 0.8107328332371609\n",
      "17 0.7663012117714946\n",
      "18 0.8280438545874207\n",
      "19 0.8320830929024813\n",
      "20 0.8211194460473168\n",
      "21 0.760530871321408\n",
      "22 0.7997691863819966\n",
      "23 0.8038084246970572\n",
      "24 0.8049624927870744\n",
      "25 0.8020773225620311\n",
      "26 0.827466820542412\n",
      "27 0.7628390075014426\n",
      "28 0.790536641661858\n",
      "29 0.8361223312175419\n",
      "30 0.8066935949221004\n",
      "31 0.8401615695326025\n",
      "32 0.8332371609924986\n",
      "33 0.7443739180611656\n",
      "34 0.8182342758222735\n",
      "35 0.7657241777264858\n",
      "36 0.7224466243508367\n",
      "37 0.7888055395268321\n",
      "38 0.7720715522215811\n",
      "39 0.7316791690709752\n",
      "40 0.7541834968263128\n",
      "41 0.7801500288517023\n",
      "42 0.8153491055972303\n",
      "43 0.7593768032313907\n",
      "44 0.8188113098672821\n",
      "45 0.7518753606462781\n",
      "46 0.7732256203115984\n",
      "47 0.7749567224466244\n",
      "48 0.7576457010963646\n",
      "49 0.812463935372187\n",
      "50 0.7726485862665897\n",
      "51 0.773802654356607\n",
      "52 0.7611079053664166\n",
      "53 0.7766878245816503\n",
      "54 0.8205424120023082\n",
      "55 0.8216964800923254\n",
      "56 0.7282169648009232\n",
      "57 0.7859203693017888\n",
      "58 0.7876514714368148\n",
      "59 0.8141950375072129\n",
      "60 0.7882285054818234\n",
      "61 0.8049624927870744\n",
      "62 0.7818811309867282\n",
      "63 0.7639930755914599\n",
      "64 0.7963069821119446\n",
      "65 0.7853433352567801\n",
      "66 0.7559145989613387\n",
      "67 0.7322562031159838\n",
      "68 0.79399884593191\n",
      "69 0.8095787651471437\n",
      "70 0.7466820542412003\n",
      "71 0.8043854587420658\n",
      "72 0.7807270628967109\n",
      "73 0.7807270628967109\n",
      "74 0.8286208886324293\n",
      "75 0.8015002885170225\n",
      "76 0.7339873052510099\n",
      "77 0.7299480669359493\n",
      "78 0.757068667051356\n",
      "79 0.7611079053664166\n",
      "80 0.757068667051356\n",
      "81 0.8234275822273515\n",
      "82 0.6762839007501442\n",
      "83 0.7680323139065205\n",
      "84 0.7576457010963646\n",
      "85 0.7299480669359493\n",
      "86 0.758799769186382\n",
      "87 0.777264858626659\n",
      "88 0.7495672244662435\n",
      "89 0.773802654356607\n",
      "90 0.7778418926716676\n",
      "91 0.7841892671667628\n",
      "92 0.7432198499711483\n",
      "93 0.7276399307559146\n",
      "94 0.7766878245816503\n",
      "95 0.7963069821119446\n",
      "96 0.7691863819965378\n",
      "97 0.8361223312175419\n",
      "98 0.7553375649163301\n",
      "99 0.7968840161569533\n"
     ]
    }
   ],
   "source": [
    "NN_Leftovers = np.zeros(Runs)\n",
    "\n",
    "for i in range(Runs):\n",
    "    s = np.random.choice(np.arange(10000).astype(\"int\"),1)\n",
    "    Leftover_Score = TestNN_Bad(s)\n",
    "    NN_Leftovers[i] = Leftover_Score\n",
    "    print(i, Leftover_Score)"
   ],
   "metadata": {
    "collapsed": false,
    "pycharm": {
     "name": "#%%\n"
    }
   }
  },
  {
   "cell_type": "code",
   "execution_count": 58,
   "outputs": [
    {
     "data": {
      "text/plain": "0.7864685516445471"
     },
     "execution_count": 58,
     "metadata": {},
     "output_type": "execute_result"
    }
   ],
   "source": [
    "np.mean(NN_Leftovers)"
   ],
   "metadata": {
    "collapsed": false,
    "pycharm": {
     "name": "#%%\n"
    }
   }
  },
  {
   "cell_type": "code",
   "execution_count": 62,
   "outputs": [
    {
     "data": {
      "text/plain": "<Figure size 540x313.2 with 1 Axes>",
      "image/png": "[encoded data removed]"
     },
     "metadata": {},
     "output_type": "display_data"
    }
   ],
   "source": [
    "fig = plt.gcf()\n",
    "fig.set_size_inches(7.5,4.35)\n",
    "sns.kdeplot(NN_Leftovers, label =\"Random\", fill=True)\n",
    "sns.kdeplot(NN_median, color = \"black\", label=\"Median\",fill=True)\n",
    "sns.kdeplot(NN_modemode, color = \"red\", label=\"Mode-Mode\",fill=True)\n",
    "#sns.kdeplot(NN_Leftovers, color = \"green\", label = \"Only Suboptimal\", fill = True)\n",
    "plt.legend(loc=\"upper left\")\n",
    "plt.xlabel(\"Accuracy of NN\",fontsize=14)\n",
    "plt.ylabel(\"Frequency\",fontsize=14)\n",
    "plt.title(\"Comparison: NN for Best XAI vs. Random Features\",\n",
    "          fontsize = 16)\n",
    "plt.savefig(\"Comparison_100NNs_kde_withLeftovers.pdf\",dpi=600)\n",
    "plt.show()"
   ],
   "metadata": {
    "collapsed": false,
    "pycharm": {
     "name": "#%%\n"
    }
   }
  }
 ],
 "metadata": {
  "kernelspec": {
   "display_name": "Python 3",
   "language": "python",
   "name": "python3"
  },
  "language_info": {
   "codemirror_mode": {
    "name": "ipython",
    "version": 2
   },
   "file_extension": ".py",
   "mimetype": "text/x-python",
   "name": "python",
   "nbconvert_exporter": "python",
   "pygments_lexer": "ipython2",
   "version": "2.7.6"
  }
 },
 "nbformat": 4,
 "nbformat_minor": 0
}