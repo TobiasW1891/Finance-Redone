{
 "cells": [
  {
   "cell_type": "code",
   "execution_count": 29,
   "metadata": {
    "collapsed": true
   },
   "outputs": [],
   "source": [
    "import numpy as np\n",
    "import matplotlib\n",
    "# matplotlib.use('Agg')\n",
    "import matplotlib.pylab as plt\n",
    "from matplotlib.animation import FuncAnimation\n",
    "from scipy.special import binom\n",
    "import scipy.integrate as cit\n",
    "from itertools import combinations\n",
    "import pandas as pd\n",
    "import seaborn as sns\n",
    "from scipy import stats\n",
    "sns.set()\n"
   ]
  },
  {
   "cell_type": "code",
   "execution_count": 30,
   "outputs": [
    {
     "name": "stdout",
     "output_type": "stream",
     "text": [
      "(5290, 1)\n",
      "1550\n"
     ]
    },
    {
     "data": {
      "text/plain": "[<matplotlib.lines.Line2D at 0x7f62cec1cc70>]"
     },
     "execution_count": 30,
     "metadata": {},
     "output_type": "execute_result"
    },
    {
     "data": {
      "text/plain": "<Figure size 432x288 with 1 Axes>",
      "image/png": "[encoded data removed]"
     },
     "metadata": {},
     "output_type": "display_data"
    }
   ],
   "source": [
    "DF = pd.read_csv(\"TimeSeries_1D_Correlations.csv\", index_col =0)\n",
    "print(DF.shape)\n",
    "\n",
    "# Only regard last part of the data\n",
    "# disregard very last data (len(Data) =5290 and not 5250 because I believe there are some boundary effects on the 1d-TS\n",
    "DF = DF.iloc[3700:5250]\n",
    "Dates = pd.to_datetime(DF.index,format =\"%Y-%m-%d\")\n",
    "\n",
    "data = DF[\"Correlation\"].to_numpy()\n",
    "print(len(data))\n",
    "plt.plot(Dates,data)"
   ],
   "metadata": {
    "collapsed": false,
    "pycharm": {
     "name": "#%%\n"
    }
   }
  },
  {
   "cell_type": "code",
   "execution_count": 31,
   "outputs": [],
   "source": [
    "\n",
    "#lokale Definition der Klasse\n",
    "class CPSegmentFit:\n",
    "\t'''\n",
    "\tThe `CP_segment_fit` class contains tools to perform a Bayesian segmential fit under the assumption\n",
    "\tof a certain number of change points.\n",
    "\n",
    "\t:param x_data: Given data on the x-axis. Saved in attribute `x`.\n",
    "\t:type x_data: One-dimensional numpy array of floats.\n",
    "\t:param y_data: Given data on the y-axis. Saved in attribute `y`.\n",
    "\t:type y_data: One-dimensional numpy array of floats.\n",
    "\t:param number_expected_changepoints: Number of expected change points in the fit.\n",
    "\t:type number_expected_changepoints: int\n",
    "\t:param num_MC_cp_samples: Maximum number of MC summands that shall be incorporated in order to\n",
    "\t\textrapolate the fit. Saved in attribute `n_MC_samples`.\n",
    "\n",
    "\t:type num_MC_cp_samples: int\n",
    "\t:param n_MC_samples: Attribute contains the number of MC summands of the performed extraplation\n",
    "\t\tof the fit. It is exact, whenever the number of possible change point\n",
    "\t\tconfigurations is smaller than `num_MC_cp_samples`.\n",
    "\n",
    "\t:type n_MC_samples: int\n",
    "\t:param cp_prior_pdf: Attribute that contains the flat prior probability of the considered change point\n",
    "\t\tconfigurations.\n",
    "\n",
    "\t:type cp_prior_pdf: One-dimensional numpy array of floats.\n",
    "\t:param num_cp_configs: Attribute of the number of possible change point configurations.\n",
    "\t:type num_cp_configs: int\n",
    "\t:param exact_sum_control: If this attribute is `True` then the exact sum over all possible change\n",
    "\t\tpoint configurations will be computed in order to extrapolate the fit.\n",
    "\t\tIf it is `False`, the given maximum number ``num_MC_cp_samples`` of summands is\n",
    "\t\tsmaller than the number of all possible change point configurations and the sum\n",
    "\t\tis performed as an approximative sum over `num_MC_cp_samples` randomly chosen\n",
    "\t\tchange point configurations.\n",
    "\t:type exact_sum_control: Boolean\n",
    "\t:type num_MC_cp_samples: int\n",
    "\t:param predict_up_to: Defines the x-horizon of the extrapolation of the fit. Default is `None`,\n",
    "\t\tsince it depends on the time scale of the given problem. It is saved in the\n",
    "\t\tattribute `prediction_horizon`.\n",
    "\n",
    "\t:type predict_up_to: float\n",
    "\t:param d: Attribute that contains the given `y_data`.\n",
    "\t:type d: One-dimensional numpy array of floats.\n",
    "\t:param x: Attribute that contains the given `x_data`.\n",
    "\t:type x: One-dimensional numpy array of floats.\n",
    "\t:param A_matrix: Attribute that contains the coefficients of the linear segments for the considered\n",
    "\t\tchange point configurations.\n",
    "\n",
    "\t:type A_matrix: Three-dimensional (`num_MC_cp_samples`, `x_data.size`, `number_expected_changepoints` + 2)\n",
    "\t\tnumpy array of floats.\n",
    "\n",
    "\t:param A_dim: Contains the dimensions of the `A_matrix`.\n",
    "\t:type A_dim: One-dimensional numpy array.\n",
    "\t:param N: Attribute that contains the data size of the input `x_data` and `y_data`.\n",
    "\t:type N: int\n",
    "\t:param n_cp: Attribute that contains the `number_expected_changepoints`.\n",
    "\t:type n_cp: int\n",
    "\t:param MC_cp_configurations: Attribute that contains all possible change point configurations under the given assumptions and amount of data.\n",
    "\t:type MC_cp_configurations: Two-dimensional (`num_MC_cp_samples`, `number_expected_changepoints + 2`)\n",
    "\t\tnumpy array of floats.\n",
    "\n",
    "\t:param f0: Attribute that defines a matrix of mean design ordinates. Each row corresponds to a vector\n",
    "\t\tof a specific configuration of change point positions.\n",
    "\n",
    "\t:type f0: Two-dimensional (num_MC_cp_samples, number_expected_changepoints + 2) numpy array of floats.\n",
    "\t:param x_start: Attribute contains the start value of `x_data` / `x`.\n",
    "\t:type x_start: float\n",
    "\t:param x_end: Attribute contains the end value of `x_data` / `x`.\n",
    "\t:type x_end: float\n",
    "\t:param prediction_horizon: Attribute in which the upper limit of the extrapolation x-horizon is saved.\n",
    "\t:type prediction_horizon: float\n",
    "\t:param Q_matrix: Attribute that contains the matrices :math:`Q=A^{T}A` of the considered change point\n",
    "\t\tconfigurations.\n",
    "\n",
    "\t:type Q_matrix: Three-dimensional (`num_MC_cp_samples`, `number_expected_changepoints + 2`,\n",
    "\t\t`number_expected_changepoints + 2`) numpy array of floats\n",
    "\n",
    "\t:param Q_inverse: Attribute that contains the inverse Q_matrices of each considered change point\n",
    "\t\tconfiguration.\n",
    "\n",
    "\t:type Q_inverse: Three-dimensional (`num_MC_cp_samples`, `number_expected_changepoints + 2`,\n",
    "\t\t`number_expected_changepoints + 2`) numpy array of floats.\n",
    "\n",
    "\t:param Res_E: Attribute contains the residues :math:`R(E)=d^T d - \\\\sum_k (u_k^Td)^2` of each possible change point configuration :math:`E`.\n",
    "\t:type Res_E: One-dimensional (`num_MC_cp_samples`) numpy array.\n",
    "\t:param marginal_likelihood_pdf:\n",
    "\t:type marginal_likelihood_pdf: One-dimensional (`num_MC_cp_samples`) numpy array.\n",
    "\t:param marginal_log_likelihood:\n",
    "\t:type marginal_log_likelihood: One-dimensional (`num_MC_cp_samples`) numpy array.\n",
    "\t:param marginal_cp_pdf:\n",
    "\t:type marginal_cp_pdf: One-dimensional (`num_MC_cp_samples`) numpy array.\n",
    "\t:param prob_cp:\n",
    "\t:type prob_cp: One-dimensional (`num_MC_cp_samples`) numpy array.\n",
    "\t:param D_array: Attribute that contains the fitted values in the interval from the beginning of the time series\n",
    "\t\tup to ``prediction_horizon``.\n",
    "\t:type D_array: One-dimensional numpy array of floats.\n",
    "\t:param DELTA_D2_array: Attributes that contains the variances of the fitted values in ``D_array``.\n",
    "\t:type DELTA_D2_array: One-dimensional numpy array of floats.\n",
    "\t:param transition_time: Attribute which contains the time at which the extrapolated function crosses zero.\n",
    "\t:type transition_time: float\n",
    "\t:param upper_uncertainty_bound: Attribute which contains the time at which the upper uncertainty\n",
    "\t\tboundary crosses zero.\n",
    "\t:type upper_uncertainty_bound: float\n",
    "\t:param lower_uncertainty_bound: Attribute which contains the time at which the lower uncertainty\n",
    "\t\tboundary crosses zero.\n",
    "\t:type lower_uncertainty_bound: float\n",
    "\t'''\n",
    "\tdef __init__(self, x_data, y_data, number_expected_changepoints, num_MC_cp_samples, predict_up_to = None, z_array_size = 100):\n",
    "\t\tif x_data.shape == y_data.shape and number_expected_changepoints > 0:\n",
    "\t\t\t# If the number of possible change point configurations is bigger than the proposed\n",
    "\t\t\t# num_MC_cp_samples, the exact sum is not calculated, but a MC approximation with\n",
    "\t\t\t# num_MC_cp_samples random configurations is computed.\n",
    "\t\t\tif binom(x_data.size - 2, number_expected_changepoints) > num_MC_cp_samples:\n",
    "\t\t\t\tself.n_MC_samples = num_MC_cp_samples\n",
    "\t\t\t\tself.cp_prior_pdf = np.ones(num_MC_cp_samples) / num_MC_cp_samples\n",
    "\t\t\t\tself.exact_sum_control = False\n",
    "\t\t\telse:\n",
    "\t\t\t\tself.n_MC_samples = int(binom(x_data.size - 2, number_expected_changepoints))\n",
    "\t\t\t\tself.exact_sum_control = True\n",
    "\t\t\t\tprint('number of MC cp samples before exact correction: ', num_MC_cp_samples)\n",
    "\t\t\t\tnum_MC_cp_samples = int(binom(x_data.size - 2, number_expected_changepoints))\n",
    "\t\t\t\tself.cp_prior_pdf = np.ones(num_MC_cp_samples) / binom(x_data.size - 2, number_expected_changepoints)\n",
    "\t\t\t\tprint('number of MC cp samples: ', num_MC_cp_samples)\n",
    "\t\t\tself.num_of_cp_configs = int(binom(x_data.size - 2, number_expected_changepoints))\n",
    "\t\t\tself.d = y_data\n",
    "\t\t\tself.A_matrix = np.zeros((num_MC_cp_samples, x_data.size, number_expected_changepoints + 2))\n",
    "\t\t\tself.A_dim = np.array([num_MC_cp_samples, x_data.size, number_expected_changepoints + 2])\n",
    "\t\t\tself.x = x_data\n",
    "\t\t\tself.N = x_data.size\n",
    "\t\t\tself.n_cp = number_expected_changepoints\n",
    "\t\t\tself.MC_cp_configurations = np.zeros((num_MC_cp_samples, number_expected_changepoints + 2))\n",
    "\t\t\tself.f0 = np.zeros((num_MC_cp_samples, number_expected_changepoints + 2))\n",
    "\t\t\tself.x_start = x_data[0]\n",
    "\t\t\tself.x_end = x_data[-1]\n",
    "\t\t\tself.prediction_horizon = predict_up_to\n",
    "\t\t\tself.Q_matrix = np.zeros((num_MC_cp_samples, number_expected_changepoints + 2,number_expected_changepoints + 2))\n",
    "\t\t\tself.Q_inverse = np.zeros((num_MC_cp_samples, number_expected_changepoints + 2, number_expected_changepoints + 2))\n",
    "\t\t\tself.Res_E = np.zeros(num_MC_cp_samples)\n",
    "\t\t\tself.marginal_likelihood_pdf = np.zeros(num_MC_cp_samples)\n",
    "\t\t\tself.marginal_log_likelihood = np.zeros(num_MC_cp_samples)\n",
    "\t\t\tself.marginal_cp_pdf = np.zeros(num_MC_cp_samples)\n",
    "\t\t\tself.prob_cp = np.zeros(num_MC_cp_samples)\n",
    "\t\t\tif predict_up_to != None:\n",
    "\t\t\t\tself.z_array = np.linspace(x_data[0],predict_up_to, z_array_size)\n",
    "\t\t\telse:\n",
    "\t\t\t\tself.z_array = np.linspace(x_data[0],x_data[-1], z_array_size)\n",
    "\t\t\tself.D_array = None\n",
    "\t\t\tself.DELTA_D2_array = None\n",
    "\t\t\tself.transition_time = None\n",
    "\t\t\tself.upper_uncertainty_bound = None\n",
    "\t\t\tself.lower_uncertainty_bound = None\n",
    "\t\t\tself.check_Z = False\n",
    "\t\telif number_expected_changepoints > 0 and x_data.shape != y_data.shape:\n",
    "\t\t\tprint('ERROR: The x and y input data do not have the same shape.')\n",
    "\t\telif  x_data.shape == y_data.shape and number_expected_changepoints <= 0:\n",
    "\t\t\tprint('ERROR: The number of number_expected_changepoints <= 0.')\n",
    "\t\telse:\n",
    "\t\t\tprint('ERROR: The number of number_expected_changepoints <= 0 and the input x and y do not have the same shape.')\n",
    "\n",
    "\n",
    "\tdef initialize_MC_cp_configurations(self, print_sum_control = False):\n",
    "\t\t'''\n",
    "\t\tDefines the array `MC_cp_configurations` of all possible change point configurations including start\n",
    "\t\tand end `x` if the exact sum is computed. Otherwise it creates an approximate set of random change\n",
    "\t\tpoint configurations based on the cited literature.\n",
    "\n",
    "\t\t:param print_sum_control: If `print_sum_control = True` it prints whether the exact\n",
    "\t\t\tor the approximate MC sum is computed. Default is `False`.\n",
    "\n",
    "\t\t:type print_sum_control: Boolean\n",
    "\n",
    "\t\t'''\n",
    "\t\tif self.exact_sum_control:\n",
    "\t\t\tif print_sum_control:\n",
    "\t\t\t\tprint('Less configurations than MC sample proposal. Compute exact sum!')\n",
    "\t\t\tpossible_configs_list = list(combinations(self.x[1:-1], self.n_cp))\n",
    "\t\t\tpossible_configs = np.array(possible_configs_list)\n",
    "\t\t\t# print('Possible configs: ', possible_configs)\n",
    "\t\t\t# print('Possible configs shape: ', possible_configs.shape)\n",
    "\t\t\tstart_value_dummy = np.ones((possible_configs.shape[0], 1)) * self.x[0]\n",
    "\t\t\tif self.prediction_horizon == None:\n",
    "\t\t\t\tend_value_dummy = np.ones((possible_configs.shape[0], 1)) * self.x[-1]\n",
    "\t\t\telif self.prediction_horizon > 0:\n",
    "\t\t\t\tend_value_dummy = np.ones((possible_configs.shape[0], 1)) * self.prediction_horizon\n",
    "\t\t\tcomposition_dummy = np.append(start_value_dummy, np.append(possible_configs, end_value_dummy, axis = 1), axis = 1)\n",
    "\t\t\t# print('composition_dummy: ', composition_dummy)\n",
    "\t\t\t# print('composition_dummy shape: ', composition_dummy.shape)\n",
    "\t\t\tself.MC_cp_configurations = composition_dummy\n",
    "\t\telif self.exact_sum_control == False:\n",
    "\t\t\tif print_sum_control:\n",
    "\t\t\t\tprint('More configurations than MC sample proposal. Compute approximate MC sum!')\n",
    "\t\t\tsupport_x = np.zeros((self.n_MC_samples, self.n_cp + 2))\n",
    "\t\t\tsupport_x[:,1:] = - np.log(1 - np.random.uniform(low = 0.0001, high = 1.0, size = (self.n_MC_samples, self.n_cp + 1)))\n",
    "\t\t\tsupport_y = np.zeros((self.n_MC_samples, self.n_cp + 2))\n",
    "\t\t\tz_cp_config = np.zeros((self.n_MC_samples, self.n_cp + 2))\n",
    "\t\t\tfor k in range(self.n_cp + 2):\n",
    "\t\t\t\tsupport_y[:,k] = support_x[:,k] / (np.sum(support_x, axis = 1))\n",
    "\t\t\tfor k in range(self.n_cp + 2):\n",
    "\t\t\t\tz_cp_config[:,k] = np.sum(support_y[:,:k + 1], axis = 1)\n",
    "\t\t\tz_cp_config[:,0] = self.x[0]\n",
    "\t\t\tif self.prediction_horizon == None:\n",
    "\t\t\t\tz_cp_config[:,-1] = self.x[-1]\n",
    "\t\t\telif self.prediction_horizon > 0:\n",
    "\t\t\t\tz_cp_config[:,-1] = self.prediction_horizon\n",
    "\t\t\tz_cp_config[:,1:-1] = self.x[0] + z_cp_config[:,1:-1] * (self.x[-1] - self.x[0])\n",
    "\t\t\tself.MC_cp_configurations = z_cp_config\n",
    "\n",
    "\tdef initialize_A_matrices(self):\n",
    "\t\t'''\n",
    "\t\tCreates the A_matrices of the MC summands which correspond to possible change point configurations.\n",
    "\n",
    "\t\t'''\n",
    "\t\tfor m in range(self.n_MC_samples):\n",
    "\t\t\tfor k in range(self.n_cp + 1):\n",
    "\t\t\t\tfor i in range(self.A_dim[1]):\n",
    "\t\t\t\t\tif self.MC_cp_configurations[m,k] <= self.x[i] <= self.MC_cp_configurations[m,k + 1]:\n",
    "\t\t\t\t\t\tself.A_matrix[m,i,k:k+2] = [(self.MC_cp_configurations[m,k+1] - self.x[i]) / (self.MC_cp_configurations[m,k+1] - self.MC_cp_configurations[m,k]), (self.x[i] - self.MC_cp_configurations[m,k]) / (self.MC_cp_configurations[m,k+1] - self.MC_cp_configurations[m,k])]\n",
    "\n",
    "\n",
    "\tdef Q_matrix_and_inverse_Q(self):\n",
    "\t\t'''\n",
    "\t\tComputes the Q_matrices and the inverse of them for each MC summand which corresponds to a possible\n",
    "\t\tchange point configuration.\n",
    "\t\t'''\n",
    "\t\tfor m in range(self.n_MC_samples):\n",
    "\t\t\tself.Q_matrix[m,:,:] = np.dot(np.transpose(self.A_matrix[m,:,:]), self.A_matrix[m,:,:])\n",
    "\t\t\tself.Q_inverse[m,:,:] = np.linalg.inv(self.Q_matrix[m,:,:])\n",
    "\n",
    "\tdef calculate_f0(self):\n",
    "\t\t'''\n",
    "\t\tCalculates `f0` as the mean :math:`f_0` of the normal distribution that characterizes the\n",
    "\t\tprobability density function of the ordinate vectors :math:`f`.\n",
    "\n",
    "\t\t'''\n",
    "\t\tfor m in range(self.n_MC_samples):\n",
    "\t\t\tself.f0[m,:] = np.linalg.multi_dot([self.Q_inverse[m,:,:], np.transpose(self.A_matrix[m,:,:]), self.d])\n",
    "\n",
    "\n",
    "\tdef calculate_residue(self):\n",
    "\t\t'''\n",
    "\t\tComputes `Res_E` the residue :math:`R(E)` of each MC summand.\n",
    "\n",
    "\t\t'''\n",
    "\t\tfor m in range(self.n_MC_samples):\n",
    "\t\t\tu, s, vh = np.linalg.svd(self.A_matrix[m,:,:], full_matrices = False)\n",
    "\t\t\tsummand_matrices_uTd = np.zeros(u.shape[1])\n",
    "\t\t\tfor j in range(u.shape[1]):\n",
    "\t\t\t\tsummand_matrices_uTd[j] = np.dot(np.transpose(u[:,j]), self.d)**2\n",
    "\t\t\tresult_sum_uTd = np.sum(summand_matrices_uTd)\n",
    "\t\t\tself.Res_E[m] = np.dot(np.transpose(self.d), self.d) - result_sum_uTd\n",
    "\n",
    "\tdef calculate_marginal_likelihood(self):\n",
    "\t\t'''\n",
    "\t\tComputes the `marginal_log_likelihood` as :math:`1/Z (R(E))^{(N-3)/2}` and\n",
    "\t\tthe corresponding `marginal_likelihood` of each considered change point configuration.\n",
    "\t\t'''\n",
    "\n",
    "\t\tfor m in range(self.n_MC_samples):\n",
    "\t\t\tself.marginal_log_likelihood[m] =  np.log(self.Res_E[m]) * (-(self.d.size - 3) / 2.)\n",
    "\t\t\tself.marginal_likelihood_pdf[m] = self.Res_E[m]**(-(self.d.size - 3) / 2.)\n",
    "\n",
    "\tdef calculate_marginal_cp_pdf(self):\n",
    "\t\t'''\n",
    "\t\tCalculates the marginal posterior `marginal_cp_pdf` of each possible configuration of\n",
    "\t\tchange point positions and normalizes the resulting probability density function.\n",
    "\t\tTherefore, the normalization constant is determined by integration of the resulting pdf\n",
    "\t\tvia the simpson rule.\n",
    "\n",
    "\t\t'''\n",
    "\t\tmarginal_cp_log_pdf = self.marginal_log_likelihood[:] # + np.log(self.cp_prior_pdf[:])\n",
    "\t\t#print(marginal_cp_log_pdf)\n",
    "\t\tmarginal_cp_pdf = np.exp(marginal_cp_log_pdf)\n",
    "\t\t#print(marginal_cp_pdf)\n",
    "\t\tnormalizing_Z_factor = cit.simps(marginal_cp_pdf, np.linspace(self.x_start, self.x_end, marginal_cp_pdf.size, endpoint = True))\n",
    "\t\t#xrange = np.linspace(self.x_start, self.x_end, marginal_cp_pdf.size, endpoint = True)\n",
    "\t\t#normalizing_Z_factor = np.sum(marginal_cp_pdf) *( xrange[1] - xrange[0] )\n",
    "\t\tprint(normalizing_Z_factor, np.mean(marginal_cp_pdf))\n",
    "\t\t# Fange Fehler \"division by zero\" ab.\n",
    "\t\tif normalizing_Z_factor < 10**(-200):\n",
    "\t\t\tself.check_Z = True\n",
    "\t\t\tnormalizing_Z_factor = 1.\n",
    "\t\tself.marginal_cp_pdf = 1. / normalizing_Z_factor * marginal_cp_pdf\n",
    "\n",
    "\tdef calculate_prob_cp(self):\n",
    "\t\t'''\n",
    "\t\tCalculates the probability `prob_cp` of each configuration of change point positions.\n",
    "\n",
    "\t\t'''\n",
    "\n",
    "\t\tconfig_x_array = np.linspace(self.x[0],self.x[-1],self.marginal_cp_pdf.size)\n",
    "\t\tfor m in range(self.n_MC_samples-1):\n",
    "\t\t\tintegration_dummy = cit.simps(self.marginal_cp_pdf[m:m+2], config_x_array[m:m+2])\n",
    "\t\t\t#integration_dummy = np.sum(self.marginal_cp_pdf[m:m+3])*(config_x_array[1]-config_x_array[0])\n",
    "\t\t\t# Fange evtl. nans aus dem Integral ab. Ich glaube aber, das ergibt sich nicht.\n",
    "\t\t\tif integration_dummy != 0:\n",
    "\t\t\t\tself.prob_cp[m] = integration_dummy\n",
    "\t\t\telse: self.prob_cp[m] = 0\n",
    "\n",
    "\tdef predict_D_at_z(self, z):\n",
    "\t\t'''\n",
    "\n",
    "\t\t:param z: The x-data for which an extrapolated value `D` with variance `DELTA_D2` shall be calculated.\n",
    "\t\t:type z: float\n",
    "\t\t:return: The extrapolated y-data point `D` and its variance `DELTA_D2` for a given x-data point `z`.\n",
    "\n",
    "\t\t'''\n",
    "\n",
    "\t\tb = np.zeros((self.f0.shape))\n",
    "\t\tfor m in range(self.n_MC_samples):\n",
    "\t\t\tfor k in range(self.n_cp + 1):\n",
    "\t\t\t\tif self.MC_cp_configurations[m,k] <= z <= self.MC_cp_configurations[m,k + 1]:\n",
    "\t\t\t\t\tb[m,k:k+2] = [(self.MC_cp_configurations[m,k+1] - z) / (self.MC_cp_configurations[m,k+1] - self.MC_cp_configurations[m,k]), (z - self.MC_cp_configurations[m,k]) / (self.MC_cp_configurations[m,k+1] - self.MC_cp_configurations[m,k])]\n",
    "\t\tDELTA_D2 = 0\n",
    "\t\tD = 0\n",
    "\t\tfor m in range(self.n_MC_samples):\n",
    "\t\t\tD += self.prob_cp[m] * np.linalg.multi_dot([np.transpose(b[m,:]), self.Q_inverse[m,:,:], np.transpose(self.A_matrix[m,:,:]), self.d])\n",
    "\t\t\tDELTA_D2 += self.prob_cp[m] * (self.Res_E[m] / (self.x.size - 5)) * np.linalg.multi_dot([np.transpose(b[m,:]), self.Q_inverse[m,:,:],b[m,:]])\n",
    "\t\treturn D, DELTA_D2\n",
    "\n",
    "\n",
    "\tdef fit(self, sigma_multiples = 3):\n",
    "\t\t'''\n",
    "\t\tComputes the segmential linear fit of the time series data with integrated change point assumptions\n",
    "\t\tover the ``z_array`` which contains ``z_array_size`` equidistant data points in the range from the\n",
    "\t\tfirst entry of ``x`` up to the ``prediction_horizon``. The fit results and corresponding variances\n",
    "\t\tare saved in the attributes ``D_array`` and ``DELTA_D2_array``, respectively.\n",
    "\n",
    "\t\t:param sigma_multiples: Specifies which multiple of standard deviations is chosen to determine the\n",
    "\t\t\t``upper_uncertainty_bound`` and the ``lower_uncertainty_bound``. Default is 3.\n",
    "\t\t:type sigma_multiples: float\n",
    "\t\t'''\n",
    "\n",
    "\t\tself.initialize_MC_cp_configurations() # save the possible change point configurations\n",
    "\t\t# follow the publication of van der Linden\n",
    "\t\tself.initialize_A_matrices()\n",
    "\t\ttry:\n",
    "\t\t\tself.Q_matrix_and_inverse_Q()\n",
    "\t\texcept np.linalg.LinAlgError as err:\n",
    "\t\t\tif 'Singular matrix' in str(err):\n",
    "\t\t\t\tself.initialize_MC_cp_configurations()\n",
    "\t\t\t\tself.initialize_A_matrices()\n",
    "\t\tself.calculate_f0()\n",
    "\t\tself.calculate_residue()\n",
    "\t\tself.calculate_marginal_likelihood()\n",
    "\t\tself.calculate_marginal_cp_pdf()\n",
    "\t\tself.calculate_prob_cp()\n",
    "\n",
    "\t\t# initialize arrays for the fitted values and their standard deviation\n",
    "\t\tself.D_array = np.zeros(self.z_array.size)\n",
    "\t\tself.DELTA_D2_array = np.zeros(self.z_array.size)\n",
    "\n",
    "\t\tprediction_flag = False\n",
    "\t\tupper_flag = False\n",
    "\t\tlower_flag = False\n",
    "\t\t# upper_uncertainty_bound = 0\n",
    "\t\t# lower_uncertainty_bound = 0\n",
    "\t\t# transition_time = 0\n",
    "\t\t#predict data with weighted sums over the change point configurations\n",
    "\t\tfor i in range(self.z_array.size):\n",
    "\t\t\tprint('predicted data: ' +str(i))\n",
    "\t\t\tself.D_array[i], self.DELTA_D2_array[i] = self.predict_D_at_z(z = self.z_array[i])\n",
    "\t\t\t# determine the zero crossings of the predictions and confidence bands\n",
    "\t\t\tif self.D_array[i] >= 0 and prediction_flag == False:\n",
    "\t\t\t\tself.transition_time = self.z_array[i]\n",
    "\t\t\t\tprediction_flag = True\n",
    "\t\t\tif self.D_array[i] + sigma_multiples * np.sqrt(self.DELTA_D2_array[i]) >= 0 and upper_flag == False:\n",
    "\t\t\t\tself.upper_uncertainty_bound = self.z_array[i]\n",
    "\t\t\t\tupper_flag = True\n",
    "\t\t\tif self.D_array[i] - sigma_multiples * np.sqrt(self.DELTA_D2_array[i]) >= 0 and lower_flag == False:\n",
    "\t\t\t\tself.lower_uncertainty_bound = self.z_array[i]\n",
    "\t\t\t\tlower_flag = True"
   ],
   "metadata": {
    "collapsed": false,
    "pycharm": {
     "name": "#%%\n"
    }
   }
  },
  {
   "cell_type": "markdown",
   "source": [
    "## Go through the CPSegmentFit pipeline"
   ],
   "metadata": {
    "collapsed": false,
    "pycharm": {
     "name": "#%% md\n"
    }
   }
  },
  {
   "cell_type": "code",
   "execution_count": 32,
   "outputs": [],
   "source": [
    "CP_finance = CPSegmentFit(np.arange(len(data)), data,\n",
    "\t\t\t\t\t\t  number_expected_changepoints = 2,\n",
    "\t\t\t\t\t\t  num_MC_cp_samples = 100000, # reduced num_MC_samples, because else: too much memory\n",
    "\t\t\t\t\t\t  predict_up_to = None, z_array_size = 100)"
   ],
   "metadata": {
    "collapsed": false,
    "pycharm": {
     "name": "#%%\n"
    }
   }
  },
  {
   "cell_type": "code",
   "execution_count": 33,
   "outputs": [
    {
     "name": "stdout",
     "output_type": "stream",
     "text": [
      "More configurations than MC sample proposal. Compute approximate MC sum!\n"
     ]
    }
   ],
   "source": [
    "CP_finance.initialize_MC_cp_configurations(print_sum_control = True)\n",
    "CP_finance.initialize_A_matrices()"
   ],
   "metadata": {
    "collapsed": false,
    "pycharm": {
     "name": "#%%\n"
    }
   }
  },
  {
   "cell_type": "code",
   "execution_count": 34,
   "outputs": [],
   "source": [
    "try:\n",
    "\tCP_finance.Q_matrix_and_inverse_Q()\n",
    "except np.linalg.LinAlgError as err:\n",
    "\tif 'Singular matrix' in str(err):\n",
    "\t\tCP_finance.initialize_MC_cp_configurations()\n",
    "\t\tCP_finance.initialize_A_matrices()"
   ],
   "metadata": {
    "collapsed": false,
    "pycharm": {
     "name": "#%%\n"
    }
   }
  },
  {
   "cell_type": "code",
   "execution_count": 35,
   "outputs": [],
   "source": [
    "CP_finance.calculate_f0()"
   ],
   "metadata": {
    "collapsed": false,
    "pycharm": {
     "name": "#%%\n"
    }
   }
  },
  {
   "cell_type": "code",
   "execution_count": 36,
   "outputs": [
    {
     "name": "stdout",
     "output_type": "stream",
     "text": [
      "0.0 0.0\n"
     ]
    }
   ],
   "source": [
    "CP_finance.calculate_residue()\n",
    "CP_finance.calculate_marginal_likelihood()\n",
    "CP_finance.calculate_marginal_cp_pdf()\n",
    "CP_finance.calculate_prob_cp()\n"
   ],
   "metadata": {
    "collapsed": false,
    "pycharm": {
     "name": "#%%\n"
    }
   }
  },
  {
   "cell_type": "code",
   "execution_count": 37,
   "outputs": [
    {
     "data": {
      "text/plain": "array([[   0.        ,  762.1126182 , 1473.66236905, 1549.        ],\n       [   0.        , 1066.31461832, 1428.43958872, 1549.        ],\n       [   0.        ,  193.46821161,  842.86927468, 1549.        ],\n       ...,\n       [   0.        ,  112.30150333,  187.29828839, 1549.        ],\n       [   0.        ,  445.98712345, 1423.79731014, 1549.        ],\n       [   0.        ,  274.84076878, 1256.5849315 , 1549.        ]])"
     },
     "execution_count": 37,
     "metadata": {},
     "output_type": "execute_result"
    }
   ],
   "source": [
    "CP_finance.MC_cp_configurations"
   ],
   "metadata": {
    "collapsed": false,
    "pycharm": {
     "name": "#%%\n"
    }
   }
  },
  {
   "cell_type": "code",
   "execution_count": 38,
   "outputs": [
    {
     "data": {
      "text/plain": "0.0"
     },
     "execution_count": 38,
     "metadata": {},
     "output_type": "execute_result"
    }
   ],
   "source": [
    "max(CP_finance.prob_cp)"
   ],
   "metadata": {
    "collapsed": false,
    "pycharm": {
     "name": "#%%\n"
    }
   }
  }
 ],
 "metadata": {
  "kernelspec": {
   "display_name": "Python 3",
   "language": "python",
   "name": "python3"
  },
  "language_info": {
   "codemirror_mode": {
    "name": "ipython",
    "version": 2
   },
   "file_extension": ".py",
   "mimetype": "text/x-python",
   "name": "python",
   "nbconvert_exporter": "python",
   "pygments_lexer": "ipython2",
   "version": "2.7.6"
  }
 },
 "nbformat": 4,
 "nbformat_minor": 0
}