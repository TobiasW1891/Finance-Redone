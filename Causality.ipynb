{
 "cells": [
  {
   "cell_type": "code",
   "execution_count": 167,
   "metadata": {
    "collapsed": true
   },
   "outputs": [],
   "source": [
    "import numpy as np\n",
    "import pandas as pd\n",
    "from pyinform import *"
   ]
  },
  {
   "cell_type": "code",
   "execution_count": 168,
   "outputs": [
    {
     "name": "stdout",
     "output_type": "stream",
     "text": [
      "(5291, 10)\n"
     ]
    },
    {
     "data": {
      "text/plain": "            Energy  Materials  Financials  Consumer Staples  \\\nDate                                                          \n1992-01-02     NaN        NaN         NaN               NaN   \n1992-01-03     NaN        NaN         NaN               NaN   \n1992-01-06     NaN        NaN         NaN               NaN   \n1992-01-07     NaN        NaN         NaN               NaN   \n1992-01-08     NaN        NaN         NaN               NaN   \n\n            Consumer Discretionary  Utilities  Telecommunications Services  \\\nDate                                                                         \n1992-01-02                     NaN        NaN                          NaN   \n1992-01-03                     NaN        NaN                          NaN   \n1992-01-06                     NaN        NaN                          NaN   \n1992-01-07                     NaN        NaN                          NaN   \n1992-01-08                     NaN        NaN                          NaN   \n\n            Information Technology  Industrials  Health Care  \nDate                                                          \n1992-01-02                     NaN          NaN          NaN  \n1992-01-03                     NaN          NaN          NaN  \n1992-01-06                     NaN          NaN          NaN  \n1992-01-07                     NaN          NaN          NaN  \n1992-01-08                     NaN          NaN          NaN  ",
      "text/html": "<div>\n<style scoped>\n    .dataframe tbody tr th:only-of-type {\n        vertical-align: middle;\n    }\n\n    .dataframe tbody tr th {\n        vertical-align: top;\n    }\n\n    .dataframe thead th {\n        text-align: right;\n    }\n</style>\n<table border=\"1\" class=\"dataframe\">\n  <thead>\n    <tr style=\"text-align: right;\">\n      <th></th>\n      <th>Energy</th>\n      <th>Materials</th>\n      <th>Financials</th>\n      <th>Consumer Staples</th>\n      <th>Consumer Discretionary</th>\n      <th>Utilities</th>\n      <th>Telecommunications Services</th>\n      <th>Information Technology</th>\n      <th>Industrials</th>\n      <th>Health Care</th>\n    </tr>\n    <tr>\n      <th>Date</th>\n      <th></th>\n      <th></th>\n      <th></th>\n      <th></th>\n      <th></th>\n      <th></th>\n      <th></th>\n      <th></th>\n      <th></th>\n      <th></th>\n    </tr>\n  </thead>\n  <tbody>\n    <tr>\n      <th>1992-01-02</th>\n      <td>NaN</td>\n      <td>NaN</td>\n      <td>NaN</td>\n      <td>NaN</td>\n      <td>NaN</td>\n      <td>NaN</td>\n      <td>NaN</td>\n      <td>NaN</td>\n      <td>NaN</td>\n      <td>NaN</td>\n    </tr>\n    <tr>\n      <th>1992-01-03</th>\n      <td>NaN</td>\n      <td>NaN</td>\n      <td>NaN</td>\n      <td>NaN</td>\n      <td>NaN</td>\n      <td>NaN</td>\n      <td>NaN</td>\n      <td>NaN</td>\n      <td>NaN</td>\n      <td>NaN</td>\n    </tr>\n    <tr>\n      <th>1992-01-06</th>\n      <td>NaN</td>\n      <td>NaN</td>\n      <td>NaN</td>\n      <td>NaN</td>\n      <td>NaN</td>\n      <td>NaN</td>\n      <td>NaN</td>\n      <td>NaN</td>\n      <td>NaN</td>\n      <td>NaN</td>\n    </tr>\n    <tr>\n      <th>1992-01-07</th>\n      <td>NaN</td>\n      <td>NaN</td>\n      <td>NaN</td>\n      <td>NaN</td>\n      <td>NaN</td>\n      <td>NaN</td>\n      <td>NaN</td>\n      <td>NaN</td>\n      <td>NaN</td>\n      <td>NaN</td>\n    </tr>\n    <tr>\n      <th>1992-01-08</th>\n      <td>NaN</td>\n      <td>NaN</td>\n      <td>NaN</td>\n      <td>NaN</td>\n      <td>NaN</td>\n      <td>NaN</td>\n      <td>NaN</td>\n      <td>NaN</td>\n      <td>NaN</td>\n      <td>NaN</td>\n    </tr>\n  </tbody>\n</table>\n</div>"
     },
     "execution_count": 168,
     "metadata": {},
     "output_type": "execute_result"
    }
   ],
   "source": [
    "SectorReturns = pd.read_csv(\"NormalisedSectorReturns.csv\", index_col=0)\n",
    "print(SectorReturns.shape)\n",
    "SectorReturns.head()"
   ],
   "metadata": {
    "collapsed": false,
    "pycharm": {
     "name": "#%%\n"
    }
   }
  },
  {
   "cell_type": "code",
   "execution_count": 169,
   "outputs": [
    {
     "data": {
      "text/plain": "              Energy  Materials  Financials  Consumer Staples  \\\nDate                                                            \n1992-02-25  0.598655  -0.362595   -1.813326         -0.608180   \n1992-02-26  1.482999  -0.536391   -1.203702          0.689234   \n1992-02-27  1.932779   0.151317    0.188633         -0.021304   \n1992-02-28  2.264313   0.003429    0.687197          0.274232   \n1992-03-02  1.119821   1.108068    1.012923          0.143172   \n\n            Consumer Discretionary  Utilities  Telecommunications Services  \\\nDate                                                                         \n1992-02-25               -0.314499  -1.131099                    -1.320868   \n1992-02-26                1.158635  -0.013335                    -0.304987   \n1992-02-27                0.493030  -0.020952                    -0.525962   \n1992-02-28                0.662564  -0.456263                    -0.332417   \n1992-03-02                0.636739  -0.686971                    -0.686194   \n\n            Information Technology  Industrials  Health Care  \nDate                                                          \n1992-02-25               -2.456540     0.725513    -1.709158  \n1992-02-26               -1.497377     1.245510     0.459472  \n1992-02-27               -1.382264     0.621771     0.212791  \n1992-02-28               -1.703039     0.413180    -0.870169  \n1992-03-02               -1.379845     0.883358    -1.242292  ",
      "text/html": "<div>\n<style scoped>\n    .dataframe tbody tr th:only-of-type {\n        vertical-align: middle;\n    }\n\n    .dataframe tbody tr th {\n        vertical-align: top;\n    }\n\n    .dataframe thead th {\n        text-align: right;\n    }\n</style>\n<table border=\"1\" class=\"dataframe\">\n  <thead>\n    <tr style=\"text-align: right;\">\n      <th></th>\n      <th>Energy</th>\n      <th>Materials</th>\n      <th>Financials</th>\n      <th>Consumer Staples</th>\n      <th>Consumer Discretionary</th>\n      <th>Utilities</th>\n      <th>Telecommunications Services</th>\n      <th>Information Technology</th>\n      <th>Industrials</th>\n      <th>Health Care</th>\n    </tr>\n    <tr>\n      <th>Date</th>\n      <th></th>\n      <th></th>\n      <th></th>\n      <th></th>\n      <th></th>\n      <th></th>\n      <th></th>\n      <th></th>\n      <th></th>\n      <th></th>\n    </tr>\n  </thead>\n  <tbody>\n    <tr>\n      <th>1992-02-25</th>\n      <td>0.598655</td>\n      <td>-0.362595</td>\n      <td>-1.813326</td>\n      <td>-0.608180</td>\n      <td>-0.314499</td>\n      <td>-1.131099</td>\n      <td>-1.320868</td>\n      <td>-2.456540</td>\n      <td>0.725513</td>\n      <td>-1.709158</td>\n    </tr>\n    <tr>\n      <th>1992-02-26</th>\n      <td>1.482999</td>\n      <td>-0.536391</td>\n      <td>-1.203702</td>\n      <td>0.689234</td>\n      <td>1.158635</td>\n      <td>-0.013335</td>\n      <td>-0.304987</td>\n      <td>-1.497377</td>\n      <td>1.245510</td>\n      <td>0.459472</td>\n    </tr>\n    <tr>\n      <th>1992-02-27</th>\n      <td>1.932779</td>\n      <td>0.151317</td>\n      <td>0.188633</td>\n      <td>-0.021304</td>\n      <td>0.493030</td>\n      <td>-0.020952</td>\n      <td>-0.525962</td>\n      <td>-1.382264</td>\n      <td>0.621771</td>\n      <td>0.212791</td>\n    </tr>\n    <tr>\n      <th>1992-02-28</th>\n      <td>2.264313</td>\n      <td>0.003429</td>\n      <td>0.687197</td>\n      <td>0.274232</td>\n      <td>0.662564</td>\n      <td>-0.456263</td>\n      <td>-0.332417</td>\n      <td>-1.703039</td>\n      <td>0.413180</td>\n      <td>-0.870169</td>\n    </tr>\n    <tr>\n      <th>1992-03-02</th>\n      <td>1.119821</td>\n      <td>1.108068</td>\n      <td>1.012923</td>\n      <td>0.143172</td>\n      <td>0.636739</td>\n      <td>-0.686971</td>\n      <td>-0.686194</td>\n      <td>-1.379845</td>\n      <td>0.883358</td>\n      <td>-1.242292</td>\n    </tr>\n  </tbody>\n</table>\n</div>"
     },
     "execution_count": 169,
     "metadata": {},
     "output_type": "execute_result"
    }
   ],
   "source": [
    "DF = SectorReturns.dropna()\n",
    "DF.head()"
   ],
   "metadata": {
    "collapsed": false,
    "pycharm": {
     "name": "#%%\n"
    }
   }
  },
  {
   "cell_type": "markdown",
   "source": [
    "# Get Quantile-Binning"
   ],
   "metadata": {
    "collapsed": false,
    "pycharm": {
     "name": "#%% md\n"
    }
   }
  },
  {
   "cell_type": "code",
   "execution_count": 170,
   "outputs": [],
   "source": [
    "q = 100\n",
    "QDF = pd.DataFrame()\n",
    "\n",
    "for i in DF.columns:\n",
    "    ts = DF[i]\n",
    "    QDF[i] = pd.qcut(ts, q, labels=range(q))\n",
    "\n",
    "def QuantileBin(DF, q):\n",
    "    out = pd.DataFrame()\n",
    "\n",
    "    for i in DF.columns:\n",
    "        x = DF[i]\n",
    "        out[i] = pd.qcut(x, q, labels = range(q))\n",
    "    return(out)\n",
    "\n",
    "QDF = QuantileBin(DF, 100)"
   ],
   "metadata": {
    "collapsed": false,
    "pycharm": {
     "name": "#%%\n"
    }
   }
  },
  {
   "cell_type": "markdown",
   "source": [
    "# Transfer Entropy\n",
    "\n",
    "Via package pyinform in https://www.researchgate.net/publication/323135385_Inform_A_toolkit_for_information-theoretic_analysis_of_complex_systems\n",
    "\n",
    "cite at\n",
    "https://ieeexplore.ieee.org/document/8285197\n",
    "\n",
    "Documentation:\n",
    "https://elife-asu.github.io/PyInform/_modules/pyinform/transferentropy.html"
   ],
   "metadata": {
    "collapsed": false,
    "pycharm": {
     "name": "#%% md\n"
    }
   }
  },
  {
   "cell_type": "code",
   "execution_count": 171,
   "outputs": [],
   "source": [
    "def CausalTE(QDF, k=1):\n",
    "    m = QDF.shape[1]\n",
    "    Causality = np.zeros((m,m))\n",
    "\n",
    "    for i in range(m):\n",
    "        for j in range(m):\n",
    "            I, J = QDF.columns[i], QDF.columns[j]\n",
    "            Cij = transfer_entropy(source=QDF[I],\n",
    "                            target = QDF[J], k=k)\n",
    "            Causality[i,j] = Cij\n",
    "    return(Causality)"
   ],
   "metadata": {
    "collapsed": false,
    "pycharm": {
     "name": "#%%\n"
    }
   }
  },
  {
   "cell_type": "code",
   "execution_count": 172,
   "outputs": [],
   "source": [
    "Causaliy = CausalTE(QDF)"
   ],
   "metadata": {
    "collapsed": false,
    "pycharm": {
     "name": "#%%\n"
    }
   }
  },
  {
   "cell_type": "markdown",
   "source": [
    "# Random Transfer Entropy"
   ],
   "metadata": {
    "collapsed": false,
    "pycharm": {
     "name": "#%% md\n"
    }
   }
  },
  {
   "cell_type": "code",
   "execution_count": 173,
   "outputs": [],
   "source": [
    "def Random(DF):\n",
    "\n",
    "    out = pd.DataFrame()\n",
    "\n",
    "    for i in DF.columns:\n",
    "        out[i] = np.random.permutation(DF[i].values)\n",
    "\n",
    "    out.index = DF.index\n",
    "    return(out)"
   ],
   "metadata": {
    "collapsed": false,
    "pycharm": {
     "name": "#%%\n"
    }
   }
  },
  {
   "cell_type": "code",
   "execution_count": 174,
   "outputs": [
    {
     "data": {
      "text/plain": "            Energy  Materials  Financials  Consumer Staples  \\\nDate                                                          \n1992-02-25      39         46          13                26   \n1992-02-26      20         31           9                12   \n1992-02-27      97         55           5                98   \n1992-02-28      55          0          93                23   \n1992-03-02      54         65          86                81   \n...            ...        ...         ...               ...   \n2012-12-24      99         20          13                 8   \n2012-12-26       0         41          73                98   \n2012-12-27      29         30          87                37   \n2012-12-28      85         31          66                64   \n2012-12-31      70         78          25                97   \n\n            Consumer Discretionary  Utilities  Telecommunications Services  \\\nDate                                                                         \n1992-02-25                      57         23                           19   \n1992-02-26                      40         80                           38   \n1992-02-27                      47         14                           72   \n1992-02-28                      58         27                           58   \n1992-03-02                      98          8                           57   \n...                            ...        ...                          ...   \n2012-12-24                      11         12                           39   \n2012-12-26                      44          3                           94   \n2012-12-27                      28         45                           57   \n2012-12-28                      26         64                           54   \n2012-12-31                      53         45                           81   \n\n            Information Technology  Industrials  Health Care  \nDate                                                          \n1992-02-25                      30           35           79  \n1992-02-26                      46           64           50  \n1992-02-27                       2           27           90  \n1992-02-28                      79            0           11  \n1992-03-02                      47           51           72  \n...                            ...          ...          ...  \n2012-12-24                      13           34           33  \n2012-12-26                      68           43           20  \n2012-12-27                      31           77           94  \n2012-12-28                      28            0           79  \n2012-12-31                       9           58           92  \n\n[5124 rows x 10 columns]",
      "text/html": "<div>\n<style scoped>\n    .dataframe tbody tr th:only-of-type {\n        vertical-align: middle;\n    }\n\n    .dataframe tbody tr th {\n        vertical-align: top;\n    }\n\n    .dataframe thead th {\n        text-align: right;\n    }\n</style>\n<table border=\"1\" class=\"dataframe\">\n  <thead>\n    <tr style=\"text-align: right;\">\n      <th></th>\n      <th>Energy</th>\n      <th>Materials</th>\n      <th>Financials</th>\n      <th>Consumer Staples</th>\n      <th>Consumer Discretionary</th>\n      <th>Utilities</th>\n      <th>Telecommunications Services</th>\n      <th>Information Technology</th>\n      <th>Industrials</th>\n      <th>Health Care</th>\n    </tr>\n    <tr>\n      <th>Date</th>\n      <th></th>\n      <th></th>\n      <th></th>\n      <th></th>\n      <th></th>\n      <th></th>\n      <th></th>\n      <th></th>\n      <th></th>\n      <th></th>\n    </tr>\n  </thead>\n  <tbody>\n    <tr>\n      <th>1992-02-25</th>\n      <td>39</td>\n      <td>46</td>\n      <td>13</td>\n      <td>26</td>\n      <td>57</td>\n      <td>23</td>\n      <td>19</td>\n      <td>30</td>\n      <td>35</td>\n      <td>79</td>\n    </tr>\n    <tr>\n      <th>1992-02-26</th>\n      <td>20</td>\n      <td>31</td>\n      <td>9</td>\n      <td>12</td>\n      <td>40</td>\n      <td>80</td>\n      <td>38</td>\n      <td>46</td>\n      <td>64</td>\n      <td>50</td>\n    </tr>\n    <tr>\n      <th>1992-02-27</th>\n      <td>97</td>\n      <td>55</td>\n      <td>5</td>\n      <td>98</td>\n      <td>47</td>\n      <td>14</td>\n      <td>72</td>\n      <td>2</td>\n      <td>27</td>\n      <td>90</td>\n    </tr>\n    <tr>\n      <th>1992-02-28</th>\n      <td>55</td>\n      <td>0</td>\n      <td>93</td>\n      <td>23</td>\n      <td>58</td>\n      <td>27</td>\n      <td>58</td>\n      <td>79</td>\n      <td>0</td>\n      <td>11</td>\n    </tr>\n    <tr>\n      <th>1992-03-02</th>\n      <td>54</td>\n      <td>65</td>\n      <td>86</td>\n      <td>81</td>\n      <td>98</td>\n      <td>8</td>\n      <td>57</td>\n      <td>47</td>\n      <td>51</td>\n      <td>72</td>\n    </tr>\n    <tr>\n      <th>...</th>\n      <td>...</td>\n      <td>...</td>\n      <td>...</td>\n      <td>...</td>\n      <td>...</td>\n      <td>...</td>\n      <td>...</td>\n      <td>...</td>\n      <td>...</td>\n      <td>...</td>\n    </tr>\n    <tr>\n      <th>2012-12-24</th>\n      <td>99</td>\n      <td>20</td>\n      <td>13</td>\n      <td>8</td>\n      <td>11</td>\n      <td>12</td>\n      <td>39</td>\n      <td>13</td>\n      <td>34</td>\n      <td>33</td>\n    </tr>\n    <tr>\n      <th>2012-12-26</th>\n      <td>0</td>\n      <td>41</td>\n      <td>73</td>\n      <td>98</td>\n      <td>44</td>\n      <td>3</td>\n      <td>94</td>\n      <td>68</td>\n      <td>43</td>\n      <td>20</td>\n    </tr>\n    <tr>\n      <th>2012-12-27</th>\n      <td>29</td>\n      <td>30</td>\n      <td>87</td>\n      <td>37</td>\n      <td>28</td>\n      <td>45</td>\n      <td>57</td>\n      <td>31</td>\n      <td>77</td>\n      <td>94</td>\n    </tr>\n    <tr>\n      <th>2012-12-28</th>\n      <td>85</td>\n      <td>31</td>\n      <td>66</td>\n      <td>64</td>\n      <td>26</td>\n      <td>64</td>\n      <td>54</td>\n      <td>28</td>\n      <td>0</td>\n      <td>79</td>\n    </tr>\n    <tr>\n      <th>2012-12-31</th>\n      <td>70</td>\n      <td>78</td>\n      <td>25</td>\n      <td>97</td>\n      <td>53</td>\n      <td>45</td>\n      <td>81</td>\n      <td>9</td>\n      <td>58</td>\n      <td>92</td>\n    </tr>\n  </tbody>\n</table>\n<p>5124 rows × 10 columns</p>\n</div>"
     },
     "execution_count": 174,
     "metadata": {},
     "output_type": "execute_result"
    }
   ],
   "source": [
    "Random(QDF)"
   ],
   "metadata": {
    "collapsed": false,
    "pycharm": {
     "name": "#%%\n"
    }
   }
  },
  {
   "cell_type": "code",
   "execution_count": 175,
   "outputs": [
    {
     "data": {
      "text/plain": "array([[0.        , 4.78549286, 4.77152713, 4.78135479, 4.78589007,\n        4.79745086, 4.79557883, 4.79382375, 4.79615133, 4.80966785],\n       [4.80022507, 0.        , 4.7775228 , 4.77938931, 4.79378183,\n        4.77755251, 4.80072513, 4.78320003, 4.76889216, 4.77733353],\n       [4.79005024, 4.78248487, 0.        , 4.79554032, 4.80334531,\n        4.78628599, 4.78560041, 4.80378103, 4.78846363, 4.78030594],\n       [4.7861107 , 4.7701938 , 4.7845059 , 0.        , 4.80218421,\n        4.78822611, 4.77007262, 4.78383852, 4.77314413, 4.76134759],\n       [4.79445978, 4.7891809 , 4.79534389, 4.80209404, 0.        ,\n        4.76695252, 4.78759901, 4.79060489, 4.76064641, 4.78944344],\n       [4.80979619, 4.78102157, 4.78752575, 4.79815791, 4.77775528,\n        0.        , 4.78539377, 4.79013147, 4.78781493, 4.78335972],\n       [4.81296339, 4.80650065, 4.78836583, 4.78348206, 4.79875625,\n        4.78770023, 0.        , 4.80439157, 4.77152161, 4.80047282],\n       [4.80084584, 4.78017466, 4.79345121, 4.78766628, 4.78905727,\n        4.78558903, 4.78973474, 0.        , 4.78543616, 4.7859172 ],\n       [4.81142893, 4.77138952, 4.78443733, 4.77951881, 4.76462152,\n        4.78684324, 4.76551068, 4.79330126, 0.        , 4.77319415],\n       [4.81778786, 4.77540608, 4.77224523, 4.76471169, 4.79680168,\n        4.77757282, 4.79042748, 4.7893575 , 4.76720776, 0.        ]])"
     },
     "execution_count": 175,
     "metadata": {},
     "output_type": "execute_result"
    }
   ],
   "source": [
    "CausalTE(Random(QuantileBin(DF, 100)))"
   ],
   "metadata": {
    "collapsed": false,
    "pycharm": {
     "name": "#%%\n"
    }
   }
  },
  {
   "cell_type": "code",
   "execution_count": 176,
   "outputs": [],
   "source": [
    "def CompareRandom(DF, n_P, q):\n",
    "    RTE = CausalTE(Random(QuantileBin(DF, q)))\n",
    "\n",
    "    for i in range(1,n_P):\n",
    "\n",
    "        RTE +=CausalTE(Random(QuantileBin(DF, q)))\n",
    "\n",
    "    return(RTE/float(n_P))"
   ],
   "metadata": {
    "collapsed": false,
    "pycharm": {
     "name": "#%%\n"
    }
   }
  },
  {
   "cell_type": "code",
   "execution_count": 177,
   "outputs": [],
   "source": [
    "np.random.seed(12345)\n"
   ],
   "metadata": {
    "collapsed": false,
    "pycharm": {
     "name": "#%%\n"
    }
   }
  },
  {
   "cell_type": "code",
   "execution_count": 178,
   "outputs": [],
   "source": [
    "EnsembleRTE = CompareRandom(DF, 100, 100)"
   ],
   "metadata": {
    "collapsed": false,
    "pycharm": {
     "name": "#%%\n"
    }
   }
  },
  {
   "cell_type": "code",
   "execution_count": 179,
   "outputs": [],
   "source": [
    "RelevantTE = Causality - RTE"
   ],
   "metadata": {
    "collapsed": false,
    "pycharm": {
     "name": "#%%\n"
    }
   }
  },
  {
   "cell_type": "code",
   "execution_count": 180,
   "outputs": [
    {
     "data": {
      "text/plain": "array([[ 0.    , -0.5122, -0.4346, -0.322 , -0.4628, -0.4137, -0.3706,\n        -0.4463, -0.4661, -0.4017],\n       [-0.4702,  0.    , -0.524 , -0.4041, -0.6209, -0.4507, -0.4169,\n        -0.5277, -0.6986, -0.4447],\n       [-0.431 , -0.5612,  0.    , -0.4562, -0.6477, -0.4618, -0.4424,\n        -0.4921, -0.6605, -0.5128],\n       [-0.3848, -0.5061, -0.5229,  0.    , -0.5662, -0.462 , -0.4327,\n        -0.4505, -0.5573, -0.5492],\n       [-0.4427, -0.637 , -0.6228, -0.4826,  0.    , -0.4499, -0.4244,\n        -0.5983, -0.764 , -0.5202],\n       [-0.4221, -0.4971, -0.4706, -0.4059, -0.4775,  0.    , -0.4698,\n        -0.4356, -0.4817, -0.4356],\n       [-0.3865, -0.4757, -0.4661, -0.3897, -0.4669, -0.4804,  0.    ,\n        -0.4492, -0.4723, -0.4263],\n       [-0.4424, -0.5691, -0.4915, -0.388 , -0.615 , -0.4214, -0.4231,\n         0.    , -0.6256, -0.4629],\n       [-0.4519, -0.7165, -0.6481, -0.4827, -0.7668, -0.4563, -0.4331,\n        -0.6107,  0.    , -0.5223],\n       [-0.4188, -0.501 , -0.5367, -0.5086, -0.5632, -0.4411, -0.4242,\n        -0.4883, -0.5593,  0.    ]])"
     },
     "execution_count": 180,
     "metadata": {},
     "output_type": "execute_result"
    }
   ],
   "source": [
    "RelevantTE.round(4)"
   ],
   "metadata": {
    "collapsed": false,
    "pycharm": {
     "name": "#%%\n"
    }
   }
  }
 ],
 "metadata": {
  "kernelspec": {
   "display_name": "Python 3",
   "language": "python",
   "name": "python3"
  },
  "language_info": {
   "codemirror_mode": {
    "name": "ipython",
    "version": 2
   },
   "file_extension": ".py",
   "mimetype": "text/x-python",
   "name": "python",
   "nbconvert_exporter": "python",
   "pygments_lexer": "ipython2",
   "version": "2.7.6"
  }
 },
 "nbformat": 4,
 "nbformat_minor": 0
}