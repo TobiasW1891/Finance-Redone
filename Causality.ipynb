{
 "cells": [
  {
   "cell_type": "code",
   "execution_count": 84,
   "metadata": {
    "collapsed": true
   },
   "outputs": [],
   "source": [
    "import numpy as np\n",
    "import pandas as pd\n",
    "from pyinform import *"
   ]
  },
  {
   "cell_type": "code",
   "execution_count": 85,
   "outputs": [
    {
     "name": "stdout",
     "output_type": "stream",
     "text": [
      "(5291, 10)\n"
     ]
    },
    {
     "data": {
      "text/plain": "            Energy  Materials  Financials  Consumer Staples  \\\nDate                                                          \n1992-01-02     NaN        NaN         NaN               NaN   \n1992-01-03     NaN        NaN         NaN               NaN   \n1992-01-06     NaN        NaN         NaN               NaN   \n1992-01-07     NaN        NaN         NaN               NaN   \n1992-01-08     NaN        NaN         NaN               NaN   \n\n            Consumer Discretionary  Utilities  Telecommunications Services  \\\nDate                                                                         \n1992-01-02                     NaN        NaN                          NaN   \n1992-01-03                     NaN        NaN                          NaN   \n1992-01-06                     NaN        NaN                          NaN   \n1992-01-07                     NaN        NaN                          NaN   \n1992-01-08                     NaN        NaN                          NaN   \n\n            Information Technology  Industrials  Health Care  \nDate                                                          \n1992-01-02                     NaN          NaN          NaN  \n1992-01-03                     NaN          NaN          NaN  \n1992-01-06                     NaN          NaN          NaN  \n1992-01-07                     NaN          NaN          NaN  \n1992-01-08                     NaN          NaN          NaN  ",
      "text/html": "<div>\n<style scoped>\n    .dataframe tbody tr th:only-of-type {\n        vertical-align: middle;\n    }\n\n    .dataframe tbody tr th {\n        vertical-align: top;\n    }\n\n    .dataframe thead th {\n        text-align: right;\n    }\n</style>\n<table border=\"1\" class=\"dataframe\">\n  <thead>\n    <tr style=\"text-align: right;\">\n      <th></th>\n      <th>Energy</th>\n      <th>Materials</th>\n      <th>Financials</th>\n      <th>Consumer Staples</th>\n      <th>Consumer Discretionary</th>\n      <th>Utilities</th>\n      <th>Telecommunications Services</th>\n      <th>Information Technology</th>\n      <th>Industrials</th>\n      <th>Health Care</th>\n    </tr>\n    <tr>\n      <th>Date</th>\n      <th></th>\n      <th></th>\n      <th></th>\n      <th></th>\n      <th></th>\n      <th></th>\n      <th></th>\n      <th></th>\n      <th></th>\n      <th></th>\n    </tr>\n  </thead>\n  <tbody>\n    <tr>\n      <th>1992-01-02</th>\n      <td>NaN</td>\n      <td>NaN</td>\n      <td>NaN</td>\n      <td>NaN</td>\n      <td>NaN</td>\n      <td>NaN</td>\n      <td>NaN</td>\n      <td>NaN</td>\n      <td>NaN</td>\n      <td>NaN</td>\n    </tr>\n    <tr>\n      <th>1992-01-03</th>\n      <td>NaN</td>\n      <td>NaN</td>\n      <td>NaN</td>\n      <td>NaN</td>\n      <td>NaN</td>\n      <td>NaN</td>\n      <td>NaN</td>\n      <td>NaN</td>\n      <td>NaN</td>\n      <td>NaN</td>\n    </tr>\n    <tr>\n      <th>1992-01-06</th>\n      <td>NaN</td>\n      <td>NaN</td>\n      <td>NaN</td>\n      <td>NaN</td>\n      <td>NaN</td>\n      <td>NaN</td>\n      <td>NaN</td>\n      <td>NaN</td>\n      <td>NaN</td>\n      <td>NaN</td>\n    </tr>\n    <tr>\n      <th>1992-01-07</th>\n      <td>NaN</td>\n      <td>NaN</td>\n      <td>NaN</td>\n      <td>NaN</td>\n      <td>NaN</td>\n      <td>NaN</td>\n      <td>NaN</td>\n      <td>NaN</td>\n      <td>NaN</td>\n      <td>NaN</td>\n    </tr>\n    <tr>\n      <th>1992-01-08</th>\n      <td>NaN</td>\n      <td>NaN</td>\n      <td>NaN</td>\n      <td>NaN</td>\n      <td>NaN</td>\n      <td>NaN</td>\n      <td>NaN</td>\n      <td>NaN</td>\n      <td>NaN</td>\n      <td>NaN</td>\n    </tr>\n  </tbody>\n</table>\n</div>"
     },
     "execution_count": 85,
     "metadata": {},
     "output_type": "execute_result"
    }
   ],
   "source": [
    "SectorReturns = pd.read_csv(\"NormalisedSectorReturns.csv\", index_col=0)\n",
    "print(SectorReturns.shape)\n",
    "SectorReturns.head()"
   ],
   "metadata": {
    "collapsed": false,
    "pycharm": {
     "name": "#%%\n"
    }
   }
  },
  {
   "cell_type": "code",
   "execution_count": 86,
   "outputs": [
    {
     "data": {
      "text/plain": "              Energy  Materials  Financials  Consumer Staples  \\\nDate                                                            \n1992-02-25  0.598655  -0.362595   -1.813326         -0.608180   \n1992-02-26  1.482999  -0.536391   -1.203702          0.689234   \n1992-02-27  1.932779   0.151317    0.188633         -0.021304   \n1992-02-28  2.264313   0.003429    0.687197          0.274232   \n1992-03-02  1.119821   1.108068    1.012923          0.143172   \n\n            Consumer Discretionary  Utilities  Telecommunications Services  \\\nDate                                                                         \n1992-02-25               -0.314499  -1.131099                    -1.320868   \n1992-02-26                1.158635  -0.013335                    -0.304987   \n1992-02-27                0.493030  -0.020952                    -0.525962   \n1992-02-28                0.662564  -0.456263                    -0.332417   \n1992-03-02                0.636739  -0.686971                    -0.686194   \n\n            Information Technology  Industrials  Health Care  \nDate                                                          \n1992-02-25               -2.456540     0.725513    -1.709158  \n1992-02-26               -1.497377     1.245510     0.459472  \n1992-02-27               -1.382264     0.621771     0.212791  \n1992-02-28               -1.703039     0.413180    -0.870169  \n1992-03-02               -1.379845     0.883358    -1.242292  ",
      "text/html": "<div>\n<style scoped>\n    .dataframe tbody tr th:only-of-type {\n        vertical-align: middle;\n    }\n\n    .dataframe tbody tr th {\n        vertical-align: top;\n    }\n\n    .dataframe thead th {\n        text-align: right;\n    }\n</style>\n<table border=\"1\" class=\"dataframe\">\n  <thead>\n    <tr style=\"text-align: right;\">\n      <th></th>\n      <th>Energy</th>\n      <th>Materials</th>\n      <th>Financials</th>\n      <th>Consumer Staples</th>\n      <th>Consumer Discretionary</th>\n      <th>Utilities</th>\n      <th>Telecommunications Services</th>\n      <th>Information Technology</th>\n      <th>Industrials</th>\n      <th>Health Care</th>\n    </tr>\n    <tr>\n      <th>Date</th>\n      <th></th>\n      <th></th>\n      <th></th>\n      <th></th>\n      <th></th>\n      <th></th>\n      <th></th>\n      <th></th>\n      <th></th>\n      <th></th>\n    </tr>\n  </thead>\n  <tbody>\n    <tr>\n      <th>1992-02-25</th>\n      <td>0.598655</td>\n      <td>-0.362595</td>\n      <td>-1.813326</td>\n      <td>-0.608180</td>\n      <td>-0.314499</td>\n      <td>-1.131099</td>\n      <td>-1.320868</td>\n      <td>-2.456540</td>\n      <td>0.725513</td>\n      <td>-1.709158</td>\n    </tr>\n    <tr>\n      <th>1992-02-26</th>\n      <td>1.482999</td>\n      <td>-0.536391</td>\n      <td>-1.203702</td>\n      <td>0.689234</td>\n      <td>1.158635</td>\n      <td>-0.013335</td>\n      <td>-0.304987</td>\n      <td>-1.497377</td>\n      <td>1.245510</td>\n      <td>0.459472</td>\n    </tr>\n    <tr>\n      <th>1992-02-27</th>\n      <td>1.932779</td>\n      <td>0.151317</td>\n      <td>0.188633</td>\n      <td>-0.021304</td>\n      <td>0.493030</td>\n      <td>-0.020952</td>\n      <td>-0.525962</td>\n      <td>-1.382264</td>\n      <td>0.621771</td>\n      <td>0.212791</td>\n    </tr>\n    <tr>\n      <th>1992-02-28</th>\n      <td>2.264313</td>\n      <td>0.003429</td>\n      <td>0.687197</td>\n      <td>0.274232</td>\n      <td>0.662564</td>\n      <td>-0.456263</td>\n      <td>-0.332417</td>\n      <td>-1.703039</td>\n      <td>0.413180</td>\n      <td>-0.870169</td>\n    </tr>\n    <tr>\n      <th>1992-03-02</th>\n      <td>1.119821</td>\n      <td>1.108068</td>\n      <td>1.012923</td>\n      <td>0.143172</td>\n      <td>0.636739</td>\n      <td>-0.686971</td>\n      <td>-0.686194</td>\n      <td>-1.379845</td>\n      <td>0.883358</td>\n      <td>-1.242292</td>\n    </tr>\n  </tbody>\n</table>\n</div>"
     },
     "execution_count": 86,
     "metadata": {},
     "output_type": "execute_result"
    }
   ],
   "source": [
    "DF = SectorReturns.dropna()\n",
    "DF.head()"
   ],
   "metadata": {
    "collapsed": false,
    "pycharm": {
     "name": "#%%\n"
    }
   }
  },
  {
   "cell_type": "code",
   "execution_count": 87,
   "outputs": [
    {
     "name": "stdout",
     "output_type": "stream",
     "text": [
      "Energy -5.864528040336879 6.492276683616787\n",
      "Date\n",
      "1992-02-25                  (-0.293, 0.659]\n",
      "1992-02-26                   (0.659, 1.515]\n",
      "1992-02-27                   (1.515, 6.492]\n",
      "1992-02-28                   (1.515, 6.492]\n",
      "1992-03-02                   (0.659, 1.515]\n",
      "                          ...              \n",
      "2012-12-24                  (-0.293, 0.659]\n",
      "2012-12-26                  (-0.293, 0.659]\n",
      "2012-12-27                 (-1.231, -0.293]\n",
      "2012-12-28    (-5.8660000000000005, -1.231]\n",
      "2012-12-31                  (-0.293, 0.659]\n",
      "Name: Energy, Length: 5124, dtype: category\n",
      "Categories (5, interval[float64, right]): [(-5.8660000000000005, -1.231] < (-1.231, -0.293] < (-0.293, 0.659] < (0.659, 1.515] < (1.515, 6.492]]\n",
      " # # # # # # # \n",
      "Materials -9.843866063490458 6.922449313534987\n",
      "Date\n",
      "1992-02-25    (-1.203, -0.164]\n",
      "1992-02-26    (-1.203, -0.164]\n",
      "1992-02-27      (-0.164, 0.76]\n",
      "1992-02-28      (-0.164, 0.76]\n",
      "1992-03-02       (0.76, 1.543]\n",
      "                    ...       \n",
      "2012-12-24       (0.76, 1.543]\n",
      "2012-12-26       (0.76, 1.543]\n",
      "2012-12-27       (0.76, 1.543]\n",
      "2012-12-28      (-0.164, 0.76]\n",
      "2012-12-31       (0.76, 1.543]\n",
      "Name: Materials, Length: 5124, dtype: category\n",
      "Categories (5, interval[float64, right]): [(-9.844999999999999, -1.203] < (-1.203, -0.164] < (-0.164, 0.76] < (0.76, 1.543] < (1.543, 6.922]]\n",
      " # # # # # # # \n",
      "Financials -11.48870328555263 6.701529551011732\n",
      "Date\n",
      "1992-02-25    (-11.49, -1.169]\n",
      "1992-02-26    (-11.49, -1.169]\n",
      "1992-02-27     (-0.105, 0.761]\n",
      "1992-02-28     (-0.105, 0.761]\n",
      "1992-03-02      (0.761, 1.493]\n",
      "                    ...       \n",
      "2012-12-24      (0.761, 1.493]\n",
      "2012-12-26     (-0.105, 0.761]\n",
      "2012-12-27     (-0.105, 0.761]\n",
      "2012-12-28    (-1.169, -0.105]\n",
      "2012-12-31     (-0.105, 0.761]\n",
      "Name: Financials, Length: 5124, dtype: category\n",
      "Categories (5, interval[float64, right]): [(-11.49, -1.169] < (-1.169, -0.105] < (-0.105, 0.761] < (0.761, 1.493] < (1.493, 6.702]]\n",
      " # # # # # # # \n",
      "Consumer Staples -16.099296404478356 5.82297960619498\n",
      "Date\n",
      "1992-02-25    (-1.046, -0.0219]\n",
      "1992-02-26     (-0.0219, 0.781]\n",
      "1992-02-27     (-0.0219, 0.781]\n",
      "1992-02-28     (-0.0219, 0.781]\n",
      "1992-03-02     (-0.0219, 0.781]\n",
      "                    ...        \n",
      "2012-12-24      (-16.1, -1.046]\n",
      "2012-12-26      (-16.1, -1.046]\n",
      "2012-12-27      (-16.1, -1.046]\n",
      "2012-12-28      (-16.1, -1.046]\n",
      "2012-12-31      (-16.1, -1.046]\n",
      "Name: Consumer Staples, Length: 5124, dtype: category\n",
      "Categories (5, interval[float64, right]): [(-16.1, -1.046] < (-1.046, -0.0219] < (-0.0219, 0.781] < (0.781, 1.524] < (1.524, 5.823]]\n",
      " # # # # # # # \n",
      "Consumer Discretionary -11.662135433421692 7.619859134942571\n",
      "Date\n",
      "1992-02-25    (-1.117, -0.0654]\n",
      "1992-02-26       (0.828, 1.531]\n",
      "1992-02-27     (-0.0654, 0.828]\n",
      "1992-02-28     (-0.0654, 0.828]\n",
      "1992-03-02     (-0.0654, 0.828]\n",
      "                    ...        \n",
      "2012-12-24    (-1.117, -0.0654]\n",
      "2012-12-26    (-11.663, -1.117]\n",
      "2012-12-27    (-11.663, -1.117]\n",
      "2012-12-28    (-11.663, -1.117]\n",
      "2012-12-31     (-0.0654, 0.828]\n",
      "Name: Consumer Discretionary, Length: 5124, dtype: category\n",
      "Categories (5, interval[float64, right]): [(-11.663, -1.117] < (-1.117, -0.0654] < (-0.0654, 0.828] < (0.828, 1.531] < (1.531, 7.62]]\n",
      " # # # # # # # \n",
      "Utilities -6.802730575909828 6.958239270349011\n",
      "Date\n",
      "1992-02-25     (-6.804, -1.055]\n",
      "1992-02-26     (-0.0178, 0.857]\n",
      "1992-02-27    (-1.055, -0.0178]\n",
      "1992-02-28    (-1.055, -0.0178]\n",
      "1992-03-02    (-1.055, -0.0178]\n",
      "                    ...        \n",
      "2012-12-24     (-0.0178, 0.857]\n",
      "2012-12-26     (-6.804, -1.055]\n",
      "2012-12-27     (-6.804, -1.055]\n",
      "2012-12-28     (-6.804, -1.055]\n",
      "2012-12-31    (-1.055, -0.0178]\n",
      "Name: Utilities, Length: 5124, dtype: category\n",
      "Categories (5, interval[float64, right]): [(-6.804, -1.055] < (-1.055, -0.0178] < (-0.0178, 0.857] < (0.857, 1.615] < (1.615, 6.958]]\n",
      " # # # # # # # \n",
      "Telecommunications Services -5.942598422152075 7.220236434426456\n",
      "Date\n",
      "1992-02-25    (-5.944, -1.232]\n",
      "1992-02-26    (-1.232, -0.239]\n",
      "1992-02-27    (-1.232, -0.239]\n",
      "1992-02-28    (-1.232, -0.239]\n",
      "1992-03-02    (-1.232, -0.239]\n",
      "                    ...       \n",
      "2012-12-24    (-5.944, -1.232]\n",
      "2012-12-26    (-5.944, -1.232]\n",
      "2012-12-27    (-5.944, -1.232]\n",
      "2012-12-28    (-5.944, -1.232]\n",
      "2012-12-31    (-1.232, -0.239]\n",
      "Name: Telecommunications Services, Length: 5124, dtype: category\n",
      "Categories (5, interval[float64, right]): [(-5.944, -1.232] < (-1.232, -0.239] < (-0.239, 0.647] < (0.647, 1.46] < (1.46, 7.22]]\n",
      " # # # # # # # \n",
      "Information Technology -5.869059065791958 5.520018254012794\n",
      "Date\n",
      "1992-02-25     (-5.87, -1.182]\n",
      "1992-02-26     (-5.87, -1.182]\n",
      "1992-02-27     (-5.87, -1.182]\n",
      "1992-02-28     (-5.87, -1.182]\n",
      "1992-03-02     (-5.87, -1.182]\n",
      "                    ...       \n",
      "2012-12-24     (-0.173, 0.757]\n",
      "2012-12-26     (-0.173, 0.757]\n",
      "2012-12-27    (-1.182, -0.173]\n",
      "2012-12-28     (-5.87, -1.182]\n",
      "2012-12-31     (-0.173, 0.757]\n",
      "Name: Information Technology, Length: 5124, dtype: category\n",
      "Categories (5, interval[float64, right]): [(-5.87, -1.182] < (-1.182, -0.173] < (-0.173, 0.757] < (0.757, 1.527] < (1.527, 5.52]]\n",
      " # # # # # # # \n",
      "Industrials -7.774909430107144 6.360265358642884\n",
      "Date\n",
      "1992-02-25                (-0.0323, 0.861]\n",
      "1992-02-26                  (0.861, 1.577]\n",
      "1992-02-27                (-0.0323, 0.861]\n",
      "1992-02-28                (-0.0323, 0.861]\n",
      "1992-03-02                  (0.861, 1.577]\n",
      "                          ...             \n",
      "2012-12-24                (-0.0323, 0.861]\n",
      "2012-12-26                (-0.0323, 0.861]\n",
      "2012-12-27                (-0.0323, 0.861]\n",
      "2012-12-28    (-7.776000000000001, -1.057]\n",
      "2012-12-31                  (0.861, 1.577]\n",
      "Name: Industrials, Length: 5124, dtype: category\n",
      "Categories (5, interval[float64, right]): [(-7.776000000000001, -1.057] < (-1.057, -0.0323] < (-0.0323, 0.861] < (0.861, 1.577] < (1.577, 6.36]]\n",
      " # # # # # # # \n",
      "Health Care -8.758022920852346 5.955397236545594\n",
      "Date\n",
      "1992-02-25    (-8.758999999999999, -1.067]\n",
      "1992-02-26                (-0.0796, 0.848]\n",
      "1992-02-27                (-0.0796, 0.848]\n",
      "1992-02-28               (-1.067, -0.0796]\n",
      "1992-03-02    (-8.758999999999999, -1.067]\n",
      "                          ...             \n",
      "2012-12-24               (-1.067, -0.0796]\n",
      "2012-12-26    (-8.758999999999999, -1.067]\n",
      "2012-12-27    (-8.758999999999999, -1.067]\n",
      "2012-12-28    (-8.758999999999999, -1.067]\n",
      "2012-12-31               (-1.067, -0.0796]\n",
      "Name: Health Care, Length: 5124, dtype: category\n",
      "Categories (5, interval[float64, right]): [(-8.758999999999999, -1.067] < (-1.067, -0.0796] < (-0.0796, 0.848] < (0.848, 1.561] < (1.561, 5.955]]\n",
      " # # # # # # # \n"
     ]
    }
   ],
   "source": [
    "for i in DF.columns:\n",
    "    ts = DF[i]\n",
    "    print(i, min(ts), max(ts))\n",
    "    print(pd.qcut(ts, 5))\n",
    "    print(\" # # # # # # # \")"
   ],
   "metadata": {
    "collapsed": false,
    "pycharm": {
     "name": "#%%\n"
    }
   }
  },
  {
   "cell_type": "code",
   "execution_count": 88,
   "outputs": [
    {
     "data": {
      "text/plain": "Date\n1992-02-25   -1.709158\n1992-02-26    0.459472\n1992-02-27    0.212791\n1992-02-28   -0.870169\n1992-03-02   -1.242292\n                ...   \n2012-12-24   -0.456415\n2012-12-26   -1.302408\n2012-12-27   -1.603746\n2012-12-28   -3.201348\n2012-12-31   -0.892309\nName: Health Care, Length: 5124, dtype: float64"
     },
     "execution_count": 88,
     "metadata": {},
     "output_type": "execute_result"
    }
   ],
   "source": [
    "ts"
   ],
   "metadata": {
    "collapsed": false,
    "pycharm": {
     "name": "#%%\n"
    }
   }
  },
  {
   "cell_type": "code",
   "execution_count": 89,
   "outputs": [
    {
     "data": {
      "text/plain": "Date\n1992-02-25    0\n1992-02-26    2\n1992-02-27    2\n1992-02-28    1\n1992-03-02    0\n             ..\n2012-12-24    1\n2012-12-26    0\n2012-12-27    0\n2012-12-28    0\n2012-12-31    1\nName: Health Care, Length: 5124, dtype: category\nCategories (5, int64): [0 < 1 < 2 < 3 < 4]"
     },
     "execution_count": 89,
     "metadata": {},
     "output_type": "execute_result"
    }
   ],
   "source": [
    "pd.qcut(ts, 5, labels= range(5))"
   ],
   "metadata": {
    "collapsed": false,
    "pycharm": {
     "name": "#%%\n"
    }
   }
  },
  {
   "cell_type": "markdown",
   "source": [
    "# Get Quantile-Binning"
   ],
   "metadata": {
    "collapsed": false,
    "pycharm": {
     "name": "#%% md\n"
    }
   }
  },
  {
   "cell_type": "code",
   "execution_count": 90,
   "outputs": [],
   "source": [
    "q = 100\n",
    "QDF = pd.DataFrame()\n",
    "\n",
    "for i in DF.columns:\n",
    "    ts = DF[i]\n",
    "    QDF[i] = pd.qcut(ts, q, labels=range(q))\n",
    "\n",
    "def QuantileBin(DF, q):\n",
    "    out = pd.DataFrame()\n",
    "\n",
    "    for i in DF.columns:\n",
    "        x = DF[i]\n",
    "        out[i] = pd.qcut(x, q, labels = range(q))\n",
    "    return(out)\n",
    "\n",
    "QDF = QuantileBin(DF, 100)"
   ],
   "metadata": {
    "collapsed": false,
    "pycharm": {
     "name": "#%%\n"
    }
   }
  },
  {
   "cell_type": "code",
   "execution_count": 91,
   "outputs": [
    {
     "data": {
      "text/plain": "           Energy Materials Financials Consumer Staples  \\\nDate                                                      \n1992-02-25     58        35          9               28   \n1992-02-26     79        32         19               57   \n1992-02-27     88        46         45               40   \n1992-02-28     92        43         58               46   \n1992-03-02     71        68         66               43   \n...           ...       ...        ...              ...   \n2012-12-24     42        76         64                6   \n2012-12-26     40        75         51                0   \n2012-12-27     34        63         44                4   \n2012-12-28     16        42         29                1   \n2012-12-31     48        75         50               19   \n\n           Consumer Discretionary Utilities Telecommunications Services  \\\nDate                                                                      \n1992-02-25                     35        18                          18   \n1992-02-26                     69        40                          38   \n1992-02-27                     51        39                          34   \n1992-02-28                     56        31                          38   \n1992-03-02                     55        26                          30   \n...                           ...       ...                         ...   \n2012-12-24                     32        42                          13   \n2012-12-26                      6        12                          15   \n2012-12-27                     18        11                          17   \n2012-12-28                      5         3                           4   \n2012-12-31                     48        29                          23   \n\n           Information Technology Industrials Health Care  \nDate                                                       \n1992-02-25                      3          56          10  \n1992-02-26                     14          70          50  \n1992-02-27                     16          54          45  \n1992-02-28                     11          49          23  \n1992-03-02                     16          60          16  \n...                           ...         ...         ...  \n2012-12-24                     54          59          32  \n2012-12-26                     42          50          15  \n2012-12-27                     36          46          11  \n2012-12-28                      8          18           1  \n2012-12-31                     46          64          22  \n\n[5124 rows x 10 columns]",
      "text/html": "<div>\n<style scoped>\n    .dataframe tbody tr th:only-of-type {\n        vertical-align: middle;\n    }\n\n    .dataframe tbody tr th {\n        vertical-align: top;\n    }\n\n    .dataframe thead th {\n        text-align: right;\n    }\n</style>\n<table border=\"1\" class=\"dataframe\">\n  <thead>\n    <tr style=\"text-align: right;\">\n      <th></th>\n      <th>Energy</th>\n      <th>Materials</th>\n      <th>Financials</th>\n      <th>Consumer Staples</th>\n      <th>Consumer Discretionary</th>\n      <th>Utilities</th>\n      <th>Telecommunications Services</th>\n      <th>Information Technology</th>\n      <th>Industrials</th>\n      <th>Health Care</th>\n    </tr>\n    <tr>\n      <th>Date</th>\n      <th></th>\n      <th></th>\n      <th></th>\n      <th></th>\n      <th></th>\n      <th></th>\n      <th></th>\n      <th></th>\n      <th></th>\n      <th></th>\n    </tr>\n  </thead>\n  <tbody>\n    <tr>\n      <th>1992-02-25</th>\n      <td>58</td>\n      <td>35</td>\n      <td>9</td>\n      <td>28</td>\n      <td>35</td>\n      <td>18</td>\n      <td>18</td>\n      <td>3</td>\n      <td>56</td>\n      <td>10</td>\n    </tr>\n    <tr>\n      <th>1992-02-26</th>\n      <td>79</td>\n      <td>32</td>\n      <td>19</td>\n      <td>57</td>\n      <td>69</td>\n      <td>40</td>\n      <td>38</td>\n      <td>14</td>\n      <td>70</td>\n      <td>50</td>\n    </tr>\n    <tr>\n      <th>1992-02-27</th>\n      <td>88</td>\n      <td>46</td>\n      <td>45</td>\n      <td>40</td>\n      <td>51</td>\n      <td>39</td>\n      <td>34</td>\n      <td>16</td>\n      <td>54</td>\n      <td>45</td>\n    </tr>\n    <tr>\n      <th>1992-02-28</th>\n      <td>92</td>\n      <td>43</td>\n      <td>58</td>\n      <td>46</td>\n      <td>56</td>\n      <td>31</td>\n      <td>38</td>\n      <td>11</td>\n      <td>49</td>\n      <td>23</td>\n    </tr>\n    <tr>\n      <th>1992-03-02</th>\n      <td>71</td>\n      <td>68</td>\n      <td>66</td>\n      <td>43</td>\n      <td>55</td>\n      <td>26</td>\n      <td>30</td>\n      <td>16</td>\n      <td>60</td>\n      <td>16</td>\n    </tr>\n    <tr>\n      <th>...</th>\n      <td>...</td>\n      <td>...</td>\n      <td>...</td>\n      <td>...</td>\n      <td>...</td>\n      <td>...</td>\n      <td>...</td>\n      <td>...</td>\n      <td>...</td>\n      <td>...</td>\n    </tr>\n    <tr>\n      <th>2012-12-24</th>\n      <td>42</td>\n      <td>76</td>\n      <td>64</td>\n      <td>6</td>\n      <td>32</td>\n      <td>42</td>\n      <td>13</td>\n      <td>54</td>\n      <td>59</td>\n      <td>32</td>\n    </tr>\n    <tr>\n      <th>2012-12-26</th>\n      <td>40</td>\n      <td>75</td>\n      <td>51</td>\n      <td>0</td>\n      <td>6</td>\n      <td>12</td>\n      <td>15</td>\n      <td>42</td>\n      <td>50</td>\n      <td>15</td>\n    </tr>\n    <tr>\n      <th>2012-12-27</th>\n      <td>34</td>\n      <td>63</td>\n      <td>44</td>\n      <td>4</td>\n      <td>18</td>\n      <td>11</td>\n      <td>17</td>\n      <td>36</td>\n      <td>46</td>\n      <td>11</td>\n    </tr>\n    <tr>\n      <th>2012-12-28</th>\n      <td>16</td>\n      <td>42</td>\n      <td>29</td>\n      <td>1</td>\n      <td>5</td>\n      <td>3</td>\n      <td>4</td>\n      <td>8</td>\n      <td>18</td>\n      <td>1</td>\n    </tr>\n    <tr>\n      <th>2012-12-31</th>\n      <td>48</td>\n      <td>75</td>\n      <td>50</td>\n      <td>19</td>\n      <td>48</td>\n      <td>29</td>\n      <td>23</td>\n      <td>46</td>\n      <td>64</td>\n      <td>22</td>\n    </tr>\n  </tbody>\n</table>\n<p>5124 rows × 10 columns</p>\n</div>"
     },
     "execution_count": 91,
     "metadata": {},
     "output_type": "execute_result"
    }
   ],
   "source": [
    "QDF"
   ],
   "metadata": {
    "collapsed": false,
    "pycharm": {
     "name": "#%%\n"
    }
   }
  },
  {
   "cell_type": "markdown",
   "source": [
    "# Transfer Entropy\n",
    "\n",
    "Via package pyinform in https://www.researchgate.net/publication/323135385_Inform_A_toolkit_for_information-theoretic_analysis_of_complex_systems\n",
    "\n",
    "cite at\n",
    "https://ieeexplore.ieee.org/document/8285197\n",
    "\n",
    "Documentation:\n",
    "https://elife-asu.github.io/PyInform/_modules/pyinform/transferentropy.html"
   ],
   "metadata": {
    "collapsed": false,
    "pycharm": {
     "name": "#%% md\n"
    }
   }
  },
  {
   "cell_type": "code",
   "execution_count": 92,
   "outputs": [
    {
     "name": "stdout",
     "output_type": "stream",
     "text": [
      "0 0 0.0\n",
      "0 1 4.274234589058012\n",
      "0 2 4.351672776373434\n",
      "0 3 4.466346194425987\n",
      "0 4 4.325586709347523\n",
      "0 5 4.3682831718731165\n",
      "0 6 4.418221714309074\n",
      "0 7 4.34236922195241\n",
      "0 8 4.320203739143183\n",
      "0 9 4.384748627905883\n",
      "1 0 4.311581623601302\n",
      "1 1 0.0\n",
      "1 2 4.263197174479116\n",
      "1 3 4.381083875663435\n",
      "1 4 4.167382330048337\n",
      "1 5 4.334758165829405\n",
      "1 6 4.369080044960008\n",
      "1 7 4.262446785921972\n",
      "1 8 4.089265582660428\n",
      "1 9 4.338400407254659\n",
      "2 0 4.349761270962446\n",
      "2 1 4.2252055142819325\n",
      "2 2 0.0\n",
      "2 3 4.330609781488786\n",
      "2 4 4.144038445800519\n",
      "2 5 4.325984212005895\n",
      "2 6 4.346227825851218\n",
      "2 7 4.298623861629563\n",
      "2 8 4.127136172555445\n",
      "2 9 4.271529360663465\n",
      "3 0 4.399931678801401\n",
      "3 1 4.280298142887288\n",
      "3 2 4.265620684022458\n",
      "3 3 0.0\n",
      "3 4 4.222401886802309\n",
      "3 5 4.324472511859819\n",
      "3 6 4.358593460065823\n",
      "3 7 4.339322387073094\n",
      "3 8 4.227605699146251\n",
      "3 9 4.235591389768162\n",
      "4 0 4.339967279911437\n",
      "4 1 4.150367500852426\n",
      "4 2 4.168676195697374\n",
      "4 3 4.303587369243001\n",
      "4 4 0.0\n",
      "4 5 4.336893896841335\n",
      "4 6 4.366070282732973\n",
      "4 7 4.190648495880405\n",
      "4 8 4.022722561573684\n",
      "4 9 4.264992950715688\n",
      "5 0 4.3576282122806065\n",
      "5 1 4.291050530467792\n",
      "5 2 4.319929502214568\n",
      "5 3 4.381941005526525\n",
      "5 4 4.313272599067874\n",
      "5 5 0.0\n",
      "5 6 4.322615934225756\n",
      "5 7 4.353887275227448\n",
      "5 8 4.302940987824283\n",
      "5 9 4.346815181990772\n",
      "6 0 4.396000590476711\n",
      "6 1 4.308731094079962\n",
      "6 2 4.322308950159567\n",
      "6 3 4.399273285588278\n",
      "6 4 4.323222248301559\n",
      "6 5 4.3080739525941505\n",
      "6 6 0.0\n",
      "6 7 4.340105631867281\n",
      "6 8 4.316212543725518\n",
      "6 9 4.356764018006925\n",
      "7 0 4.3406446114748425\n",
      "7 1 4.219809913006033\n",
      "7 2 4.299400167066324\n",
      "7 3 4.400012638697628\n",
      "7 4 4.174204580212046\n",
      "7 5 4.364916958229176\n",
      "7 6 4.366605441630848\n",
      "7 7 0.0\n",
      "7 8 4.159284635486957\n",
      "7 9 4.323612089351423\n",
      "8 0 4.331978057406371\n",
      "8 1 4.072998853505204\n",
      "8 2 4.142192199237363\n",
      "8 3 4.303061759268665\n",
      "8 4 4.022996435664169\n",
      "8 5 4.328007348444809\n",
      "8 6 4.358163263490833\n",
      "8 7 4.177492319460288\n",
      "8 8 0.0\n",
      "8 9 4.261753187691145\n",
      "9 0 4.36682664710244\n",
      "9 1 4.285864165673296\n",
      "9 2 4.252395715253439\n",
      "9 3 4.279590551564005\n",
      "9 4 4.226834455565388\n",
      "9 5 4.342280934545194\n",
      "9 6 4.364819770931965\n",
      "9 7 4.303216051251922\n",
      "9 8 4.226149283216242\n",
      "9 9 0.0\n"
     ]
    }
   ],
   "source": [
    "m = QDF.shape[1]\n",
    "Causality = np.zeros((m,m))\n",
    "\n",
    "for i in range(m):\n",
    "    for j in range(m):\n",
    "        I, J = QDF.columns[i], QDF.columns[j]\n",
    "        Cij = transfer_entropy(source=QDF[I],\n",
    "                            target = QDF[J], k=1)\n",
    "        print(i,j,Cij)\n",
    "        Causality[i,j] = Cij"
   ],
   "metadata": {
    "collapsed": false,
    "pycharm": {
     "name": "#%%\n"
    }
   }
  },
  {
   "cell_type": "code",
   "execution_count": 93,
   "outputs": [
    {
     "data": {
      "text/plain": "array([[ 0.        , -0.03734703,  0.00191151,  0.06641452, -0.01438057,\n         0.01065496,  0.02222112,  0.00172461, -0.01177432,  0.01792198],\n       [ 0.03734703,  0.        ,  0.03799166,  0.10078573,  0.01701483,\n         0.04370764,  0.06034895,  0.04263687,  0.01626673,  0.05253624],\n       [-0.00191151, -0.03799166,  0.        ,  0.0649891 , -0.02463775,\n         0.00605471,  0.02391888, -0.00077631, -0.01505603,  0.01913365],\n       [-0.06641452, -0.10078573, -0.0649891 ,  0.        , -0.08118548,\n        -0.05746849, -0.04067983, -0.06069025, -0.07545606, -0.04399916],\n       [ 0.01438057, -0.01701483,  0.02463775,  0.08118548,  0.        ,\n         0.0236213 ,  0.04284803,  0.01644392, -0.00027387,  0.0381585 ],\n       [-0.01065496, -0.04370764, -0.00605471,  0.05746849, -0.0236213 ,\n         0.        ,  0.01454198, -0.01102968, -0.02506636,  0.00453425],\n       [-0.02222112, -0.06034895, -0.02391888,  0.04067983, -0.04284803,\n        -0.01454198,  0.        , -0.02649981, -0.04195072, -0.00805575],\n       [-0.00172461, -0.04263687,  0.00077631,  0.06069025, -0.01644392,\n         0.01102968,  0.02649981,  0.        , -0.01820768,  0.02039604],\n       [ 0.01177432, -0.01626673,  0.01505603,  0.07545606,  0.00027387,\n         0.02506636,  0.04195072,  0.01820768,  0.        ,  0.0356039 ],\n       [-0.01792198, -0.05253624, -0.01913365,  0.04399916, -0.0381585 ,\n        -0.00453425,  0.00805575, -0.02039604, -0.0356039 ,  0.        ]])"
     },
     "execution_count": 93,
     "metadata": {},
     "output_type": "execute_result"
    }
   ],
   "source": [
    "Causality - Causality.T"
   ],
   "metadata": {
    "collapsed": false,
    "pycharm": {
     "name": "#%%\n"
    }
   }
  },
  {
   "cell_type": "code",
   "execution_count": 94,
   "outputs": [
    {
     "name": "stdout",
     "output_type": "stream",
     "text": [
      "Date\n",
      "1992-02-25    10\n",
      "1992-02-26    50\n",
      "1992-02-27    45\n",
      "1992-02-28    23\n",
      "1992-03-02    16\n",
      "              ..\n",
      "2012-12-24    32\n",
      "2012-12-26    15\n",
      "2012-12-27    11\n",
      "2012-12-28     1\n",
      "2012-12-31    22\n",
      "Name: Health Care, Length: 5124, dtype: category\n",
      "Categories (100, int64): [0 < 1 < 2 < 3 ... 96 < 97 < 98 < 99]\n",
      "[42 29 31 ... 90 75 97]\n"
     ]
    }
   ],
   "source": [
    "# Random Transfer Entropy\n",
    "np.random.seed(1234)\n",
    "print(QDF[I])\n",
    "print(np.random.permutation(QDF[I].values))"
   ],
   "metadata": {
    "collapsed": false,
    "pycharm": {
     "name": "#%%\n"
    }
   }
  },
  {
   "cell_type": "code",
   "execution_count": 94,
   "outputs": [],
   "source": [],
   "metadata": {
    "collapsed": false,
    "pycharm": {
     "name": "#%%\n"
    }
   }
  }
 ],
 "metadata": {
  "kernelspec": {
   "display_name": "Python 3",
   "language": "python",
   "name": "python3"
  },
  "language_info": {
   "codemirror_mode": {
    "name": "ipython",
    "version": 2
   },
   "file_extension": ".py",
   "mimetype": "text/x-python",
   "name": "python",
   "nbconvert_exporter": "python",
   "pygments_lexer": "ipython2",
   "version": "2.7.6"
  }
 },
 "nbformat": 4,
 "nbformat_minor": 0
}