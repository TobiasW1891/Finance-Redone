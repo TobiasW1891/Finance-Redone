{
 "cells": [
  {
   "cell_type": "code",
   "execution_count": 121,
   "metadata": {
    "collapsed": true
   },
   "outputs": [],
   "source": [
    "import numpy as np\n",
    "import pandas as pd\n",
    "from pyinform import *\n",
    "import matplotlib.pyplot as plt\n",
    "q = 10 # number for quantile binning"
   ]
  },
  {
   "cell_type": "code",
   "execution_count": 122,
   "outputs": [
    {
     "name": "stdout",
     "output_type": "stream",
     "text": [
      "(5291, 10)\n"
     ]
    },
    {
     "data": {
      "text/plain": "            Energy  Materials  Financials  Consumer Staples  \\\nDate                                                          \n1992-01-02     NaN        NaN         NaN               NaN   \n1992-01-03     NaN        NaN         NaN               NaN   \n1992-01-06     NaN        NaN         NaN               NaN   \n1992-01-07     NaN        NaN         NaN               NaN   \n1992-01-08     NaN        NaN         NaN               NaN   \n\n            Consumer Discretionary  Utilities  Telecommunications Services  \\\nDate                                                                         \n1992-01-02                     NaN        NaN                          NaN   \n1992-01-03                     NaN        NaN                          NaN   \n1992-01-06                     NaN        NaN                          NaN   \n1992-01-07                     NaN        NaN                          NaN   \n1992-01-08                     NaN        NaN                          NaN   \n\n            Information Technology  Industrials  Health Care  \nDate                                                          \n1992-01-02                     NaN          NaN          NaN  \n1992-01-03                     NaN          NaN          NaN  \n1992-01-06                     NaN          NaN          NaN  \n1992-01-07                     NaN          NaN          NaN  \n1992-01-08                     NaN          NaN          NaN  ",
      "text/html": "<div>\n<style scoped>\n    .dataframe tbody tr th:only-of-type {\n        vertical-align: middle;\n    }\n\n    .dataframe tbody tr th {\n        vertical-align: top;\n    }\n\n    .dataframe thead th {\n        text-align: right;\n    }\n</style>\n<table border=\"1\" class=\"dataframe\">\n  <thead>\n    <tr style=\"text-align: right;\">\n      <th></th>\n      <th>Energy</th>\n      <th>Materials</th>\n      <th>Financials</th>\n      <th>Consumer Staples</th>\n      <th>Consumer Discretionary</th>\n      <th>Utilities</th>\n      <th>Telecommunications Services</th>\n      <th>Information Technology</th>\n      <th>Industrials</th>\n      <th>Health Care</th>\n    </tr>\n    <tr>\n      <th>Date</th>\n      <th></th>\n      <th></th>\n      <th></th>\n      <th></th>\n      <th></th>\n      <th></th>\n      <th></th>\n      <th></th>\n      <th></th>\n      <th></th>\n    </tr>\n  </thead>\n  <tbody>\n    <tr>\n      <th>1992-01-02</th>\n      <td>NaN</td>\n      <td>NaN</td>\n      <td>NaN</td>\n      <td>NaN</td>\n      <td>NaN</td>\n      <td>NaN</td>\n      <td>NaN</td>\n      <td>NaN</td>\n      <td>NaN</td>\n      <td>NaN</td>\n    </tr>\n    <tr>\n      <th>1992-01-03</th>\n      <td>NaN</td>\n      <td>NaN</td>\n      <td>NaN</td>\n      <td>NaN</td>\n      <td>NaN</td>\n      <td>NaN</td>\n      <td>NaN</td>\n      <td>NaN</td>\n      <td>NaN</td>\n      <td>NaN</td>\n    </tr>\n    <tr>\n      <th>1992-01-06</th>\n      <td>NaN</td>\n      <td>NaN</td>\n      <td>NaN</td>\n      <td>NaN</td>\n      <td>NaN</td>\n      <td>NaN</td>\n      <td>NaN</td>\n      <td>NaN</td>\n      <td>NaN</td>\n      <td>NaN</td>\n    </tr>\n    <tr>\n      <th>1992-01-07</th>\n      <td>NaN</td>\n      <td>NaN</td>\n      <td>NaN</td>\n      <td>NaN</td>\n      <td>NaN</td>\n      <td>NaN</td>\n      <td>NaN</td>\n      <td>NaN</td>\n      <td>NaN</td>\n      <td>NaN</td>\n    </tr>\n    <tr>\n      <th>1992-01-08</th>\n      <td>NaN</td>\n      <td>NaN</td>\n      <td>NaN</td>\n      <td>NaN</td>\n      <td>NaN</td>\n      <td>NaN</td>\n      <td>NaN</td>\n      <td>NaN</td>\n      <td>NaN</td>\n      <td>NaN</td>\n    </tr>\n  </tbody>\n</table>\n</div>"
     },
     "execution_count": 122,
     "metadata": {},
     "output_type": "execute_result"
    }
   ],
   "source": [
    "SectorReturns = pd.read_csv(\"NormalisedSectorReturns.csv\",\n",
    "                            index_col=0)\n",
    "print(SectorReturns.shape)\n",
    "SectorReturns.head()"
   ],
   "metadata": {
    "collapsed": false,
    "pycharm": {
     "name": "#%%\n"
    }
   }
  },
  {
   "cell_type": "code",
   "execution_count": 123,
   "outputs": [
    {
     "data": {
      "text/plain": "              Energy  Materials  Financials  Consumer Staples  \\\nDate                                                            \n1992-02-25  0.598655  -0.362595   -1.813326         -0.608180   \n1992-02-26  1.482999  -0.536391   -1.203702          0.689234   \n1992-02-27  1.932779   0.151317    0.188633         -0.021304   \n1992-02-28  2.264313   0.003429    0.687197          0.274232   \n1992-03-02  1.119821   1.108068    1.012923          0.143172   \n\n            Consumer Discretionary  Utilities  Telecommunications Services  \\\nDate                                                                         \n1992-02-25               -0.314499  -1.131099                    -1.320868   \n1992-02-26                1.158635  -0.013335                    -0.304987   \n1992-02-27                0.493030  -0.020952                    -0.525962   \n1992-02-28                0.662564  -0.456263                    -0.332417   \n1992-03-02                0.636739  -0.686971                    -0.686194   \n\n            Information Technology  Industrials  Health Care  \nDate                                                          \n1992-02-25               -2.456540     0.725513    -1.709158  \n1992-02-26               -1.497377     1.245510     0.459472  \n1992-02-27               -1.382264     0.621771     0.212791  \n1992-02-28               -1.703039     0.413180    -0.870169  \n1992-03-02               -1.379845     0.883358    -1.242292  ",
      "text/html": "<div>\n<style scoped>\n    .dataframe tbody tr th:only-of-type {\n        vertical-align: middle;\n    }\n\n    .dataframe tbody tr th {\n        vertical-align: top;\n    }\n\n    .dataframe thead th {\n        text-align: right;\n    }\n</style>\n<table border=\"1\" class=\"dataframe\">\n  <thead>\n    <tr style=\"text-align: right;\">\n      <th></th>\n      <th>Energy</th>\n      <th>Materials</th>\n      <th>Financials</th>\n      <th>Consumer Staples</th>\n      <th>Consumer Discretionary</th>\n      <th>Utilities</th>\n      <th>Telecommunications Services</th>\n      <th>Information Technology</th>\n      <th>Industrials</th>\n      <th>Health Care</th>\n    </tr>\n    <tr>\n      <th>Date</th>\n      <th></th>\n      <th></th>\n      <th></th>\n      <th></th>\n      <th></th>\n      <th></th>\n      <th></th>\n      <th></th>\n      <th></th>\n      <th></th>\n    </tr>\n  </thead>\n  <tbody>\n    <tr>\n      <th>1992-02-25</th>\n      <td>0.598655</td>\n      <td>-0.362595</td>\n      <td>-1.813326</td>\n      <td>-0.608180</td>\n      <td>-0.314499</td>\n      <td>-1.131099</td>\n      <td>-1.320868</td>\n      <td>-2.456540</td>\n      <td>0.725513</td>\n      <td>-1.709158</td>\n    </tr>\n    <tr>\n      <th>1992-02-26</th>\n      <td>1.482999</td>\n      <td>-0.536391</td>\n      <td>-1.203702</td>\n      <td>0.689234</td>\n      <td>1.158635</td>\n      <td>-0.013335</td>\n      <td>-0.304987</td>\n      <td>-1.497377</td>\n      <td>1.245510</td>\n      <td>0.459472</td>\n    </tr>\n    <tr>\n      <th>1992-02-27</th>\n      <td>1.932779</td>\n      <td>0.151317</td>\n      <td>0.188633</td>\n      <td>-0.021304</td>\n      <td>0.493030</td>\n      <td>-0.020952</td>\n      <td>-0.525962</td>\n      <td>-1.382264</td>\n      <td>0.621771</td>\n      <td>0.212791</td>\n    </tr>\n    <tr>\n      <th>1992-02-28</th>\n      <td>2.264313</td>\n      <td>0.003429</td>\n      <td>0.687197</td>\n      <td>0.274232</td>\n      <td>0.662564</td>\n      <td>-0.456263</td>\n      <td>-0.332417</td>\n      <td>-1.703039</td>\n      <td>0.413180</td>\n      <td>-0.870169</td>\n    </tr>\n    <tr>\n      <th>1992-03-02</th>\n      <td>1.119821</td>\n      <td>1.108068</td>\n      <td>1.012923</td>\n      <td>0.143172</td>\n      <td>0.636739</td>\n      <td>-0.686971</td>\n      <td>-0.686194</td>\n      <td>-1.379845</td>\n      <td>0.883358</td>\n      <td>-1.242292</td>\n    </tr>\n  </tbody>\n</table>\n</div>"
     },
     "execution_count": 123,
     "metadata": {},
     "output_type": "execute_result"
    }
   ],
   "source": [
    "DF = SectorReturns.dropna()\n",
    "DF.head()"
   ],
   "metadata": {
    "collapsed": false,
    "pycharm": {
     "name": "#%%\n"
    }
   }
  },
  {
   "cell_type": "markdown",
   "source": [
    "# Get Quantile-Binning"
   ],
   "metadata": {
    "collapsed": false,
    "pycharm": {
     "name": "#%% md\n"
    }
   }
  },
  {
   "cell_type": "code",
   "execution_count": 124,
   "outputs": [],
   "source": [
    "\n",
    "\n",
    "def QuantileBin(DF, q):\n",
    "    out = pd.DataFrame()\n",
    "\n",
    "    for i in DF.columns:\n",
    "        x = DF[i]\n",
    "        out[i] = pd.qcut(x, q, labels = range(q))\n",
    "    return(out)\n",
    "\n",
    "QDF = QuantileBin(DF, q)"
   ],
   "metadata": {
    "collapsed": false,
    "pycharm": {
     "name": "#%%\n"
    }
   }
  },
  {
   "cell_type": "markdown",
   "source": [
    "# Transfer Entropy\n",
    "\n",
    "Via package pyinform in https://www.researchgate.net/publication/323135385_Inform_A_toolkit_for_information-theoretic_analysis_of_complex_systems\n",
    "\n",
    "cite at\n",
    "https://ieeexplore.ieee.org/document/8285197\n",
    "\n",
    "Documentation:\n",
    "https://elife-asu.github.io/PyInform/_modules/pyinform/transferentropy.html"
   ],
   "metadata": {
    "collapsed": false,
    "pycharm": {
     "name": "#%% md\n"
    }
   }
  },
  {
   "cell_type": "code",
   "execution_count": 125,
   "outputs": [],
   "source": [
    "def CausalTE(QDF, k=1):\n",
    "    m = QDF.shape[1]\n",
    "    Causality = np.zeros((m,m))\n",
    "\n",
    "    for i in range(m):\n",
    "        for j in range(m):\n",
    "            I, J = QDF.columns[i], QDF.columns[j]\n",
    "            Cij = transfer_entropy(source=QDF[I],\n",
    "                            target = QDF[J], k=k)\n",
    "            Causality[i,j] = Cij\n",
    "    return(Causality)"
   ],
   "metadata": {
    "collapsed": false,
    "pycharm": {
     "name": "#%%\n"
    }
   }
  },
  {
   "cell_type": "code",
   "execution_count": 126,
   "outputs": [],
   "source": [
    "Causality = CausalTE(QDF)"
   ],
   "metadata": {
    "collapsed": false,
    "pycharm": {
     "name": "#%%\n"
    }
   }
  },
  {
   "cell_type": "code",
   "execution_count": 127,
   "outputs": [
    {
     "data": {
      "text/plain": "array([[0.        , 0.1106094 , 0.11028298, 0.11416504, 0.10649852,\n        0.10928085, 0.11915576, 0.10410655, 0.11080965, 0.11582272],\n       [0.11688708, 0.        , 0.10443991, 0.11762985, 0.11402529,\n        0.11591317, 0.11757031, 0.10503085, 0.11697789, 0.1091374 ],\n       [0.10602941, 0.10990658, 0.        , 0.11143606, 0.12079043,\n        0.11875931, 0.11198724, 0.10736253, 0.11485436, 0.11824812],\n       [0.11293208, 0.11471382, 0.11096845, 0.        , 0.10961608,\n        0.11694625, 0.12044046, 0.10327741, 0.10743332, 0.11154024],\n       [0.11411013, 0.11137429, 0.11061542, 0.12449544, 0.        ,\n        0.11488691, 0.11875823, 0.11157687, 0.11449599, 0.11732439],\n       [0.10459401, 0.10675525, 0.11174481, 0.11967293, 0.11061541,\n        0.        , 0.10878308, 0.10827732, 0.1198965 , 0.11509617],\n       [0.10512736, 0.10361199, 0.10009468, 0.10944855, 0.10896659,\n        0.12396321, 0.        , 0.11297866, 0.10686218, 0.1145536 ],\n       [0.1110606 , 0.10084776, 0.09845972, 0.10185475, 0.11180167,\n        0.12059574, 0.11630553, 0.        , 0.1060901 , 0.10617432],\n       [0.10944432, 0.11666037, 0.1036032 , 0.12056748, 0.09731057,\n        0.11351018, 0.11907928, 0.10904425, 0.        , 0.11745447],\n       [0.11314065, 0.10691938, 0.10317379, 0.11113963, 0.10697154,\n        0.1127857 , 0.11850161, 0.10313154, 0.10017956, 0.        ]])"
     },
     "execution_count": 127,
     "metadata": {},
     "output_type": "execute_result"
    }
   ],
   "source": [
    "Causality"
   ],
   "metadata": {
    "collapsed": false,
    "pycharm": {
     "name": "#%%\n"
    }
   }
  },
  {
   "cell_type": "markdown",
   "source": [
    "# Random Transfer Entropy"
   ],
   "metadata": {
    "collapsed": false,
    "pycharm": {
     "name": "#%% md\n"
    }
   }
  },
  {
   "cell_type": "code",
   "execution_count": 128,
   "outputs": [],
   "source": [
    "def Random(DF):\n",
    "\n",
    "    out = pd.DataFrame()\n",
    "\n",
    "    for i in DF.columns:\n",
    "        out[i] = np.random.permutation(DF[i].values)\n",
    "\n",
    "    out.index = DF.index\n",
    "    return(out)"
   ],
   "metadata": {
    "collapsed": false,
    "pycharm": {
     "name": "#%%\n"
    }
   }
  },
  {
   "cell_type": "code",
   "execution_count": 129,
   "outputs": [
    {
     "data": {
      "text/plain": "           Energy Materials Financials Consumer Staples  \\\nDate                                                      \n1992-02-25      5         3          0                2   \n1992-02-26      7         3          1                5   \n1992-02-27      8         4          4                4   \n1992-02-28      9         4          5                4   \n1992-03-02      7         6          6                4   \n\n           Consumer Discretionary Utilities Telecommunications Services  \\\nDate                                                                      \n1992-02-25                      3         1                           1   \n1992-02-26                      6         4                           3   \n1992-02-27                      5         3                           3   \n1992-02-28                      5         3                           3   \n1992-03-02                      5         2                           3   \n\n           Information Technology Industrials Health Care  \nDate                                                       \n1992-02-25                      0           5           1  \n1992-02-26                      1           7           5  \n1992-02-27                      1           5           4  \n1992-02-28                      1           4           2  \n1992-03-02                      1           6           1  ",
      "text/html": "<div>\n<style scoped>\n    .dataframe tbody tr th:only-of-type {\n        vertical-align: middle;\n    }\n\n    .dataframe tbody tr th {\n        vertical-align: top;\n    }\n\n    .dataframe thead th {\n        text-align: right;\n    }\n</style>\n<table border=\"1\" class=\"dataframe\">\n  <thead>\n    <tr style=\"text-align: right;\">\n      <th></th>\n      <th>Energy</th>\n      <th>Materials</th>\n      <th>Financials</th>\n      <th>Consumer Staples</th>\n      <th>Consumer Discretionary</th>\n      <th>Utilities</th>\n      <th>Telecommunications Services</th>\n      <th>Information Technology</th>\n      <th>Industrials</th>\n      <th>Health Care</th>\n    </tr>\n    <tr>\n      <th>Date</th>\n      <th></th>\n      <th></th>\n      <th></th>\n      <th></th>\n      <th></th>\n      <th></th>\n      <th></th>\n      <th></th>\n      <th></th>\n      <th></th>\n    </tr>\n  </thead>\n  <tbody>\n    <tr>\n      <th>1992-02-25</th>\n      <td>5</td>\n      <td>3</td>\n      <td>0</td>\n      <td>2</td>\n      <td>3</td>\n      <td>1</td>\n      <td>1</td>\n      <td>0</td>\n      <td>5</td>\n      <td>1</td>\n    </tr>\n    <tr>\n      <th>1992-02-26</th>\n      <td>7</td>\n      <td>3</td>\n      <td>1</td>\n      <td>5</td>\n      <td>6</td>\n      <td>4</td>\n      <td>3</td>\n      <td>1</td>\n      <td>7</td>\n      <td>5</td>\n    </tr>\n    <tr>\n      <th>1992-02-27</th>\n      <td>8</td>\n      <td>4</td>\n      <td>4</td>\n      <td>4</td>\n      <td>5</td>\n      <td>3</td>\n      <td>3</td>\n      <td>1</td>\n      <td>5</td>\n      <td>4</td>\n    </tr>\n    <tr>\n      <th>1992-02-28</th>\n      <td>9</td>\n      <td>4</td>\n      <td>5</td>\n      <td>4</td>\n      <td>5</td>\n      <td>3</td>\n      <td>3</td>\n      <td>1</td>\n      <td>4</td>\n      <td>2</td>\n    </tr>\n    <tr>\n      <th>1992-03-02</th>\n      <td>7</td>\n      <td>6</td>\n      <td>6</td>\n      <td>4</td>\n      <td>5</td>\n      <td>2</td>\n      <td>3</td>\n      <td>1</td>\n      <td>6</td>\n      <td>1</td>\n    </tr>\n  </tbody>\n</table>\n</div>"
     },
     "execution_count": 129,
     "metadata": {},
     "output_type": "execute_result"
    }
   ],
   "source": [
    "QDF.head()"
   ],
   "metadata": {
    "collapsed": false,
    "pycharm": {
     "name": "#%%\n"
    }
   }
  },
  {
   "cell_type": "code",
   "execution_count": 130,
   "outputs": [
    {
     "data": {
      "text/plain": "            Energy  Materials  Financials  Consumer Staples  \\\nDate                                                          \n1992-02-25       6          8           2                 7   \n1992-02-26       2          0           3                 9   \n1992-02-27       9          2           7                 2   \n1992-02-28       0          9           1                 0   \n1992-03-02       9          9           2                 2   \n\n            Consumer Discretionary  Utilities  Telecommunications Services  \\\nDate                                                                         \n1992-02-25                       5          9                            9   \n1992-02-26                       9          1                            6   \n1992-02-27                       5          3                            4   \n1992-02-28                       6          3                            0   \n1992-03-02                       1          4                            4   \n\n            Information Technology  Industrials  Health Care  \nDate                                                          \n1992-02-25                       6            5            5  \n1992-02-26                       9            3            9  \n1992-02-27                       6            9            6  \n1992-02-28                       0            9            0  \n1992-03-02                       1            2            5  ",
      "text/html": "<div>\n<style scoped>\n    .dataframe tbody tr th:only-of-type {\n        vertical-align: middle;\n    }\n\n    .dataframe tbody tr th {\n        vertical-align: top;\n    }\n\n    .dataframe thead th {\n        text-align: right;\n    }\n</style>\n<table border=\"1\" class=\"dataframe\">\n  <thead>\n    <tr style=\"text-align: right;\">\n      <th></th>\n      <th>Energy</th>\n      <th>Materials</th>\n      <th>Financials</th>\n      <th>Consumer Staples</th>\n      <th>Consumer Discretionary</th>\n      <th>Utilities</th>\n      <th>Telecommunications Services</th>\n      <th>Information Technology</th>\n      <th>Industrials</th>\n      <th>Health Care</th>\n    </tr>\n    <tr>\n      <th>Date</th>\n      <th></th>\n      <th></th>\n      <th></th>\n      <th></th>\n      <th></th>\n      <th></th>\n      <th></th>\n      <th></th>\n      <th></th>\n      <th></th>\n    </tr>\n  </thead>\n  <tbody>\n    <tr>\n      <th>1992-02-25</th>\n      <td>6</td>\n      <td>8</td>\n      <td>2</td>\n      <td>7</td>\n      <td>5</td>\n      <td>9</td>\n      <td>9</td>\n      <td>6</td>\n      <td>5</td>\n      <td>5</td>\n    </tr>\n    <tr>\n      <th>1992-02-26</th>\n      <td>2</td>\n      <td>0</td>\n      <td>3</td>\n      <td>9</td>\n      <td>9</td>\n      <td>1</td>\n      <td>6</td>\n      <td>9</td>\n      <td>3</td>\n      <td>9</td>\n    </tr>\n    <tr>\n      <th>1992-02-27</th>\n      <td>9</td>\n      <td>2</td>\n      <td>7</td>\n      <td>2</td>\n      <td>5</td>\n      <td>3</td>\n      <td>4</td>\n      <td>6</td>\n      <td>9</td>\n      <td>6</td>\n    </tr>\n    <tr>\n      <th>1992-02-28</th>\n      <td>0</td>\n      <td>9</td>\n      <td>1</td>\n      <td>0</td>\n      <td>6</td>\n      <td>3</td>\n      <td>0</td>\n      <td>0</td>\n      <td>9</td>\n      <td>0</td>\n    </tr>\n    <tr>\n      <th>1992-03-02</th>\n      <td>9</td>\n      <td>9</td>\n      <td>2</td>\n      <td>2</td>\n      <td>1</td>\n      <td>4</td>\n      <td>4</td>\n      <td>1</td>\n      <td>2</td>\n      <td>5</td>\n    </tr>\n  </tbody>\n</table>\n</div>"
     },
     "execution_count": 130,
     "metadata": {},
     "output_type": "execute_result"
    }
   ],
   "source": [
    "Random(QDF).head()"
   ],
   "metadata": {
    "collapsed": false,
    "pycharm": {
     "name": "#%%\n"
    }
   }
  },
  {
   "cell_type": "code",
   "execution_count": 131,
   "outputs": [],
   "source": [
    "def CompareRandom(DF, n_P, q):\n",
    "    RTE = CausalTE(Random(QuantileBin(DF, q)))\n",
    "\n",
    "    for i in range(1,n_P):\n",
    "\n",
    "        RTE +=CausalTE(Random(QuantileBin(DF, q)))\n",
    "\n",
    "    return(RTE/float(n_P))# mean value"
   ],
   "metadata": {
    "collapsed": false,
    "pycharm": {
     "name": "#%%\n"
    }
   }
  },
  {
   "cell_type": "code",
   "execution_count": 132,
   "outputs": [
    {
     "name": "stdout",
     "output_type": "stream",
     "text": [
      "10\n"
     ]
    }
   ],
   "source": [
    "np.random.seed(12345)\n",
    "print(q)"
   ],
   "metadata": {
    "collapsed": false,
    "pycharm": {
     "name": "#%%\n"
    }
   }
  },
  {
   "cell_type": "code",
   "execution_count": 133,
   "outputs": [
    {
     "name": "stdout",
     "output_type": "stream",
     "text": [
      "[[0.    0.121 0.12  0.121 0.12  0.121 0.12  0.121 0.12  0.119]\n",
      " [0.121 0.    0.12  0.12  0.121 0.12  0.12  0.12  0.122 0.12 ]\n",
      " [0.12  0.12  0.    0.121 0.12  0.121 0.119 0.121 0.121 0.121]\n",
      " [0.12  0.12  0.12  0.    0.12  0.12  0.12  0.12  0.121 0.12 ]\n",
      " [0.12  0.119 0.12  0.121 0.    0.12  0.12  0.121 0.12  0.12 ]\n",
      " [0.12  0.121 0.121 0.12  0.121 0.    0.12  0.121 0.12  0.119]\n",
      " [0.12  0.121 0.12  0.12  0.12  0.119 0.    0.121 0.119 0.121]\n",
      " [0.12  0.12  0.12  0.121 0.12  0.119 0.12  0.    0.119 0.12 ]\n",
      " [0.121 0.121 0.12  0.121 0.12  0.121 0.12  0.12  0.    0.12 ]\n",
      " [0.12  0.12  0.12  0.121 0.12  0.121 0.121 0.12  0.12  0.   ]]\n"
     ]
    }
   ],
   "source": [
    "EnsembleRTE = CompareRandom(DF, 100, q = q)\n",
    "print(EnsembleRTE.round(3))"
   ],
   "metadata": {
    "collapsed": false,
    "pycharm": {
     "name": "#%%\n"
    }
   }
  },
  {
   "cell_type": "code",
   "execution_count": 134,
   "outputs": [],
   "source": [
    "RelevantTE = Causality - EnsembleRTE"
   ],
   "metadata": {
    "collapsed": false,
    "pycharm": {
     "name": "#%%\n"
    }
   }
  },
  {
   "cell_type": "code",
   "execution_count": 135,
   "outputs": [
    {
     "data": {
      "text/plain": "array([[ 0.    , -0.0104, -0.0099, -0.0068, -0.0133, -0.0113, -0.0012,\n        -0.017 , -0.009 , -0.0037],\n       [-0.0038,  0.    , -0.0158, -0.0022, -0.0073, -0.0042, -0.0025,\n        -0.015 , -0.0051, -0.0106],\n       [-0.0138, -0.0105,  0.    , -0.0095,  0.0004, -0.0018, -0.0074,\n        -0.0139, -0.006 , -0.0024],\n       [-0.007 , -0.0052, -0.0091,  0.    , -0.01  , -0.0027,  0.0002,\n        -0.0168, -0.0134, -0.0087],\n       [-0.0062, -0.0077, -0.0092,  0.0035,  0.    , -0.0046, -0.0012,\n        -0.0091, -0.0055, -0.0028],\n       [-0.015 , -0.0141, -0.0095, -0.0008, -0.0101,  0.    , -0.0112,\n        -0.0126, -0.0001, -0.0038],\n       [-0.0152, -0.0172, -0.0201, -0.011 , -0.0113,  0.0046,  0.    ,\n        -0.0075, -0.0121, -0.0066],\n       [-0.0092, -0.0189, -0.0219, -0.0187, -0.0081,  0.0011, -0.0033,\n         0.    , -0.0127, -0.014 ],\n       [-0.0114, -0.0041, -0.016 , -0.0001, -0.0229, -0.0077, -0.0009,\n        -0.0114,  0.    , -0.0026],\n       [-0.007 , -0.0132, -0.017 , -0.0094, -0.0133, -0.0079, -0.0026,\n        -0.0169, -0.0202,  0.    ]])"
     },
     "execution_count": 135,
     "metadata": {},
     "output_type": "execute_result"
    }
   ],
   "source": [
    "RelevantTE.round(4)"
   ],
   "metadata": {
    "collapsed": false,
    "pycharm": {
     "name": "#%%\n"
    }
   }
  },
  {
   "cell_type": "code",
   "execution_count": 136,
   "outputs": [],
   "source": [
    "def RelTE(q):\n",
    "    return(  CausalTE(QuantileBin(DF, q = q)) - CompareRandom(DF, 100, q = q))"
   ],
   "metadata": {
    "collapsed": false,
    "pycharm": {
     "name": "#%%\n"
    }
   }
  },
  {
   "cell_type": "code",
   "execution_count": 137,
   "outputs": [
    {
     "data": {
      "text/plain": "array([[ 0.        , -0.00948069, -0.00956426, -0.00631774, -0.01459661,\n        -0.0114499 , -0.00017196, -0.01672628, -0.00923239, -0.00406942],\n       [-0.00249212,  0.        , -0.01509424, -0.00253275, -0.00558706,\n        -0.00389777, -0.0028438 , -0.01534652, -0.00294416, -0.01107079],\n       [-0.01511409, -0.01004772,  0.        , -0.00819689,  0.0011107 ,\n        -0.00168265, -0.0081609 , -0.01181613, -0.00583075, -0.00217563],\n       [-0.00774691, -0.0055763 , -0.00919089,  0.        , -0.01107806,\n        -0.00326177,  0.00016045, -0.01693558, -0.01375904, -0.00801396],\n       [-0.00671497, -0.00840895, -0.00877153,  0.00421572,  0.        ,\n        -0.00548349, -0.0008496 , -0.00797263, -0.00519977, -0.00259754],\n       [-0.01522347, -0.01399538, -0.00780573,  0.00037892, -0.01065198,\n         0.        , -0.01221067, -0.01198779,  0.00040873, -0.0053525 ],\n       [-0.01470633, -0.01701508, -0.02046988, -0.0110933 , -0.01121272,\n         0.00464953,  0.        , -0.00682854, -0.01361775, -0.00619161],\n       [-0.00931734, -0.0202697 , -0.02165197, -0.01787007, -0.00894334,\n         0.00027082, -0.00513598,  0.        , -0.01445829, -0.01309504],\n       [-0.01097866, -0.00313097, -0.01621531,  0.00013119, -0.02326168,\n        -0.00618931, -0.00170461, -0.01080078,  0.        , -0.00340514],\n       [-0.00778223, -0.01370565, -0.0178866 , -0.00844984, -0.01349146,\n        -0.00825252, -0.00127468, -0.01803744, -0.01916658,  0.        ]])"
     },
     "execution_count": 137,
     "metadata": {},
     "output_type": "execute_result"
    }
   ],
   "source": [
    "RelTE(q)"
   ],
   "metadata": {
    "collapsed": false,
    "pycharm": {
     "name": "#%%\n"
    }
   }
  },
  {
   "cell_type": "code",
   "execution_count": 138,
   "outputs": [
    {
     "data": {
      "text/plain": "<Figure size 288x288 with 1 Axes>",
      "image/png": "[encoded data removed]"
     },
     "metadata": {
      "needs_background": "light"
     },
     "output_type": "display_data"
    },
    {
     "data": {
      "text/plain": "<Figure size 288x288 with 1 Axes>",
      "image/png": "[encoded data removed]"
     },
     "metadata": {
      "needs_background": "light"
     },
     "output_type": "display_data"
    },
    {
     "data": {
      "text/plain": "<Figure size 288x288 with 1 Axes>",
      "image/png": "[encoded data removed]"
     },
     "metadata": {
      "needs_background": "light"
     },
     "output_type": "display_data"
    },
    {
     "data": {
      "text/plain": "<Figure size 288x288 with 1 Axes>",
      "image/png": "[encoded data removed]"
     },
     "metadata": {
      "needs_background": "light"
     },
     "output_type": "display_data"
    },
    {
     "data": {
      "text/plain": "<Figure size 288x288 with 1 Axes>",
      "image/png": "[encoded data removed]"
     },
     "metadata": {
      "needs_background": "light"
     },
     "output_type": "display_data"
    },
    {
     "data": {
      "text/plain": "<Figure size 288x288 with 1 Axes>",
      "image/png": "[encoded data removed]"
     },
     "metadata": {
      "needs_background": "light"
     },
     "output_type": "display_data"
    },
    {
     "data": {
      "text/plain": "<Figure size 288x288 with 1 Axes>",
      "image/png": "[encoded data removed]"
     },
     "metadata": {
      "needs_background": "light"
     },
     "output_type": "display_data"
    },
    {
     "data": {
      "text/plain": "<Figure size 288x288 with 1 Axes>",
      "image/png": "[encoded data removed]"
     },
     "metadata": {
      "needs_background": "light"
     },
     "output_type": "display_data"
    },
    {
     "data": {
      "text/plain": "<Figure size 288x288 with 1 Axes>",
      "image/png": "[encoded data removed]"
     },
     "metadata": {
      "needs_background": "light"
     },
     "output_type": "display_data"
    },
    {
     "data": {
      "text/plain": "<Figure size 288x288 with 1 Axes>",
      "image/png": "[encoded data removed]"
     },
     "metadata": {
      "needs_background": "light"
     },
     "output_type": "display_data"
    },
    {
     "data": {
      "text/plain": "<Figure size 288x288 with 1 Axes>",
      "image/png": "[encoded data removed]"
     },
     "metadata": {
      "needs_background": "light"
     },
     "output_type": "display_data"
    },
    {
     "data": {
      "text/plain": "<Figure size 288x288 with 1 Axes>",
      "image/png": "[encoded data removed]"
     },
     "metadata": {
      "needs_background": "light"
     },
     "output_type": "display_data"
    },
    {
     "data": {
      "text/plain": "<Figure size 288x288 with 1 Axes>",
      "image/png": "[encoded data removed]"
     },
     "metadata": {
      "needs_background": "light"
     },
     "output_type": "display_data"
    },
    {
     "data": {
      "text/plain": "<Figure size 288x288 with 1 Axes>",
      "image/png": "[encoded data removed]"
     },
     "metadata": {
      "needs_background": "light"
     },
     "output_type": "display_data"
    },
    {
     "data": {
      "text/plain": "<Figure size 288x288 with 1 Axes>",
      "image/png": "[encoded data removed]"
     },
     "metadata": {
      "needs_background": "light"
     },
     "output_type": "display_data"
    },
    {
     "data": {
      "text/plain": "<Figure size 288x288 with 1 Axes>",
      "image/png": "[encoded data removed]"
     },
     "metadata": {
      "needs_background": "light"
     },
     "output_type": "display_data"
    }
   ],
   "source": [
    "# Compare different values of q\n",
    "Q = range(4,20)\n",
    "Mean = np.zeros(len(Q))\n",
    "for q in Q:\n",
    "    RTEq = RelTE(q)\n",
    "    Mean[q-4] = sum(sum(RTEq)) / RTEq.shape[0]**2.\n",
    "    plt.matshow(RTEq> 0.0)"
   ],
   "metadata": {
    "collapsed": false,
    "pycharm": {
     "name": "#%%\n"
    }
   }
  },
  {
   "cell_type": "code",
   "execution_count": 139,
   "outputs": [
    {
     "data": {
      "text/plain": "<Figure size 432x288 with 1 Axes>",
      "image/png": "[encoded data removed]"
     },
     "metadata": {
      "needs_background": "light"
     },
     "output_type": "display_data"
    }
   ],
   "source": [
    "plt.plot(Q,Mean)\n",
    "plt.show()"
   ],
   "metadata": {
    "collapsed": false,
    "pycharm": {
     "name": "#%%\n"
    }
   }
  },
  {
   "cell_type": "code",
   "execution_count": 140,
   "outputs": [
    {
     "data": {
      "text/plain": "array([ 0.00270172,  0.00286439,  0.00265444,  0.00271175,  0.0005874 ,\n       -0.00212351, -0.00788488, -0.01917714, -0.03515311, -0.05867793,\n       -0.0878298 , -0.12430392, -0.16343697, -0.20631835, -0.24630287,\n       -0.28930814])"
     },
     "execution_count": 140,
     "metadata": {},
     "output_type": "execute_result"
    }
   ],
   "source": [
    "Mean"
   ],
   "metadata": {
    "collapsed": false,
    "pycharm": {
     "name": "#%%\n"
    }
   }
  },
  {
   "cell_type": "code",
   "execution_count": 141,
   "outputs": [],
   "source": [
    "# largets q with a positive mean\n",
    "RTE8 = RelTE(8)"
   ],
   "metadata": {
    "collapsed": false,
    "pycharm": {
     "name": "#%%\n"
    }
   }
  },
  {
   "cell_type": "code",
   "execution_count": 142,
   "outputs": [
    {
     "data": {
      "text/plain": "<matplotlib.image.AxesImage at 0x7f633a2588e0>"
     },
     "execution_count": 142,
     "metadata": {},
     "output_type": "execute_result"
    },
    {
     "data": {
      "text/plain": "<Figure size 288x288 with 1 Axes>",
      "image/png": "[encoded data removed]"
     },
     "metadata": {
      "needs_background": "light"
     },
     "output_type": "display_data"
    }
   ],
   "source": [
    "plt.matshow( RTE8 > 0.0)"
   ],
   "metadata": {
    "collapsed": false,
    "pycharm": {
     "name": "#%%\n"
    }
   }
  },
  {
   "cell_type": "markdown",
   "source": [
    "## Alternative: Constant bin width"
   ],
   "metadata": {
    "collapsed": false,
    "pycharm": {
     "name": "#%% md\n"
    }
   }
  },
  {
   "cell_type": "code",
   "execution_count": 143,
   "outputs": [
    {
     "name": "stdout",
     "output_type": "stream",
     "text": [
      "              Energy  Materials  Financials  Consumer Staples  \\\n",
      "Date                                                            \n",
      "1992-02-25  0.598655  -0.362595   -1.813326         -0.608180   \n",
      "1992-02-26  1.482999  -0.536391   -1.203702          0.689234   \n",
      "1992-02-27  1.932779   0.151317    0.188633         -0.021304   \n",
      "1992-02-28  2.264313   0.003429    0.687197          0.274232   \n",
      "1992-03-02  1.119821   1.108068    1.012923          0.143172   \n",
      "\n",
      "            Consumer Discretionary  Utilities  Telecommunications Services  \\\n",
      "Date                                                                         \n",
      "1992-02-25               -0.314499  -1.131099                    -1.320868   \n",
      "1992-02-26                1.158635  -0.013335                    -0.304987   \n",
      "1992-02-27                0.493030  -0.020952                    -0.525962   \n",
      "1992-02-28                0.662564  -0.456263                    -0.332417   \n",
      "1992-03-02                0.636739  -0.686971                    -0.686194   \n",
      "\n",
      "            Information Technology  Industrials  Health Care  \n",
      "Date                                                          \n",
      "1992-02-25               -2.456540     0.725513    -1.709158  \n",
      "1992-02-26               -1.497377     1.245510     0.459472  \n",
      "1992-02-27               -1.382264     0.621771     0.212791  \n",
      "1992-02-28               -1.703039     0.413180    -0.870169  \n",
      "1992-03-02               -1.379845     0.883358    -1.242292  \n"
     ]
    }
   ],
   "source": [
    "print(DF.head())\n"
   ],
   "metadata": {
    "collapsed": false,
    "pycharm": {
     "name": "#%%\n"
    }
   }
  },
  {
   "cell_type": "code",
   "execution_count": 144,
   "outputs": [
    {
     "data": {
      "text/plain": "Date\n2004-01-21    6.958239\nName: Utilities, dtype: float64"
     },
     "execution_count": 144,
     "metadata": {},
     "output_type": "execute_result"
    }
   ],
   "source": [
    "DF[\"Utilities\"].loc[DF[\"Utilities\"]==DF[\"Utilities\"].max()]"
   ],
   "metadata": {
    "collapsed": false,
    "pycharm": {
     "name": "#%%\n"
    }
   }
  },
  {
   "cell_type": "code",
   "execution_count": 145,
   "outputs": [],
   "source": [
    "## Bins are selected HERE"
   ],
   "metadata": {
    "collapsed": false,
    "pycharm": {
     "name": "#%%\n"
    }
   }
  },
  {
   "cell_type": "code",
   "execution_count": 146,
   "outputs": [
    {
     "name": "stdout",
     "output_type": "stream",
     "text": [
      "-1.78 2.03\n",
      "16 [-1.78 -1.53 -1.28 -1.03 -0.78 -0.53 -0.28 -0.03  0.22  0.47  0.72  0.97\n",
      "  1.22  1.47  1.72  1.97]\n"
     ]
    }
   ],
   "source": [
    "width = 0.25\n",
    "q01, q09 = np.quantile(DF.to_numpy(),0.1), np.quantile(DF.to_numpy(),0.9)\n",
    "print(q01.round(2), q09.round(2))\n",
    "Bins = np.arange(q01, q09+0.01,width)\n",
    "print(len(Bins),Bins.round(2))"
   ],
   "metadata": {
    "collapsed": false,
    "pycharm": {
     "name": "#%%\n"
    }
   }
  },
  {
   "cell_type": "code",
   "execution_count": 147,
   "outputs": [],
   "source": [
    "def ConstBin(TS, B):\n",
    "    # takes pandas series TS and array of upper binning interval ends B\n",
    "\n",
    "    Out = 0 * TS\n",
    "    for i in range(len(B)):\n",
    "        Out = Out + (TS> B[i])\n",
    "    return(Out.astype(\"int\"))"
   ],
   "metadata": {
    "collapsed": false,
    "pycharm": {
     "name": "#%%\n"
    }
   }
  },
  {
   "cell_type": "code",
   "execution_count": 148,
   "outputs": [],
   "source": [
    "def ConstBinDF(DF, B):\n",
    "    out = pd.DataFrame()\n",
    "    cols = DF.columns\n",
    "    for c in cols:\n",
    "        out[c] = ConstBin(DF[c], B)\n",
    "    return(out)"
   ],
   "metadata": {
    "collapsed": false,
    "pycharm": {
     "name": "#%%\n"
    }
   }
  },
  {
   "cell_type": "code",
   "execution_count": 149,
   "outputs": [
    {
     "data": {
      "text/plain": "            Energy  Materials  Financials  Consumer Staples  \\\nDate                                                          \n1992-02-25      10          6           0                 5   \n1992-02-26      14          5           3                10   \n1992-02-27      15          8           8                 8   \n1992-02-28      16          8          10                 9   \n1992-03-02      12         12          12                 8   \n\n            Consumer Discretionary  Utilities  Telecommunications Services  \\\nDate                                                                         \n1992-02-25                       6          3                            2   \n1992-02-26                      12          8                            6   \n1992-02-27                      10          8                            6   \n1992-02-28                      10          6                            6   \n1992-03-02                      10          5                            5   \n\n            Information Technology  Industrials  Health Care  \nDate                                                          \n1992-02-25                       0           11            1  \n1992-02-26                       2           13            9  \n1992-02-27                       2           10            8  \n1992-02-28                       1            9            4  \n1992-03-02                       2           11            3  ",
      "text/html": "<div>\n<style scoped>\n    .dataframe tbody tr th:only-of-type {\n        vertical-align: middle;\n    }\n\n    .dataframe tbody tr th {\n        vertical-align: top;\n    }\n\n    .dataframe thead th {\n        text-align: right;\n    }\n</style>\n<table border=\"1\" class=\"dataframe\">\n  <thead>\n    <tr style=\"text-align: right;\">\n      <th></th>\n      <th>Energy</th>\n      <th>Materials</th>\n      <th>Financials</th>\n      <th>Consumer Staples</th>\n      <th>Consumer Discretionary</th>\n      <th>Utilities</th>\n      <th>Telecommunications Services</th>\n      <th>Information Technology</th>\n      <th>Industrials</th>\n      <th>Health Care</th>\n    </tr>\n    <tr>\n      <th>Date</th>\n      <th></th>\n      <th></th>\n      <th></th>\n      <th></th>\n      <th></th>\n      <th></th>\n      <th></th>\n      <th></th>\n      <th></th>\n      <th></th>\n    </tr>\n  </thead>\n  <tbody>\n    <tr>\n      <th>1992-02-25</th>\n      <td>10</td>\n      <td>6</td>\n      <td>0</td>\n      <td>5</td>\n      <td>6</td>\n      <td>3</td>\n      <td>2</td>\n      <td>0</td>\n      <td>11</td>\n      <td>1</td>\n    </tr>\n    <tr>\n      <th>1992-02-26</th>\n      <td>14</td>\n      <td>5</td>\n      <td>3</td>\n      <td>10</td>\n      <td>12</td>\n      <td>8</td>\n      <td>6</td>\n      <td>2</td>\n      <td>13</td>\n      <td>9</td>\n    </tr>\n    <tr>\n      <th>1992-02-27</th>\n      <td>15</td>\n      <td>8</td>\n      <td>8</td>\n      <td>8</td>\n      <td>10</td>\n      <td>8</td>\n      <td>6</td>\n      <td>2</td>\n      <td>10</td>\n      <td>8</td>\n    </tr>\n    <tr>\n      <th>1992-02-28</th>\n      <td>16</td>\n      <td>8</td>\n      <td>10</td>\n      <td>9</td>\n      <td>10</td>\n      <td>6</td>\n      <td>6</td>\n      <td>1</td>\n      <td>9</td>\n      <td>4</td>\n    </tr>\n    <tr>\n      <th>1992-03-02</th>\n      <td>12</td>\n      <td>12</td>\n      <td>12</td>\n      <td>8</td>\n      <td>10</td>\n      <td>5</td>\n      <td>5</td>\n      <td>2</td>\n      <td>11</td>\n      <td>3</td>\n    </tr>\n  </tbody>\n</table>\n</div>"
     },
     "execution_count": 149,
     "metadata": {},
     "output_type": "execute_result"
    }
   ],
   "source": [
    "ConstBinDF(DF, Bins).head()"
   ],
   "metadata": {
    "collapsed": false,
    "pycharm": {
     "name": "#%%\n"
    }
   }
  },
  {
   "cell_type": "code",
   "execution_count": 150,
   "outputs": [],
   "source": [
    "# Just like before\n",
    "def CausalTE(QDF, k=1):\n",
    "    m = QDF.shape[1]\n",
    "    Causality = np.zeros((m,m))\n",
    "\n",
    "    for i in range(m):\n",
    "        for j in range(m):\n",
    "            I, J = QDF.columns[i], QDF.columns[j]\n",
    "            Cij = transfer_entropy(source=QDF[I],\n",
    "                            target = QDF[J], k=k)\n",
    "            Causality[i,j] = Cij\n",
    "    return(Causality)"
   ],
   "metadata": {
    "collapsed": false,
    "pycharm": {
     "name": "#%%\n"
    }
   }
  },
  {
   "cell_type": "code",
   "execution_count": 151,
   "outputs": [
    {
     "data": {
      "text/plain": "array([[0.        , 0.50038549, 0.48454864, 0.54190044, 0.49193988,\n        0.48084375, 0.51025273, 0.51411666, 0.49359973, 0.51217352],\n       [0.49346886, 0.        , 0.49301806, 0.5387079 , 0.46809119,\n        0.51520868, 0.51846159, 0.51000482, 0.45625535, 0.49777645],\n       [0.49671753, 0.47568231, 0.        , 0.53283288, 0.48584072,\n        0.49975877, 0.52597097, 0.50023499, 0.45222993, 0.51068899],\n       [0.48979904, 0.4707743 , 0.49603986, 0.        , 0.46477481,\n        0.50476769, 0.51962107, 0.49950175, 0.48906701, 0.49845498],\n       [0.50169953, 0.47044025, 0.46937161, 0.51951221, 0.        ,\n        0.51561001, 0.50488692, 0.49035385, 0.4603861 , 0.51543943],\n       [0.48201336, 0.48835194, 0.49247489, 0.5531645 , 0.48909456,\n        0.        , 0.50710274, 0.50159716, 0.50831653, 0.51867593],\n       [0.49029309, 0.49405063, 0.49635542, 0.55316842, 0.48109825,\n        0.51061685, 0.        , 0.49902719, 0.50523734, 0.50699996],\n       [0.49953731, 0.48567867, 0.50055718, 0.53088521, 0.46760242,\n        0.50258875, 0.50991871, 0.        , 0.48910214, 0.49134446],\n       [0.49152661, 0.46454905, 0.46307365, 0.53516465, 0.4418509 ,\n        0.51039227, 0.52357334, 0.47426433, 0.        , 0.49435919],\n       [0.50590365, 0.48307932, 0.48018659, 0.53734288, 0.46644325,\n        0.50823324, 0.51556327, 0.49468482, 0.48286627, 0.        ]])"
     },
     "execution_count": 151,
     "metadata": {},
     "output_type": "execute_result"
    }
   ],
   "source": [
    "CausalTE(ConstBinDF(DF, Bins))"
   ],
   "metadata": {
    "collapsed": false,
    "pycharm": {
     "name": "#%%\n"
    }
   }
  },
  {
   "cell_type": "code",
   "execution_count": 152,
   "outputs": [],
   "source": [
    "# again just like before\n",
    "def Random(DF):\n",
    "\n",
    "    out = pd.DataFrame()\n",
    "\n",
    "    for i in DF.columns:\n",
    "        out[i] = np.random.permutation(DF[i].values)\n",
    "\n",
    "    out.index = DF.index\n",
    "    return(out)"
   ],
   "metadata": {
    "collapsed": false,
    "pycharm": {
     "name": "#%%\n"
    }
   }
  },
  {
   "cell_type": "code",
   "execution_count": 153,
   "outputs": [
    {
     "name": "stdout",
     "output_type": "stream",
     "text": [
      "   A   B\n",
      "0  0   2\n",
      "1  1   4\n",
      "2  2   6\n",
      "3  3   8\n",
      "4  4  10\n",
      "5  5  12\n",
      "   A   B\n",
      "0  1   4\n",
      "1  5   6\n",
      "2  0   2\n",
      "3  2  10\n",
      "4  4  12\n",
      "5  3   8\n"
     ]
    }
   ],
   "source": [
    "dfTest = pd.DataFrame({\"A\": [0,1,2,3,4,5],\n",
    "                       \"B\": [2,4,6,8,10,12]})\n",
    "print(dfTest)\n",
    "print(Random(dfTest))"
   ],
   "metadata": {
    "collapsed": false,
    "pycharm": {
     "name": "#%%\n"
    }
   }
  },
  {
   "cell_type": "code",
   "execution_count": 154,
   "outputs": [],
   "source": [
    "# now this has CHANGED\n",
    "def CompareRandom_ConstBin(DF, n_P, B):\n",
    "    RTE = CausalTE(Random(ConstBinDF(DF, B)))\n",
    "\n",
    "    for i in range(1,n_P):\n",
    "\n",
    "        RTE +=CausalTE(Random(ConstBinDF(DF, B)))\n",
    "\n",
    "    return(RTE/float(n_P))# mean value"
   ],
   "metadata": {
    "collapsed": false,
    "pycharm": {
     "name": "#%%\n"
    }
   }
  },
  {
   "cell_type": "code",
   "execution_count": 155,
   "outputs": [
    {
     "data": {
      "text/plain": "array([[0.        , 0.68194523, 0.68522786, 0.68150979, 0.68207418,\n        0.6782488 , 0.68605135, 0.68521195, 0.67936699, 0.67970512],\n       [0.6851971 , 0.        , 0.68137603, 0.68107874, 0.6798077 ,\n        0.67727478, 0.6871546 , 0.68470195, 0.67726734, 0.67663418],\n       [0.68520835, 0.68171033, 0.        , 0.67956195, 0.67942587,\n        0.67851077, 0.68771658, 0.68532651, 0.67617122, 0.67949699],\n       [0.68372508, 0.68080679, 0.68547179, 0.        , 0.68060825,\n        0.67587031, 0.68393484, 0.68434203, 0.67733779, 0.6776642 ],\n       [0.68495304, 0.67868156, 0.68242813, 0.68132458, 0.        ,\n        0.6750925 , 0.68413644, 0.68336296, 0.67719633, 0.6762646 ],\n       [0.6835298 , 0.67940503, 0.68105926, 0.6778147 , 0.67753705,\n        0.        , 0.68473016, 0.68248176, 0.67791198, 0.67585288],\n       [0.68739909, 0.68417859, 0.68517444, 0.68296635, 0.68168602,\n        0.68016182, 0.        , 0.68591837, 0.68149192, 0.67942155],\n       [0.68723177, 0.68288986, 0.68509067, 0.68259131, 0.68289483,\n        0.68018681, 0.68712355, 0.        , 0.67883438, 0.67889552],\n       [0.68412983, 0.67847293, 0.68171651, 0.67918004, 0.67891275,\n        0.67676282, 0.68477855, 0.6832348 , 0.        , 0.67669914],\n       [0.6820662 , 0.67946337, 0.68155222, 0.6776353 , 0.67817337,\n        0.67827419, 0.68343122, 0.68555468, 0.67611275, 0.        ]])"
     },
     "execution_count": 155,
     "metadata": {},
     "output_type": "execute_result"
    }
   ],
   "source": [
    "CompareRandom_ConstBin(DF, 100, Bins )"
   ],
   "metadata": {
    "collapsed": false,
    "pycharm": {
     "name": "#%%\n"
    }
   }
  },
  {
   "cell_type": "code",
   "execution_count": null,
   "outputs": [],
   "source": [],
   "metadata": {
    "collapsed": false,
    "pycharm": {
     "name": "#%%\n"
    }
   }
  }
 ],
 "metadata": {
  "kernelspec": {
   "display_name": "Python 3",
   "language": "python",
   "name": "python3"
  },
  "language_info": {
   "codemirror_mode": {
    "name": "ipython",
    "version": 2
   },
   "file_extension": ".py",
   "mimetype": "text/x-python",
   "name": "python",
   "nbconvert_exporter": "python",
   "pygments_lexer": "ipython2",
   "version": "2.7.6"
  }
 },
 "nbformat": 4,
 "nbformat_minor": 0
}